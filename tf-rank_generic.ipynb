{
 "cells": [
  {
   "cell_type": "code",
   "execution_count": 1,
   "metadata": {},
   "outputs": [],
   "source": [
    "from typing import Dict, Tuple \n",
    "import numpy as np \n",
    "import pandas as pd\n",
    "\n",
    "import tensorflow as tf \n",
    "import tensorflow_datasets as tfds \n",
    "import tensorflow_ranking as tfr\n",
    "\n",
    "from recommenders.datasets import movielens"
   ]
  },
  {
   "cell_type": "markdown",
   "metadata": {},
   "source": [
    "---"
   ]
  },
  {
   "cell_type": "code",
   "execution_count": 7,
   "metadata": {},
   "outputs": [
    {
     "name": "stderr",
     "output_type": "stream",
     "text": [
      "100%|██████████| 4.81k/4.81k [00:13<00:00, 356KB/s]\n"
     ]
    },
    {
     "data": {
      "text/html": [
       "<div>\n",
       "<style scoped>\n",
       "    .dataframe tbody tr th:only-of-type {\n",
       "        vertical-align: middle;\n",
       "    }\n",
       "\n",
       "    .dataframe tbody tr th {\n",
       "        vertical-align: top;\n",
       "    }\n",
       "\n",
       "    .dataframe thead th {\n",
       "        text-align: right;\n",
       "    }\n",
       "</style>\n",
       "<table border=\"1\" class=\"dataframe\">\n",
       "  <thead>\n",
       "    <tr style=\"text-align: right;\">\n",
       "      <th></th>\n",
       "      <th>UserId</th>\n",
       "      <th>MovieId</th>\n",
       "      <th>Rating</th>\n",
       "      <th>Timestamp</th>\n",
       "      <th>Title</th>\n",
       "    </tr>\n",
       "  </thead>\n",
       "  <tbody>\n",
       "    <tr>\n",
       "      <th>0</th>\n",
       "      <td>196</td>\n",
       "      <td>242</td>\n",
       "      <td>3.0</td>\n",
       "      <td>881250949</td>\n",
       "      <td>Kolya (1996)</td>\n",
       "    </tr>\n",
       "    <tr>\n",
       "      <th>1</th>\n",
       "      <td>63</td>\n",
       "      <td>242</td>\n",
       "      <td>3.0</td>\n",
       "      <td>875747190</td>\n",
       "      <td>Kolya (1996)</td>\n",
       "    </tr>\n",
       "    <tr>\n",
       "      <th>2</th>\n",
       "      <td>226</td>\n",
       "      <td>242</td>\n",
       "      <td>5.0</td>\n",
       "      <td>883888671</td>\n",
       "      <td>Kolya (1996)</td>\n",
       "    </tr>\n",
       "    <tr>\n",
       "      <th>3</th>\n",
       "      <td>154</td>\n",
       "      <td>242</td>\n",
       "      <td>3.0</td>\n",
       "      <td>879138235</td>\n",
       "      <td>Kolya (1996)</td>\n",
       "    </tr>\n",
       "    <tr>\n",
       "      <th>4</th>\n",
       "      <td>306</td>\n",
       "      <td>242</td>\n",
       "      <td>5.0</td>\n",
       "      <td>876503793</td>\n",
       "      <td>Kolya (1996)</td>\n",
       "    </tr>\n",
       "  </tbody>\n",
       "</table>\n",
       "</div>"
      ],
      "text/plain": [
       "   UserId  MovieId  Rating  Timestamp         Title\n",
       "0     196      242     3.0  881250949  Kolya (1996)\n",
       "1      63      242     3.0  875747190  Kolya (1996)\n",
       "2     226      242     5.0  883888671  Kolya (1996)\n",
       "3     154      242     3.0  879138235  Kolya (1996)\n",
       "4     306      242     5.0  876503793  Kolya (1996)"
      ]
     },
     "execution_count": 7,
     "metadata": {},
     "output_type": "execute_result"
    }
   ],
   "source": [
    "data = movielens.load_pandas_df(\n",
    "    size='100k',\n",
    "    header=['UserId', 'MovieId', 'Rating', 'Timestamp'],\n",
    "    title_col='Title'\n",
    ")\n",
    "\n",
    "data.loc[:, 'Rating'] = data['Rating'].astype(np.float32)\n",
    "data.head()"
   ]
  },
  {
   "cell_type": "markdown",
   "metadata": {},
   "source": [
    "---"
   ]
  },
  {
   "cell_type": "code",
   "execution_count": 13,
   "metadata": {},
   "outputs": [],
   "source": [
    "class MovieLensRankingModel(tf.keras.Model):\n",
    "\n",
    "    def __init__(self, user_vocab, movie_vocab):\n",
    "        super().__init__()\n",
    "        self.user_vocab = user_vocab\n",
    "        self.movie_vocab = movie_vocab\n",
    "        self.user_embed = tf.keras.layers.Embedding(user_vocab.vocabulary_size(), 64)\n",
    "        self.movie_embed = tf.keras.layers.Embedding(movie_vocab.vocabulary_size(), 64)\n",
    "\n",
    "    def call(self, feature):\n",
    "        user_embedding = self.user_embed(self.user_vocab(feature['user_id']))\n",
    "        movie_embedding = self.movie_embed(self.movie_vocab(feature['movie_title']))\n",
    "        return tf.reduce_sum(user_embedding*movie_embedding, axis=2)\n",
    "\n",
    "\n",
    "class TFRankModel(object):\n",
    "\n",
    "    def __init__(self, df, user_col, item_col, rating_col):\n",
    "        self.data = df \n",
    "        self.user_col = user_col\n",
    "        self.item_col = item_col\n",
    "        self.rating_col = rating_col\n",
    "        self.__prep_dataset()\n",
    "\n",
    "\n",
    "    def __prep_dataset(self):\n",
    "        title_tf = tf.convert_to_tensor(self.data[self.item_col].astype(str).values, dtype=tf.string)\n",
    "        user_tf = tf.convert_to_tensor(self.data[self.user_col].astype(str).values, dtype=tf.string)\n",
    "        rating_tf = tf.convert_to_tensor(self.data[self.rating_col].values, dtype=tf.float16)\n",
    "        self.rating = tf.data.Dataset.from_tensor_slices({'movie_title': title_tf, 'user_id': user_tf, 'user_rating': rating_tf})\n",
    "        self.movies = tf.convert_to_tensor(data['Title'].unique(), dtype=tf.string)\n",
    "        self.users = tf.convert_to_tensor(data['UserId'].astype(str).unique(), dtype=tf.string)\n",
    "\n",
    "    def build_embedding(self, bs=32):\n",
    "        self.user_ids_vocabulary = tf.keras.layers.experimental.preprocessing.StringLookup(mask_token=None)\n",
    "        self.user_ids_vocabulary.adapt(self.users)\n",
    "\n",
    "        self.movie_title_vocabulary = tf.keras.layers.experimental.preprocessing.StringLookup(mask_token=None)\n",
    "        self.movie_title_vocabulary.adapt(self.movies)\n",
    "\n",
    "        key_func = lambda x: self.user_ids_vocabulary(x['user_id'])\n",
    "        reduce_func = lambda key, dataset: dataset.batch(100)\n",
    "        ds_train = self.rating.group_by_window(key_func=key_func, reduce_func=reduce_func, window_size=100)\n",
    "\n",
    "        def _feature_and_labels(x):\n",
    "            labels = x.pop(\"user_rating\")\n",
    "            return x, labels \n",
    "\n",
    "        ds_train = ds_train.map(_feature_and_labels)\n",
    "        ds_train = ds_train.apply(tf.data.experimental.dense_to_ragged_batch(batch_size=bs))\n",
    "        return ds_train\n",
    "\n",
    "    def train(self, lr=0.01, num_epochs=3, bs=32):\n",
    "        ds_train = self.build_embedding(bs)\n",
    "        self.model = MovieLensRankingModel(self.user_ids_vocabulary, self.movie_title_vocabulary)\n",
    "        optimizer = tf.keras.optimizers.Adagrad(lr)\n",
    "        loss = tfr.keras.losses.get(loss=tfr.keras.losses.RankingLossKey.SOFTMAX_LOSS, ragged=True)\n",
    "        eval_metrics = [\n",
    "            tfr.keras.metrics.get(key='ndcg', name='metric/ndcg', ragged=True),\n",
    "            tfr.keras.metrics.get(key='mrr', name='metric/mrr', ragged=True)\n",
    "        ]\n",
    "        self.model.compile(optimizer=optimizer, loss=loss, metrics=eval_metrics)\n",
    "\n",
    "        self.model.fit(ds_train, epochs=num_epochs)\n",
    "\n",
    "    def inference(self, user, items):\n",
    "        inputs = {\n",
    "            'user_id': tf.expand_dims(tf.repeat(str(user), repeats=self.movies.shape[0]), axis=0),\n",
    "            'movie_title': tf.expand_dims(self.movies, axis=0)\n",
    "        }\n",
    "\n",
    "        scores = self.model(inputs)\n",
    "        titles = tfr.utils.sort_by_scores(scores, [tf.expand_dims(self.movies, axis=0)])[0]\n",
    "\n",
    "        res_df = pd.DataFrame({'items': titles.numpy()[0]})\n",
    "        res_df['items'] = res_df['items'].apply(lambda x: x.decode('utf-8'))\n",
    "\n",
    "        output_df = res_df.loc[res_df['items'].isin(items)]\n",
    "        return output_df\n",
    "\n"
   ]
  },
  {
   "cell_type": "code",
   "execution_count": 14,
   "metadata": {},
   "outputs": [],
   "source": [
    "rank_model = TFRankModel(data, 'UserId', 'Title', 'Rating')"
   ]
  },
  {
   "cell_type": "code",
   "execution_count": 15,
   "metadata": {},
   "outputs": [
    {
     "name": "stdout",
     "output_type": "stream",
     "text": [
      "Epoch 1/3\n"
     ]
    },
    {
     "name": "stderr",
     "output_type": "stream",
     "text": [
      "/Users/nipunpathitage/opt/anaconda3/envs/rec/lib/python3.7/site-packages/tensorflow/python/framework/indexed_slices.py:446: UserWarning: Converting sparse IndexedSlices(IndexedSlices(indices=Tensor(\"gradient_tape/RaggedToTensor_2/boolean_mask_1/GatherV2:0\", shape=(None,), dtype=int32), values=Tensor(\"gradient_tape/RaggedToTensor_2/boolean_mask/GatherV2:0\", shape=(None,), dtype=float32), dense_shape=Tensor(\"gradient_tape/RaggedToTensor_2/Shape:0\", shape=(1,), dtype=int32))) to a dense Tensor of unknown shape. This may consume a large amount of memory.\n",
      "  \"shape. This may consume a large amount of memory.\" % value)\n",
      "/Users/nipunpathitage/opt/anaconda3/envs/rec/lib/python3.7/site-packages/tensorflow/python/framework/indexed_slices.py:446: UserWarning: Converting sparse IndexedSlices(IndexedSlices(indices=Tensor(\"gradient_tape/movie_lens_ranking_model_1/RaggedTile/Reshape_3:0\", shape=(None,), dtype=int64), values=Tensor(\"gradient_tape/movie_lens_ranking_model_1/RaggedTile/Reshape_2:0\", shape=(None, 64), dtype=float32), dense_shape=Tensor(\"gradient_tape/movie_lens_ranking_model_1/RaggedTile/Cast:0\", shape=(2,), dtype=int32))) to a dense Tensor of unknown shape. This may consume a large amount of memory.\n",
      "  \"shape. This may consume a large amount of memory.\" % value)\n",
      "/Users/nipunpathitage/opt/anaconda3/envs/rec/lib/python3.7/site-packages/tensorflow/python/framework/indexed_slices.py:446: UserWarning: Converting sparse IndexedSlices(IndexedSlices(indices=Tensor(\"gradient_tape/movie_lens_ranking_model_1/RaggedTile_1/Reshape_3:0\", shape=(None,), dtype=int64), values=Tensor(\"gradient_tape/movie_lens_ranking_model_1/RaggedTile_1/Reshape_2:0\", shape=(None, 64), dtype=float32), dense_shape=Tensor(\"gradient_tape/movie_lens_ranking_model_1/RaggedTile_1/Cast:0\", shape=(2,), dtype=int32))) to a dense Tensor of unknown shape. This may consume a large amount of memory.\n",
      "  \"shape. This may consume a large amount of memory.\" % value)\n"
     ]
    },
    {
     "name": "stdout",
     "output_type": "stream",
     "text": [
      "48/48 [==============================] - 4s 34ms/step - loss: 1000.3458 - metric/ndcg: 0.8094 - metric/mrr: 1.0000\n",
      "Epoch 2/3\n",
      "48/48 [==============================] - 2s 37ms/step - loss: 1000.3386 - metric/ndcg: 0.8128 - metric/mrr: 1.0000\n",
      "Epoch 3/3\n",
      "48/48 [==============================] - 3s 40ms/step - loss: 1000.3317 - metric/ndcg: 0.8160 - metric/mrr: 1.0000\n"
     ]
    }
   ],
   "source": [
    "rank_model.train()"
   ]
  },
  {
   "cell_type": "code",
   "execution_count": 16,
   "metadata": {},
   "outputs": [
    {
     "data": {
      "text/html": [
       "<div>\n",
       "<style scoped>\n",
       "    .dataframe tbody tr th:only-of-type {\n",
       "        vertical-align: middle;\n",
       "    }\n",
       "\n",
       "    .dataframe tbody tr th {\n",
       "        vertical-align: top;\n",
       "    }\n",
       "\n",
       "    .dataframe thead th {\n",
       "        text-align: right;\n",
       "    }\n",
       "</style>\n",
       "<table border=\"1\" class=\"dataframe\">\n",
       "  <thead>\n",
       "    <tr style=\"text-align: right;\">\n",
       "      <th></th>\n",
       "      <th>items</th>\n",
       "    </tr>\n",
       "  </thead>\n",
       "  <tbody>\n",
       "    <tr>\n",
       "      <th>8</th>\n",
       "      <td>Toy Story (1995)</td>\n",
       "    </tr>\n",
       "    <tr>\n",
       "      <th>769</th>\n",
       "      <td>Conspiracy Theory (1997)</td>\n",
       "    </tr>\n",
       "    <tr>\n",
       "      <th>1012</th>\n",
       "      <td>Brazil (1985)</td>\n",
       "    </tr>\n",
       "    <tr>\n",
       "      <th>1279</th>\n",
       "      <td>Jerry Maguire (1996)</td>\n",
       "    </tr>\n",
       "  </tbody>\n",
       "</table>\n",
       "</div>"
      ],
      "text/plain": [
       "                         items\n",
       "8             Toy Story (1995)\n",
       "769   Conspiracy Theory (1997)\n",
       "1012             Brazil (1985)\n",
       "1279      Jerry Maguire (1996)"
      ]
     },
     "execution_count": 16,
     "metadata": {},
     "output_type": "execute_result"
    }
   ],
   "source": [
    "rank_model.inference(12, ['Toy Story (1995)', 'Brazil (1985)', 'Jerry Maguire (1996)', 'Conspiracy Theory (1997)'])"
   ]
  },
  {
   "cell_type": "code",
   "execution_count": null,
   "metadata": {},
   "outputs": [],
   "source": []
  }
 ],
 "metadata": {
  "interpreter": {
   "hash": "114915f1d81c1da50642110d3f97d7e46f1e3067055e32d41ec3bf538df62b4a"
  },
  "kernelspec": {
   "display_name": "Python 3.7.11 ('rec')",
   "language": "python",
   "name": "python3"
  },
  "language_info": {
   "codemirror_mode": {
    "name": "ipython",
    "version": 3
   },
   "file_extension": ".py",
   "mimetype": "text/x-python",
   "name": "python",
   "nbconvert_exporter": "python",
   "pygments_lexer": "ipython3",
   "version": "3.7.11"
  },
  "orig_nbformat": 4
 },
 "nbformat": 4,
 "nbformat_minor": 2
}
