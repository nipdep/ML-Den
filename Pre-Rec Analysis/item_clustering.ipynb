{
 "cells": [
  {
   "cell_type": "code",
   "execution_count": 1,
   "metadata": {},
   "outputs": [],
   "source": [
    "import numpy as np \n",
    "import pandas as pd \n",
    "import scipy \n",
    "import umap\n",
    "import collections\n",
    "import functools\n",
    "from datetime import datetime\n",
    "\n",
    "from recommenders.datasets import movielens\n",
    "from sklearn.decomposition import NMF\n",
    "from scipy import spatial\n",
    "\n",
    "import matplotlib.pyplot as plt \n",
    "import plotly.graph_objects as go\n",
    "from plotly.subplots import make_subplots"
   ]
  },
  {
   "cell_type": "code",
   "execution_count": 2,
   "metadata": {},
   "outputs": [
    {
     "name": "stderr",
     "output_type": "stream",
     "text": [
      "100%|██████████| 4.81k/4.81k [00:14<00:00, 322KB/s]\n"
     ]
    },
    {
     "data": {
      "text/html": [
       "<div>\n",
       "<style scoped>\n",
       "    .dataframe tbody tr th:only-of-type {\n",
       "        vertical-align: middle;\n",
       "    }\n",
       "\n",
       "    .dataframe tbody tr th {\n",
       "        vertical-align: top;\n",
       "    }\n",
       "\n",
       "    .dataframe thead th {\n",
       "        text-align: right;\n",
       "    }\n",
       "</style>\n",
       "<table border=\"1\" class=\"dataframe\">\n",
       "  <thead>\n",
       "    <tr style=\"text-align: right;\">\n",
       "      <th></th>\n",
       "      <th>UserId</th>\n",
       "      <th>MovieId</th>\n",
       "      <th>Rating</th>\n",
       "      <th>Timestamp</th>\n",
       "      <th>Title</th>\n",
       "      <th>datetime</th>\n",
       "    </tr>\n",
       "  </thead>\n",
       "  <tbody>\n",
       "    <tr>\n",
       "      <th>0</th>\n",
       "      <td>196</td>\n",
       "      <td>242</td>\n",
       "      <td>3.0</td>\n",
       "      <td>881250949</td>\n",
       "      <td>Kolya (1996)</td>\n",
       "      <td>1997-12-04 21:55:49</td>\n",
       "    </tr>\n",
       "    <tr>\n",
       "      <th>1</th>\n",
       "      <td>63</td>\n",
       "      <td>242</td>\n",
       "      <td>3.0</td>\n",
       "      <td>875747190</td>\n",
       "      <td>Kolya (1996)</td>\n",
       "      <td>1997-10-02 05:06:30</td>\n",
       "    </tr>\n",
       "    <tr>\n",
       "      <th>2</th>\n",
       "      <td>226</td>\n",
       "      <td>242</td>\n",
       "      <td>5.0</td>\n",
       "      <td>883888671</td>\n",
       "      <td>Kolya (1996)</td>\n",
       "      <td>1998-01-04 10:37:51</td>\n",
       "    </tr>\n",
       "    <tr>\n",
       "      <th>3</th>\n",
       "      <td>154</td>\n",
       "      <td>242</td>\n",
       "      <td>3.0</td>\n",
       "      <td>879138235</td>\n",
       "      <td>Kolya (1996)</td>\n",
       "      <td>1997-11-10 11:03:55</td>\n",
       "    </tr>\n",
       "    <tr>\n",
       "      <th>4</th>\n",
       "      <td>306</td>\n",
       "      <td>242</td>\n",
       "      <td>5.0</td>\n",
       "      <td>876503793</td>\n",
       "      <td>Kolya (1996)</td>\n",
       "      <td>1997-10-10 23:16:33</td>\n",
       "    </tr>\n",
       "  </tbody>\n",
       "</table>\n",
       "</div>"
      ],
      "text/plain": [
       "   UserId  MovieId  Rating  Timestamp         Title            datetime\n",
       "0     196      242     3.0  881250949  Kolya (1996) 1997-12-04 21:55:49\n",
       "1      63      242     3.0  875747190  Kolya (1996) 1997-10-02 05:06:30\n",
       "2     226      242     5.0  883888671  Kolya (1996) 1998-01-04 10:37:51\n",
       "3     154      242     3.0  879138235  Kolya (1996) 1997-11-10 11:03:55\n",
       "4     306      242     5.0  876503793  Kolya (1996) 1997-10-10 23:16:33"
      ]
     },
     "execution_count": 2,
     "metadata": {},
     "output_type": "execute_result"
    }
   ],
   "source": [
    "data = movielens.load_pandas_data(\n",
    "    size='100k',\n",
    "    header=['UserId', 'MovieId', 'Rating', 'Timestamp'],\n",
    "    title_col='Title'\n",
    ")\n",
    "\n",
    "data.loc[:, 'Rating'] = data['Rating'].astype(np.float32)\n",
    "data['datetime'] = data['Timestamp'].apply(lambda x: datetime.fromtimestamp(x))\n",
    "data.head()"
   ]
  },
  {
   "cell_type": "code",
   "execution_count": 3,
   "metadata": {},
   "outputs": [
    {
     "name": "stdout",
     "output_type": "stream",
     "text": [
      "# users : 943 | # items : 1682\n"
     ]
    }
   ],
   "source": [
    "print(f\"# users : {data['UserId'].nunique()} | # items : {data['MovieId'].nunique()}\")"
   ]
  },
  {
   "cell_type": "code",
   "execution_count": 4,
   "metadata": {},
   "outputs": [
    {
     "data": {
      "text/html": [
       "<div>\n",
       "<style scoped>\n",
       "    .dataframe tbody tr th:only-of-type {\n",
       "        vertical-align: middle;\n",
       "    }\n",
       "\n",
       "    .dataframe tbody tr th {\n",
       "        vertical-align: top;\n",
       "    }\n",
       "\n",
       "    .dataframe thead th {\n",
       "        text-align: right;\n",
       "    }\n",
       "</style>\n",
       "<table border=\"1\" class=\"dataframe\">\n",
       "  <thead>\n",
       "    <tr style=\"text-align: right;\">\n",
       "      <th></th>\n",
       "      <th>UserId</th>\n",
       "      <th>MovieId</th>\n",
       "      <th>Rating</th>\n",
       "      <th>Timestamp</th>\n",
       "      <th>Title</th>\n",
       "      <th>datetime</th>\n",
       "    </tr>\n",
       "  </thead>\n",
       "  <tbody>\n",
       "    <tr>\n",
       "      <th>81130</th>\n",
       "      <td>5</td>\n",
       "      <td>102</td>\n",
       "      <td>3.0</td>\n",
       "      <td>875721196</td>\n",
       "      <td>Aristocats, The (1970)</td>\n",
       "      <td>1997-10-01 21:53:16</td>\n",
       "    </tr>\n",
       "    <tr>\n",
       "      <th>81131</th>\n",
       "      <td>49</td>\n",
       "      <td>102</td>\n",
       "      <td>2.0</td>\n",
       "      <td>888067164</td>\n",
       "      <td>Aristocats, The (1970)</td>\n",
       "      <td>1998-02-21 19:19:24</td>\n",
       "    </tr>\n",
       "    <tr>\n",
       "      <th>81132</th>\n",
       "      <td>42</td>\n",
       "      <td>102</td>\n",
       "      <td>5.0</td>\n",
       "      <td>881108873</td>\n",
       "      <td>Aristocats, The (1970)</td>\n",
       "      <td>1997-12-03 06:27:53</td>\n",
       "    </tr>\n",
       "    <tr>\n",
       "      <th>81133</th>\n",
       "      <td>295</td>\n",
       "      <td>102</td>\n",
       "      <td>4.0</td>\n",
       "      <td>879518339</td>\n",
       "      <td>Aristocats, The (1970)</td>\n",
       "      <td>1997-11-14 20:38:59</td>\n",
       "    </tr>\n",
       "    <tr>\n",
       "      <th>81134</th>\n",
       "      <td>363</td>\n",
       "      <td>102</td>\n",
       "      <td>4.0</td>\n",
       "      <td>891498681</td>\n",
       "      <td>Aristocats, The (1970)</td>\n",
       "      <td>1998-04-02 12:31:21</td>\n",
       "    </tr>\n",
       "  </tbody>\n",
       "</table>\n",
       "</div>"
      ],
      "text/plain": [
       "       UserId  MovieId  Rating  Timestamp                   Title  \\\n",
       "81130       5      102     3.0  875721196  Aristocats, The (1970)   \n",
       "81131      49      102     2.0  888067164  Aristocats, The (1970)   \n",
       "81132      42      102     5.0  881108873  Aristocats, The (1970)   \n",
       "81133     295      102     4.0  879518339  Aristocats, The (1970)   \n",
       "81134     363      102     4.0  891498681  Aristocats, The (1970)   \n",
       "\n",
       "                 datetime  \n",
       "81130 1997-10-01 21:53:16  \n",
       "81131 1998-02-21 19:19:24  \n",
       "81132 1997-12-03 06:27:53  \n",
       "81133 1997-11-14 20:38:59  \n",
       "81134 1998-04-02 12:31:21  "
      ]
     },
     "execution_count": 4,
     "metadata": {},
     "output_type": "execute_result"
    }
   ],
   "source": [
    "item_data = data.loc[data['MovieId']==102, :]\n",
    "item_data.head()"
   ]
  },
  {
   "cell_type": "code",
   "execution_count": 5,
   "metadata": {},
   "outputs": [],
   "source": [
    "itemMap = data['Title'].unique()\n",
    "userMap = data['UserId'].unique()"
   ]
  },
  {
   "cell_type": "code",
   "execution_count": 37,
   "metadata": {},
   "outputs": [],
   "source": [
    "unique_items = data['Title'].unique()\n",
    "itemMap = pd.DataFrame({'id': np.arange(len(unique_items), dtype=np.int32), 'item': unique_items})\n",
    "unique_users = data['UserId'].unique()\n",
    "userMap = pd.DataFrame({'id': np.arange(len(unique_users), dtype=np.int32), 'user': unique_users})\n",
    "row_ind = data['UserId'].map(dict(zip(userMap['user'],userMap['id']))).to_numpy().astype(np.int32)\n",
    "col_ind = data['Title'].map(dict(zip(itemMap['item'],itemMap['id']))).to_numpy().astype(np.int32)"
   ]
  },
  {
   "cell_type": "code",
   "execution_count": 64,
   "metadata": {},
   "outputs": [],
   "source": [
    "k = itemMap.loc[itemMap['item']=='Jungle Book, The (1994)', 'id'].values[0]"
   ]
  },
  {
   "cell_type": "code",
   "execution_count": 66,
   "metadata": {},
   "outputs": [
    {
     "data": {
      "text/plain": [
       "7"
      ]
     },
     "execution_count": 66,
     "metadata": {},
     "output_type": "execute_result"
    }
   ],
   "source": [
    "k"
   ]
  },
  {
   "cell_type": "code",
   "execution_count": 38,
   "metadata": {},
   "outputs": [],
   "source": [
    "# movies = pd.Series(data['Title'].values, index=data['MovieId'].values).drop_duplicates()\n",
    "# movies.sort_index(inplace=True)\n",
    "\n",
    "sparse_df = data.loc[:, ['UserId', 'MovieId', 'Rating']].sort_values(['UserId', 'MovieId'])\n",
    "# row_ind = sparse_df['UserId'].to_numpy()\n",
    "# col_ind = sparse_df['MovieId'].to_numpy()\n",
    "data_ = sparse_df['Rating'].to_numpy()\n",
    "# inds = list(zip(row_ind, col_ind))\n",
    "# data_arr = list(zip(data_, inds))\n",
    "\n",
    "sparse_mat = scipy.sparse.csr_matrix((data_, (row_ind, col_ind)), dtype=np.int32)"
   ]
  },
  {
   "cell_type": "code",
   "execution_count": 39,
   "metadata": {},
   "outputs": [
    {
     "name": "stderr",
     "output_type": "stream",
     "text": [
      "/Users/nipunpathitage/opt/anaconda3/envs/rec/lib/python3.7/site-packages/sklearn/decomposition/_nmf.py:1091: ConvergenceWarning:\n",
      "\n",
      "Maximum number of iterations 200 reached. Increase it to improve convergence.\n",
      "\n"
     ]
    }
   ],
   "source": [
    "model = NMF(n_components=10, init='random', random_state=123)\n",
    "W = model.fit_transform(sparse_mat)\n",
    "H = model.components_.T"
   ]
  },
  {
   "cell_type": "code",
   "execution_count": 40,
   "metadata": {},
   "outputs": [
    {
     "name": "stdout",
     "output_type": "stream",
     "text": [
      "W shape : (943, 10) | H shape : (1664, 10)\n"
     ]
    }
   ],
   "source": [
    "print(f\"W shape : {W.shape} | H shape : {H.shape}\")"
   ]
  },
  {
   "cell_type": "code",
   "execution_count": 41,
   "metadata": {},
   "outputs": [],
   "source": [
    "from sklearn import manifold, datasets, decomposition\n",
    "\n",
    "def get_2d(arr, method='umap'):\n",
    "    if method == 'umap':\n",
    "        reducer = umap.UMAP()\n",
    "        res = reducer.fit_transform(arr)\n",
    "    elif method == 'pca':\n",
    "        res = decomposition.TruncatedSVD(n_components=2).fit_transform(arr)\n",
    "    elif method == 'tsne':\n",
    "        tsne = manifold.TSNE(n_components=2, init='pca', random_state=0)\n",
    "        res = tsne.fit_transform(arr)\n",
    "    return res"
   ]
  },
  {
   "cell_type": "code",
   "execution_count": 42,
   "metadata": {},
   "outputs": [],
   "source": [
    "h_reduced = get_2d(H, 'pca')"
   ]
  },
  {
   "cell_type": "code",
   "execution_count": 43,
   "metadata": {},
   "outputs": [
    {
     "data": {
      "application/vnd.plotly.v1+json": {
       "config": {
        "plotlyServerURL": "https://plot.ly"
       },
       "data": [
        {
         "mode": "markers",
         "text": [
          [
           0,
           "Kolya (1996)"
          ],
          [
           1,
           "L.A. Confidential (1997)"
          ],
          [
           2,
           "Heavyweights (1994)"
          ],
          [
           3,
           "Legends of the Fall (1994)"
          ],
          [
           4,
           "Jackie Brown (1997)"
          ],
          [
           5,
           "Dr. Strangelove or: How I Learned to Stop Worrying and Love the Bomb (1963)"
          ],
          [
           6,
           "Hunt for Red October, The (1990)"
          ],
          [
           7,
           "Jungle Book, The (1994)"
          ],
          [
           8,
           "Grease (1978)"
          ],
          [
           9,
           "Remains of the Day, The (1993)"
          ],
          [
           10,
           "Men in Black (1997)"
          ],
          [
           11,
           "Romy and Michele's High School Reunion (1997)"
          ],
          [
           12,
           "Star Trek: First Contact (1996)"
          ],
          [
           13,
           "To Wong Foo, Thanks for Everything! Julie Newmar (1995)"
          ],
          [
           14,
           "Batman Forever (1995)"
          ],
          [
           15,
           "Only You (1994)"
          ],
          [
           16,
           "Age of Innocence, The (1993)"
          ],
          [
           17,
           "Sabrina (1995)"
          ],
          [
           18,
           "Just Cause (1995)"
          ],
          [
           19,
           "Endless Summer 2, The (1994)"
          ],
          [
           20,
           "Man Without a Face, The (1993)"
          ],
          [
           21,
           "Sabrina (1954)"
          ],
          [
           22,
           "Die Hard (1988)"
          ],
          [
           23,
           "Twister (1996)"
          ],
          [
           24,
           "Toy Story (1995)"
          ],
          [
           25,
           "Broken Arrow (1996)"
          ],
          [
           26,
           "Aladdin (1992)"
          ],
          [
           27,
           "Casper (1995)"
          ],
          [
           28,
           "Restoration (1995)"
          ],
          [
           29,
           "Jaws (1975)"
          ],
          [
           30,
           "Chasing Amy (1997)"
          ],
          [
           31,
           "Silence of the Lambs, The (1991)"
          ],
          [
           32,
           "Right Stuff, The (1983)"
          ],
          [
           33,
           "Sleepless in Seattle (1993)"
          ],
          [
           34,
           "Sting, The (1973)"
          ],
          [
           35,
           "Curdled (1996)"
          ],
          [
           36,
           "Rear Window (1954)"
          ],
          [
           37,
           "Speechless (1994)"
          ],
          [
           38,
           "Crumb (1994)"
          ],
          [
           39,
           "French Twist (Gazon maudit) (1995)"
          ],
          [
           40,
           "Fly Away Home (1996)"
          ],
          [
           41,
           "Trigger Effect, The (1996)"
          ],
          [
           42,
           "Tales from the Hood (1995)"
          ],
          [
           43,
           "Cop Land (1997)"
          ],
          [
           44,
           "Evil Dead II (1987)"
          ],
          [
           45,
           "Beautiful Thing (1996)"
          ],
          [
           46,
           "Last of the Mohicans, The (1992)"
          ],
          [
           47,
           "Get Shorty (1995)"
          ],
          [
           48,
           "Kiss the Girls (1997)"
          ],
          [
           49,
           "Fargo (1996)"
          ],
          [
           50,
           "Fantasia (1940)"
          ],
          [
           51,
           "Murder at 1600 (1997)"
          ],
          [
           52,
           "Return of the Jedi (1983)"
          ],
          [
           53,
           "Dead Poets Society (1989)"
          ],
          [
           54,
           "Conan the Barbarian (1981)"
          ],
          [
           55,
           "Naked Gun 33 1/3: The Final Insult (1994)"
          ],
          [
           56,
           "Sound of Music, The (1965)"
          ],
          [
           57,
           "E.T. the Extra-Terrestrial (1982)"
          ],
          [
           58,
           "Boot, Das (1981)"
          ],
          [
           59,
           "Angels and Insects (1995)"
          ],
          [
           60,
           "Scream (1996)"
          ],
          [
           61,
           "Nightmare on Elm Street, A (1984)"
          ],
          [
           62,
           "Ben-Hur (1959)"
          ],
          [
           63,
           "City of Lost Children, The (1995)"
          ],
          [
           64,
           "Brothers McMullen, The (1995)"
          ],
          [
           65,
           "Young Guns (1988)"
          ],
          [
           66,
           "To Kill a Mockingbird (1962)"
          ],
          [
           67,
           "Wings of Desire (1987)"
          ],
          [
           68,
           "Mr. Holland's Opus (1995)"
          ],
          [
           69,
           "House Arrest (1996)"
          ],
          [
           70,
           "Old Yeller (1957)"
          ],
          [
           71,
           "Jean de Florette (1986)"
          ],
          [
           72,
           "Seven Years in Tibet (1997)"
          ],
          [
           73,
           "Grosse Pointe Blank (1997)"
          ],
          [
           74,
           "That Darn Cat! (1965)"
          ],
          [
           75,
           "Copycat (1995)"
          ],
          [
           76,
           "Star Trek III: The Search for Spock (1984)"
          ],
          [
           77,
           "Jerry Maguire (1996)"
          ],
          [
           78,
           "North by Northwest (1959)"
          ],
          [
           79,
           "Outbreak (1995)"
          ],
          [
           80,
           "Dangerous Minds (1995)"
          ],
          [
           81,
           "Miller's Crossing (1990)"
          ],
          [
           82,
           "Batman (1989)"
          ],
          [
           83,
           "Truth About Cats & Dogs, The (1996)"
          ],
          [
           84,
           "Sword in the Stone, The (1963)"
          ],
          [
           85,
           "Bean (1997)"
          ],
          [
           86,
           "Birdcage, The (1996)"
          ],
          [
           87,
           "Con Air (1997)"
          ],
          [
           88,
           "Monty Python's Life of Brian (1979)"
          ],
          [
           89,
           "Sense and Sensibility (1995)"
          ],
          [
           90,
           "Backbeat (1993)"
          ],
          [
           91,
           "African Queen, The (1951)"
          ],
          [
           92,
           "Adventures of Priscilla, Queen of the Desert, The (1994)"
          ],
          [
           93,
           "This Is Spinal Tap (1984)"
          ],
          [
           94,
           "Taxi Driver (1976)"
          ],
          [
           95,
           "Liar Liar (1997)"
          ],
          [
           96,
           "Young Frankenstein (1974)"
          ],
          [
           97,
           "Executive Decision (1996)"
          ],
          [
           98,
           "Conspiracy Theory (1997)"
          ],
          [
           99,
           "It's a Wonderful Life (1946)"
          ],
          [
           100,
           "Wizard of Oz, The (1939)"
          ],
          [
           101,
           "Raiders of the Lost Ark (1981)"
          ],
          [
           102,
           "Terminator 2: Judgment Day (1991)"
          ],
          [
           103,
           "Willy Wonka and the Chocolate Factory (1971)"
          ],
          [
           104,
           "Devil's Advocate, The (1997)"
          ],
          [
           105,
           "Quiet Man, The (1952)"
          ],
          [
           106,
           "Muppet Treasure Island (1996)"
          ],
          [
           107,
           "Bogus (1996)"
          ],
          [
           108,
           "Annie Hall (1977)"
          ],
          [
           109,
           "Swimming with Sharks (1995)"
          ],
          [
           110,
           "My Fair Lady (1964)"
          ],
          [
           111,
           "In the Name of the Father (1993)"
          ],
          [
           112,
           "Terminator, The (1984)"
          ],
          [
           113,
           "Shining, The (1980)"
          ],
          [
           114,
           "True Lies (1994)"
          ],
          [
           115,
           "Amistad (1997)"
          ],
          [
           116,
           "Mimic (1997)"
          ],
          [
           117,
           "Devil's Own, The (1997)"
          ],
          [
           118,
           "2001: A Space Odyssey (1968)"
          ],
          [
           119,
           "My Family (1995)"
          ],
          [
           120,
           "Courage Under Fire (1996)"
          ],
          [
           121,
           "Pump Up the Volume (1990)"
          ],
          [
           122,
           "Homeward Bound: The Incredible Journey (1993)"
          ],
          [
           123,
           "Tales From the Crypt Presents: Demon Knight (1995)"
          ],
          [
           124,
           "One Fine Day (1996)"
          ],
          [
           125,
           "Vertigo (1958)"
          ],
          [
           126,
           "Bio-Dome (1996)"
          ],
          [
           127,
           "Blue Sky (1994)"
          ],
          [
           128,
           "Get on the Bus (1996)"
          ],
          [
           129,
           "Ninotchka (1939)"
          ],
          [
           130,
           "Good Will Hunting (1997)"
          ],
          [
           131,
           "Father of the Bride Part II (1995)"
          ],
          [
           132,
           "Roommates (1995)"
          ],
          [
           133,
           "Postino, Il (1994)"
          ],
          [
           134,
           "Before Sunrise (1995)"
          ],
          [
           135,
           "Mary Poppins (1964)"
          ],
          [
           136,
           "Mission: Impossible (1996)"
          ],
          [
           137,
           "Bonnie and Clyde (1967)"
          ],
          [
           138,
           "Red Rock West (1992)"
          ],
          [
           139,
           "Rock, The (1996)"
          ],
          [
           140,
           "Heat (1995)"
          ],
          [
           141,
           "Interview with the Vampire (1994)"
          ],
          [
           142,
           "It Could Happen to You (1994)"
          ],
          [
           143,
           "Dante's Peak (1997)"
          ],
          [
           144,
           "Good, The Bad and The Ugly, The (1966)"
          ],
          [
           145,
           "Batman Returns (1992)"
          ],
          [
           146,
           "GoldenEye (1995)"
          ],
          [
           147,
           "Big Night (1996)"
          ],
          [
           148,
           "Kazaam (1996)"
          ],
          [
           149,
           "Abyss, The (1989)"
          ],
          [
           150,
           "River Wild, The (1994)"
          ],
          [
           151,
           "Ghost in the Shell (Kokaku kidotai) (1995)"
          ],
          [
           152,
           "Face/Off (1997)"
          ],
          [
           153,
           "Birds, The (1963)"
          ],
          [
           154,
           "Cool Runnings (1993)"
          ],
          [
           155,
           "Fugitive, The (1993)"
          ],
          [
           156,
           "Contact (1997)"
          ],
          [
           157,
           "Jackie Chan's First Strike (1996)"
          ],
          [
           158,
           "Jumanji (1995)"
          ],
          [
           159,
           "Cape Fear (1962)"
          ],
          [
           160,
           "Empire Strikes Back, The (1980)"
          ],
          [
           161,
           "Assassins (1995)"
          ],
          [
           162,
           "Canadian Bacon (1994)"
          ],
          [
           163,
           "Clockers (1995)"
          ],
          [
           164,
           "Chain Reaction (1996)"
          ],
          [
           165,
           "When Harry Met Sally... (1989)"
          ],
          [
           166,
           "Joe's Apartment (1996)"
          ],
          [
           167,
           "Jaws 2 (1978)"
          ],
          [
           168,
           "Three Colors: White (1994)"
          ],
          [
           169,
           "Hoop Dreams (1994)"
          ],
          [
           170,
           "Wonderland (1997)"
          ],
          [
           171,
           "Firm, The (1993)"
          ],
          [
           172,
           "First Wives Club, The (1996)"
          ],
          [
           173,
           "Casablanca (1942)"
          ],
          [
           174,
           "Saint, The (1997)"
          ],
          [
           175,
           "Mirror Has Two Faces, The (1996)"
          ],
          [
           176,
           "My Best Friend's Wedding (1997)"
          ],
          [
           177,
           "Up Close and Personal (1996)"
          ],
          [
           178,
           "Groundhog Day (1993)"
          ],
          [
           179,
           "Close Shave, A (1995)"
          ],
          [
           180,
           "Mars Attacks! (1996)"
          ],
          [
           181,
           "Star Trek: The Wrath of Khan (1982)"
          ],
          [
           182,
           "Flirting With Disaster (1996)"
          ],
          [
           183,
           "Wag the Dog (1997)"
          ],
          [
           184,
           "12 Angry Men (1957)"
          ],
          [
           185,
           "Philadelphia Story, The (1940)"
          ],
          [
           186,
           "Leave It to Beaver (1997)"
          ],
          [
           187,
           "Richard III (1995)"
          ],
          [
           188,
           "Godfather, The (1972)"
          ],
          [
           189,
           "Diabolique (1996)"
          ],
          [
           190,
           "Forrest Gump (1994)"
          ],
          [
           191,
           "Renaissance Man (1994)"
          ],
          [
           192,
           "Tommy Boy (1995)"
          ],
          [
           193,
           "Pete's Dragon (1977)"
          ],
          [
           194,
           "Pink Floyd - The Wall (1982)"
          ],
          [
           195,
           "Grumpier Old Men (1995)"
          ],
          [
           196,
           "Waterworld (1995)"
          ],
          [
           197,
           "Mystery Science Theater 3000: The Movie (1996)"
          ],
          [
           198,
           "Delicatessen (1991)"
          ],
          [
           199,
           "Schindler's List (1993)"
          ],
          [
           200,
           "Speed (1994)"
          ],
          [
           201,
           "Pollyanna (1960)"
          ],
          [
           202,
           "What's Eating Gilbert Grape (1993)"
          ],
          [
           203,
           "Primal Fear (1996)"
          ],
          [
           204,
           "Brady Bunch Movie, The (1995)"
          ],
          [
           205,
           "Mad City (1997)"
          ],
          [
           206,
           "Real Genius (1985)"
          ],
          [
           207,
           "Crow, The (1994)"
          ],
          [
           208,
           "Twelve Monkeys (1995)"
          ],
          [
           209,
           "Tie Me Up! Tie Me Down! (1990)"
          ],
          [
           210,
           "Cape Fear (1991)"
          ],
          [
           211,
           "Angels in the Outfield (1994)"
          ],
          [
           212,
           "U Turn (1997)"
          ],
          [
           213,
           "Apostle, The (1997)"
          ],
          [
           214,
           "Lawnmower Man, The (1992)"
          ],
          [
           215,
           "Pulp Fiction (1994)"
          ],
          [
           216,
           "Blade Runner (1982)"
          ],
          [
           217,
           "20,000 Leagues Under the Sea (1954)"
          ],
          [
           218,
           "Cliffhanger (1993)"
          ],
          [
           219,
           "Gone with the Wind (1939)"
          ],
          [
           220,
           "Fish Called Wanda, A (1988)"
          ],
          [
           221,
           "Celluloid Closet, The (1995)"
          ],
          [
           222,
           "Love Jones (1997)"
          ],
          [
           223,
           "Unhook the Stars (1996)"
          ],
          [
           224,
           "Streetcar Named Desire, A (1951)"
          ],
          [
           225,
           "Clueless (1995)"
          ],
          [
           226,
           "Rudy (1993)"
          ],
          [
           227,
           "Fan, The (1996)"
          ],
          [
           228,
           "Seven (Se7en) (1995)"
          ],
          [
           229,
           "Great Escape, The (1963)"
          ],
          [
           230,
           "Jurassic Park (1993)"
          ],
          [
           231,
           "Dumbo (1941)"
          ],
          [
           232,
           "Four Rooms (1995)"
          ],
          [
           233,
           "Kicking and Screaming (1995)"
          ],
          [
           234,
           "Nikita (La Femme Nikita) (1990)"
          ],
          [
           235,
           "Grand Day Out, A (1992)"
          ],
          [
           236,
           "Addiction, The (1995)"
          ],
          [
           237,
           "Singin' in the Rain (1952)"
          ],
          [
           238,
           "Shawshank Redemption, The (1994)"
          ],
          [
           239,
           "One Flew Over the Cuckoo's Nest (1975)"
          ],
          [
           240,
           "Maltese Falcon, The (1941)"
          ],
          [
           241,
           "People vs. Larry Flynt, The (1996)"
          ],
          [
           242,
           "Ulee's Gold (1997)"
          ],
          [
           243,
           "Field of Dreams (1989)"
          ],
          [
           244,
           "MatchMaker, The (1997)"
          ],
          [
           245,
           "Fled (1996)"
          ],
          [
           246,
           "Back to the Future (1985)"
          ],
          [
           247,
           "Kicked in the Head (1997)"
          ],
          [
           248,
           "Desperado (1995)"
          ],
          [
           249,
           "Glengarry Glen Ross (1992)"
          ],
          [
           250,
           "Mother (1996)"
          ],
          [
           251,
           "Alien: Resurrection (1997)"
          ],
          [
           252,
           "Star Trek VI: The Undiscovered Country (1991)"
          ],
          [
           253,
           "Amadeus (1984)"
          ],
          [
           254,
           "Afterglow (1997)"
          ],
          [
           255,
           "Alien (1979)"
          ],
          [
           256,
           "Circle of Friends (1995)"
          ],
          [
           257,
           "Duck Soup (1933)"
          ],
          [
           258,
           "Family Thing, A (1996)"
          ],
          [
           259,
           "Citizen Kane (1941)"
          ],
          [
           260,
           "Tomorrow Never Dies (1997)"
          ],
          [
           261,
           "Unbearable Lightness of Being, The (1988)"
          ],
          [
           262,
           "When the Cats Away (Chacun cherche son chat) (1996)"
          ],
          [
           263,
           "Somewhere in Time (1980)"
          ],
          [
           264,
           "Shadow Conspiracy (1997)"
          ],
          [
           265,
           "Bottle Rocket (1996)"
          ],
          [
           266,
           "Kingpin (1996)"
          ],
          [
           267,
           "Peacemaker, The (1997)"
          ],
          [
           268,
           "Starship Troopers (1997)"
          ],
          [
           269,
           "It's My Party (1995)"
          ],
          [
           270,
           "Once Upon a Time in America (1984)"
          ],
          [
           271,
           "Indian in the Cupboard, The (1995)"
          ],
          [
           272,
           "Graduate, The (1967)"
          ],
          [
           273,
           "Volcano (1997)"
          ],
          [
           274,
           "Bridge on the River Kwai, The (1957)"
          ],
          [
           275,
           "Strictly Ballroom (1992)"
          ],
          [
           276,
           "Wrong Trousers, The (1993)"
          ],
          [
           277,
           "Eraser (1996)"
          ],
          [
           278,
           "Stag (1997)"
          ],
          [
           279,
           "Game, The (1997)"
          ],
          [
           280,
           "Twelfth Night (1996)"
          ],
          [
           281,
           "Coneheads (1993)"
          ],
          [
           282,
           "Miracle on 34th Street (1994)"
          ],
          [
           283,
           "Bob Roberts (1992)"
          ],
          [
           284,
           "Dazed and Confused (1993)"
          ],
          [
           285,
           "Scout, The (1994)"
          ],
          [
           286,
           "Trees Lounge (1996)"
          ],
          [
           287,
           "Brazil (1985)"
          ],
          [
           288,
           "English Patient, The (1996)"
          ],
          [
           289,
           "Heavenly Creatures (1994)"
          ],
          [
           290,
           "While You Were Sleeping (1995)"
          ],
          [
           291,
           "Akira (1988)"
          ],
          [
           292,
           "Ghost (1990)"
          ],
          [
           293,
           "Cook the Thief His Wife & Her Lover, The (1989)"
          ],
          [
           294,
           "Down by Law (1986)"
          ],
          [
           295,
           "Stargate (1994)"
          ],
          [
           296,
           "Usual Suspects, The (1995)"
          ],
          [
           297,
           "Absolute Power (1997)"
          ],
          [
           298,
           "Like Water For Chocolate (Como agua para chocolate) (1992)"
          ],
          [
           299,
           "Lost Horizon (1937)"
          ],
          [
           300,
           "Lawnmower Man 2: Beyond Cyberspace (1996)"
          ],
          [
           301,
           "That Thing You Do! (1996)"
          ],
          [
           302,
           "Return of the Pink Panther, The (1974)"
          ],
          [
           303,
           "Foreign Correspondent (1940)"
          ],
          [
           304,
           "Fifth Element, The (1997)"
          ],
          [
           305,
           "Mulholland Falls (1996)"
          ],
          [
           306,
           "Blues Brothers, The (1980)"
          ],
          [
           307,
           "Corrina, Corrina (1994)"
          ],
          [
           308,
           "Lion King, The (1994)"
          ],
          [
           309,
           "French Kiss (1995)"
          ],
          [
           310,
           "Aliens (1986)"
          ],
          [
           311,
           "Low Down Dirty Shame, A (1994)"
          ],
          [
           312,
           "Free Willy (1993)"
          ],
          [
           313,
           "American Werewolf in London, An (1981)"
          ],
          [
           314,
           "Crying Game, The (1992)"
          ],
          [
           315,
           "Home for the Holidays (1995)"
          ],
          [
           316,
           "Full Metal Jacket (1987)"
          ],
          [
           317,
           "Little Women (1994)"
          ],
          [
           318,
           "It Happened One Night (1934)"
          ],
          [
           319,
           "Dances with Wolves (1990)"
          ],
          [
           320,
           "Princess Bride, The (1987)"
          ],
          [
           321,
           "Crossing Guard, The (1995)"
          ],
          [
           322,
           "To Die For (1995)"
          ],
          [
           323,
           "From Dusk Till Dawn (1996)"
          ],
          [
           324,
           "Apt Pupil (1998)"
          ],
          [
           325,
           "Dial M for Murder (1954)"
          ],
          [
           326,
           "Once Upon a Time... When We Were Colored (1995)"
          ],
          [
           327,
           "Hot Shots! Part Deux (1993)"
          ],
          [
           328,
           "Raising Arizona (1987)"
          ],
          [
           329,
           "Three Colors: Blue (1993)"
          ],
          [
           330,
           "Crash (1996)"
          ],
          [
           331,
           "Spy Hard (1996)"
          ],
          [
           332,
           "Shine (1996)"
          ],
          [
           333,
           "Hour of the Pig, The (1993)"
          ],
          [
           334,
           "Flubber (1997)"
          ],
          [
           335,
           "Multiplicity (1996)"
          ],
          [
           336,
           "Ed Wood (1994)"
          ],
          [
           337,
           "Bram Stoker's Dracula (1992)"
          ],
          [
           338,
           "George of the Jungle (1997)"
          ],
          [
           339,
           "Hunchback of Notre Dame, The (1996)"
          ],
          [
           340,
           "Naked (1993)"
          ],
          [
           341,
           "M*A*S*H (1970)"
          ],
          [
           342,
           "Smile Like Yours, A (1997)"
          ],
          [
           343,
           "Adventures of Pinocchio, The (1996)"
          ],
          [
           344,
           "Pinocchio (1940)"
          ],
          [
           345,
           "Ice Storm, The (1997)"
          ],
          [
           346,
           "Indiana Jones and the Last Crusade (1989)"
          ],
          [
           347,
           "Bed of Roses (1996)"
          ],
          [
           348,
           "Devil in a Blue Dress (1995)"
          ],
          [
           349,
           "Lost World: Jurassic Park, The (1997)"
          ],
          [
           350,
           "Reservoir Dogs (1992)"
          ],
          [
           351,
           "Tank Girl (1995)"
          ],
          [
           352,
           "Fallen (1998)"
          ],
          [
           353,
           "Highlander (1986)"
          ],
          [
           354,
           "Trainspotting (1996)"
          ],
          [
           355,
           "GoodFellas (1990)"
          ],
          [
           356,
           "Star Wars (1977)"
          ],
          [
           357,
           "Powder (1995)"
          ],
          [
           358,
           "Godfather: Part II, The (1974)"
          ],
          [
           359,
           "Evita (1996)"
          ],
          [
           360,
           "Psycho (1960)"
          ],
          [
           361,
           "Tin Men (1987)"
          ],
          [
           362,
           "Home Alone (1990)"
          ],
          [
           363,
           "Ransom (1996)"
          ],
          [
           364,
           "Beautiful Girls (1996)"
          ],
          [
           365,
           "Dave (1993)"
          ],
          [
           366,
           "Monty Python and the Holy Grail (1974)"
          ],
          [
           367,
           "Die Hard: With a Vengeance (1995)"
          ],
          [
           368,
           "Days of Thunder (1990)"
          ],
          [
           369,
           "Thinner (1996)"
          ],
          [
           370,
           "Swingers (1996)"
          ],
          [
           371,
           "Fools Rush In (1997)"
          ],
          [
           372,
           "Army of Darkness (1993)"
          ],
          [
           373,
           "Bridges of Madison County, The (1995)"
          ],
          [
           374,
           "First Knight (1995)"
          ],
          [
           375,
           "Picture Perfect (1997)"
          ],
          [
           376,
           "Muriel's Wedding (1994)"
          ],
          [
           377,
           "Dead Man (1995)"
          ],
          [
           378,
           "Priest (1994)"
          ],
          [
           379,
           "Mrs. Brown (Her Majesty, Mrs. Brown) (1997)"
          ],
          [
           380,
           "Mary Reilly (1996)"
          ],
          [
           381,
           "Austin Powers: International Man of Mystery (1997)"
          ],
          [
           382,
           "Mallrats (1995)"
          ],
          [
           383,
           "Laura (1944)"
          ],
          [
           384,
           "Bedknobs and Broomsticks (1971)"
          ],
          [
           385,
           "Killing Zoe (1994)"
          ],
          [
           386,
           "Spitfire Grill, The (1996)"
          ],
          [
           387,
           "Great White Hype, The (1996)"
          ],
          [
           388,
           "Babe (1995)"
          ],
          [
           389,
           "Quiz Show (1994)"
          ],
          [
           390,
           "Kull the Conqueror (1997)"
          ],
          [
           391,
           "Last Supper, The (1995)"
          ],
          [
           392,
           "Evening Star, The (1996)"
          ],
          [
           393,
           "Omen, The (1976)"
          ],
          [
           394,
           "Kundun (1997)"
          ],
          [
           395,
           "With Honors (1994)"
          ],
          [
           396,
           "Great Expectations (1998)"
          ],
          [
           397,
           "Line King: Al Hirschfeld, The (1996)"
          ],
          [
           398,
           "Professional, The (1994)"
          ],
          [
           399,
           "Michael Collins (1996)"
          ],
          [
           400,
           "Grifters, The (1990)"
          ],
          [
           401,
           "Shiloh (1997)"
          ],
          [
           402,
           "Independence Day (ID4) (1996)"
          ],
          [
           403,
           "In & Out (1997)"
          ],
          [
           404,
           "Hudsucker Proxy, The (1994)"
          ],
          [
           405,
           "Tin Cup (1996)"
          ],
          [
           406,
           "Jane Eyre (1996)"
          ],
          [
           407,
           "Braveheart (1995)"
          ],
          [
           408,
           "My Fellow Americans (1996)"
          ],
          [
           409,
           "Red Firecracker, Green Firecracker (1994)"
          ],
          [
           410,
           "Orlando (1993)"
          ],
          [
           411,
           "Andre (1994)"
          ],
          [
           412,
           "Beavis and Butt-head Do America (1996)"
          ],
          [
           413,
           "Houseguest (1994)"
          ],
          [
           414,
           "Island of Dr. Moreau, The (1996)"
          ],
          [
           415,
           "Juror, The (1996)"
          ],
          [
           416,
           "Three Musketeers, The (1993)"
          ],
          [
           417,
           "Hamlet (1996)"
          ],
          [
           418,
           "Faithful (1996)"
          ],
          [
           419,
           "Rosewood (1997)"
          ],
          [
           420,
           "Mary Shelley's Frankenstein (1994)"
          ],
          [
           421,
           "Mr. Magoo (1997)"
          ],
          [
           422,
           "Four Weddings and a Funeral (1994)"
          ],
          [
           423,
           "Parent Trap, The (1961)"
          ],
          [
           424,
           "Rising Sun (1993)"
          ],
          [
           425,
           "Money Train (1995)"
          ],
          [
           426,
           "Donnie Brasco (1997)"
          ],
          [
           427,
           "Bringing Up Baby (1938)"
          ],
          [
           428,
           "Thieves (Voleurs, Les) (1996)"
          ],
          [
           429,
           "Bushwhacked (1995)"
          ],
          [
           430,
           "Stand by Me (1986)"
          ],
          [
           431,
           "Mighty Aphrodite (1995)"
          ],
          [
           432,
           "Beauty and the Beast (1991)"
          ],
          [
           433,
           "Jack (1996)"
          ],
          [
           434,
           "Pretty Woman (1990)"
          ],
          [
           435,
           "High Noon (1952)"
          ],
          [
           436,
           "Alien 3 (1992)"
          ],
          [
           437,
           "American President, The (1995)"
          ],
          [
           438,
           "Amityville: A New Generation (1993)"
          ],
          [
           439,
           "Sophie's Choice (1982)"
          ],
          [
           440,
           "Purple Noon (1960)"
          ],
          [
           441,
           "Father of the Bride (1950)"
          ],
          [
           442,
           "101 Dalmatians (1996)"
          ],
          [
           443,
           "Supercop (1992)"
          ],
          [
           444,
           "Michael (1996)"
          ],
          [
           445,
           "Breakdown (1997)"
          ],
          [
           446,
           "I.Q. (1994)"
          ],
          [
           447,
           "So Dear to My Heart (1949)"
          ],
          [
           448,
           "Enchanted April (1991)"
          ],
          [
           449,
           "Terminal Velocity (1994)"
          ],
          [
           450,
           "Stalingrad (1993)"
          ],
          [
           451,
           "Long Kiss Goodnight, The (1996)"
          ],
          [
           452,
           "Higher Learning (1995)"
          ],
          [
           453,
           "East of Eden (1955)"
          ],
          [
           454,
           "Chamber, The (1996)"
          ],
          [
           455,
           "Top Gun (1986)"
          ],
          [
           456,
           "Living in Oblivion (1995)"
          ],
          [
           457,
           "Star Trek: The Motion Picture (1979)"
          ],
          [
           458,
           "Booty Call (1997)"
          ],
          [
           459,
           "My Left Foot (1989)"
          ],
          [
           460,
           "Touch (1997)"
          ],
          [
           461,
           "Strange Days (1995)"
          ],
          [
           462,
           "What Happened Was... (1994)"
          ],
          [
           463,
           "Space Jam (1996)"
          ],
          [
           464,
           "Fried Green Tomatoes (1991)"
          ],
          [
           465,
           "Fast, Cheap & Out of Control (1997)"
          ],
          [
           466,
           "Striptease (1996)"
          ],
          [
           467,
           "Dumb & Dumber (1994)"
          ],
          [
           468,
           "Dolores Claiborne (1994)"
          ],
          [
           469,
           "Perfect World, A (1993)"
          ],
          [
           470,
           "Apollo 13 (1995)"
          ],
          [
           471,
           "Nell (1994)"
          ],
          [
           472,
           "Madness of King George, The (1994)"
          ],
          [
           473,
           "Star Trek IV: The Voyage Home (1986)"
          ],
          [
           474,
           "Rebel Without a Cause (1955)"
          ],
          [
           475,
           "Clear and Present Danger (1994)"
          ],
          [
           476,
           "Prophecy, The (1995)"
          ],
          [
           477,
           "That Darn Cat! (1997)"
          ],
          [
           478,
           "Heathers (1989)"
          ],
          [
           479,
           "Snow White and the Seven Dwarfs (1937)"
          ],
          [
           480,
           "Denise Calls Up (1995)"
          ],
          [
           481,
           "Henry V (1989)"
          ],
          [
           482,
           "Basquiat (1996)"
          ],
          [
           483,
           "Excess Baggage (1997)"
          ],
          [
           484,
           "Roman Holiday (1953)"
          ],
          [
           485,
           "Dracula: Dead and Loving It (1995)"
          ],
          [
           486,
           "Marvin's Room (1996)"
          ],
          [
           487,
           "Arsenic and Old Lace (1944)"
          ],
          [
           488,
           "Flower of My Secret, The (Flor de mi secreto, La) (1995)"
          ],
          [
           489,
           "City Hall (1996)"
          ],
          [
           490,
           "Full Monty, The (1997)"
          ],
          [
           491,
           "Clockwork Orange, A (1971)"
          ],
          [
           492,
           "Amityville II: The Possession (1982)"
          ],
          [
           493,
           "Menace II Society (1993)"
          ],
          [
           494,
           "Blown Away (1994)"
          ],
          [
           495,
           "Chinatown (1974)"
          ],
          [
           496,
           "Lost Highway (1997)"
          ],
          [
           497,
           "Shadowlands (1993)"
          ],
          [
           498,
           "True Romance (1993)"
          ],
          [
           499,
           "Smoke (1995)"
          ],
          [
           500,
           "Bound (1996)"
          ],
          [
           501,
           "Dead Man Walking (1995)"
          ],
          [
           502,
           "Sleeper (1973)"
          ],
          [
           503,
           "Under Siege (1992)"
          ],
          [
           504,
           "Wild Bunch, The (1969)"
          ],
          [
           505,
           "Unforgiven (1992)"
          ],
          [
           506,
           "Quest, The (1996)"
          ],
          [
           507,
           "Raise the Red Lantern (1991)"
          ],
          [
           508,
           "Secret of Roan Inish, The (1994)"
          ],
          [
           509,
           "Cable Guy, The (1996)"
          ],
          [
           510,
           "Rainmaker, The (1997)"
          ],
          [
           511,
           "Secrets & Lies (1996)"
          ],
          [
           512,
           "Carrie (1976)"
          ],
          [
           513,
           "Very Brady Sequel, A (1996)"
          ],
          [
           514,
           "SubUrbia (1997)"
          ],
          [
           515,
           "Substitute, The (1996)"
          ],
          [
           516,
           "Koyaanisqatsi (1983)"
          ],
          [
           517,
           "William Shakespeare's Romeo and Juliet (1996)"
          ],
          [
           518,
           "Thousand Acres, A (1997)"
          ],
          [
           519,
           "Romeo Is Bleeding (1993)"
          ],
          [
           520,
           "Operation Dumbo Drop (1995)"
          ],
          [
           521,
           "Shall We Dance? (1996)"
          ],
          [
           522,
           "Escape from L.A. (1996)"
          ],
          [
           523,
           "Misérables, Les (1995)"
          ],
          [
           524,
           "Down Periscope (1996)"
          ],
          [
           525,
           "Dirty Dancing (1987)"
          ],
          [
           526,
           "Natural Born Killers (1994)"
          ],
          [
           527,
           "Mrs. Doubtfire (1993)"
          ],
          [
           528,
           "Nightmare Before Christmas, The (1993)"
          ],
          [
           529,
           "Matilda (1996)"
          ],
          [
           530,
           "Dragonheart (1996)"
          ],
          [
           531,
           "Nick of Time (1995)"
          ],
          [
           532,
           "Shall We Dance? (1937)"
          ],
          [
           533,
           "Welcome to the Dollhouse (1995)"
          ],
          [
           534,
           "Thin Blue Line, The (1988)"
          ],
          [
           535,
           "Maximum Risk (1996)"
          ],
          [
           536,
           "Adventures of Robin Hood, The (1938)"
          ],
          [
           537,
           "Lawrence of Arabia (1962)"
          ],
          [
           538,
           "Striking Distance (1993)"
          ],
          [
           539,
           "On Golden Pond (1981)"
          ],
          [
           540,
           "Third Man, The (1949)"
          ],
          [
           541,
           "Showgirls (1995)"
          ],
          [
           542,
           "Net, The (1995)"
          ],
          [
           543,
           "Cinderella (1950)"
          ],
          [
           544,
           "Amityville: Dollhouse (1996)"
          ],
          [
           545,
           "Breakfast at Tiffany's (1961)"
          ],
          [
           546,
           "Searching for Bobby Fischer (1993)"
          ],
          [
           547,
           "Exit to Eden (1994)"
          ],
          [
           548,
           "Mask, The (1994)"
          ],
          [
           549,
           "Being There (1979)"
          ],
          [
           550,
           "Escape to Witch Mountain (1975)"
          ],
          [
           551,
           "Phenomenon (1996)"
          ],
          [
           552,
           "Blink (1994)"
          ],
          [
           553,
           "Wedding Singer, The (1998)"
          ],
          [
           554,
           "Sgt. Bilko (1996)"
          ],
          [
           555,
           "Maverick (1994)"
          ],
          [
           556,
           "Sneakers (1992)"
          ],
          [
           557,
           "Believers, The (1987)"
          ],
          [
           558,
           "Malice (1993)"
          ],
          [
           559,
           "Major Payne (1994)"
          ],
          [
           560,
           "Cool Hand Luke (1967)"
          ],
          [
           561,
           "Microcosmos: Le peuple de l'herbe (1996)"
          ],
          [
           562,
           "Gridlock'd (1997)"
          ],
          [
           563,
           "Eye for an Eye (1996)"
          ],
          [
           564,
           "Extreme Measures (1996)"
          ],
          [
           565,
           "Moll Flanders (1996)"
          ],
          [
           566,
           "Room with a View, A (1986)"
          ],
          [
           567,
           "Everyone Says I Love You (1996)"
          ],
          [
           568,
           "Some Folks Call It a Sling Blade (1993)"
          ],
          [
           569,
           "She's So Lovely (1997)"
          ],
          [
           570,
           "Apocalypse Now (1979)"
          ],
          [
           571,
           "Homeward Bound II: Lost in San Francisco (1996)"
          ],
          [
           572,
           "Star Trek: Generations (1994)"
          ],
          [
           573,
           "Three Colors: Red (1994)"
          ],
          [
           574,
           "Oliver & Company (1988)"
          ],
          [
           575,
           "Son in Law (1993)"
          ],
          [
           576,
           "Ghost and the Darkness, The (1996)"
          ],
          [
           577,
           "Rocket Man (1997)"
          ],
          [
           578,
           "Bastard Out of Carolina (1996)"
          ],
          [
           579,
           "Sirens (1994)"
          ],
          [
           580,
           "Great Dictator, The (1940)"
          ],
          [
           581,
           "Kiss Me, Guido (1997)"
          ],
          [
           582,
           "Night of the Living Dead (1968)"
          ],
          [
           583,
           "Charade (1963)"
          ],
          [
           584,
           "Hoodlum (1997)"
          ],
          [
           585,
           "Bullets Over Broadway (1994)"
          ],
          [
           586,
           "Sex, Lies, and Videotape (1989)"
          ],
          [
           587,
           "Georgia (1995)"
          ],
          [
           588,
           "Bad Boys (1995)"
          ],
          [
           589,
           "Benny & Joon (1993)"
          ],
          [
           590,
           "Ref, The (1994)"
          ],
          [
           591,
           "Local Hero (1983)"
          ],
          [
           592,
           "Little Princess, A (1995)"
          ],
          [
           593,
           "I Know What You Did Last Summer (1997)"
          ],
          [
           594,
           "Breaking the Waves (1996)"
          ],
          [
           595,
           "Last Dance (1996)"
          ],
          [
           596,
           "Looking for Richard (1996)"
          ],
          [
           597,
           "D3: The Mighty Ducks (1996)"
          ],
          [
           598,
           "Manhattan (1979)"
          ],
          [
           599,
           "Emma (1996)"
          ],
          [
           600,
           "American in Paris, An (1951)"
          ],
          [
           601,
           "Body Snatchers (1993)"
          ],
          [
           602,
           "Blue Angel, The (Blaue Engel, Der) (1930)"
          ],
          [
           603,
           "Wolf (1994)"
          ],
          [
           604,
           "My Life and Times With Antonin Artaud (En compagnie d'Antonin Artaud) (1993)"
          ],
          [
           605,
           "Widows' Peak (1994)"
          ],
          [
           606,
           "Addams Family Values (1993)"
          ],
          [
           607,
           "Edge, The (1997)"
          ],
          [
           608,
           "Sphere (1998)"
          ],
          [
           609,
           "How to Make an American Quilt (1995)"
          ],
          [
           610,
           "Sunset Blvd. (1950)"
          ],
          [
           611,
           "Wallace & Gromit: The Best of Aardman Animation (1996)"
          ],
          [
           612,
           "Rumble in the Bronx (1995)"
          ],
          [
           613,
           "Happy Gilmore (1996)"
          ],
          [
           614,
           "Disclosure (1994)"
          ],
          [
           615,
           "Unstrung Heroes (1995)"
          ],
          [
           616,
           "Magnificent Seven, The (1954)"
          ],
          [
           617,
           "Jeffrey (1995)"
          ],
          [
           618,
           "How to Be a Player (1997)"
          ],
          [
           619,
           "Drop Zone (1994)"
          ],
          [
           620,
           "Butch Cassidy and the Sundance Kid (1969)"
          ],
          [
           621,
           "Sling Blade (1996)"
          ],
          [
           622,
           "Somebody to Love (1994)"
          ],
          [
           623,
           "Gay Divorcee, The (1934)"
          ],
          [
           624,
           "Captives (1994)"
          ],
          [
           625,
           "Steel (1997)"
          ],
          [
           626,
           "Star Trek V: The Final Frontier (1989)"
          ],
          [
           627,
           "Glory (1989)"
          ],
          [
           628,
           "As Good As It Gets (1997)"
          ],
          [
           629,
           "Harriet the Spy (1996)"
          ],
          [
           630,
           "Englishman Who Went Up a Hill, But Came Down a Mountain, The (1995)"
          ],
          [
           631,
           "Forget Paris (1995)"
          ],
          [
           632,
           "Children of the Corn: The Gathering (1996)"
          ],
          [
           633,
           "Day the Earth Stood Still, The (1951)"
          ],
          [
           634,
           "Hearts and Minds (1996)"
          ],
          [
           635,
           "Palookaville (1996)"
          ],
          [
           636,
           "Manon of the Spring (Manon des sources) (1986)"
          ],
          [
           637,
           "Phat Beach (1996)"
          ],
          [
           638,
           "Die xue shuang xiong (Killer, The) (1989)"
          ],
          [
           639,
           "Half Baked (1998)"
          ],
          [
           640,
           "Love! Valour! Compassion! (1997)"
          ],
          [
           641,
           "Crucible, The (1996)"
          ],
          [
           642,
           "Private Parts (1997)"
          ],
          [
           643,
           "Mixed Nuts (1994)"
          ],
          [
           644,
           "Casino (1995)"
          ],
          [
           645,
           "Time to Kill, A (1996)"
          ],
          [
           646,
           "Pillow Book, The (1995)"
          ],
          [
           647,
           "Harold and Maude (1971)"
          ],
          [
           648,
           "Crows and Sparrows (1949)"
          ],
          [
           649,
           "Sudden Death (1995)"
          ],
          [
           650,
           "Air Force One (1997)"
          ],
          [
           651,
           "Dingo (1992)"
          ],
          [
           652,
           "Some Kind of Wonderful (1987)"
          ],
          [
           653,
           "Cat People (1982)"
          ],
          [
           654,
           "Nutty Professor, The (1996)"
          ],
          [
           655,
           "Gandhi (1982)"
          ],
          [
           656,
           "Of Human Bondage (1934)"
          ],
          [
           657,
           "Poetic Justice (1993)"
          ],
          [
           658,
           "Manchurian Candidate, The (1962)"
          ],
          [
           659,
           "When We Were Kings (1996)"
          ],
          [
           660,
           "Horseman on the Roof, The (Hussard sur le toit, Le) (1995)"
          ],
          [
           661,
           "Transformers: The Movie, The (1986)"
          ],
          [
           662,
           "Death and the Maiden (1994)"
          ],
          [
           663,
           "Cold Comfort Farm (1995)"
          ],
          [
           664,
           "Postman, The (1997)"
          ],
          [
           665,
           "Boys on the Side (1995)"
          ],
          [
           666,
           "Jungle2Jungle (1997)"
          ],
          [
           667,
           "Piano, The (1993)"
          ],
          [
           668,
           "Don Juan DeMarco (1995)"
          ],
          [
           669,
           "FairyTale: A True Story (1997)"
          ],
          [
           670,
           "Waiting for Guffman (1996)"
          ],
          [
           671,
           "Paths of Glory (1957)"
          ],
          [
           672,
           "Big Bully (1996)"
          ],
          [
           673,
           "If Lucy Fell (1996)"
          ],
          [
           674,
           "2 Days in the Valley (1996)"
          ],
          [
           675,
           "Six Degrees of Separation (1993)"
          ],
          [
           676,
           "Serial Mom (1994)"
          ],
          [
           677,
           "Total Eclipse (1995)"
          ],
          [
           678,
           "Ma vie en rose (My Life in Pink) (1997)"
          ],
          [
           679,
           "Midnight in the Garden of Good and Evil (1997)"
          ],
          [
           680,
           "She's the One (1996)"
          ],
          [
           681,
           "Robin Hood: Prince of Thieves (1991)"
          ],
          [
           682,
           "Another Stakeout (1993)"
          ],
          [
           683,
           "Species (1995)"
          ],
          [
           684,
           "Selena (1997)"
          ],
          [
           685,
           "Cat on a Hot Tin Roof (1958)"
          ],
          [
           686,
           "Inkwell, The (1994)"
          ],
          [
           687,
           "Pallbearer, The (1996)"
          ],
          [
           688,
           "Cyrano de Bergerac (1990)"
          ],
          [
           689,
           "Deceiver (1997)"
          ],
          [
           690,
           "Bride of Frankenstein (1935)"
          ],
          [
           691,
           "Much Ado About Nothing (1993)"
          ],
          [
           692,
           "Some Like It Hot (1959)"
          ],
          [
           693,
           "Leaving Las Vegas (1995)"
          ],
          [
           694,
           "Thin Line Between Love and Hate, A (1996)"
          ],
          [
           695,
           "Ran (1985)"
          ],
          [
           696,
           "Demolition Man (1993)"
          ],
          [
           697,
           "8 1/2 (1963)"
          ],
          [
           698,
           "Life Less Ordinary, A (1997)"
          ],
          [
           699,
           "Original Gangstas (1996)"
          ],
          [
           700,
           "Diva (1981)"
          ],
          [
           701,
           "What's Love Got to Do with It (1993)"
          ],
          [
           702,
           "Phantom, The (1996)"
          ],
          [
           703,
           "Paper, The (1994)"
          ],
          [
           704,
           "Batman & Robin (1997)"
          ],
          [
           705,
           "Fierce Creatures (1997)"
          ],
          [
           706,
           "Murder, My Sweet (1944)"
          ],
          [
           707,
           "Pocahontas (1995)"
          ],
          [
           708,
           "Kalifornia (1993)"
          ],
          [
           709,
           "Poison Ivy II (1995)"
          ],
          [
           710,
           "In the Bleak Midwinter (1995)"
          ],
          [
           711,
           "House of Yes, The (1997)"
          ],
          [
           712,
           "Beyond Rangoon (1995)"
          ],
          [
           713,
           "Mouse Hunt (1997)"
          ],
          [
           714,
           "Mrs. Winterbourne (1996)"
          ],
          [
           715,
           "Ace Ventura: When Nature Calls (1995)"
          ],
          [
           716,
           "Walk in the Clouds, A (1995)"
          ],
          [
           717,
           "Titanic (1997)"
          ],
          [
           718,
           "Friday (1995)"
          ],
          [
           719,
           "Haunted World of Edward D. Wood Jr., The (1995)"
          ],
          [
           720,
           "Chungking Express (1994)"
          ],
          [
           721,
           "Thin Man, The (1934)"
          ],
          [
           722,
           "Mad Love (1995)"
          ],
          [
           723,
           "Patton (1970)"
          ],
          [
           724,
           "Aristocats, The (1970)"
          ],
          [
           725,
           "For Love or Money (1993)"
          ],
          [
           726,
           "Mute Witness (1994)"
          ],
          [
           727,
           "His Girl Friday (1940)"
          ],
          [
           728,
           "Raging Bull (1980)"
          ],
          [
           729,
           "McHale's Navy (1997)"
          ],
          [
           730,
           "Kids (1995)"
          ],
          [
           731,
           "Farewell My Concubine (1993)"
          ],
          [
           732,
           "Clerks (1994)"
          ],
          [
           733,
           "Short Cuts (1993)"
          ],
          [
           734,
           "Career Girls (1997)"
          ],
          [
           735,
           "Kissed (1996)"
          ],
          [
           736,
           "Hackers (1995)"
          ],
          [
           737,
           "Young Poisoner's Handbook, The (1995)"
          ],
          [
           738,
           "Platoon (1986)"
          ],
          [
           739,
           "Kiss of Death (1995)"
          ],
          [
           740,
           "Relic, The (1997)"
          ],
          [
           741,
           "Program, The (1993)"
          ],
          [
           742,
           "Oscar & Lucinda (1997)"
          ],
          [
           743,
           "Addicted to Love (1997)"
          ],
          [
           744,
           "Tombstone (1993)"
          ],
          [
           745,
           "Carrington (1995)"
          ],
          [
           746,
           "Murder in the First (1995)"
          ],
          [
           747,
           "Threesome (1994)"
          ],
          [
           748,
           "Big Sleep, The (1946)"
          ],
          [
           749,
           "Boogie Nights (1997)"
          ],
          [
           750,
           "Grease 2 (1982)"
          ],
          [
           751,
           "Man Who Would Be King, The (1975)"
          ],
          [
           752,
           "Killing Fields, The (1984)"
          ],
          [
           753,
           "Red Corner (1997)"
          ],
          [
           754,
           "Mr. Jones (1993)"
          ],
          [
           755,
           "Johnny Mnemonic (1995)"
          ],
          [
           756,
           "Die Hard 2 (1990)"
          ],
          [
           757,
           "Second Jungle Book: Mowgli & Baloo, The (1997)"
          ],
          [
           758,
           "Ruling Class, The (1972)"
          ],
          [
           759,
           "Horse Whisperer, The (1998)"
          ],
          [
           760,
           "To Gillian on Her 37th Birthday (1996)"
          ],
          [
           761,
           "Meet Me in St. Louis (1944)"
          ],
          [
           762,
           "City Slickers II: The Legend of Curly's Gold (1994)"
          ],
          [
           763,
           "Before and After (1996)"
          ],
          [
           764,
           "Band Wagon, The (1953)"
          ],
          [
           765,
           "My Life as a Dog (Mitt liv som hund) (1985)"
          ],
          [
           766,
           "Crow: City of Angels, The (1996)"
          ],
          [
           767,
           "Last Man Standing (1996)"
          ],
          [
           768,
           "Smilla's Sense of Snow (1997)"
          ],
          [
           769,
           "Screamers (1995)"
          ],
          [
           770,
           "Until the End of the World (Bis ans Ende der Welt) (1991)"
          ],
          [
           771,
           "Under Siege 2: Dark Territory (1995)"
          ],
          [
           772,
           "High School High (1996)"
          ],
          [
           773,
           "Doom Generation, The (1995)"
          ],
          [
           774,
           "All Dogs Go to Heaven 2 (1996)"
          ],
          [
           775,
           "Amityville Horror, The (1979)"
          ],
          [
           776,
           "So I Married an Axe Murderer (1993)"
          ],
          [
           777,
           "Double vie de Véronique, La (Double Life of Veronique, The) (1991)"
          ],
          [
           778,
           "Garden of Finzi-Contini, The (Giardino dei Finzi-Contini, Il) (1970)"
          ],
          [
           779,
           "James and the Giant Peach (1996)"
          ],
          [
           780,
           "Manny & Lo (1996)"
          ],
          [
           781,
           "Client, The (1994)"
          ],
          [
           782,
           "Great Race, The (1965)"
          ],
          [
           783,
           "Crooklyn (1994)"
          ],
          [
           784,
           "Man of the Year (1995)"
          ],
          [
           785,
           "Amos & Andrew (1993)"
          ],
          [
           786,
           "Convent, The (Convento, O) (1995)"
          ],
          [
           787,
           "Mother Night (1996)"
          ],
          [
           788,
           "Foxfire (1996)"
          ],
          [
           789,
           "Meet Wally Sparks (1997)"
          ],
          [
           790,
           "Cops and Robbersons (1994)"
          ],
          [
           791,
           "Free Willy 3: The Rescue (1997)"
          ],
          [
           792,
           "Better Off Dead... (1985)"
          ],
          [
           793,
           "39 Steps, The (1935)"
          ],
          [
           794,
           "Heavy Metal (1981)"
          ],
          [
           795,
           "Basketball Diaries, The (1995)"
          ],
          [
           796,
           "Cemetery Man (Dellamorte Dellamore) (1994)"
          ],
          [
           797,
           "Robin Hood: Men in Tights (1993)"
          ],
          [
           798,
           "Rich Man's Wife, The (1996)"
          ],
          [
           799,
           "In the Line of Fire (1993)"
          ],
          [
           800,
           "Mediterraneo (1991)"
          ],
          [
           801,
           "Mark of Zorro, The (1940)"
          ],
          [
           802,
           "unknown"
          ],
          [
           803,
           "Wild Bill (1995)"
          ],
          [
           804,
           "Braindead (1992)"
          ],
          [
           805,
           "Wings of the Dove, The (1997)"
          ],
          [
           806,
           "Shallow Grave (1994)"
          ],
          [
           807,
           "Fear (1996)"
          ],
          [
           808,
           "Incognito (1997)"
          ],
          [
           809,
           "The Innocent (1994)"
          ],
          [
           810,
           "House of the Spirits, The (1993)"
          ],
          [
           811,
           "Stuart Saves His Family (1995)"
          ],
          [
           812,
           "Event Horizon (1997)"
          ],
          [
           813,
           "Anna Karenina (1997)"
          ],
          [
           814,
           "Winnie the Pooh and the Blustery Day (1968)"
          ],
          [
           815,
           "Private Benjamin (1980)"
          ],
          [
           816,
           "Seventh Seal, The (Sjunde inseglet, Det) (1957)"
          ],
          [
           817,
           "Paradise Lost: The Child Murders at Robin Hood Hills (1996)"
          ],
          [
           818,
           "Santa Clause, The (1994)"
          ],
          [
           819,
           "Funny Face (1957)"
          ],
          [
           820,
           "Rosencrantz and Guildenstern Are Dead (1990)"
          ],
          [
           821,
           "Don't Be a Menace to South Central While Drinking Your Juice in the Hood (1996)"
          ],
          [
           822,
           "Washington Square (1997)"
          ],
          [
           823,
           "Zeus and Roxanne (1997)"
          ],
          [
           824,
           "Jade (1995)"
          ],
          [
           825,
           "Perez Family, The (1995)"
          ],
          [
           826,
           "Giant (1956)"
          ],
          [
           827,
           "Shadow, The (1994)"
          ],
          [
           828,
           "Judgment Night (1993)"
          ],
          [
           829,
           "Love Bug, The (1969)"
          ],
          [
           830,
           "Congo (1995)"
          ],
          [
           831,
           "Boomerang (1992)"
          ],
          [
           832,
           "Ace Ventura: Pet Detective (1994)"
          ],
          [
           833,
           "Three Caballeros, The (1945)"
          ],
          [
           834,
           "Stupids, The (1996)"
          ],
          [
           835,
           "Timecop (1994)"
          ],
          [
           836,
           "Telling Lies in America (1997)"
          ],
          [
           837,
           "Replacement Killers, The (1998)"
          ],
          [
           838,
           "Inventing the Abbotts (1997)"
          ],
          [
           839,
           "Kid in King Arthur's Court, A (1995)"
          ],
          [
           840,
           "Deconstructing Harry (1997)"
          ],
          [
           841,
           "Once Were Warriors (1994)"
          ],
          [
           842,
           "Vanya on 42nd Street (1994)"
          ],
          [
           843,
           "Every Other Weekend (1990)"
          ],
          [
           844,
           "First Kid (1996)"
          ],
          [
           845,
           "Man of the House (1995)"
          ],
          [
           846,
           "Ponette (1996)"
          ],
          [
           847,
           "Black Sheep (1996)"
          ],
          [
           848,
           "Best of the Best 3: No Turning Back (1995)"
          ],
          [
           849,
           "Soul Food (1997)"
          ],
          [
           850,
           "Victor/Victoria (1982)"
          ],
          [
           851,
           "Something to Talk About (1995)"
          ],
          [
           852,
           "Jack and Sarah (1995)"
          ],
          [
           853,
           "Things to Do in Denver when You're Dead (1995)"
          ],
          [
           854,
           "Cinema Paradiso (1988)"
          ],
          [
           855,
           "Losing Isaiah (1995)"
          ],
          [
           856,
           "Tales from the Crypt Presents: Bordello of Blood (1996)"
          ],
          [
           857,
           "Picnic (1955)"
          ],
          [
           858,
           "G.I. Jane (1997)"
          ],
          [
           859,
           "Frighteners, The (1996)"
          ],
          [
           860,
           "Sleepers (1996)"
          ],
          [
           861,
           "In the Company of Men (1997)"
          ],
          [
           862,
           "Crimson Tide (1995)"
          ],
          [
           863,
           "I Love Trouble (1994)"
          ],
          [
           864,
           "My Favorite Year (1982)"
          ],
          [
           865,
           "To Catch a Thief (1955)"
          ],
          [
           866,
           "Loch Ness (1995)"
          ],
          [
           867,
           "Jaws 3-D (1983)"
          ],
          [
           868,
           "Jude (1996)"
          ],
          [
           869,
           "Homage (1995)"
          ],
          [
           870,
           "Daylight (1996)"
          ],
          [
           871,
           "Lone Star (1996)"
          ],
          [
           872,
           "Wyatt Earp (1994)"
          ],
          [
           873,
           "Shaggy Dog, The (1959)"
          ],
          [
           874,
           "Freeway (1996)"
          ],
          [
           875,
           "Alice in Wonderland (1951)"
          ],
          [
           876,
           "Hellraiser: Bloodline (1996)"
          ],
          [
           877,
           "Ready to Wear (Pret-A-Porter) (1994)"
          ],
          [
           878,
           "Loaded (1994)"
          ],
          [
           879,
           "Scream 2 (1997)"
          ],
          [
           880,
           "Walkabout (1971)"
          ],
          [
           881,
           "Wes Craven's New Nightmare (1994)"
          ],
          [
           882,
           "All About Eve (1950)"
          ],
          [
           883,
           "Candyman: Farewell to the Flesh (1995)"
          ],
          [
           884,
           "Candyman (1992)"
          ],
          [
           885,
           "Secret Garden, The (1993)"
          ],
          [
           886,
           "Deer Hunter, The (1978)"
          ],
          [
           887,
           "Junior (1994)"
          ],
          [
           888,
           "Jackal, The (1997)"
          ],
          [
           889,
           "Desperate Measures (1998)"
          ],
          [
           890,
           "April Fool's Day (1986)"
          ],
          [
           891,
           "Beverly Hills Ninja (1997)"
          ],
          [
           892,
           "Baby-Sitters Club, The (1995)"
          ],
          [
           893,
           "Basic Instinct (1992)"
          ],
          [
           894,
           "Notorious (1946)"
          ],
          [
           895,
           "Bread and Chocolate (Pane e cioccolata) (1973)"
          ],
          [
           896,
           "No Escape (1994)"
          ],
          [
           897,
           "Beautician and the Beast, The (1997)"
          ],
          [
           898,
           "Escape from New York (1981)"
          ],
          [
           899,
           "Barbarella (1968)"
          ],
          [
           900,
           "Daytrippers, The (1996)"
          ],
          [
           901,
           "Swept from the Sea (1997)"
          ],
          [
           902,
           "Eddie (1996)"
          ],
          [
           903,
           "Around the World in 80 Days (1956)"
          ],
          [
           904,
           "Live Nude Girls (1995)"
          ],
          [
           905,
           "Window to Paris (1994)"
          ],
          [
           906,
           "Belle de jour (1967)"
          ],
          [
           907,
           "3 Ninjas: High Noon At Mega Mountain (1998)"
          ],
          [
           908,
           "To Live (Huozhe) (1994)"
          ],
          [
           909,
           "Glimmer Man, The (1996)"
          ],
          [
           910,
           "In the Line of Duty 2 (1987)"
          ],
          [
           911,
           "Barcelona (1994)"
          ],
          [
           912,
           "Gaslight (1944)"
          ],
          [
           913,
           "Big Blue, The (Grand bleu, Le) (1988)"
          ],
          [
           914,
           "Lightning Jack (1994)"
          ],
          [
           915,
           "Theodore Rex (1995)"
          ],
          [
           916,
           "Metisse (Café au Lait) (1993)"
          ],
          [
           917,
           "Swiss Family Robinson (1960)"
          ],
          [
           918,
           "Apartment, The (1960)"
          ],
          [
           919,
           "Kama Sutra: A Tale of Love (1996)"
          ],
          [
           920,
           "Primary Colors (1998)"
          ],
          [
           921,
           "Bananas (1971)"
          ],
          [
           922,
           "Celtic Pride (1996)"
          ],
          [
           923,
           "187 (1997)"
          ],
          [
           924,
           "Hard Target (1993)"
          ],
          [
           925,
           "Nadja (1994)"
          ],
          [
           926,
           "Fire Down Below (1997)"
          ],
          [
           927,
           "Bird of Prey (1996)"
          ],
          [
           928,
           "Immortal Beloved (1994)"
          ],
          [
           929,
           "Alaska (1996)"
          ],
          [
           930,
           "NeverEnding Story III, The (1994)"
          ],
          [
           931,
           "Feeling Minnesota (1996)"
          ],
          [
           932,
           "Hercules (1997)"
          ],
          [
           933,
           "Mr. Smith Goes to Washington (1939)"
          ],
          [
           934,
           "Big Green, The (1995)"
          ],
          [
           935,
           "Quick and the Dead, The (1995)"
          ],
          [
           936,
           "Touch of Evil (1958)"
          ],
          [
           937,
           "Faster Pussycat! Kill! Kill! (1965)"
          ],
          [
           938,
           "Modern Affair, A (1995)"
          ],
          [
           939,
           "Eat Drink Man Woman (1994)"
          ],
          [
           940,
           "Whole Wide World, The (1996)"
          ],
          [
           941,
           "Money Talks (1997)"
          ],
          [
           942,
           "Weekend at Bernie's (1989)"
          ],
          [
           943,
           "Cowboy Way, The (1994)"
          ],
          [
           944,
           "Up in Smoke (1978)"
          ],
          [
           945,
           "Gigi (1958)"
          ],
          [
           946,
           "Eve's Bayou (1997)"
          ],
          [
           947,
           "Penny Serenade (1941)"
          ],
          [
           948,
           "City of Angels (1998)"
          ],
          [
           949,
           "Billy Madison (1995)"
          ],
          [
           950,
           "Balto (1995)"
          ],
          [
           951,
           "Playing God (1997)"
          ],
          [
           952,
           "Surviving Picasso (1996)"
          ],
          [
           953,
           "Fresh (1994)"
          ],
          [
           954,
           "Walking and Talking (1996)"
          ],
          [
           955,
           "Gattaca (1997)"
          ],
          [
           956,
           "Now and Then (1995)"
          ],
          [
           957,
           "Stars Fell on Henrietta, The (1995)"
          ],
          [
           958,
           "Mighty Morphin Power Rangers: The Movie (1995)"
          ],
          [
           959,
           "Davy Crockett, King of the Wild Frontier (1955)"
          ],
          [
           960,
           "Rebecca (1940)"
          ],
          [
           961,
           "Beverly Hillbillies, The (1993)"
          ],
          [
           962,
           "Castle Freak (1995)"
          ],
          [
           963,
           "Miami Rhapsody (1995)"
          ],
          [
           964,
           "Unforgettable (1996)"
          ],
          [
           965,
           "Craft, The (1996)"
          ],
          [
           966,
           "Radioland Murders (1994)"
          ],
          [
           967,
           "Rob Roy (1995)"
          ],
          [
           968,
           "Clean Slate (1994)"
          ],
          [
           969,
           "Hideaway (1995)"
          ],
          [
           970,
           "Critical Care (1997)"
          ],
          [
           971,
           "Stealing Beauty (1996)"
          ],
          [
           972,
           "Last Action Hero (1993)"
          ],
          [
           973,
           "Bronx Tale, A (1993)"
          ],
          [
           974,
           "Thirty-Two Short Films About Glenn Gould (1993)"
          ],
          [
           975,
           "Manhattan Murder Mystery (1993)"
          ],
          [
           976,
           "Treasure of the Sierra Madre, The (1948)"
          ],
          [
           977,
           "Drop Dead Fred (1991)"
          ],
          [
           978,
           "Robert A. Heinlein's The Puppet Masters (1994)"
          ],
          [
           979,
           "Home Alone 3 (1997)"
          ],
          [
           980,
           "Boxing Helena (1993)"
          ],
          [
           981,
           "Mrs. Parker and the Vicious Circle (1994)"
          ],
          [
           982,
           "Delta of Venus (1994)"
          ],
          [
           983,
           "Return of Martin Guerre, The (Retour de Martin Guerre, Le) (1982)"
          ],
          [
           984,
           "Surviving the Game (1994)"
          ],
          [
           985,
           "Safe (1995)"
          ],
          [
           986,
           "Amateur (1994)"
          ],
          [
           987,
           "Anne Frank Remembered (1995)"
          ],
          [
           988,
           "Specialist, The (1994)"
          ],
          [
           989,
           "Old Lady Who Walked in the Sea, The (Vieille qui marchait dans la mer, La) (1991)"
          ],
          [
           990,
           "Assignment, The (1997)"
          ],
          [
           991,
           "Fatal Instinct (1993)"
          ],
          [
           992,
           "Year of the Horse (1997)"
          ],
          [
           993,
           "Dark City (1998)"
          ],
          [
           994,
           "Unzipped (1995)"
          ],
          [
           995,
           "Air Bud (1997)"
          ],
          [
           996,
           "Cobb (1994)"
          ],
          [
           997,
           "Sliver (1993)"
          ],
          [
           998,
           "Body Snatcher, The (1945)"
          ],
          [
           999,
           "Kids in the Hall: Brain Candy (1996)"
          ],
          [
           1000,
           "Fog, The (1980)"
          ],
          [
           1001,
           "Doors, The (1991)"
          ],
          [
           1002,
           "Carlito's Way (1993)"
          ],
          [
           1003,
           "Female Perversions (1996)"
          ],
          [
           1004,
           "Barb Wire (1996)"
          ],
          [
           1005,
           "Of Love and Shadows (1994)"
          ],
          [
           1006,
           "Anaconda (1997)"
          ],
          [
           1007,
           "Spanking the Monkey (1994)"
          ],
          [
           1008,
           "Star Maps (1997)"
          ],
          [
           1009,
           "Philadelphia (1993)"
          ],
          [
           1010,
           "Spice World (1997)"
          ],
          [
           1011,
           "Bulletproof (1996)"
          ],
          [
           1012,
           "Nine Months (1995)"
          ],
          [
           1013,
           "Forbidden Planet (1956)"
          ],
          [
           1014,
           "Air Up There, The (1994)"
          ],
          [
           1015,
           "Ridicule (1996)"
          ],
          [
           1016,
           "Spawn (1997)"
          ],
          [
           1017,
           "Affair to Remember, An (1957)"
          ],
          [
           1018,
           "Lover's Knot (1996)"
          ],
          [
           1019,
           "Nosferatu (Nosferatu, eine Symphonie des Grauens) (1922)"
          ],
          [
           1020,
           "Keys to Tulsa (1997)"
          ],
          [
           1021,
           "Christmas Carol, A (1938)"
          ],
          [
           1022,
           "Two Much (1996)"
          ],
          [
           1023,
           "I Like It Like That (1994)"
          ],
          [
           1024,
           "Portrait of a Lady, The (1996)"
          ],
          [
           1025,
           "Street Fighter (1994)"
          ],
          [
           1026,
           "Power 98 (1995)"
          ],
          [
           1027,
           "White Squall (1996)"
          ],
          [
           1028,
           "Solo (1996)"
          ],
          [
           1029,
           "Arrival, The (1996)"
          ],
          [
           1030,
           "Black Beauty (1994)"
          ],
          [
           1031,
           "Prefontaine (1997)"
          ],
          [
           1032,
           "Heaven's Prisoners (1996)"
          ],
          [
           1033,
           "Blob, The (1958)"
          ],
          [
           1034,
           "Jerky Boys, The (1994)"
          ],
          [
           1035,
           "Blues Brothers 2000 (1998)"
          ],
          [
           1036,
           "Scarlet Letter, The (1995)"
          ],
          [
           1037,
           "Highlander III: The Sorcerer (1994)"
          ],
          [
           1038,
           "Van, The (1996)"
          ],
          [
           1039,
           "My Man Godfrey (1936)"
          ],
          [
           1040,
           "M (1931)"
          ],
          [
           1041,
           "Made in America (1993)"
          ],
          [
           1042,
           "Fox and the Hound, The (1981)"
          ],
          [
           1043,
           "Love and Death on Long Island (1997)"
          ],
          [
           1044,
           "Women, The (1939)"
          ],
          [
           1045,
           "Feast of July (1995)"
          ],
          [
           1046,
           "Ballad of Narayama, The (Narayama Bushiko) (1958)"
          ],
          [
           1047,
           "Reality Bites (1994)"
          ],
          [
           1048,
           "Switchblade Sisters (1975)"
          ],
          [
           1049,
           "Night on Earth (1991)"
          ],
          [
           1050,
           "Flesh and Bone (1993)"
          ],
          [
           1051,
           "Firestorm (1998)"
          ],
          [
           1052,
           "Shanghai Triad (Yao a yao yao dao waipo qiao) (1995)"
          ],
          [
           1053,
           "Month by the Lake, A (1995)"
          ],
          [
           1054,
           "Rent-a-Kid (1995)"
          ],
          [
           1055,
           "Super Mario Bros. (1993)"
          ],
          [
           1056,
           "Persuasion (1995)"
          ],
          [
           1057,
           "Pyromaniac's Love Story, A (1995)"
          ],
          [
           1058,
           "War Room, The (1993)"
          ],
          [
           1059,
           "Go Fish (1994)"
          ],
          [
           1060,
           "Associate, The (1996)"
          ],
          [
           1061,
           "Dead Presidents (1995)"
          ],
          [
           1062,
           "Antonia's Line (1995)"
          ],
          [
           1063,
           "Virtuosity (1995)"
          ],
          [
           1064,
           "Ruby in Paradise (1993)"
          ],
          [
           1065,
           "Top Hat (1935)"
          ],
          [
           1066,
           "Stephen King's The Langoliers (1995)"
          ],
          [
           1067,
           "Hate (Haine, La) (1995)"
          ],
          [
           1068,
           "Simple Wish, A (1997)"
          ],
          [
           1069,
           "Nixon (1995)"
          ],
          [
           1070,
           "Vegas Vacation (1997)"
          ],
          [
           1071,
           "Four Days in September (1997)"
          ],
          [
           1072,
           "Spellbound (1945)"
          ],
          [
           1073,
           "Relative Fear (1994)"
          ],
          [
           1074,
           "Babysitter, The (1995)"
          ],
          [
           1075,
           "Out to Sea (1997)"
          ],
          [
           1076,
           "Farinelli: il castrato (1994)"
          ],
          [
           1077,
           "Brassed Off (1996)"
          ],
          [
           1078,
           "American Strays (1996)"
          ],
          [
           1079,
           "Lord of Illusions (1995)"
          ],
          [
           1080,
           "Farmer & Chase (1995)"
          ],
          [
           1081,
           "Little Odessa (1994)"
          ],
          [
           1082,
           "Angus (1995)"
          ],
          [
           1083,
           "Ghost and Mrs. Muir, The (1947)"
          ],
          [
           1084,
           "Turbulence (1997)"
          ],
          [
           1085,
           "Young Guns II (1990)"
          ],
          [
           1086,
           "Talking About Sex (1994)"
          ],
          [
           1087,
           "Bitter Moon (1992)"
          ],
          [
           1088,
           "Apple Dumpling Gang, The (1975)"
          ],
          [
           1089,
           "Stranger, The (1994)"
          ],
          [
           1090,
           "Once Upon a Time in the West (1969)"
          ],
          [
           1091,
           "Big Lebowski, The (1998)"
          ],
          [
           1092,
           "White Man's Burden (1995)"
          ],
          [
           1093,
           "Flintstones, The (1994)"
          ],
          [
           1094,
           "Cutthroat Island (1995)"
          ],
          [
           1095,
           "Set It Off (1996)"
          ],
          [
           1096,
           "Wishmaster (1997)"
          ],
          [
           1097,
           "Preacher's Wife, The (1996)"
          ],
          [
           1098,
           "Passion Fish (1992)"
          ],
          [
           1099,
           "In Love and War (1996)"
          ],
          [
           1100,
           "Paris Is Burning (1990)"
          ],
          [
           1101,
           "Paris, Texas (1984)"
          ],
          [
           1102,
           "Richie Rich (1994)"
          ],
          [
           1103,
           "Airheads (1994)"
          ],
          [
           1104,
           "C'est arrivé près de chez vous (1992)"
          ],
          [
           1105,
           "Milk Money (1994)"
          ],
          [
           1106,
           "Judge Dredd (1995)"
          ],
          [
           1107,
           "Othello (1995)"
          ],
          [
           1108,
           "Old Man and the Sea, The (1958)"
          ],
          [
           1109,
           "Man Who Knew Too Little, The (1997)"
          ],
          [
           1110,
           "Truman Show, The (1998)"
          ],
          [
           1111,
           "Gold Diggers: The Secret of Bear Mountain (1995)"
          ],
          [
           1112,
           "Girl 6 (1996)"
          ],
          [
           1113,
           "Sweet Hereafter, The (1997)"
          ],
          [
           1114,
           "Prophecy II, The (1998)"
          ],
          [
           1115,
           "Geronimo: An American Legend (1993)"
          ],
          [
           1116,
           "I Shot Andy Warhol (1996)"
          ],
          [
           1117,
           "Newton Boys, The (1998)"
          ],
          [
           1118,
           "Perfect Candidate, A (1996)"
          ],
          [
           1119,
           "Night Falls on Manhattan (1997)"
          ],
          [
           1120,
           "Tin Drum, The (Blechtrommel, Die) (1979)"
          ],
          [
           1121,
           "Aladdin and the King of Thieves (1996)"
          ],
          [
           1122,
           "Nil By Mouth (1997)"
          ],
          [
           1123,
           "Santa with Muscles (1996)"
          ],
          [
           1124,
           "Boys, Les (1997)"
          ],
          [
           1125,
           "Pest, The (1997)"
          ],
          [
           1126,
           "Flirt (1995)"
          ],
          [
           1127,
           "M. Butterfly (1993)"
          ],
          [
           1128,
           "Maya Lin: A Strong Clear Vision (1994)"
          ],
          [
           1129,
           "Two if by Sea (1996)"
          ],
          [
           1130,
           "Pompatus of Love, The (1996)"
          ],
          [
           1131,
           "My Own Private Idaho (1991)"
          ],
          [
           1132,
           "Head Above Water (1996)"
          ],
          [
           1133,
           "Squeeze (1996)"
          ],
          [
           1134,
           "Even Cowgirls Get the Blues (1993)"
          ],
          [
           1135,
           "Boys of St. Vincent, The (1993)"
          ],
          [
           1136,
           "Ghosts of Mississippi (1996)"
          ],
          [
           1137,
           "Awfully Big Adventure, An (1995)"
          ],
          [
           1138,
           "Heidi Fleiss: Hollywood Madam (1995) "
          ],
          [
           1139,
           "Machine, The (1994)"
          ],
          [
           1140,
           "Little Big League (1994)"
          ],
          [
           1141,
           "Party Girl (1995)"
          ],
          [
           1142,
           "Great Day in Harlem, A (1994)"
          ],
          [
           1143,
           "Candidate, The (1972)"
          ],
          [
           1144,
           "Tie That Binds, The (1995)"
          ],
          [
           1145,
           "Catwalk (1995)"
          ],
          [
           1146,
           "Rhyme & Reason (1997)"
          ],
          [
           1147,
           "Burnt By the Sun (1994)"
          ],
          [
           1148,
           "Farewell to Arms, A (1932)"
          ],
          [
           1149,
           "Fear, The (1995)"
          ],
          [
           1150,
           "Life with Mikey (1993)"
          ],
          [
           1151,
           "Speed 2: Cruise Control (1997)"
          ],
          [
           1152,
           "Last Time I Saw Paris, The (1954)"
          ],
          [
           1153,
           "That Old Feeling (1997)"
          ],
          [
           1154,
           "Madame Butterfly (1995)"
          ],
          [
           1155,
           "Maybe, Maybe Not (Bewegte Mann, Der) (1994)"
          ],
          [
           1156,
           "Howling, The (1981)"
          ],
          [
           1157,
           "Fear of a Black Hat (1993)"
          ],
          [
           1158,
           "Hard Rain (1998)"
          ],
          [
           1159,
           "Anastasia (1997)"
          ],
          [
           1160,
           "For Whom the Bell Tolls (1943)"
          ],
          [
           1161,
           "Browning Version, The (1994)"
          ],
          [
           1162,
           "Tetsuo II: Body Hammer (1992)"
          ],
          [
           1163,
           "Little Buddha (1993)"
          ],
          [
           1164,
           "Fathers' Day (1997)"
          ],
          [
           1165,
           "Amityville 1992: It's About Time (1992)"
          ],
          [
           1166,
           "Sunset Park (1996)"
          ],
          [
           1167,
           "Funeral, The (1996)"
          ],
          [
           1168,
           "Love and a .45 (1994)"
          ],
          [
           1169,
           "Inspector General, The (1949)"
          ],
          [
           1170,
           "I'm Not Rappaport (1996)"
          ],
          [
           1171,
           "When a Man Loves a Woman (1994)"
          ],
          [
           1172,
           "Nobody's Fool (1994)"
          ],
          [
           1173,
           "Deep Rising (1998)"
          ],
          [
           1174,
           "Metro (1997)"
          ],
          [
           1175,
           "Fair Game (1995)"
          ],
          [
           1176,
           "Mrs. Dalloway (1997)"
          ],
          [
           1177,
           "I'll Do Anything (1994)"
          ],
          [
           1178,
           "Pie in the Sky (1995)"
          ],
          [
           1179,
           "Substance of Fire, The (1996)"
          ],
          [
           1180,
           "Swan Princess, The (1994)"
          ],
          [
           1181,
           "Gone Fishin' (1997)"
          ],
          [
           1182,
           "Flipper (1996)"
          ],
          [
           1183,
           "Madonna: Truth or Dare (1991)"
          ],
          [
           1184,
           "One Night Stand (1997)"
          ],
          [
           1185,
           "Guilty as Sin (1993)"
          ],
          [
           1186,
           "Trial and Error (1997)"
          ],
          [
           1187,
           "Bad Taste (1987)"
          ],
          [
           1188,
           "Citizen Ruth (1996)"
          ],
          [
           1189,
           "Halloween: The Curse of Michael Myers (1995)"
          ],
          [
           1190,
           "Albino Alligator (1996)"
          ],
          [
           1191,
           "Mina Tannenbaum (1994)"
          ],
          [
           1192,
           "Tango Lesson, The (1997)"
          ],
          [
           1193,
           "Margaret's Museum (1995)"
          ],
          [
           1194,
           "For Richer or Poorer (1997)"
          ],
          [
           1195,
           "Three Wishes (1995)"
          ],
          [
           1196,
           "Innocent Sleep, The (1995)"
          ],
          [
           1197,
           "Grass Harp, The (1995)"
          ],
          [
           1198,
           "Blue in the Face (1995)"
          ],
          [
           1199,
           "I Can't Sleep (J'ai pas sommeil) (1994)"
          ],
          [
           1200,
           "Vermin (1998)"
          ],
          [
           1201,
           "Nosferatu a Venezia (1986)"
          ],
          [
           1202,
           "Mr. Wrong (1996)"
          ],
          [
           1203,
           "Exotica (1994)"
          ],
          [
           1204,
           "Big Squeeze, The (1996)"
          ],
          [
           1205,
           "Herbie Rides Again (1974)"
          ],
          [
           1206,
           "Love Affair (1994)"
          ],
          [
           1207,
           "Sum of Us, The (1994)"
          ],
          [
           1208,
           "'Til There Was You (1997)"
          ],
          [
           1209,
           "Bye Bye, Love (1995)"
          ],
          [
           1210,
           "Beyond Bedlam (1993)"
          ],
          [
           1211,
           "Hard Eight (1996)"
          ],
          [
           1212,
           "Ayn Rand: A Sense of Life (1997)"
          ],
          [
           1213,
           "Good Morning (1971)"
          ],
          [
           1214,
           "Chasers (1994)"
          ],
          [
           1215,
           "In the Mouth of Madness (1995)"
          ],
          [
           1216,
           "Double Team (1997)"
          ],
          [
           1217,
           "Cats Don't Dance (1997)"
          ],
          [
           1218,
           "Carried Away (1996)"
          ],
          [
           1219,
           "Little Princess, The (1939)"
          ],
          [
           1220,
           "Getaway, The (1994)"
          ],
          [
           1221,
           "Underground (1995)"
          ],
          [
           1222,
           "Hugo Pool (1997)"
          ],
          [
           1223,
           "Heavy (1995)"
          ],
          [
           1224,
           "White Balloon, The (1995)"
          ],
          [
           1225,
           "Robocop 3 (1993)"
          ],
          [
           1226,
           "Hear My Song (1991)"
          ],
          [
           1227,
           "Reckless (1995)"
          ],
          [
           1228,
           "Mortal Kombat (1995)"
          ],
          [
           1229,
           "Caro Diario (Dear Diary) (1994)"
          ],
          [
           1230,
           "Faust (1994)"
          ],
          [
           1231,
           "Beverly Hills Cop III (1994)"
          ],
          [
           1232,
           "Meet John Doe (1941)"
          ],
          [
           1233,
           "Very Natural Thing, A (1974)"
          ],
          [
           1234,
           "Indian Summer (1996)"
          ],
          [
           1235,
           "Village of the Damned (1995)"
          ],
          [
           1236,
           "Fearless (1993)"
          ],
          [
           1237,
           "Love & Human Remains (1993)"
          ],
          [
           1238,
           "Drunks (1995)"
          ],
          [
           1239,
           "Roseanna's Grave (For Roseanna) (1997)"
          ],
          [
           1240,
           "Paris Was a Woman (1995)"
          ],
          [
           1241,
           "Faces (1968)"
          ],
          [
           1242,
           "Jingle All the Way (1996)"
          ],
          [
           1243,
           "Fille seule, La (A Single Girl) (1995)"
          ],
          [
           1244,
           "Little Lord Fauntleroy (1936)"
          ],
          [
           1245,
           "Bloodsport 2 (1995)"
          ],
          [
           1246,
           "Pather Panchali (1955)"
          ],
          [
           1247,
           "True Crime (1995)"
          ],
          [
           1248,
           "Mortal Kombat: Annihilation (1997)"
          ],
          [
           1249,
           "Cabin Boy (1994)"
          ],
          [
           1250,
           "Blood & Wine (1997)"
          ],
          [
           1251,
           "Marked for Death (1990)"
          ],
          [
           1252,
           "Phantoms (1998)"
          ],
          [
           1253,
           "Body Parts (1991)"
          ],
          [
           1254,
           "Panther (1995)"
          ],
          [
           1255,
           "Star Maker, The (Uomo delle stelle, L') (1995)"
          ],
          [
           1256,
           "Goofy Movie, A (1995)"
          ],
          [
           1257,
           "Audrey Rose (1977)"
          ],
          [
           1258,
           "Vampire in Brooklyn (1995)"
          ],
          [
           1259,
           "Road to Wellville, The (1994)"
          ],
          [
           1260,
           "Fluke (1995)"
          ],
          [
           1261,
           "Cronos (1992)"
          ],
          [
           1262,
           "Kaspar Hauser (1993)"
          ],
          [
           1263,
           "Turbo: A Power Rangers Movie (1997)"
          ],
          [
           1264,
           "Ill Gotten Gains (1997)"
          ],
          [
           1265,
           "Other Voices, Other Rooms (1997)"
          ],
          [
           1266,
           "Search for One-eye Jimmy, The (1996)"
          ],
          [
           1267,
           "Princess Caraboo (1994)"
          ],
          [
           1268,
           "War, The (1994)"
          ],
          [
           1269,
           "Bad Girls (1994)"
          ],
          [
           1270,
           "Free Willy 2: The Adventure Home (1995)"
          ],
          [
           1271,
           "Senseless (1998)"
          ],
          [
           1272,
           "Lost in Space (1998)"
          ],
          [
           1273,
           "Stripes (1981)"
          ],
          [
           1274,
           "Falling in Love Again (1980)"
          ],
          [
           1275,
           "Tom & Viv (1994)"
          ],
          [
           1276,
           "Gabbeh (1996)"
          ],
          [
           1277,
           "1-900 (1994)"
          ],
          [
           1278,
           "Innocents, The (1961)"
          ],
          [
           1279,
           "Colonel Chabert, Le (1994)"
          ],
          [
           1280,
           "Jefferson in Paris (1995)"
          ],
          [
           1281,
           "Heaven & Earth (1993)"
          ],
          [
           1282,
           "Walk in the Sun, A (1945)"
          ],
          [
           1283,
           "Palmetto (1998)"
          ],
          [
           1284,
           "Boy's Life 2 (1997)"
          ],
          [
           1285,
           "Cry, the Beloved Country (1995)"
          ],
          [
           1286,
           "Tom and Huck (1995)"
          ],
          [
           1287,
           "Fall (1997)"
          ],
          [
           1288,
           "Aiqing wansui (1994)"
          ],
          [
           1289,
           "T-Men (1947)"
          ],
          [
           1290,
           "Lotto Land (1995)"
          ],
          [
           1291,
           "Love Is All There Is (1996)"
          ],
          [
           1292,
           "Withnail and I (1987)"
          ],
          [
           1293,
           "Last Time I Committed Suicide, The (1997)"
          ],
          [
           1294,
           "Pagemaster, The (1994)"
          ],
          [
           1295,
           "Johns (1996)"
          ],
          [
           1296,
           "Mighty, The (1998)"
          ],
          [
           1297,
           "North (1994)"
          ],
          [
           1298,
           "Dunston Checks In (1996)"
          ],
          [
           1299,
           "King of the Hill (1993)"
          ],
          [
           1300,
           "Dear God (1996)"
          ],
          [
           1301,
           "Late Bloomers (1996)"
          ],
          [
           1302,
           "Police Story 4: Project S (Chao ji ji hua) (1993)"
          ],
          [
           1303,
           "8 Seconds (1994)"
          ],
          [
           1304,
           "Wonderful, Horrible Life of Leni Riefenstahl, The (1993)"
          ],
          [
           1305,
           "Bad Moon (1996)"
          ],
          [
           1306,
           "Wild Things (1998)"
          ],
          [
           1307,
           "Kansas City (1996)"
          ],
          [
           1308,
           "Strawberry and Chocolate (Fresa y chocolate) (1993)"
          ],
          [
           1309,
           "Turning, The (1992)"
          ],
          [
           1310,
           "For the Moment (1994)"
          ],
          [
           1311,
           "Color of Night (1994)"
          ],
          [
           1312,
           "Collectionneuse, La (1967)"
          ],
          [
           1313,
           "Stonewall (1995)"
          ],
          [
           1314,
           "Anna (1996)"
          ],
          [
           1315,
           "Brother Minister: The Assassination of Malcolm X (1994)"
          ],
          [
           1316,
           "Traveller (1997)"
          ],
          [
           1317,
           "Damsel in Distress, A (1937)"
          ],
          [
           1318,
           "Love and Other Catastrophes (1996)"
          ],
          [
           1319,
           "Wild America (1997)"
          ],
          [
           1320,
           "An Unforgettable Summer (1994)"
          ],
          [
           1321,
           "Jason's Lyric (1994)"
          ],
          [
           1322,
           "Two Deaths (1995)"
          ],
          [
           1323,
           "Venice/Venice (1992)"
          ],
          [
           1324,
           "Safe Passage (1994)"
          ],
          [
           1325,
           "Before the Rain (Pred dozhdot) (1994)"
          ],
          [
           1326,
           "Tigrero: A Film That Was Never Made (1994)"
          ],
          [
           1327,
           "Jimmy Hollywood (1994)"
          ],
          [
           1328,
           "Blood Beach (1981)"
          ],
          [
           1329,
           "Man of No Importance, A (1994)"
          ],
          [
           1330,
           "Amityville Curse, The (1990)"
          ],
          [
           1331,
           "I Don't Want to Talk About It (De eso no se habla) (1993)"
          ],
          [
           1332,
           "Shooting Fish (1997)"
          ],
          [
           1333,
           "Daens (1992)"
          ],
          [
           1334,
           "Welcome To Sarajevo (1997)"
          ],
          [
           1335,
           "Beat the Devil (1954)"
          ],
          [
           1336,
           "Carmen Miranda: Bananas Is My Business (1994)"
          ],
          [
           1337,
           "Twin Town (1997)"
          ],
          [
           1338,
           "Far From Home: The Adventures of Yellow Dog (1995)"
          ],
          [
           1339,
           "Little Rascals, The (1994)"
          ],
          [
           1340,
           "My Crazy Life (Mi vida loca) (1993)"
          ],
          [
           1341,
           "Forbidden Christ, The (Cristo proibito, Il) (1950)"
          ],
          [
           1342,
           "Outlaw, The (1943)"
          ],
          [
           1343,
           "Designated Mourner, The (1997)"
          ],
          [
           1344,
           "Secret Adventures of Tom Thumb, The (1993)"
          ],
          [
           1345,
           "Queen Margot (Reine Margot, La) (1994)"
          ],
          [
           1346,
           "Angel and the Badman (1947)"
          ],
          [
           1347,
           "Moonlight and Valentino (1995)"
          ],
          [
           1348,
           "Trust (1990)"
          ],
          [
           1349,
           "Nightwatch (1997)"
          ],
          [
           1350,
           "Mr. Wonderful (1993)"
          ],
          [
           1351,
           "Caught (1996)"
          ],
          [
           1352,
           "All Over Me (1997)"
          ],
          [
           1353,
           "Story of Xinghua, The (1993)"
          ],
          [
           1354,
           "Bad Company (1995)"
          ],
          [
           1355,
           "Locusts, The (1997)"
          ],
          [
           1356,
           "Race the Sun (1996)"
          ],
          [
           1357,
           "Hotel de Love (1996)"
          ],
          [
           1358,
           "Frisk (1995)"
          ],
          [
           1359,
           "Promise, The (Versprechen, Das) (1994)"
          ],
          [
           1360,
           "Nothing to Lose (1994)"
          ],
          [
           1361,
           "Gumby: The Movie (1995)"
          ],
          [
           1362,
           "Joy Luck Club, The (1993)"
          ],
          [
           1363,
           "Cyclo (1995)"
          ],
          [
           1364,
           "When Night Is Falling (1995)"
          ],
          [
           1365,
           "Sexual Life of the Belgians, The (1994)"
          ],
          [
           1366,
           "Paradise Road (1997)"
          ],
          [
           1367,
           "Killer (Bulletproof Heart) (1994)"
          ],
          [
           1368,
           "Bent (1997)"
          ],
          [
           1369,
           "Umbrellas of Cherbourg, The (Parapluies de Cherbourg, Les) (1964)"
          ],
          [
           1370,
           "Contempt (Mépris, Le) (1963)"
          ],
          [
           1371,
           "Killer: A Journal of Murder (1995)"
          ],
          [
           1372,
           "Journey of August King, The (1995)"
          ],
          [
           1373,
           "New Jersey Drive (1995)"
          ],
          [
           1374,
           "Jury Duty (1995)"
          ],
          [
           1375,
           "U.S. Marshalls (1998)"
          ],
          [
           1376,
           "Kim (1950)"
          ],
          [
           1377,
           "National Lampoon's Senior Trip (1995)"
          ],
          [
           1378,
           "Picture Bride (1995)"
          ],
          [
           1379,
           "Bloody Child, The (1996)"
          ],
          [
           1380,
           "Cement Garden, The (1993)"
          ],
          [
           1381,
           "Prisoner of the Mountains (Kavkazsky Plennik) (1996)"
          ],
          [
           1382,
           "Steal Big, Steal Little (1995)"
          ],
          [
           1383,
           "Hurricane Streets (1998)"
          ],
          [
           1384,
           "Yankee Zulu (1994)"
          ],
          [
           1385,
           "Midnight Dancers (Sibak) (1994)"
          ],
          [
           1386,
           "Duoluo tianshi (1995)"
          ],
          [
           1387,
           "Eye of Vichy, The (Oeil de Vichy, L') (1993)"
          ],
          [
           1388,
           "Love in the Afternoon (1957)"
          ],
          [
           1389,
           "Dangerous Beauty (1998)"
          ],
          [
           1390,
           "Golden Earrings (1947)"
          ],
          [
           1391,
           "Destiny Turns on the Radio (1995)"
          ],
          [
           1392,
           "Alphaville (1965)"
          ],
          [
           1393,
           "Twisted (1996)"
          ],
          [
           1394,
           "Run of the Country, The (1995)"
          ],
          [
           1395,
           "Lashou shentan (1992)"
          ],
          [
           1396,
           "Switchback (1997)"
          ],
          [
           1397,
           "Bewegte Mann, Der (1994)"
          ],
          [
           1398,
           "In the Realm of the Senses (Ai no corrida) (1976)"
          ],
          [
           1399,
           "Trial by Jury (1994)"
          ],
          [
           1400,
           "Full Speed (1996)"
          ],
          [
           1401,
           "Crossfire (1947)"
          ],
          [
           1402,
           "Across the Sea of Time (1995)"
          ],
          [
           1403,
           "Raw Deal (1948)"
          ],
          [
           1404,
           "Frankie Starlight (1995)"
          ],
          [
           1405,
           "Cosi (1996)"
          ],
          [
           1406,
           "For Ever Mozart (1996)"
          ],
          [
           1407,
           "Promesse, La (1996)"
          ],
          [
           1408,
           "Visitors, The (Visiteurs, Les) (1993)"
          ],
          [
           1409,
           "Liebelei (1933)"
          ],
          [
           1410,
           "Last Klezmer: Leopold Kozlowski, His Life and Music, The (1995)"
          ],
          [
           1411,
           "Leopard Son, The (1996)"
          ],
          [
           1412,
           "Gang Related (1997)"
          ],
          [
           1413,
           "Best Men (1997)"
          ],
          [
           1414,
           "Babyfever (1994)"
          ],
          [
           1415,
           "Stefano Quantestorie (1993)"
          ],
          [
           1416,
           "Good Man in Africa, A (1994)"
          ],
          [
           1417,
           "Celestial Clockwork (1994)"
          ],
          [
           1418,
           "Commandments (1997)"
          ],
          [
           1419,
           "World of Apu, The (Apur Sansar) (1959)"
          ],
          [
           1420,
           "Ed (1996)"
          ],
          [
           1421,
           "Man in the Iron Mask, The (1998)"
          ],
          [
           1422,
           "Man from Down Under, The (1943)"
          ],
          [
           1423,
           "Lassie (1994)"
          ],
          [
           1424,
           "Mercury Rising (1998)"
          ],
          [
           1425,
           "Two Bits (1995)"
          ],
          [
           1426,
           "Schizopolis (1996)"
          ],
          [
           1427,
           "Star Kid (1997)"
          ],
          [
           1428,
           "Mille bolle blu (1993)"
          ],
          [
           1429,
           "Suture (1993)"
          ],
          [
           1430,
           "Mondo (1996)"
          ],
          [
           1431,
           "Country Life (1994)"
          ],
          [
           1432,
           "Century (1993)"
          ],
          [
           1433,
           "Double Happiness (1994)"
          ],
          [
           1434,
           "Sprung (1997)"
          ],
          [
           1435,
           "Big Bang Theory, The (1994)"
          ],
          [
           1436,
           "Land Before Time III: The Time of the Great Giving (1995) (V)"
          ],
          [
           1437,
           "In the Army Now (1994)"
          ],
          [
           1438,
           "Larger Than Life (1996)"
          ],
          [
           1439,
           "Magic Hour, The (1998)"
          ],
          [
           1440,
           "Stranger in the House (1997)"
          ],
          [
           1441,
           "Show, The (1995)"
          ],
          [
           1442,
           "Gilligan's Island: The Movie (1998)"
          ],
          [
           1443,
           "Bliss (1997)"
          ],
          [
           1444,
           "Stalker (1979)"
          ],
          [
           1445,
           "Nelly & Monsieur Arnaud (1995)"
          ],
          [
           1446,
           "Cure, The (1995)"
          ],
          [
           1447,
           "Infinity (1996)"
          ],
          [
           1448,
           "House Party 3 (1994)"
          ],
          [
           1449,
           "New York Cop (1996)"
          ],
          [
           1450,
           "Boys in Venice (1996)"
          ],
          [
           1451,
           "To Be or Not to Be (1942)"
          ],
          [
           1452,
           "Grace of My Heart (1996)"
          ],
          [
           1453,
           "Salut cousin! (1996)"
          ],
          [
           1454,
           "To Have, or Not (1995)"
          ],
          [
           1455,
           "Buddy (1997)"
          ],
          [
           1456,
           "Lay of the Land, The (1997)"
          ],
          [
           1457,
           "Waiting to Exhale (1995)"
          ],
          [
           1458,
           "Pushing Hands (1992)"
          ],
          [
           1459,
           "Boys (1996)"
          ],
          [
           1460,
           "Terror in a Texas Town (1958)"
          ],
          [
           1461,
           "Carpool (1996)"
          ],
          [
           1462,
           "Dangerous Ground (1997)"
          ],
          [
           1463,
           "Winter Guest, The (1997)"
          ],
          [
           1464,
           "Clean Slate (Coup de Torchon) (1981)"
          ],
          [
           1465,
           "Fire on the Mountain (1996)"
          ],
          [
           1466,
           "Touki Bouki (Journey of the Hyena) (1973)"
          ],
          [
           1467,
           "Dream Man (1995)"
          ],
          [
           1468,
           "Ciao, Professore! (1993)"
          ],
          [
           1469,
           "City of Industry (1997)"
          ],
          [
           1470,
           "Dream With the Fishes (1997)"
          ],
          [
           1471,
           "Aparajito (1956)"
          ],
          [
           1472,
           "Next Karate Kid, The (1994)"
          ],
          [
           1473,
           "Nowhere (1997)"
          ],
          [
           1474,
           "I, Worst of All (Yo, la peor de todas) (1990)"
          ],
          [
           1475,
           "Mad Dog Time (1996)"
          ],
          [
           1476,
           "Amityville 3-D (1983)"
          ],
          [
           1477,
           "Romper Stomper (1992)"
          ],
          [
           1478,
           "Baton Rouge (1988)"
          ],
          [
           1479,
           "Daniel Defoe's Robinson Crusoe (1996)"
          ],
          [
           1480,
           "Grosse Fatigue (1994)"
          ],
          [
           1481,
           "Burnt Offerings (1976)"
          ],
          [
           1482,
           "Secret Agent, The (1996)"
          ],
          [
           1483,
           "Letter From Death Row, A (1998)"
          ],
          [
           1484,
           "Ladybird Ladybird (1994)"
          ],
          [
           1485,
           "Angela (1995)"
          ],
          [
           1486,
           "Desert Winds (1995)"
          ],
          [
           1487,
           "Last Summer in the Hamptons (1995)"
          ],
          [
           1488,
           "Calendar Girl (1993)"
          ],
          [
           1489,
           "Being Human (1993)"
          ],
          [
           1490,
           "Broken English (1996)"
          ],
          [
           1491,
           "Witness (1985)"
          ],
          [
           1492,
           "American Dream (1990)"
          ],
          [
           1493,
           "Nemesis 2: Nebula (1995)"
          ],
          [
           1494,
           "Love Serenade (1996)"
          ],
          [
           1495,
           "Angel on My Shoulder (1946)"
          ],
          [
           1496,
           "Germinal (1993)"
          ],
          [
           1497,
           "Wedding Gift, The (1994)"
          ],
          [
           1498,
           "Here Comes Cookie (1935)"
          ],
          [
           1499,
           "Grateful Dead (1995)"
          ],
          [
           1500,
           "Underneath, The (1995)"
          ],
          [
           1501,
           "Hostile Intentions (1994)"
          ],
          [
           1502,
           "Legal Deceit (1997)"
          ],
          [
           1503,
           "Two or Three Things I Know About Her (1966)"
          ],
          [
           1504,
           "Blood For Dracula (Andy Warhol's Dracula) (1974)"
          ],
          [
           1505,
           "Foreign Student (1994)"
          ],
          [
           1506,
           "Three Lives and Only One Death (1996)"
          ],
          [
           1507,
           "Amazing Panda Adventure, The (1995)"
          ],
          [
           1508,
           "Death in Brunswick (1991)"
          ],
          [
           1509,
           "Night Flier (1997)"
          ],
          [
           1510,
           "Cérémonie, La (1995)"
          ],
          [
           1511,
           "Hungarian Fairy Tale, A (1987)"
          ],
          [
           1512,
           "Children of the Revolution (1996)"
          ],
          [
           1513,
           "Object of My Affection, The (1998)"
          ],
          [
           1514,
           "Vie est belle, La (Life is Rosey) (1987)"
          ],
          [
           1515,
           "Vermont Is For Lovers (1992)"
          ],
          [
           1516,
           "Gordy (1995)"
          ],
          [
           1517,
           "Price Above Rubies, A (1998)"
          ],
          [
           1518,
           "Losing Chase (1996)"
          ],
          [
           1519,
           "Crude Oasis, The (1995)"
          ],
          [
           1520,
           "Simple Twist of Fate, A (1994)"
          ],
          [
           1521,
           "Above the Rim (1994)"
          ],
          [
           1522,
           "The Deadly Cure (1996)"
          ],
          [
           1523,
           "Naked in New York (1994)"
          ],
          [
           1524,
           "Wild Reeds (1994)"
          ],
          [
           1525,
           "All Things Fair (1996)"
          ],
          [
           1526,
           "Neon Bible, The (1995)"
          ],
          [
           1527,
           "Office Killer (1997)"
          ],
          [
           1528,
           "Sixth Man, The (1997)"
          ],
          [
           1529,
           "Nina Takes a Lover (1994)"
          ],
          [
           1530,
           "Blue Chips (1994)"
          ],
          [
           1531,
           "Rendezvous in Paris (Rendez-vous de Paris, Les) (1995)"
          ],
          [
           1532,
           "Boys Life (1995)"
          ],
          [
           1533,
           "Enfer, L' (1994)"
          ],
          [
           1534,
           "Warriors of Virtue (1997)"
          ],
          [
           1535,
           "Invitation, The (Zaproszenie) (1986)"
          ],
          [
           1536,
           "Bhaji on the Beach (1993)"
          ],
          [
           1537,
           "Hush (1998)"
          ],
          [
           1538,
           "Chairman of the Board (1998)"
          ],
          [
           1539,
           "Wooden Man's Bride, The (Wu Kui) (1994)"
          ],
          [
           1540,
           "Beans of Egypt, Maine, The (1994)"
          ],
          [
           1541,
           "B*A*P*S (1997)"
          ],
          [
           1542,
           "Spanish Prisoner, The (1997)"
          ],
          [
           1543,
           "Coldblooded (1995)"
          ],
          [
           1544,
           "Girl in the Cadillac (1995)"
          ],
          [
           1545,
           "Hunted, The (1995)"
          ],
          [
           1546,
           "Reluctant Debutante, The (1958)"
          ],
          [
           1547,
           "Quartier Mozart (1992)"
          ],
          [
           1548,
           "American Buffalo (1996)"
          ],
          [
           1549,
           "A Chef in Love (1996)"
          ],
          [
           1550,
           "Nénette et Boni (1996)"
          ],
          [
           1551,
           "Leading Man, The (1996)"
          ],
          [
           1552,
           "Someone Else's America (1995)"
          ],
          [
           1553,
           "Day the Sun Turned Cold, The (Tianguo niezi) (1994)"
          ],
          [
           1554,
           "Big One, The (1997)"
          ],
          [
           1555,
           "Little City (1998)"
          ],
          [
           1556,
           "Open Season (1996)"
          ],
          [
           1557,
           "Hollow Reed (1996)"
          ],
          [
           1558,
           "Tough and Deadly (1995)"
          ],
          [
           1559,
           "Truth or Consequences, N.M. (1997)"
          ],
          [
           1560,
           "Some Mother's Son (1996)"
          ],
          [
           1561,
           "Wend Kuuni (God's Gift) (1982)"
          ],
          [
           1562,
           "Nico Icon (1995)"
          ],
          [
           1563,
           "S.F.W. (1994)"
          ],
          [
           1564,
           "Lamerica (1994)"
          ],
          [
           1565,
           "Quiet Room, The (1996)"
          ],
          [
           1566,
           "Fausto (1993)"
          ],
          [
           1567,
           "Guantanamera (1994)"
          ],
          [
           1568,
           "Entertaining Angels: The Dorothy Day Story (1996)"
          ],
          [
           1569,
           "Lady of Burlesque (1943)"
          ],
          [
           1570,
           "Sudden Manhattan (1996)"
          ],
          [
           1571,
           "Shopping (1994)"
          ],
          [
           1572,
           "Harlem (1993)"
          ],
          [
           1573,
           "The Courtyard (1995)"
          ],
          [
           1574,
           "Favor, The (1994)"
          ],
          [
           1575,
           "Shooter, The (1995)"
          ],
          [
           1576,
           "Gate of Heavenly Peace, The (1995)"
          ],
          [
           1577,
           "Target (1995)"
          ],
          [
           1578,
           "Bitter Sugar (Azucar Amargo) (1996)"
          ],
          [
           1579,
           "Butcher Boy, The (1998)"
          ],
          [
           1580,
           "Savage Nights (Nuits fauves, Les) (1992)"
          ],
          [
           1581,
           "Small Faces (1995)"
          ],
          [
           1582,
           "Getting Even with Dad (1994)"
          ],
          [
           1583,
           "Time Tracers (1995)"
          ],
          [
           1584,
           "Johnny 100 Pesos (1993)"
          ],
          [
           1585,
           "New Age, The (1994)"
          ],
          [
           1586,
           "Walking Dead, The (1995)"
          ],
          [
           1587,
           "Wings of Courage (1995)"
          ],
          [
           1588,
           "Butterfly Kiss (1995)"
          ],
          [
           1589,
           "Rough Magic (1995)"
          ],
          [
           1590,
           "Men With Guns (1997)"
          ],
          [
           1591,
           "Land and Freedom (Tierra y libertad) (1995)"
          ],
          [
           1592,
           "King of New York (1990)"
          ],
          [
           1593,
           "Hana-bi (1997)"
          ],
          [
           1594,
           "Sliding Doors (1998)"
          ],
          [
           1595,
           "Angel Baby (1995)"
          ],
          [
           1596,
           "Underworld (1997)"
          ],
          [
           1597,
           "Woman in Question, The (1950)"
          ],
          [
           1598,
           "Symphonie pastorale, La (1946)"
          ],
          [
           1599,
           "MURDER and murder (1996)"
          ],
          [
           1600,
           "8 Heads in a Duffel Bag (1997)"
          ],
          [
           1601,
           "Tokyo Fist (1995)"
          ],
          [
           1602,
           "Twilight (1998)"
          ],
          [
           1603,
           "Jupiter's Wife (1994)"
          ],
          [
           1604,
           "Nothing Personal (1995)"
          ],
          [
           1605,
           "Temptress Moon (Feng Yue) (1996)"
          ],
          [
           1606,
           "Saint of Fort Washington, The (1993)"
          ],
          [
           1607,
           "Etz Hadomim Tafus (Under the Domin Tree) (1994)"
          ],
          [
           1608,
           "It Takes Two (1995)"
          ],
          [
           1609,
           "Paris, France (1993)"
          ],
          [
           1610,
           "Low Life, The (1994)"
          ],
          [
           1611,
           "Mostro, Il (1994)"
          ],
          [
           1612,
           "Kika (1993)"
          ],
          [
           1613,
           "Mirage (1995)"
          ],
          [
           1614,
           "Bonheur, Le (1965)"
          ],
          [
           1615,
           "Á köldum klaka (Cold Fever) (1994)"
          ],
          [
           1616,
           "Sweet Nothing (1995)"
          ],
          [
           1617,
           "B. Monkey (1998)"
          ],
          [
           1618,
           "Death in the Garden (Mort en ce jardin, La) (1956)"
          ],
          [
           1619,
           "Ripe (1996)"
          ],
          [
           1620,
           "Ed's Next Move (1996)"
          ],
          [
           1621,
           "Two Friends (1986) "
          ],
          [
           1622,
           "Men of Means (1998)"
          ],
          [
           1623,
           "Niagara, Niagara (1997)"
          ],
          [
           1624,
           "Spirits of the Dead (Tre passi nel delirio) (1968)"
          ],
          [
           1625,
           "Glass Shield, The (1994)"
          ],
          [
           1626,
           "Slingshot, The (1993)"
          ],
          [
           1627,
           "Scarlet Letter, The (1926)"
          ],
          [
           1628,
           "Condition Red (1995)"
          ],
          [
           1629,
           "Mat' i syn (1997)"
          ],
          [
           1630,
           "Careful (1992)"
          ],
          [
           1631,
           "They Made Me a Criminal (1939)"
          ],
          [
           1632,
           "Marlene Dietrich: Shadow and Light (1996) "
          ],
          [
           1633,
           "Shadows (Cienie) (1988)"
          ],
          [
           1634,
           "Wife, The (1995)"
          ],
          [
           1635,
           "War at Home, The (1996)"
          ],
          [
           1636,
           "JLG/JLG - autoportrait de décembre (1994)"
          ],
          [
           1637,
           "Intimate Relations (1996)"
          ],
          [
           1638,
           "Wedding Bell Blues (1996)"
          ],
          [
           1639,
           "To Cross the Rubicon (1991)"
          ],
          [
           1640,
           "He Walked by Night (1948)"
          ],
          [
           1641,
           "Pharaoh's Army (1995)"
          ],
          [
           1642,
           "My Favorite Season (1993)"
          ],
          [
           1643,
           "Further Gesture, A (1996)"
          ],
          [
           1644,
           "Brother's Kiss, A (1997)"
          ],
          [
           1645,
           "August (1996)"
          ],
          [
           1646,
           "Tainted (1998)"
          ],
          [
           1647,
           "Hedd Wyn (1992)"
          ],
          [
           1648,
           "Shadow of Angels (Schatten der Engel) (1976)"
          ],
          [
           1649,
           "Brothers in Trouble (1995)"
          ],
          [
           1650,
           "You So Crazy (1994)"
          ],
          [
           1651,
           "Normal Life (1996)"
          ],
          [
           1652,
           "Next Step, The (1995)"
          ],
          [
           1653,
           "Sunchaser, The (1996)"
          ],
          [
           1654,
           "Sleepover (1995)"
          ],
          [
           1655,
           "Everest (1998)"
          ],
          [
           1656,
           "Nobody Loves Me (Keiner liebt mich) (1994)"
          ],
          [
           1657,
           "Getting Away With Murder (1996)"
          ],
          [
           1658,
           "Scream of Stone (Schrei aus Stein) (1991)"
          ],
          [
           1659,
           "Mamma Roma (1962)"
          ],
          [
           1660,
           "Eighth Day, The (1996)"
          ],
          [
           1661,
           "Girls Town (1996)"
          ],
          [
           1662,
           "Silence of the Palace, The (Saimt el Qusur) (1994)"
          ],
          [
           1663,
           "Dadetown (1995)"
          ]
         ],
         "type": "scatter",
         "x": [
          0.42602516386638295,
          1.1166913231293154,
          0.08257144400300635,
          0.481553440372705,
          0.22584487636714284,
          0.728753331489496,
          4.067720911848959,
          0.34559866490314906,
          1.0969603347762882,
          0.3872742459186812,
          5.552355792916421,
          1.337818561260803,
          4.823987809192447,
          0.18358773096973707,
          3.0613059807266865,
          0.18366217581110744,
          0.1809524912956148,
          1.1858411580182147,
          0.5969952471697221,
          0.07484578658222221,
          0.3607414383749669,
          0.16263345709323895,
          3.5727320037911006,
          3.4866307426498895,
          5.498787947686973,
          4.016315031233475,
          1.1671549363629805,
          0.264388546322583,
          1.2201284259149368,
          1.8254845442109215,
          3.378041712483667,
          2.0735244770331076,
          1.1850507950051463,
          1.0541039428877794,
          0.8017400202347257,
          0.02806421071631807,
          0.4007793515041295,
          0.42304443148093523,
          0.15596290803033852,
          0.43316541136771214,
          0.4721053778341157,
          0.27618398589328025,
          0.23168716163702552,
          0.6433851128699014,
          0.5091073610927788,
          0.2444640865055895,
          2.0707836030957356,
          2.105590063105223,
          0.40901593779894707,
          5.840511466484064,
          0.5484907760869467,
          0.5567199921013378,
          6.840168834456505,
          0.992467786020366,
          3.73691575979613,
          0.7772546535912476,
          0.6860834189934308,
          1.9197749777140212,
          2.901390021267076,
          0.6673135774412267,
          3.523160710055096,
          1.2662238226774118,
          1.2103737150619085,
          0.7614852714099305,
          0.19737448659880158,
          3.357944890326518,
          0.3604672348784792,
          0.10200135635081839,
          2.4297476958800512,
          0.07415154207012292,
          0.1975934124314557,
          0.14315184751390175,
          0.3685190913266732,
          2.3168915384337745,
          0.07465577924057655,
          0.6177423133136759,
          4.267587549700904,
          4.382331406540314,
          0.6609996400622923,
          1.9670689472197052,
          0.4913382067380894,
          0.8067481504121009,
          3.602975256851785,
          2.3357860834526765,
          0.6944392453756474,
          0.37809233889454186,
          2.765509403001756,
          3.215556947921993,
          0.4637829446697258,
          2.6763452175674334,
          0.05541290095620402,
          0.3514380648867412,
          0.23275485095108772,
          0.48325028315778273,
          0.6495159378705813,
          3.888790671599702,
          0.8907387972200698,
          2.711973780612729,
          1.5948207907907685,
          0.4845486003614769,
          0.6019790818852165,
          3.7581333855377785,
          2.3381875153998113,
          1.5700165356854385,
          1.0729707241499142,
          0.20548769816672635,
          0.3088838073744494,
          0.08913259297173758,
          0.368293711776592,
          0.2710494120372279,
          0.4201722959401974,
          0.23547225459841511,
          3.550791099411943,
          0.5012179578555779,
          4.250703573118901,
          0.2913044023818763,
          0.21641842062933023,
          1.4790574184961465,
          0.6282800619727884,
          0.07583905618232312,
          2.2780866130862703,
          0.4825793200645465,
          0.21362079534096126,
          0.7745311653379127,
          0.9093767221888553,
          0.4936501766136807,
          0.13630780639196202,
          0.03458008811462665,
          0.35099236532229344,
          0.1346996906300498,
          0.6561300520670909,
          0.40011110123387783,
          0.07249762222172566,
          1.7138377159757352,
          0.13309356108113501,
          0.5802852175183871,
          4.79709314384236,
          0.2460677069466631,
          0.10142070463992905,
          7.105614360961333,
          3.7546182840731634,
          1.2616835123822105,
          0.16508468125833858,
          1.1356598872164272,
          2.439515562338061,
          3.6346688346453013,
          3.9781999750651003,
          1.8864052845243888,
          0.04934766738561221,
          1.5830542446342923,
          1.301165465988403,
          0.39633197257336356,
          4.1927224156935985,
          0.46047496676440947,
          0.7124341348608527,
          3.7739205191127376,
          4.6359157533137,
          2.629575926724133,
          0.6800101037452412,
          0.36826903163560937,
          3.4507057177581593,
          0.7919945487892223,
          0.32201544863773274,
          0.08680066680405135,
          0.7025121021862456,
          1.011165542300384,
          0.10582664532350436,
          1.310492564356097,
          0.15523360398921524,
          0.2812025718841885,
          0.03680584363985087,
          1.8113935138299877,
          0.913988253952438,
          0.6305603486418697,
          2.7110038444475246,
          0.16625611629978831,
          2.26641556001081,
          0.5976316029266339,
          1.531805397190606,
          0.7338909035981962,
          2.5237774363069194,
          3.6671002135091006,
          0.08726590072963981,
          0.37722974777222384,
          0.39104224222711437,
          0.23207405776927142,
          0.15544186545656802,
          0.7265624984203469,
          6.035367856457855,
          0.37246997174018387,
          1.2117804868703521,
          0.5946047642611415,
          0.6410389178103674,
          0.2963221389147245,
          0.6563520416316762,
          0.7507766583546901,
          2.9182897109683466,
          0.9907008413317969,
          0.1174137636196905,
          0.6136424539929093,
          3.7328384581774174,
          0.11941993678233344,
          0.2806535220522063,
          1.9941600391868237,
          0.3321105106246732,
          0.11740143559224656,
          1.148417411204541,
          3.0777749661854212,
          5.914255434916033,
          0.20388052567889584,
          1.7895770416665884,
          0.18597511699056035,
          0.15830492291786244,
          0.17576104281219826,
          1.0291737710761872,
          3.342879520453466,
          3.2454965122160755,
          1.0367029811967188,
          3.6349705217362125,
          0.4349847070097378,
          1.083075174464536,
          0.5957935480721887,
          0.13840016569469232,
          0.039601606626685465,
          0.25636661322921717,
          0.6795853942678752,
          0.5452308645216386,
          0.20671846595656343,
          2.226624956779013,
          1.1534304264558095,
          3.137668803722567,
          0.47210617538357946,
          0.8755210571633842,
          0.027337405659889864,
          0.47009383075983424,
          0.18892395965180203,
          0.03358798373306181,
          0.43366597189921063,
          1.654282784420222,
          0.40457587036321346,
          0.43030319229532965,
          2.915914818029563,
          0.9372225227068952,
          1.256196630554878,
          0.15738425446027043,
          0.17469429010896692,
          1.64894169527939,
          0.032552087274497425,
          2.283785415029973,
          0.29774798379645334,
          0.863444195516843,
          0.6999151573582203,
          4.173068491842,
          0.555442302615238,
          0.07426916004470765,
          3.5089826351254176,
          0.261412427280872,
          0.2529970662786481,
          0.37426424222902577,
          0.3929789224883212,
          1.56421673368534,
          0.18609297285361034,
          0.03196263186612484,
          0.2019226684761847,
          0.18352130005572748,
          0.6639806485991306,
          1.248325232916468,
          0.8529989688461415,
          2.1796771771623757,
          0.2170542682080468,
          0.1952948293737996,
          0.17639079855673623,
          0.38627026018762245,
          1.3109233665938376,
          1.0314219757644376,
          0.24901218436559694,
          0.24918360619498828,
          2.828100412947571,
          0.03856893651573536,
          1.4238321320002836,
          0.24583341111420193,
          0.16922420054608597,
          0.31597144615002687,
          0.20086028049777427,
          0.16868854923376705,
          0.0671121716132902,
          0.6264366383360349,
          0.7884872562837504,
          2.9339988901448835,
          0.13743092995121026,
          0.7164132193700624,
          0.6074583732231382,
          1.0090348507370284,
          0.1476091329451488,
          0.06021672008137831,
          4.366390625431714,
          1.5437766886770328,
          1.5358319931251905,
          0.227899056079291,
          0.10013248092121345,
          0.16608994184600553,
          1.0700060816800936,
          0.5821181376904885,
          0.055097062855974176,
          4.5330633698141565,
          0.6589765308707961,
          0.6378997952851627,
          0.08664625050104906,
          0.4016706401567118,
          0.11119188031362652,
          3.4546421049214104,
          0.209996163930978,
          0.1808285334291624,
          0.951602370315713,
          0.28237711248301794,
          0.21394633378559158,
          3.135727229858995,
          0.2618523322252529,
          0.24693562762165386,
          1.6778562515915871,
          1.5265954297782358,
          0.18633538306310096,
          0.32557804190520767,
          1.344693422924483,
          0.40008850319627703,
          0.19013435716813848,
          0.2199785067785682,
          0.7920944293259423,
          0.46375862005093715,
          0.11637493891936454,
          0.8706626468372664,
          0.4203809098847597,
          0.24234551490295372,
          0.16229993938752046,
          0.22393683374490095,
          0.5621481406236339,
          0.2827232490648964,
          1.1283328593040827,
          0.435180199033609,
          1.149857471201294,
          0.0691043621932175,
          0.9382253298753876,
          0.06694736454635158,
          0.18844110004774595,
          0.44929927840441236,
          0.286554991822402,
          3.338985683145383,
          0.34472449044557846,
          0.49911182495918766,
          2.0787028662995746,
          0.6352907021324596,
          0.7936865380000021,
          0.3691034560778439,
          3.238390119102482,
          3.6447640287013594,
          1.8835105383286561,
          7.1296756466911475,
          0.186329436382216,
          1.6638263288704735,
          1.4614062914726842,
          0.7077457180883869,
          0.42871107267772185,
          1.090030724426218,
          3.599261089465111,
          0.9729520097112153,
          1.2789306012922732,
          1.014093599969385,
          5.113291817444746,
          2.3859259340008316,
          0.30738295865123566,
          2.399094064917626,
          0.16636938069076335,
          2.688820130766192,
          0.2478184261212107,
          2.4114903918432984,
          0.23223017878579105,
          0.24760012771998005,
          0.08511372134537622,
          0.09822577347993064,
          0.21553365982119688,
          0.18233630763998332,
          1.5568117502396894,
          0.17422731716252846,
          0.13944927193267512,
          0.23150134664219466,
          0.23632908787389817,
          1.70062476513869,
          0.46137296723840165,
          0.43328879499303036,
          0.45724655023448785,
          0.18579287693327665,
          0.673795158081159,
          0.12653421869166206,
          0.7344007713228439,
          0.13247035447859107,
          0.2811821773862991,
          0.06819268982571405,
          0.02293539603178498,
          2.291221241562236,
          1.0705625277645037,
          0.599964513415521,
          0.04962702755075364,
          6.0329379741553115,
          1.075792051888205,
          0.23481764655549525,
          1.8730896454516388,
          0.31717638087027666,
          3.850730554158568,
          0.8352890113251424,
          0.07925098583419389,
          0.09163567750289393,
          0.11189834430871204,
          0.8710622889496825,
          0.12799798963715703,
          0.17438418042093434,
          0.26050454017258406,
          2.0754122315864723,
          0.23903154675199415,
          0.03607292737554321,
          0.26785874776043705,
          0.835673026824306,
          0.16873794359603236,
          0.5926399700447411,
          0.3488184794326774,
          1.503361277417115,
          1.3269127367143827,
          2.986414920105602,
          0.17385353974324988,
          0.028925486239953644,
          0.11756870521423032,
          0.5439367846585186,
          1.9020794588028114,
          0.6016311682463444,
          0.2852974200840682,
          1.3744395114777466,
          0.3172337666360744,
          3.5986073419022935,
          0.6365482357622895,
          0.02241014483474837,
          0.16197722241978532,
          0.025412535931373895,
          0.19815031635741776,
          0.49159856935792934,
          1.634461960606833,
          0.32168734641968905,
          1.6970252346255983,
          0.36944919670685983,
          0.029310802494151546,
          0.17187485399053526,
          0.9958742989403218,
          0.0611418325300255,
          1.8789632572620918,
          0.12692489129496118,
          0.18862731566544472,
          0.12520087378761108,
          3.3944998120608694,
          0.05513441727684127,
          3.17657190415016,
          0.12121121572498654,
          0.27064874416225204,
          0.043407759832014656,
          1.4302381354041107,
          0.03266108167587012,
          0.8477876508781834,
          0.3779697237366747,
          0.06700226795104113,
          0.41703887909196197,
          0.8934501938832671,
          0.7515733570014993,
          0.6737526016416638,
          1.14935789054199,
          0.29729881800787233,
          0.24346471321762211,
          4.665575434202942,
          0.2562096560281703,
          4.564901221525531,
          0.5411984055079877,
          0.16264214067034638,
          0.6031183148998281,
          0.4914103725683466,
          0.029770488675117626,
          0.5330157540969076,
          0.4557160226863685,
          0.14821577239623415,
          0.18082039604567945,
          0.13332009652413845,
          0.9683408511194567,
          0.3129855405338408,
          0.02836487531683911,
          0.5714012421469041,
          1.079694059599289,
          0.9531862440847362,
          0.07970283410071963,
          0.08858352347601492,
          0.7456297130135565,
          0.3252841943310774,
          0.5472323724940931,
          0.23049483112791738,
          1.0445069592480165,
          0.12759900635997143,
          1.4821423281233204,
          3.4747504256087294,
          0.3143282615280137,
          4.423626733662835,
          0.1286916842787341,
          1.4430269680174819,
          0.2783369737495121,
          0.1196770641104709,
          0.16744610915586183,
          0.3521235996766223,
          0.3916123820597058,
          1.5265328166957166,
          0.7412284189087349,
          0.33161856552012847,
          0.03396918094144949,
          0.7186433206718033,
          0.13473440539985393,
          0.2720373194577145,
          0.12045391639523093,
          0.3019002456080092,
          0.2494626289702535,
          0.4117707813325141,
          1.209486636252067,
          0.07721402670071445,
          0.6658644601152606,
          0.9455597759044292,
          2.295161628821508,
          1.11015285398235,
          0.6302539604500195,
          0.5068374798252568,
          1.8255698968964984,
          0.5569180560611862,
          0.07033561076484231,
          1.4279267295293003,
          0.10832245431584318,
          0.2665865584649411,
          0.3441424684289017,
          1.4730091543501256,
          0.4345535905913792,
          0.305359759101104,
          0.1422807670711394,
          0.30300026145521086,
          2.692973651373671,
          0.506468810524567,
          0.028371604270592862,
          0.26703419216403657,
          0.4182072397373591,
          0.09663005597340933,
          0.7711676147052718,
          0.3930684759127525,
          0.12498128021911142,
          1.8131486515476782,
          0.14903465438067381,
          0.18414457751162824,
          0.35452369184847166,
          1.2509067115311152,
          1.486043991426767,
          0.07146674614967677,
          0.4089538422348385,
          0.10042245487932724,
          1.1220667798665531,
          0.06294326789712591,
          0.05052952281527232,
          0.10252614000987995,
          0.4348010333244414,
          0.2821058223423026,
          0.28038338369246596,
          0.4655652473379425,
          0.06604881719015411,
          0.14280362815680517,
          1.053146049920042,
          0.11914656815764428,
          1.6740849296473532,
          0.14360510481777325,
          0.10106055982442659,
          0.18340995427248047,
          1.046475463412317,
          0.09678534324991943,
          0.035163359187396485,
          0.19941952341554353,
          0.16582782099583002,
          0.08922943208137564,
          0.5205029790788395,
          0.08607712886145641,
          0.18633509273495583,
          0.21364522165578953,
          0.27621278154929285,
          0.14447102959240996,
          1.311382737104084,
          0.27563376670724077,
          0.3751732493140949,
          0.15164439271471347,
          0.0960623346558832,
          0.23366004237596488,
          0.9976914376873155,
          0.05188801708800885,
          0.592160940897894,
          0.09084044540830256,
          0.21498281246725476,
          1.3752452065427432,
          0.189859137280344,
          0.6580993964941042,
          0.07288993476429059,
          1.0182624374050044,
          0.017428210823008796,
          0.06486917062794016,
          0.8397505703053328,
          0.3167337959214194,
          0.3518512599624231,
          0.24994053860468754,
          0.20409886017821713,
          0.17545049429328252,
          2.8886293688908573,
          0.7967750001600208,
          0.6369741191472232,
          0.06606044665906881,
          1.68936744574986,
          0.11978153207783995,
          0.050019595106378545,
          1.155572506706064,
          1.4438615190659538,
          0.501609043311637,
          0.023796838950172372,
          0.040993866181573684,
          0.015372627920449227,
          0.06103318313863606,
          1.7905128328666016,
          2.020932630129431,
          0.4794598118437704,
          0.12059398563491548,
          0.24942442534584588,
          0.20950988616673402,
          0.26025881368068243,
          0.7472434786696006,
          0.0147977179078668,
          0.07914878430780309,
          0.17678230808882395,
          0.0327302889710297,
          0.04700720663143413,
          0.06980385854021148,
          0.2315199242152559,
          0.7856568239544802,
          1.6547609994939716,
          0.06680251567753107,
          0.4366472934992365,
          3.166962696835725,
          0.3800547547240737,
          0.30035921149902495,
          0.011609066544626357,
          1.0817045157224234,
          3.060812487765621,
          0.024037855859851884,
          0.2060727084733445,
          0.44831890532084423,
          0.4713658875942042,
          0.3977265829152278,
          0.017435643483960785,
          0.055250915069692104,
          0.31046323463719666,
          0.6623796692767484,
          0.02544719958719939,
          0.6473080556397182,
          0.09010812002041342,
          1.0668545839030588,
          0.25448782000294584,
          0.14781059208598116,
          0.3584817093139623,
          0.5027481938950968,
          0.2728713075197631,
          0.09703503410096204,
          0.5183033928806364,
          0.11057783533168883,
          0.06202556090493671,
          0.09196717896716616,
          1.4272552548123445,
          0.17553611296182697,
          0.17049280676824885,
          0.05720109948502793,
          0.07154855122331513,
          0.194234287226156,
          0.5422565790826697,
          0.6970145863237472,
          0.13242151989108158,
          0.8630754533324916,
          0.14752575647251454,
          0.1624170739358739,
          0.006375243514419269,
          0.04104504695590983,
          0.4092409669036939,
          0.19287103128029226,
          0.272221464362987,
          0.35741464924451644,
          0.3119057634229495,
          3.6464214325710254,
          0.039627679478552356,
          0.15586262055811645,
          3.2599844475818442,
          0.10995981873456283,
          0.13641515075437385,
          0.04541408434324475,
          0.17911611656709076,
          0.1764625938173753,
          0.6052220671463502,
          0.3094834674419775,
          0.4877420975890512,
          0.4592613964573268,
          0.04103894344842444,
          0.5024468889673214,
          0.48763069905485196,
          0.06585909351174248,
          0.04852406729890348,
          0.06944483213495817,
          0.11391541838466746,
          0.15900121854945365,
          0.10279469549471404,
          0.2400539118262436,
          0.26010731469296716,
          1.9410511721580177,
          0.4323793854971452,
          0.04073831439845882,
          0.39219132957286656,
          0.18238894670509181,
          0.07499555018456759,
          0.9267652518569368,
          0.2260295221558666,
          0.12384039216452956,
          0.03985009654032668,
          0.15053851436317428,
          0.19999869173321044,
          0.19733102263521973,
          0.07561891511412756,
          0.12809848195712742,
          0.28929534656994477,
          0.18474976865944262,
          0.11488910338459654,
          0.030727733641136006,
          0.4628813377219862,
          0.18854954784787437,
          1.202742812818312,
          0.08740796572145289,
          0.26790161561718234,
          1.1825938888588174,
          0.07218967224845098,
          0.6628133243280359,
          1.760434061770574,
          0.059032394051065425,
          0.3093896854681704,
          0.12599944273539582,
          0.19117128133028166,
          0.753588759849875,
          0.13094966595470536,
          0.6995635230344183,
          0.28874783902926193,
          0.12528815041421992,
          0.007502463783085193,
          0.5775649055763832,
          2.9159426574220486,
          0.009388215075884575,
          0.02581473664912312,
          0.020187068266744837,
          0.28494353192383737,
          0.10320325581223357,
          0.4407873426805798,
          0.1728456008729692,
          0.05217031921106213,
          0.19847677455712906,
          0.5685771429410815,
          0.9197300377136501,
          0.7967807002125499,
          0.26956808482817385,
          0.04516986826090353,
          1.4288162443766437,
          0.08121918007296464,
          0.014592543726241683,
          0.047017971097953866,
          0.6343484736719966,
          0.3979150883735635,
          0.0658420779873484,
          0.0843833980894204,
          0.911684905309948,
          0.042568681369390654,
          1.2175069737678743,
          0.11494431266963305,
          0.04854881148194678,
          0.03246977495343578,
          0.222186674153055,
          0.009665904148784888,
          0.06787392081523108,
          0.05204623188212185,
          0.057227309806220185,
          0.17455241432912838,
          0.09669843840322989,
          0.19617221001502527,
          0.15522966678942496,
          0.7404604231935293,
          0.08799567745897945,
          0.18505257258304736,
          0.2389614949791477,
          0.12632680521592837,
          2.9136864672441196,
          0.07328551910002723,
          0.039959196497379175,
          0.017512662068561103,
          0.18887947562067825,
          0.101068412240827,
          0.2135779933830857,
          0.23746009994412504,
          0.14001151020488825,
          0.03093388386797519,
          0.015375865816552491,
          0.07809792423750879,
          0.07617634149195363,
          0.6511470395889003,
          0.08687908461552729,
          0.2812964391430031,
          0.6034151762052514,
          0.3679075694659691,
          0.03470332115495568,
          0.6750189002838466,
          0.0770270786929061,
          0.18255121819980308,
          0.1893352498981706,
          0.11354247648874273,
          0.02821957781803868,
          0.46871542361536667,
          0.13385856397422136,
          0.17976019068950888,
          1.6077326518057726,
          0.9507234633780216,
          0.4619207510914152,
          0.5635902106254544,
          0.6509872185037465,
          1.1089458175073366,
          0.22097477857894568,
          0.22370022025649658,
          0.9447755547402356,
          0.04149344041323719,
          0.1586366094097044,
          0.2761234905202763,
          0.12987749416621056,
          0.1608388795163521,
          0.11435098722433043,
          0.10340714126000353,
          0.00938436117288266,
          0.2274443526263774,
          0.051888790946195244,
          0.04443649376621645,
          0.20023369130542637,
          0.20415476322153323,
          0.18143242236814602,
          0.2690163440251881,
          0.11171026984527889,
          0.03387665094052246,
          0.5754798464212114,
          0.2533238716257168,
          0.06505179759201075,
          0.5713997301402551,
          0.07220217951784405,
          0.8963937983897068,
          0.9373959737224546,
          2.331245675301537,
          0.16380054745231298,
          1.9958172130381933,
          0.04917702276354524,
          0.32993190827405994,
          0.154013149022724,
          0.02377541679274811,
          0.15742850789422136,
          0.07808206055502971,
          0.015640601954804437,
          1.0100372201889027,
          2.402108456263078,
          0.8902226566080385,
          0.1388207238003353,
          0.22390615200645034,
          0.29556389051935816,
          0.15460783016532062,
          0.08653318196174334,
          0.021906587535848537,
          0.8559846291057525,
          0.06698230125316668,
          0.22621259384144313,
          0.18966912322266405,
          0.29602917140059104,
          0.889068575800973,
          0.2727705989107478,
          0.5018987739706274,
          0.2932359904212937,
          0.4873739558216558,
          0.21515232484674976,
          0.180403222260858,
          0.1386723480261727,
          0.03966120776696236,
          1.4290780037958726,
          0.15764765896120833,
          0.03241134271464739,
          0.12232345411817952,
          0.5555240176253037,
          2.3704747246132905,
          0.20525174386430795,
          0.04589771783091593,
          0.03906710013896244,
          0.13843438809997005,
          0.19496839236048594,
          0.08601879126166176,
          0.01411161677281946,
          0.08677591784983875,
          0.026110048243965425,
          0.0431831035078876,
          0.7647242821191841,
          0.10211053987344439,
          0.13331220923423082,
          0.10287135753459851,
          0.6707583946905552,
          0.12234379822549732,
          0.027864391643100703,
          0.04260370886195731,
          0.31034451897416776,
          0.2221897094047498,
          0.49739690670957365,
          0.13004536766446223,
          0.4148126753099124,
          0.19654396408575722,
          0.14814455137068613,
          1.586338883007773,
          0.08798296069297157,
          0.27759342377053814,
          0.015640601954804437,
          0.21674249139820537,
          0.046933454259950456,
          0.10992860852028641,
          0.07917004653978399,
          0.6377962157634395,
          0.2685988030026489,
          0.06587655818781722,
          1.3012672049867307,
          0.08814271718576629,
          0.010631541920139246,
          0.03527904193204864,
          0.25338310761361765,
          0.1005371845819314,
          0.27916791827557946,
          0.6085775802468554,
          0.4598955323411848,
          0.23590790247790627,
          0.17646933312961258,
          0.1974161468214085,
          0.020319713248246943,
          0.037786756149087344,
          0.2949474305356917,
          0.11002408492008632,
          0.12890702004925983,
          0.08856079865698616,
          0.046534782444355084,
          0.03992733262794283,
          0.5814166911347125,
          0.1126778501150599,
          0.03858486264201155,
          0.0687863624767089,
          0.04479235871420629,
          0.12495642118858379,
          0.1108577259027067,
          0.03940541193178212,
          0.09717420288197108,
          0.1034189825943277,
          0.3772430533059035,
          0.05417068417228325,
          0.6954731333113332,
          0.0408607390365922,
          0.06897230631794833,
          0.03012525058337024,
          0.6045096880153698,
          1.8745799643301417,
          0.122068721115617,
          0.0484318597608667,
          0.0966579340613621,
          0.351737186053692,
          0.11901993585893232,
          0.1547219069127674,
          0.04432313623317004,
          0.026881738806128694,
          0.08218577142019827,
          0.018876242551081387,
          0.1449194329776617,
          0.28043729256614564,
          0.029966333632909063,
          0.04153746955909905,
          0.14232358973710796,
          0.44479701151709783,
          0.02889447318545755,
          0.07245174200397154,
          0.0998587234741326,
          0.0358661529031762,
          0.10539012214624349,
          0.04804357823705799,
          0.12135537917335996,
          0.1413920748712362,
          0.833600672960341,
          0.35356086233895256,
          0.5095529298181775,
          0.34254847544013556,
          0.41981524654566993,
          0.6746931791024803,
          0.08034269897290797,
          0.5801190048571018,
          0.021267569160846923,
          0.3403845685237919,
          0.05360119241764221,
          0.06165403361286718,
          0.2947075012299699,
          0.07015669634992282,
          0.37932645850825913,
          0.28064058515557966,
          0.4623831586856864,
          0.0987976549869561,
          0.10906872063285139,
          1.1354814629069108,
          0.1175698907926888,
          0.020920419793881564,
          0.17164990919172582,
          0.09189733743068747,
          0.33752491332569684,
          0.03213988010364076,
          0.040984366207495224,
          0.20668340502143656,
          0.048918173078187306,
          0.03650077071605023,
          0.7134155009280094,
          0.23082593542717242,
          1.0755989118447824,
          0.16073188853789216,
          0.01728201441554497,
          0.18568330633935437,
          0.578880127123986,
          0.1164433451527812,
          0.3572404404425231,
          0.02071032860571281,
          0.6531571144500078,
          0.08310137088195108,
          0.0850416063841183,
          0.09386220392968231,
          0.13475720884190398,
          0.2804360133822099,
          0.0726414184542115,
          0.05143136516379864,
          0.04871473229476154,
          0.019526479202748376,
          0.2977489828026802,
          0.09930413287593287,
          0.06384270413591182,
          0.02630098948404998,
          0.04892306325388867,
          0.14582791609484524,
          0.0457137610329711,
          0.044480425983176836,
          0.65770924912956,
          0.10450374975205977,
          0.11824349115584144,
          0.01801000745771528,
          0.05616129205917937,
          0.13267067371258426,
          0.24109430342105478,
          0.6363714469735963,
          0.9188666057341786,
          0.06681888253116683,
          0.07988582827289574,
          0.3415045904037138,
          0.1474831214493773,
          0.02020955247713953,
          1.4751204771418418,
          0.43407686316618904,
          0.04842572874101785,
          0.1203461123429708,
          0.034163430531804095,
          0.03868504190946511,
          0.13226321973853478,
          0.07184879881873002,
          0.44703303524917504,
          0.02050644850445564,
          0.15859299271399785,
          0.021167425159229206,
          0.04940587559935955,
          0.04275267958557701,
          0.16425172352331718,
          0.447403286133761,
          1.198376421179303,
          0.02471304013404668,
          0.02754101751828631,
          0.17328961082226466,
          0.01605646847631294,
          0.18898211539225712,
          0.14262540305648577,
          0.032770023053290374,
          0.1463895417010472,
          0.14411894787024998,
          0.07010679557893026,
          0.08477441440763965,
          0.2027270103261843,
          0.09695593519379511,
          0.16815868833473047,
          0.0531001787693625,
          0.10843356175937188,
          0.08515828248819012,
          0.08897799691555527,
          0.016280419425685456,
          0.19051330054456656,
          1.6545353163450671,
          0.5975449987842746,
          0.11144221137409865,
          0.3978078790982553,
          0.047517873400552316,
          0.055297971028545105,
          0.08514135824797907,
          0.11954081312654691,
          0.0808266122736217,
          0.23567494918161866,
          0.41407114080115026,
          0.025337203906002182,
          0.020511880446000472,
          0.3611075784791417,
          0.2374726857845341,
          0.12317244628284105,
          0.018260236427019357,
          0.0026289690357160127,
          0.01788477944904826,
          0.05945260209652323,
          0.014244506125190142,
          0.12528768466188359,
          0.030583270617914753,
          0.1038093821867101,
          0.030395535339437656,
          0.06077496800965237,
          0.02374642380819484,
          0.014481690782944671,
          0.03352550762598662,
          0.06178207231450578,
          0.1395760852413873,
          0.039649159015436,
          0.03812629073224093,
          0.010913825227370666,
          0.09388119780071559,
          0.023567781944788285,
          0.012166923572016743,
          0.15640619663916822,
          0.03174825160779478,
          0.0203622336281002,
          0.027016013882523317,
          0.06003558835372071,
          0.04438814919425123,
          0.002066702653005336,
          0.024741905104681095,
          0.43792185919668514,
          0.012849315158775423,
          0.14109710053854269,
          0.10380592218436616,
          0.04008211402718287,
          0.7463541880236094,
          0.05591388617460082,
          0.24537403454127002,
          0.3533617783123447,
          0.1466665501990456,
          0.037676159455419654,
          0.023465311251415624,
          0.10666360560431075,
          0.21710412082322753,
          0.013601463996967017,
          0.04109752463791653,
          0.1482699832574907,
          0.028446845640525888,
          0.1364004485179127,
          0.0782828193151716,
          0.1784073168075067,
          0.158924061916842,
          0.08229381309277156,
          0.7784047896355516,
          0.3031124567523692,
          0.05302453556227189,
          0.06827874947634814,
          0.017879193450767838,
          0.0238059428845782,
          0.10068393943600276,
          0.038016003218668,
          0.08084506760736788,
          0.0908776491572724,
          0.053515749338320005,
          0.02047887477115581,
          0.13607950861902754,
          0.049119735215751865,
          0.3309368082809557,
          0.27940144439084996,
          0.007328125794488607,
          0.01870827031789184,
          0.03624215088870649,
          0.019647467983736445,
          0.051261340440451844,
          0.049876954982626585,
          0.017039905089535942,
          0.04255030705424683,
          0.4430129644811577,
          0.01400846933706348,
          0.052331596299986856,
          0.02665908887161355,
          0.0900993984153955,
          0.0919518156339828,
          0.020826756622006958,
          0.054006684658134185,
          0.06413349289849511,
          0.03245713647153781,
          0.026458523229712816,
          0.08326375873257569,
          0.014852202085255096,
          0.1632747588456416,
          0.013958481695261775,
          0.012512481563843549,
          0.037390081853566466,
          0.3360657366655936,
          0.15870499708958358,
          0.08583554555554519,
          0.036375941848782754,
          0.03365665673784232,
          0.60770251871792,
          0.033316757307348684,
          0.03149933867328191,
          0.02284893111020908,
          0.03580227598260646,
          0.36732629166261577,
          0.03556953848047583,
          0.04897479275699033,
          1.5536027983371907,
          0.01514114861659392,
          0.016368018362996686,
          0.28682605230432384,
          0.0788084203203584,
          0.0010100099443348836,
          0.05451017694948249,
          0.15491606320053525,
          0.08722623677765798,
          0.041605646800341296,
          0.009780834021119207,
          0.02535449154570167,
          0.06083461786008371,
          0.019178851513505606,
          0.2828111829324681,
          0.011100654880405859,
          0.1390862305982926,
          0.10782660555130053,
          0.03291044327638751,
          0.03655689683488214,
          0.35972988863634836,
          0.07352757068398785,
          0.08896273708181264,
          0.877717340909114,
          0.06390445749217877,
          0.18262674240151347,
          0.029037314043731863,
          0.0356715712501137,
          0.27944293255328645,
          0.13040857801708555,
          0.31771465541966437,
          0.09069745342680653,
          0.09498044696485301,
          0.026086850228370234,
          0.015465264352627685,
          0.060687758229784436,
          0.011462337167278926,
          0.006052878339831393,
          0.020354891539399775,
          0.06672522281077554,
          0.10193591487257313,
          0.0838263938682765,
          0.05564359125565359,
          0.023219504012189758,
          0.1474390740548623,
          0.010079951859817972,
          0.011937735393613164,
          0.03672129544289888,
          0.022996192838842515,
          0.015990516902230415,
          0.011064835470977294,
          0.08943806407611844,
          0.03463650159139526,
          0.12068063397163938,
          0.0013466799257798449,
          0.04103212898664418,
          0.1615785853935708,
          0.13054011238023758,
          0.08191281366179569,
          0.019626782480167953,
          0.003389078374475351,
          0.014475168307928034,
          0.00938436117288266,
          0.010097480220948037,
          0.03546346067462458,
          0.06436490010855059,
          0.12253283958667434,
          0.020268856132694385,
          0.017236720179951877,
          0.05153906271471337,
          0.2228621353094176,
          0.019686046787116333,
          0.08630557632128891,
          0.07909678132480259,
          0.005418784784566229,
          0.03421491942200751,
          0.02868788381561985,
          0.021035244860062925,
          0.036025794634900445,
          0.1635895330442459,
          0.03556566731691278,
          0.010861502251865046,
          0.004795987971667155,
          0.23227086544345457,
          0.023981849024383866,
          0.028061177424384468,
          0.008914745334302736,
          0.01786026372143117,
          0.15135154062645198,
          0.008077984176758429,
          0.033514184309359756,
          0.048409224448422085,
          0.020520821471806193,
          0.05454196497652863,
          0.020520951843050136,
          0.016698440468831385,
          0.02741249753814294,
          0.035656122984083743,
          0.014475168307928034,
          0.21892183812135643,
          0.025448629331407797,
          0.030985891513085513,
          0.014578657401105817,
          0.0033346051829577345,
          0.06334355131442712,
          0.010856376230946025,
          0.06757490028296391,
          0.03991748693538784,
          0.015518211196156489,
          0.15819954794541288,
          0.0567178216505223,
          0.10613029510435096,
          0.06131374541803764,
          0.025092588401058647,
          0.01341410513762585,
          0.03629162178247026,
          0.04219415887129262,
          0.06848891512121506,
          0.03106678010807505,
          0.05578585217675265,
          0.04060933049470649,
          0.020236681318180853,
          0.028710652819690794,
          0.03906299569155457,
          0.016102474030562565,
          0.028256476351437538,
          0.2872293846940546,
          0.02108607762409888,
          0.03459524561599914,
          0.11963525602300984,
          0.08877015879541877,
          0.014475168307928034,
          0.04636245995753882,
          0.02279375199408303,
          0.01789960435303981,
          0.0008954290411021911,
          0.09581087949999388,
          0.011301294319275436,
          0.09557042884925215,
          0.010086196765695592,
          0.027823000063458236,
          0.04890967071036893,
          0.03043533550687141,
          0.003297165849623917,
          0.018150688715971936,
          0.010593428241991098,
          0.06822379256605646,
          0.1542904774307584,
          0.02610016600891053,
          0.01869618552145179,
          0.03689837289269249,
          0.03650077071605023,
          0.1329541479320344,
          0.043827037453981414,
          0.01814092215399506,
          0.03270528322873524,
          0.018093960384910044,
          0.012635148820127838,
          0.01817349952972103,
          0.0036187920769820085,
          0.01972472585277698,
          0.055096592262052484,
          0.0069013974246340416,
          0.007269643865838658,
          0.015390870083201186,
          0.03320170325062074,
          0.029524596444032106,
          0.014475168307928034,
          0.06508927760832024,
          0.010997383251916938,
          0.051993753454457906,
          0.04566415411411803,
          0.02998776078341046,
          0.01933993883737883,
          0.024305971790055864,
          0.014922412444965269,
          0.01288373838807409,
          0.012466000211136025,
          0.024273014585606774,
          0.06689904053256768,
          0.004941134261040866,
          0.014475168307928034,
          0.013798006608192557,
          0.015640601954804437,
          0.07168511432850554,
          0.07801150637447894,
          0.015518211196156489,
          0.012512481563843549,
          0.010040829391636204,
          0.010854439332641373,
          0.03226241681548709,
          0.06516681371245855,
          0.03073593639393435,
          0.13132356911392157,
          0.010856376230946025,
          0.05555367949899954,
          0.034245141984217194,
          0.022866141352573116,
          0.03972951406439975,
          0.009424902862110004,
          0.0031281203909608872,
          0.013025756624356882,
          0.016605030665252915,
          0.015458152188058643,
          0.008077984176758429,
          0.0432989240674496,
          0.021645170751731748,
          0.0048423026718651145,
          0.03803351770661619,
          0.268752798886046,
          0.06997777158560446,
          0.021215173789848947,
          0.027343196187148745,
          0.015603265377705367,
          0.03719022908841688,
          0.04450128509990225,
          0.024120652614370543,
          0.012781457525207573,
          0.03583804774887068,
          0.011771822365142822,
          0.16570817159169743,
          0.021323115889463274,
          0.013956296628013586,
          0.05781400383409625,
          0.03255734376191841,
          0.02169167215927536,
          0.017005096524530233,
          0.0460785205657127,
          0.0216890761046383,
          0.08731405233818297,
          0.013377575737477856,
          0.02859816684200033,
          0.018093960384910044,
          0.02939287670432462,
          0.025768535065228283,
          0.06700314186968824,
          0.021862315259993232,
          0.0072250463794216345,
          0.014475168307928034,
          0.013689903483106617,
          0.018187329398001453,
          0.07176869348863239,
          0.13706080886339483,
          0.025279424347357287,
          0.05668276161977062,
          0.011577208915506858,
          0.014475168307928034,
          0.003102452387885987,
          0.029811658348489534,
          0.09813786826940263,
          0.007237584153964017,
          0.016292071474606283,
          0.052796557572636606,
          0.08018171382986762,
          0.023412764461992596,
          0.01155877555546459,
          0.02832979588095625,
          0.008212663159279193,
          0.01413571283116168,
          0.013418966613168319,
          0.021151194853012336,
          0.022262326319290298,
          0.029663743496505305,
          0.0034346767424390085,
          0.022282870053469173,
          0.04755043690256808,
          0.023951974303225806,
          0.010097480220948037,
          0.06612376991250933,
          0.02066202620450488,
          0.008077984176758429,
          0.013918859455494606,
          0.03504381886808796,
          0.018093960384910044,
          0.01625622197495497,
          0.020374671818296504,
          0.06425344290836851,
          0.013914270689554076,
          0.006464966337630454,
          0.05919224394708042,
          0.005444134137024673,
          0.031189868973173353,
          0.012500916067517909,
          0.018093960384910044,
          0.041747698912704176,
          0.004514393083894489,
          0.018093960384910044,
          0.010856376230946025,
          0.018433751765217023,
          0.01716035355552211,
          0.029878349769212283,
          0.0062562407819217744,
          0.04027663662466688,
          0.09973446809871557,
          0.013128678879281602,
          0.012819595535841352,
          0.10314200555145667,
          0.027039947445080585,
          0.02595785855264859,
          0.031003691572133667,
          0.11961467729113194,
          0.021589888939885775,
          0.048198051773888965,
          0.008918869113800248,
          0.0078077120892789875,
          0.02626153264815314,
          0.2096501341239469,
          0.010856376230946025,
          0.03875484736919689,
          0.008877996733347323,
          0.028668932298150703,
          0.017922256263378827,
          0.025346977742580743,
          0.08664887999643021,
          0.01282406871168442,
          0.002938698313414525,
          0.03527904193204864,
          0.06235487586590356,
          0.002820488026933346,
          0.014475168307928034,
          0.0415400362299204,
          0.1463323936197847,
          0.0241398233072731,
          0.01421612794524417,
          0.004474149280901971,
          0.01613783220959501,
          0.01282406871168442,
          0.019528120251842876,
          0.02110461681532626,
          0.03196199625412092,
          0.13957064003403938,
          0.07283596776183661,
          0.015076799949908494,
          0.010856376230946025,
          0.01322284321471871,
          0.04183375025198691,
          0.012441804990728477,
          0.01760108618031565,
          0.02402092795271437,
          0.018451600257384907,
          0.0016119426158465932,
          0.010097480220948037,
          0.016132949294240403,
          0.06340058253675744,
          0.059909635902456466,
          0.014475168307928034,
          0.008718506264882776,
          0.032397188924634175,
          0.008121682411869549,
          0.0710492108678843,
          0.012306741989933312,
          0.015388882454021306,
          0.015695264200102043,
          0.0037898810109380306,
          0.041323584900941054,
          0.04380731839259133,
          0.01679300587293667,
          0.011668839449801972,
          0.015333249096027884,
          0.007714523349181845,
          0.026763075753477077,
          0.008507096470510586,
          0.012519375481975912,
          0.010259254969347537,
          0.00124536015166892,
          0.01282406871168442,
          0.024663020871499002,
          0.04388380723754316,
          0.017061138385609884,
          0.018093960384910044,
          0.014475168307928034,
          0.010287055922018782,
          0.05007082708562632,
          0.008022998285396522,
          0.06448052398608532,
          0.013758890384080309,
          0.008229644737615028,
          0.02173095749047129,
          0.005629211173215151,
          0.010259254969347537,
          0.0194839696542392,
          0.026297258185703085,
          0.0031281203909608872,
          0.00705580838640973,
          0.022501920459229087,
          0.001948584989099348,
          0.013853664624923769,
          0.0051296274846737685,
          0.0034643127695275565,
          0.0069352563871440615,
          0.014475168307928034,
          0.008229644737615028,
          0.007507698272349245,
          0.0051296274846737685,
          0.008813890389016747,
          0.01282406871168442,
          0.021757848764256498,
          0.015603265377705367,
          0.005550964523628835,
          0.08249730352799478,
          0.010856376230946025,
          0.0017338140967860154,
          0.014475168307928034,
          0.0055112121097943955,
          0.0015056753427194166,
          0.007237584153964017,
          0.01658026579868486,
          0.008322815544290556,
          0.012512481563843549,
          0.07671945601103139,
          0.008229644737615028,
          0.0036187920769820085,
          0.0016287556800792355,
          0.010856376230946025,
          0.016596614539911788,
          0.0022987075944360742,
          0.006172233553211269,
          0.0062562407819217744,
          0.006172233553211269,
          0.00938436117288266,
          0.012512481563843549,
          0.010259254969347537,
          0.0516233170926591,
          0.007694441227010653,
          0.004114822368807514,
          0.006658252435432444,
          0.010097480220948037,
          0.014914086833560863,
          0.015246535507962872,
          0.0037898810109380306,
          0.0018605954852785463,
          0.002142084150674518,
          0.010259254969347537,
          0.007694441227010653,
          0.007694441227010653,
          0.007694441227010653
         ],
         "y": [
          0.5318992642490353,
          1.3661938897334034,
          -0.04815072425186973,
          -0.33533301877398886,
          0.26118137924905566,
          -0.4719232079474251,
          -3.204750837112457,
          -0.12219981613721002,
          -0.6705486584162722,
          0.03975561361026554,
          4.802804889169231,
          1.5518983003631779,
          1.2497396449885887,
          -0.07053944165235619,
          -2.460686364084479,
          -0.0939137333731971,
          -0.015300311089477955,
          1.083291440691196,
          -0.4529601655455456,
          -0.04568831606283397,
          -0.19423721778438172,
          -0.043522515606109355,
          -2.152734366191617,
          1.4056737879724746,
          4.816206129831383,
          -0.5737201847944144,
          -0.6506142124695574,
          -0.11657567474523566,
          1.4542489824710132,
          -1.306098627167936,
          4.258339001009311,
          -0.16312886572645813,
          -0.8662420981868141,
          -0.573615669382611,
          -0.48457605262242226,
          0.02070062738400401,
          -0.11968470536392269,
          -0.28847676849756776,
          0.0293515159399572,
          0.5284361697841398,
          0.4081989456994735,
          0.30755691787168826,
          -0.1462272999187766,
          0.7965413660699276,
          -0.3501018457209417,
          0.31115127765705297,
          -1.624894854522873,
          -1.530058647771046,
          0.4175267942090064,
          6.023738906248971,
          -0.22232283959728824,
          0.5427292301052051,
          3.3833640454064398,
          -0.5892561398845185,
          -3.0320208728744227,
          -0.525158818594338,
          -0.26766140902528757,
          -1.2059132947110285,
          0.7269557986406073,
          0.8448877915716088,
          2.7574712899504275,
          -0.964668253835632,
          -0.8932018533654859,
          0.9275116930205753,
          0.02112899683616429,
          -2.73000623694694,
          -0.14547003783334897,
          0.07282946031413452,
          2.7743280169770426,
          0.03383445723775713,
          -0.08200281972888761,
          0.07862205142933797,
          0.4526062951846608,
          2.6303265450085167,
          -0.031500296204091616,
          -0.4191025189215411,
          -3.4366351812678086,
          5.167136787926048,
          -0.1308919562234085,
          -1.5388652079387661,
          -0.33050962177756055,
          -0.5372440288980903,
          -2.8437758399078095,
          2.5190524132109924,
          -0.39717684388871993,
          0.11942619511659264,
          2.9327697304726383,
          1.2256838142245017,
          -0.0949407905593318,
          3.259312679563402,
          0.010551127788063377,
          -0.13590528362565274,
          0.04531108485998601,
          -0.17480495016785644,
          0.25909024957183147,
          2.8223924404660963,
          -0.45735225186354794,
          -1.196248586109343,
          0.8543200281739004,
          -0.17310800676981464,
          -0.25410876506371155,
          -1.9753833813343717,
          -1.8103602267649392,
          1.4866495070836594,
          0.9478403311373155,
          -0.10340792466204246,
          0.049006397635459845,
          0.0465875934883383,
          -0.042029728977136326,
          -0.1758023787382572,
          -0.18235991272525778,
          -0.04689430623215935,
          -2.775417893354728,
          -0.2732790743113252,
          -3.396475108827596,
          0.32432746466290535,
          0.2249966117409322,
          1.717556023695014,
          -0.3357423018061558,
          -0.027511449912130333,
          2.151378025870602,
          -0.35632099336832096,
          -0.08425618896302467,
          -0.6026967799907671,
          0.9805523804073305,
          0.0465694955957868,
          0.010667032177234598,
          0.0012733910692787074,
          0.4113386230115503,
          -0.048016321373659104,
          0.6472326521748328,
          0.1952388950817921,
          -0.03808608966186754,
          2.1546678217211728,
          0.018267271321541323,
          -0.23718089007217746,
          1.047769449626143,
          -0.12606269017132465,
          0.0028497475177211256,
          3.3902523505183777,
          1.4472453442972981,
          -0.9121030407405673,
          -0.08264815669196382,
          1.1450142082038006,
          -1.956626831173897,
          -2.902019663566025,
          -3.2145825772206194,
          2.3841216984056133,
          0.00437881722750316,
          -1.203871255578646,
          0.4663892609741873,
          -0.313569959103596,
          3.1035171549402536,
          -0.19340777487177158,
          -0.4799749173418241,
          -2.882673429781926,
          3.8669776749865834,
          0.3725520366693797,
          -0.3560971020364997,
          -0.2082928218082509,
          -2.6035013124340542,
          -0.6149589010358479,
          -0.2308334737674308,
          -0.043465721775670034,
          -0.3690019939485264,
          -0.6150544427064476,
          0.0056827543221572106,
          -1.022107287659669,
          0.10293759071476677,
          -0.08728644952871313,
          0.046449297597922774,
          -1.3919084558871069,
          0.8498973751881961,
          -0.3112137026606125,
          1.7710695534799716,
          0.08386932637853567,
          2.7856974821786715,
          0.530342621118549,
          -1.0284455999953237,
          0.7385278781745434,
          1.1728098787685242,
          -2.8673719239645084,
          0.01306136869887023,
          0.38820096171072793,
          -0.009877535907902121,
          -0.07974090121875577,
          0.08097923779036967,
          0.6639718371773172,
          3.460191163391866,
          0.36940720493281276,
          -0.797987364729685,
          -0.4360140778307898,
          -0.45003086969988115,
          -0.14306157755570362,
          -0.38895616050578796,
          0.00918714647051167,
          -2.3245759711812455,
          0.902077229151524,
          0.0943067473657351,
          -0.25055161990914554,
          -2.9404499541610556,
          -0.053773394249910775,
          -0.08477932052827046,
          2.215585107599119,
          -0.1432827341325622,
          0.13806503803311085,
          -0.8497706489480181,
          -2.487172226452396,
          3.74968070552609,
          -0.09556128342316682,
          -1.3488781666596645,
          -0.09112200537336843,
          0.1844001316171017,
          0.21973405630312515,
          -0.7501905006508588,
          -2.2546019278218354,
          -2.5024358815089554,
          -0.7666498539919612,
          -2.968615644820014,
          -0.18893774457775347,
          -0.6060168333948083,
          0.7559756359722644,
          0.15942969160187473,
          0.04002295295989259,
          -0.08843945308564055,
          -0.33070071166789866,
          -0.3781391031679572,
          0.1666601905518733,
          -1.6213738853196278,
          -0.8339554579219642,
          -2.399539559018961,
          -0.17266389420584777,
          0.9408646123029154,
          0.005571594125526639,
          -0.21829824699398473,
          -0.008942325233766485,
          0.02207137038758596,
          -0.12292056397366456,
          -1.1128379581860142,
          -0.14457170753870668,
          0.062497434480844154,
          3.6624843282906174,
          1.1760604888736075,
          -0.8812915880536971,
          0.19539417451715813,
          0.038419531762798165,
          -1.0520196946640659,
          0.03767656556968579,
          -1.8549323862538858,
          -0.14259059617281378,
          1.0576543444520408,
          0.2754647385551384,
          -3.381406364092358,
          -0.16347378591200445,
          0.08467347794673329,
          -2.775235387705221,
          -0.10250822332407142,
          -0.08322049960033559,
          0.42402963382147885,
          -0.08114735423238577,
          -0.07665694955259394,
          0.03395400542804104,
          0.03376859388383662,
          -0.06012623868105662,
          0.10123039805662994,
          0.8225338867939345,
          0.9987547531979458,
          0.16800795669611882,
          -0.31248563199721435,
          0.25558728472384545,
          -0.1127254175448655,
          -0.08060028496448855,
          -0.11112257675347366,
          0.9274105110094588,
          -0.7248574934317471,
          0.026337736932464474,
          -0.0036813242019778994,
          -0.2718370298789081,
          0.04525871873014803,
          1.7047552048655588,
          0.30495081604723634,
          -0.057632640400946636,
          -0.14999007460496935,
          -0.03676584793419799,
          -0.05887032542060674,
          -0.028077463551394812,
          0.7735843709828271,
          -0.4291519691830102,
          3.6078492540191993,
          0.05023936293315507,
          -0.32656421769518007,
          -0.44280956627541396,
          -0.5571406639149498,
          0.010076246031570731,
          0.011176987826773779,
          -3.5426825690347217,
          0.06768255691864797,
          0.4628580111010606,
          0.07457747163277906,
          -0.04584682254623391,
          -0.07207634566469978,
          1.146567431895262,
          -0.36394144098295705,
          -0.02953531275000244,
          2.183268061076601,
          -0.22424636820736274,
          -0.3412417658016283,
          -0.03371355446802747,
          -0.21403378952263657,
          -0.028266502617525974,
          -2.7381293310510424,
          -0.14065278645088566,
          -0.07350209116971758,
          -0.6997588849751467,
          -0.053614026836561676,
          -0.0004734213575688256,
          -2.5148184604046606,
          -0.09603554492491087,
          -0.0969440976138368,
          -1.1925589082724604,
          -0.9244725938286896,
          0.20361772793598007,
          -0.15139756243960226,
          -1.0464674753365169,
          0.38342335291026075,
          -0.06743455360122362,
          0.26016472452242184,
          -0.528364411472583,
          -0.12288369069925618,
          0.06085696579561715,
          1.0943172104980177,
          -0.19211698941283678,
          0.08985295982825785,
          -0.12273781579287502,
          0.07229830480207163,
          0.4110732908300649,
          -0.04103879637384288,
          -0.821043192403065,
          0.35859782547411173,
          1.096998384245198,
          0.04208275565472362,
          -0.560641737841994,
          0.07746911096344648,
          0.10590034031640229,
          -0.18894768437454032,
          0.35001419604320744,
          -2.505567478790009,
          0.30733989843365084,
          -0.34436561221810297,
          0.5727702585039975,
          -0.4245939663350862,
          -0.6220050603375081,
          -0.07656183105135306,
          -2.592820038625585,
          4.615070533603408,
          -1.4004416210882953,
          3.4097012443625654,
          -0.08625027562700954,
          -1.2317808731035718,
          1.7641826044144817,
          -0.3065815131377252,
          -0.27340525979083796,
          -0.6801154454544437,
          2.0450767521843836,
          1.0523269166790432,
          -0.8334902023716914,
          -0.5400453531854599,
          -4.190834347341582,
          -1.9526349177794384,
          -0.013659656152923926,
          3.0246544943787446,
          -0.05927830119398274,
          -2.148990074350802,
          -0.09860988495956456,
          -1.9457681047117885,
          0.22504216687246584,
          0.011257515514868711,
          0.07448530712151856,
          0.05139233518822528,
          0.26128907986987876,
          -0.008400988674440543,
          1.8478542733627954,
          -0.06982575427155409,
          -0.0634974265480965,
          -0.09037920065985808,
          -0.15689922568360085,
          2.0644180874601226,
          -0.26059892529491185,
          -0.04358110475155854,
          -0.18208076557853412,
          0.20092564596057486,
          0.8225914793689099,
          0.12842038780449255,
          -0.5287517984044261,
          0.16114086386810617,
          -0.17756319208192425,
          0.07582964972128402,
          -0.00920880870677616,
          -1.3235709127813102,
          1.252407935092399,
          -0.4029265217478695,
          0.03505891680980359,
          2.1710982213347956,
          1.275907295406136,
          -0.0389883497789719,
          1.7803310928761438,
          0.3702815501304111,
          -2.946999001418564,
          0.9446863456225351,
          -0.02817160451897885,
          0.020406011729501076,
          -0.04855327448139475,
          0.7784304829908351,
          -0.05596546028492953,
          0.062013061939834926,
          0.1781757037587863,
          -1.6312946730212747,
          -0.015151719419503919,
          0.027204153771730594,
          0.31973825894263364,
          -0.631004075267337,
          -0.05386781887564743,
          -0.05394940730382249,
          -0.15801665307441967,
          -1.191903734502541,
          -1.0776801396051754,
          3.3312944115024954,
          -0.06357216050787244,
          0.03263799688999952,
          -0.08288270365663748,
          -0.22771970550133558,
          2.292354164730632,
          -0.08525456005796421,
          0.11139812696094004,
          -0.950913207670283,
          -0.1547547146925301,
          -2.939605520613641,
          -0.3255075243109358,
          -0.0031895824091900155,
          -0.04159431509505572,
          0.024714638868170432,
          -0.06288017192149845,
          0.230717049592419,
          -1.3070979217541299,
          0.22827952808607183,
          1.5149989916557787,
          -0.12331901266140413,
          -0.011416400114694096,
          0.030345268681306374,
          -0.8052562783090311,
          -0.012869581688626638,
          1.0706796992014513,
          -0.0685148321619396,
          -0.03322432193454654,
          0.047002446535730116,
          -2.6992642564925866,
          0.039483921861626727,
          -2.557642526952821,
          0.1240464151320573,
          0.006607637260373299,
          0.04152245667085013,
          -1.1339632120002903,
          0.01053813576239138,
          -0.37935762191753913,
          -0.16554579679687614,
          0.0812145146206089,
          -0.09398791351117498,
          -0.6547129852369449,
          -0.48746296955004964,
          -0.4786280104492692,
          -0.6836357663935838,
          -0.14846816085719772,
          0.0020055706211854363,
          -3.7631728742617825,
          -0.11403050854794568,
          -3.700210852941605,
          -0.4206281776917663,
          0.07302307650279709,
          -0.27668319331284236,
          -0.17249601381790228,
          0.01987362874156934,
          -0.22657885080333987,
          0.5540701668654474,
          0.1736246623738711,
          -0.025412196676176717,
          -0.0328986131994454,
          1.2042171388986027,
          -0.12727621168043907,
          0.02767987983818786,
          0.5434652356668558,
          1.3033173470090165,
          -0.5329630528192056,
          -0.047158259763072134,
          -0.02447684816870014,
          -0.5785946218636895,
          -0.12165203426425768,
          0.6567713673796527,
          -0.015340456218803427,
          -0.7993327057526559,
          0.02569145313933733,
          1.8519561684058063,
          3.9586115581946406,
          -0.07333148466011175,
          -3.6364873862439206,
          -0.04480450220333485,
          -1.0529111932310966,
          -0.0979607293452521,
          0.06777953345193191,
          0.024715769277569723,
          0.16265834730784445,
          0.43251020313679733,
          1.8905620290244152,
          -0.4903187378121323,
          0.07428311570629313,
          -0.012072150041176996,
          -0.3703592264876786,
          -0.005153396728978404,
          -0.03345622429211556,
          0.15047153052620957,
          -0.2143918553811494,
          -0.1633270083982315,
          0.5205401206016091,
          -0.7768884388233714,
          -0.014736828545972446,
          0.5661593457432202,
          -0.5883343786266463,
          -1.8229425882855126,
          -0.6654101044578218,
          -0.35058938134807033,
          0.3460198925061811,
          -0.77398752039863,
          -0.3968748964668748,
          -0.03559077854570638,
          1.7923174383420337,
          -0.02231738065504615,
          -0.13129554276591013,
          -0.19293661418385186,
          -1.0616325169514218,
          -0.3540855715336974,
          -0.10653179313386536,
          -0.0035841640961492903,
          -0.20879858629930934,
          -2.122351659340512,
          -0.1919683033406964,
          -0.010903405186499286,
          -0.07642313966649604,
          -0.16610013431695858,
          -0.033541712527421975,
          -0.454740241194073,
          -0.16937883190363717,
          -0.04865718223659046,
          1.927736344595903,
          -0.10715893910873218,
          0.16267529544638318,
          0.03694509123445368,
          -0.8726177168019302,
          -1.080346943544041,
          -0.04555309297952534,
          -0.2719474951761332,
          -0.042182919112337076,
          -0.8175853777860281,
          0.02510533112307759,
          0.04217496968631025,
          0.07550262933953401,
          0.4297595508594176,
          0.2710358444379695,
          0.04073343408632821,
          0.5672360357599792,
          0.025362214957541936,
          0.14752773976502426,
          -0.7588283318084658,
          0.039232780439281606,
          -1.2903386137353463,
          0.09511216426384182,
          -0.026745034332123937,
          -0.07621244947387362,
          0.25604394667961006,
          0.09208661708443747,
          0.0008215045958792495,
          -0.07472628763980282,
          -0.08928968228324882,
          0.10826314746932963,
          -0.3704847960858482,
          -0.021747251121714006,
          0.218830411457484,
          0.02670054860169985,
          -0.13164311974209725,
          0.1601747053774079,
          -1.0688762170465114,
          -0.09351992708175583,
          -0.2611782728192029,
          -0.013115782592537225,
          -0.03166787034918477,
          0.28111715923284114,
          1.2496080738717275,
          0.04278527424020782,
          0.710621441063597,
          -0.027319004466140814,
          -0.0025760809179195565,
          1.6362360513570167,
          -0.09859381075693624,
          -0.4830516558176948,
          -0.03593469555141913,
          -0.7778727614001971,
          0.01555075398214198,
          0.011591911046149685,
          -0.5506110864350628,
          0.3931196046546694,
          -0.03774317031616443,
          -0.07783598263748301,
          -0.03695532898368258,
          0.02649448332626306,
          0.6254685816128672,
          0.6783889691201562,
          -0.4969629142709034,
          0.0034710412434402708,
          -1.2712982788616805,
          -0.009358079555660802,
          0.05943235726780311,
          -0.9368518481424061,
          -1.0095318091472019,
          0.35686222413220636,
          0.00029743699408507515,
          -0.018928360020765755,
          0.01267881369548216,
          0.06851291343108612,
          -1.4383440611850151,
          -1.571026620627632,
          0.028523483003967495,
          0.057743888238238124,
          -0.16893814284079975,
          -0.07116665813646504,
          -0.14405699958219645,
          -0.5500452000188505,
          0.005032578652133088,
          0.08006852382131137,
          0.08017448029099279,
          0.02748623092691815,
          -0.004723562842712786,
          0.0812578851019161,
          0.25127210990443993,
          0.9346918757340449,
          2.046181672201516,
          -0.03186580451483912,
          -0.29854302986614767,
          3.0997893553586593,
          0.4826872624315476,
          -0.060038028227543686,
          0.009919108907823241,
          -0.758567606423642,
          2.6278846588685942,
          0.008241356700956274,
          -0.06835860879104592,
          -0.3232953490198246,
          0.21303810000108947,
          -0.12674537431439054,
          -0.0020867902354487927,
          -0.030931563087691405,
          -0.09625022827309587,
          0.8375005371193603,
          0.028713281225295723,
          -0.5079431000077358,
          -0.031044875075441247,
          1.314590360599788,
          0.0999486328484433,
          -0.07726536679671223,
          0.2760603825798461,
          -0.16529912344466952,
          -0.08812921486582559,
          0.12214282681044429,
          0.6507370262282721,
          -0.05523745531855754,
          0.03637631113486752,
          0.07273706551411492,
          1.1749900044557358,
          0.0006582699670077946,
          -0.04109724861217805,
          0.005466447628662759,
          0.0689398437296996,
          0.20772185056233766,
          0.47893375549131006,
          -0.4784889708243819,
          -0.05030386158817518,
          -0.6214972986277556,
          0.17858514848711762,
          -0.06544947781891305,
          0.00006519024419841461,
          0.01334603895364076,
          -0.22095975193303163,
          0.21937762558732762,
          -0.17861517312919253,
          -0.0015284234872066022,
          0.01621764727077562,
          4.445274686466282,
          0.03226452141952511,
          -0.008965963119696163,
          -2.645000496887459,
          -0.018056011706255183,
          0.1660628536671597,
          0.006373808964622388,
          0.007637041270061499,
          -0.09680995983907606,
          -0.22369912144923906,
          -0.21807988391216487,
          -0.17823274275836007,
          0.18485346965193988,
          -0.009871986502422542,
          -0.3033682106977147,
          -0.35026503957200184,
          -0.04023554645378256,
          0.04631795445567332,
          0.08253395650973827,
          -0.05242492451203577,
          0.11603129009279164,
          -0.004529727326051771,
          -0.12236504184948582,
          -0.02240188923757987,
          1.6451745040348522,
          -0.3361588230053989,
          0.003345859073693593,
          0.49017545505000276,
          -0.092097038191519,
          -0.04025525918709658,
          -0.6894019874941042,
          -0.08996032345016397,
          -0.0865064167700754,
          0.0030051171843729825,
          -0.06419714320122236,
          -0.05203608834000651,
          0.1872899002622227,
          -0.019865665874475708,
          0.01514519799429091,
          -0.031339013139193475,
          -0.04683547191903067,
          0.14171705197324716,
          0.011693176711745941,
          -0.34041504830226366,
          0.20951359050543686,
          -0.9284216444711124,
          -0.04950264286980561,
          -0.1672615845006262,
          -0.9648563157691604,
          0.08834065100276947,
          0.7637359706405409,
          -1.3461259171717643,
          0.0050789957015364125,
          -0.1916045634116434,
          -0.03057261610304204,
          -0.09339704232648054,
          0.9060667286952937,
          -0.057869376904054706,
          -0.47302335920734495,
          -0.12537553963611656,
          0.11153193860968358,
          0.004780261338103104,
          -0.4204152059817551,
          -2.345346230931443,
          0.008698155694247606,
          -0.0061889868194205345,
          -0.0017952650674752187,
          0.254674886472796,
          -0.033611160466132786,
          -0.30350863761781677,
          0.15234254329239433,
          -0.0035062760267128936,
          0.08424065696344561,
          -0.34861136326239917,
          -0.5773398933615295,
          1.0256733217952154,
          -0.06418613699322666,
          0.019078012793534434,
          -1.156538974787846,
          0.02289360348830671,
          -0.0043799335893084206,
          0.02757685315332816,
          -0.48649182386845996,
          -0.15851763645934286,
          0.055791640588142934,
          0.060552070832293796,
          0.8205748695404776,
          0.045269259001517806,
          -0.904362873718288,
          -0.050575826074016665,
          -0.010513080494824564,
          0.032587052102290785,
          -0.1632169827340782,
          0.008283003921257713,
          0.02652545350096548,
          -0.01584812561344423,
          -0.00881944340251812,
          -0.12614028933080995,
          0.06858518034487991,
          -0.07645816353987463,
          -0.06935908825735279,
          -0.5247957556651873,
          -0.035663850599054976,
          0.21331897950159504,
          -0.09494532478646457,
          -0.004358354603196613,
          -2.2943254976167915,
          0.051771477648198644,
          -0.01653811143896839,
          -0.0001810681347066428,
          -0.1456813199025394,
          -0.05192229862620741,
          0.2604835481787279,
          0.24983675330062052,
          0.11537822249727105,
          0.027386155017748312,
          -0.009091705099397093,
          -0.015806959029634696,
          -0.033372225053427525,
          -0.10191460847117823,
          0.10883073866041235,
          0.0009453493554230818,
          -0.3861039933391532,
          -0.2133738066760401,
          0.01658128497128481,
          -0.40202026098765414,
          -0.01914003139096672,
          0.03097495854360108,
          0.13169653378404023,
          0.13939280594427864,
          0.021591325082824717,
          -0.3704620531274592,
          -0.07322778423378867,
          -0.08584038194839115,
          -1.2980830578482654,
          -0.7784212644056648,
          -0.2983252143089738,
          -0.37606604718410697,
          -0.4959396472150729,
          -0.7921225521976517,
          -0.14563915775174474,
          -0.10803637380241209,
          -0.7473940155499602,
          0.0497163670464265,
          0.09988846083500341,
          0.342857850765086,
          -0.05915013524360239,
          0.18687126840413468,
          0.014015373558269966,
          0.02838870984312724,
          0.007910287978782961,
          0.022302101708303542,
          -0.027029580331130214,
          0.032478607710525395,
          0.08396431039781115,
          -0.16357166137109974,
          0.2231466442495767,
          -0.07171980282529278,
          -0.05353897163240653,
          0.024841822673214855,
          0.6690882398165194,
          0.09188163295613987,
          -0.038693691897482556,
          -0.32212718973125803,
          -0.031076816645608508,
          0.28705763321924227,
          0.6613209632296081,
          2.291054002666869,
          0.18722767644501462,
          -1.512532687624466,
          -0.02271771249640299,
          -0.20436123252671115,
          -0.08256023621240378,
          0.0030335722807093156,
          -0.10915543413694834,
          0.06201467571439532,
          0.013183813297971603,
          -0.4519723178832051,
          2.971843309414981,
          -0.7019427692420802,
          -0.06088956216529613,
          0.2538303906415823,
          -0.11867507595251321,
          -0.08801178467700782,
          -0.03278139142574439,
          0.017630905891353722,
          -0.16283317014239596,
          0.002513887321579541,
          -0.14241392297169475,
          -0.05943171723432232,
          -0.21627982623928413,
          -0.6877052884993096,
          -0.08259058950350565,
          -0.2852933430473288,
          -0.11073301053325912,
          0.23255451222661197,
          0.22839430648743317,
          -0.13174178847471374,
          0.040625114094319736,
          -0.01653122775029268,
          -1.12796572520129,
          -0.057274880755263935,
          0.0046680214117309,
          -0.0898767959620311,
          0.6666816780901472,
          -1.9030455169591225,
          -0.10399677483511127,
          0.0507975190293482,
          0.024896989567109173,
          0.09679897985523565,
          -0.09243139482482093,
          0.02765573962561421,
          -0.007358542095049971,
          0.022595142501751462,
          0.005539631670843232,
          0.027645519253046282,
          -0.50138973061848,
          -0.07571659992177536,
          0.035169491252682775,
          -0.009650439740021837,
          -0.5471439062656333,
          -0.06845422284408084,
          0.015575526239128328,
          0.039952384839650065,
          -0.16563148326212626,
          -0.08820970644020436,
          0.4882696164065538,
          -0.012451791531057094,
          -0.22428258915243152,
          -0.05038964695313832,
          0.1732443345371907,
          -1.2984873103203411,
          -0.056043046592379395,
          -0.020044332931678205,
          0.013183813297971603,
          -0.07175921566913569,
          0.030120395381295514,
          -0.0637358469372483,
          0.06870315680014893,
          0.5731111208595425,
          -0.12333545309104835,
          -0.026646991643223837,
          -1.0551622240080565,
          -0.03845135751405421,
          0.0009974461383423193,
          -0.018396355237624916,
          0.016413405301327455,
          -0.045219007187049944,
          0.3219591986062467,
          -0.3690153781359077,
          -0.3473648418904238,
          -0.11197617810810463,
          -0.06031745085179665,
          0.2443937857814816,
          -0.008835824452561293,
          0.008623188066203533,
          -0.1965087300832907,
          -0.04788731728917613,
          0.14753611311518472,
          0.08995134187061717,
          0.0035506812798410518,
          0.004577910264395802,
          0.36657207970151456,
          -0.061553161354856924,
          -0.02830728457603966,
          -0.0320072958551314,
          -0.02827005951641766,
          -0.020010268689888523,
          -0.04187726849299691,
          -0.020248277549476196,
          -0.05537042360804985,
          0.08270700905845867,
          -0.025936269051968584,
          -0.011938327999697594,
          -0.510632110179071,
          -0.019541428775840298,
          -0.046531843082400694,
          -0.0013091450126901526,
          0.7408415185499696,
          -1.4916027502190223,
          -0.032444060959482025,
          0.009351226698951434,
          0.0051750042656240605,
          -0.22373648514691602,
          -0.037325442150210324,
          -0.08189397874445208,
          0.04424302815520518,
          -0.005119112785752515,
          -0.0034333411140778764,
          -0.011378922172415368,
          -0.000581720983751951,
          -0.2099490921034303,
          0.02759141344526959,
          0.011277236809970928,
          0.1453651643355005,
          -0.3384918355370602,
          0.02638337349159868,
          0.09189717228663498,
          -0.041947032186308936,
          0.03283116407642771,
          0.054876110933886786,
          0.016644467513387533,
          0.13517581575802617,
          -0.10069553066827754,
          -0.6700514606411192,
          -0.26125443086743494,
          0.522360261249932,
          -0.2568069671431571,
          -0.3083353832615334,
          -0.511369444822086,
          0.09826217760879924,
          -0.3608696084132851,
          0.016764655427652354,
          0.0005654386447601,
          0.015094357818192076,
          0.06489632970788443,
          -0.1272095882293745,
          0.0846451941423076,
          -0.1177048600862964,
          -0.10024721326690879,
          -0.3166311140035188,
          -0.028091347088576173,
          0.07068421841378879,
          -0.23219696753334443,
          -0.03286580701113986,
          0.011755434523089353,
          -0.07610667075427129,
          0.08282324702869177,
          -0.18051942461563758,
          0.027346021495346012,
          -0.02845700207440844,
          0.22333237934656172,
          -0.015947773331822082,
          -0.02115551410786506,
          0.7559451238050486,
          -0.11933087490849201,
          -0.02219200212425561,
          -0.09092351521483659,
          -0.0005857388247185012,
          -0.016073330556648762,
          -0.408158598958061,
          -0.08764074676505548,
          -0.16067524467783803,
          -0.00636493978279457,
          -0.5258836859353411,
          0.1066098089977015,
          -0.045587374555396847,
          -0.008549030641678989,
          -0.06103743101741142,
          -0.08969763705783529,
          -0.03004789392310793,
          -0.00823834236053684,
          -0.004165483184027865,
          0.018330024410718154,
          -0.0982527368718202,
          0.11147568731576224,
          0.03893935052491601,
          -0.001377533061338028,
          0.05753370108195692,
          0.1741307105253213,
          -0.011934920778052954,
          -0.020444667640349,
          -0.4932918253782629,
          0.041806397461667116,
          -0.08216118971193141,
          0.007519748001745598,
          0.01843459149836195,
          0.11030616423689668,
          -0.1843866430518797,
          0.8109678490767182,
          -0.7081276952094743,
          0.06321328386419356,
          -0.04251978803344197,
          -0.2485938044302616,
          0.17488663832513546,
          0.008374638731510084,
          1.7974234944183822,
          0.24452084448975528,
          0.03684112038363375,
          -0.06340959352827172,
          -0.018670139165268676,
          0.00835293191261429,
          0.13593832236495448,
          -0.006562517525529393,
          0.5719498526856299,
          0.016882670772324696,
          -0.11067545044155301,
          -0.011037813142574968,
          0.01017069855498928,
          -0.014750085342642097,
          -0.08062392618183743,
          -0.26279175897309076,
          -0.9676180503858585,
          0.021528455987389384,
          0.0062166425937342125,
          -0.09928815057634616,
          0.014543066442923767,
          -0.11928101406792349,
          0.12651424600428604,
          -0.015351048245906137,
          -0.0600258794655426,
          -0.0905547812618095,
          0.030414036976371267,
          0.09642408060499838,
          0.09482170088524934,
          -0.014245351190268256,
          0.17582465268135167,
          -0.002876894908897646,
          -0.024207869424168072,
          -0.021492939893830703,
          -0.0312622941562563,
          -0.003555113649058464,
          -0.11574925035818653,
          -1.3351750743127304,
          0.43229268904714135,
          -0.05881080343514985,
          -0.03616671685825559,
          0.060421771119103,
          -0.02557910013732226,
          0.05031468598889884,
          0.14352052470010646,
          0.045458678155353816,
          -0.18778612100037712,
          0.518643541040614,
          0.0010971587476712387,
          -0.0027678635366058875,
          0.44611397073016007,
          -0.10696763622828781,
          -0.048145175016739206,
          0.01715761707978485,
          0.00046376965418835496,
          0.008955772569678768,
          -0.006074402855906285,
          0.0007843011241348148,
          -0.07675129861148965,
          -0.014380841033639204,
          0.07064780611479987,
          0.027269562335552062,
          0.0062303204922703505,
          0.010850512867296333,
          -0.0002759413807424464,
          -0.018445933477161808,
          -0.01101318220077819,
          -0.0037339456418027284,
          0.007620256208943535,
          0.03224366803151612,
          0.00655867419626206,
          -0.04597741796222039,
          0.011009779133309621,
          -0.0070518380359550215,
          -0.07544780100679221,
          -0.010432424159711892,
          0.003886752603526648,
          0.029441605786421365,
          0.06393979980898405,
          -0.02379469613966591,
          -0.00030132636876945994,
          -0.00543139539402476,
          0.19331564858020192,
          -0.006887999507883554,
          0.17168282140513716,
          -0.07699278260270796,
          0.03851685103145946,
          -0.5686781865200609,
          -0.004988829375922617,
          0.030431239239061658,
          0.06596829931766553,
          -0.09284965085454433,
          0.01021623972325976,
          0.02542499987321023,
          -0.053781165308192436,
          0.2022793915623445,
          0.0007659697208090283,
          0.036205207585796796,
          0.17516001129667014,
          0.0006607998717976863,
          -0.08922448011901798,
          0.05526522841661604,
          -0.09933050421535175,
          -0.018954078779649695,
          0.045791183436685645,
          -0.35335964214331245,
          -0.21427222020904305,
          0.05952254355758906,
          -0.036393949174876865,
          0.014862681946733897,
          0.02975367557655541,
          -0.07153687983870358,
          0.039724528013272795,
          0.028855973812801444,
          -0.054476461356741675,
          0.06300575733015715,
          -0.0027992985634510714,
          0.1587512477092563,
          -0.019894588480836323,
          0.39633020455292006,
          -0.15035072572638378,
          0.0009770972935127485,
          0.018054871120091503,
          0.04306718307465645,
          0.014075095581154724,
          0.057171956108151456,
          -0.018265465376837767,
          0.017109959091627224,
          0.02232617005078923,
          0.5460705415960478,
          0.012927340860333,
          -0.02684987018422776,
          -0.01781873991711101,
          0.007599478206074907,
          -0.03966272981823821,
          0.004996129771718903,
          -0.02168976467352069,
          -0.03822319447631906,
          0.0001001129168156832,
          0.015188929652095834,
          -0.006591134022786169,
          -0.008953161687754492,
          0.20042293445427672,
          0.017444369192045086,
          0.010547050638377282,
          -0.022021158064822483,
          -0.2465371328395982,
          -0.0674681971724247,
          0.10523310223110907,
          0.0357085348124823,
          -0.01673580374882661,
          -0.49377139666223985,
          -0.004732521989953579,
          0.011977670019806234,
          0.011184479701351531,
          0.03624831631131741,
          -0.2940620966918067,
          0.009769738640011011,
          -0.027267343432476467,
          -1.234841367574416,
          0.01710188793697624,
          0.014285248886636397,
          -0.18987225610288735,
          -0.04284777103414627,
          -0.0005792487743213615,
          0.0633289329483966,
          -0.08533685875151187,
          -0.023300551906853005,
          0.016119958920635124,
          -0.0027869035735283904,
          0.02570285287028938,
          -0.0352591901797751,
          -0.0032554199367111846,
          -0.1968562570870443,
          0.009483776635234984,
          -0.10192382596599583,
          -0.04099840444327524,
          -0.008336903740555242,
          -0.02078194762164105,
          -0.14492174015914278,
          -0.022568663458393878,
          0.09159064730740094,
          -0.7215204696742129,
          0.07644645336534722,
          -0.12633266672986,
          -0.017060725489963804,
          0.0384875165061093,
          -0.1919955862076349,
          -0.0949331017137047,
          -0.24472734649516958,
          -0.026416364405781687,
          -0.06196024845683304,
          0.012465728501825975,
          0.013016266996709122,
          -0.019620923867003263,
          0.014575035944332994,
          0.007696590850734866,
          0.018266365941827227,
          -0.023530492250994725,
          -0.04768387410859198,
          -0.06065253987315195,
          -0.02268985569620714,
          0.022658532156941295,
          -0.026450933537850267,
          -0.004008176758243163,
          0.009895024915496754,
          -0.013552480408101421,
          0.025787690241453547,
          0.00517093619774031,
          -0.00593141193418806,
          -0.05278139200431311,
          -0.018076237239392685,
          -0.07224049376506361,
          -0.0007723316990951488,
          0.05159504256224347,
          0.1971129303697071,
          0.12646427376766642,
          -0.038729812739446985,
          0.01790396034484798,
          -0.0013183105253661254,
          -0.008725879271936484,
          0.007910287978782961,
          -0.004945818443926125,
          0.020270924477089343,
          0.06267356081388305,
          -0.07064122421548316,
          -0.015974407048637625,
          0.004347807838138902,
          -0.023686623852539633,
          -0.1698213921402805,
          0.011670647040481234,
          -0.013021242229650634,
          0.09920150977500661,
          -0.00270040722312248,
          -0.0257189796112478,
          -0.009980606118686147,
          0.003305653695429595,
          0.040182543700717846,
          0.1661877373601135,
          0.01441328059693436,
          0.013811039007149332,
          0.003961930037114608,
          -0.1691916673038436,
          -0.006728503016203547,
          -0.00025211412339215414,
          0.006494510724422243,
          -0.009748139540879386,
          0.19276260724671035,
          -0.0039566547551409,
          0.03972897018829827,
          0.011600541149017346,
          0.01563713119454261,
          -0.0328788302501956,
          0.00541639003893624,
          0.014655001269260276,
          -0.009545164215546482,
          0.016530190637964726,
          -0.008725879271936484,
          -0.15773493161793814,
          -0.005138331625684901,
          0.002126932001464408,
          -0.005869963433384774,
          0.0005012095230799555,
          0.011429129676172574,
          -0.006544409453952365,
          0.07155147236993302,
          -0.017846933781793674,
          -0.0093546433819295,
          0.20285348499906788,
          -0.030812238725221805,
          -0.04428743603825687,
          -0.030333354514323965,
          0.01822947331055533,
          -0.0071907606315939065,
          0.03867455873932866,
          -0.02904479141582946,
          0.054225015918663105,
          -0.016653647564228723,
          -0.029743328065705885,
          0.030681218877455792,
          0.020578413597883302,
          -0.011358461817657988,
          0.037016273712291374,
          0.017451796875486703,
          0.027806570786251646,
          -0.22563726333672818,
          0.02425427405349038,
          -0.020133702565923534,
          0.15204924322285432,
          -0.05957670521087646,
          -0.008725879271936484,
          0.031042135664012618,
          -0.008216473772963409,
          0.004284765785069685,
          0.00011178280734746051,
          -0.06415484428387191,
          0.009463093387560661,
          0.12181270076091981,
          -0.003009594560196298,
          0.0023511719121414483,
          0.02583650377821249,
          0.01654471820501405,
          0.0003372149410048411,
          -0.004890652469128914,
          -0.006385899904521942,
          -0.023719803274926985,
          -0.08180202030931687,
          -0.009593965784156841,
          -0.01105312450981375,
          -0.004657348500042742,
          -0.02115551410786506,
          0.16515725270822168,
          -0.007195572636661949,
          -0.0066591994994013625,
          0.03571264541961994,
          -0.010907349089920606,
          0.008904180572505183,
          0.005585428490888387,
          -0.002181469817984121,
          -0.010991591980069338,
          0.03201531234849962,
          -0.003731384325687007,
          -0.004335572989310977,
          -0.0063005663466085635,
          0.04221791866952671,
          -0.01494318357717991,
          -0.008725879271936484,
          0.07856487772930534,
          0.005912403297720718,
          -0.014858410458630907,
          -0.02996181267458597,
          0.03215475407591185,
          -0.010367361026504625,
          -0.014409678688069614,
          -0.009521928212889849,
          0.0016404837860992238,
          0.010208759137436728,
          0.008480364913169575,
          0.08125206674715311,
          0.0037599651678997667,
          -0.008725879271936484,
          0.012592628400963271,
          0.013183813297971603,
          0.07984615653758477,
          0.08396677037435646,
          -0.0093546433819295,
          0.010547050638377282,
          -0.0057787355121528446,
          0.004778590788835227,
          0.04066370434364609,
          -0.037297628130795894,
          0.023489217123896285,
          -0.039779904104677376,
          -0.006544409453952365,
          -0.034735861174749486,
          0.01353682407763806,
          0.01565678733002802,
          0.047687125471071456,
          0.011984318379609352,
          0.0026367626595943205,
          -0.0036775561840657633,
          0.01745375545263835,
          -0.009177094010291414,
          -0.0039566547551409,
          0.0030368977677604735,
          0.004047311987822581,
          0.0061572726805878926,
          -0.021689198384000838,
          -0.16767987908115398,
          0.024868124019886875,
          0.009406722002162225,
          0.011700381679297194,
          -0.009231180186082752,
          -0.011565769471509429,
          0.048648203388247005,
          -0.0009247383059869823,
          0.012999181072695352,
          -0.021291374831725027,
          0.009618146393635086,
          -0.12653971023509866,
          -0.01492552138151683,
          0.008976611444871122,
          -0.01731470096097487,
          0.011250604854820096,
          -0.004765508036538504,
          -0.004406907114813549,
          -0.02042900373243337,
          0.023368882727698527,
          -0.046365069015055604,
          -0.005128695834576685,
          0.024201293991363563,
          -0.010907349089920606,
          -0.0011358312165502145,
          0.019668121695208672,
          -0.001996801573019651,
          -0.001992955452255772,
          -0.0036005429641633043,
          -0.008725879271936484,
          0.0017214805818252814,
          0.0015535404071756697,
          0.09164926728393658,
          0.17542338539667335,
          -0.009856144280445654,
          -0.023589881133400915,
          0.014208526159503599,
          -0.008725879271936484,
          -0.00005743904720196771,
          -0.006010061568213129,
          -0.07525621199674806,
          -0.004362939635968242,
          -0.011043917124644004,
          -0.021678145900145857,
          -0.05286141394895037,
          -0.009110795814830248,
          0.01469766302759766,
          -0.009324727757671378,
          -0.003846034599215155,
          0.015554416365802142,
          0.008371581833182708,
          -0.009880543732122507,
          -0.010353065075565175,
          0.03263875217572567,
          -0.0013029058056592629,
          -0.011814235106130595,
          -0.03435775379500265,
          0.022161784297232267,
          -0.004945818443926125,
          -0.04342650504187687,
          -0.0004155240770472536,
          -0.0039566547551409,
          -0.005043041803990551,
          -0.006078001264977671,
          -0.010907349089920606,
          0.020570175719428114,
          -0.005091386502908622,
          -0.03894800972592908,
          0.00842498280799582,
          0.004407993433347872,
          -0.03207426624998941,
          -0.0005260768247048558,
          0.03965975304589257,
          0.012741292826545717,
          -0.010907349089920606,
          0.0021601179283528946,
          0.005163287710241454,
          -0.010907349089920606,
          -0.006544409453952365,
          -0.011112181151222407,
          0.012872125659268624,
          0.029553742781538838,
          0.005273525319188641,
          -0.02073120251645606,
          -0.06859962423156606,
          0.011428432718024899,
          -0.0018919026310539515,
          0.12353250884198641,
          -0.019295269803352902,
          0.02498251252090343,
          0.03962089005235118,
          0.12318423256593354,
          -0.009451239599108546,
          -0.02125618500720945,
          0.008442273165497283,
          0.003250388554772766,
          0.0009679356247896635,
          -0.08864490003173967,
          -0.006544409453952365,
          0.012376458411711254,
          0.011288895066844912,
          0.03645423377738506,
          0.016506890704774634,
          -0.01712393886547216,
          0.11135535955452973,
          0.005672677226460279,
          0.0013213837879297327,
          -0.018396355237624916,
          -0.04315831015310079,
          -0.0009115882684713942,
          -0.008725879271936484,
          0.032748486441572786,
          0.18759778599819388,
          0.028680305027050098,
          0.01797293269019119,
          0.0010546538250361644,
          0.015751979099133742,
          0.005672677226460279,
          -0.002338630394510627,
          0.01855100207374532,
          0.03485481109756401,
          -0.11135182621387278,
          0.09412602050305784,
          0.012181904060356597,
          -0.006544409453952365,
          0.006767083361030127,
          -0.029270422476864975,
          0.011127612699400675,
          0.013318126609372425,
          0.0043765508816651835,
          0.018257376898213818,
          0.0019119634620107595,
          -0.004945818443926125,
          0.013938859576261672,
          -0.04581033839333689,
          -0.02648261968296816,
          -0.008725879271936484,
          -0.0034728310682902506,
          -0.023701955256150417,
          -0.00176359321443098,
          -0.056414210385665825,
          0.011017631224314869,
          0.006807212671752334,
          0.014634083725506994,
          -0.00014125346818670995,
          -0.015650505951489195,
          -0.015906376664829115,
          0.014059833082517162,
          0.007432080522283263,
          -0.007540938854733311,
          -0.003506168694423269,
          -0.019400644090973695,
          0.010817273565599951,
          0.012168533413290123,
          0.004538141781168222,
          0.00014584403638483618,
          0.005672677226460279,
          0.00030703602735296923,
          0.04942692690229486,
          0.019601622600001388,
          -0.010907349089920606,
          -0.008725879271936484,
          0.013080596708740913,
          0.05810209075879078,
          0.010201714247665594,
          -0.03677909320109808,
          -0.0020558872545052708,
          0.010464477366992731,
          0.024844516872797845,
          -0.002107384023312883,
          0.004538141781168222,
          -0.01075854711705704,
          -0.01764038908918695,
          0.0026367626595943205,
          -0.0036792710475249857,
          -0.010556177560071652,
          -0.0008987971173403417,
          0.007117562944967915,
          0.002269070890584111,
          0.0028247588739870964,
          0.008818586441022108,
          -0.008725879271936484,
          0.010464477366992731,
          0.0073098092739045375,
          0.002269070890584111,
          0.011207380079173358,
          0.005672677226460279,
          -0.012639732021871306,
          -0.009231180186082752,
          0.002746673133156964,
          -0.0646383986534462,
          -0.006544409453952365,
          0.002204646610255527,
          -0.008725879271936484,
          -0.002954338486606433,
          0.0006875228920028468,
          -0.004362939635968242,
          -0.012513126878467564,
          0.00801170926076203,
          0.010547050638377282,
          0.0991710719997203,
          0.010464477366992731,
          -0.002181469817984121,
          -0.00004172873626584777,
          -0.006544409453952365,
          0.0061717908135617274,
          0.002922941920610991,
          0.007848358025244547,
          0.005273525319188641,
          0.007848358025244547,
          0.007910287978782961,
          0.010547050638377282,
          0.004538141781168222,
          -0.04193995020676755,
          0.003403606335876167,
          0.005232238683496366,
          0.0064093674086096245,
          -0.004945818443926125,
          -0.002547679102850291,
          -0.009803227308151988,
          -0.00014125346818670995,
          -0.0005349116457355326,
          -0.000612044670578301,
          0.004538141781168222,
          0.003403606335876167,
          0.003403606335876167,
          0.003403606335876167
         ]
        }
       ],
       "layout": {
        "template": {
         "data": {
          "bar": [
           {
            "error_x": {
             "color": "#2a3f5f"
            },
            "error_y": {
             "color": "#2a3f5f"
            },
            "marker": {
             "line": {
              "color": "#E5ECF6",
              "width": 0.5
             },
             "pattern": {
              "fillmode": "overlay",
              "size": 10,
              "solidity": 0.2
             }
            },
            "type": "bar"
           }
          ],
          "barpolar": [
           {
            "marker": {
             "line": {
              "color": "#E5ECF6",
              "width": 0.5
             },
             "pattern": {
              "fillmode": "overlay",
              "size": 10,
              "solidity": 0.2
             }
            },
            "type": "barpolar"
           }
          ],
          "carpet": [
           {
            "aaxis": {
             "endlinecolor": "#2a3f5f",
             "gridcolor": "white",
             "linecolor": "white",
             "minorgridcolor": "white",
             "startlinecolor": "#2a3f5f"
            },
            "baxis": {
             "endlinecolor": "#2a3f5f",
             "gridcolor": "white",
             "linecolor": "white",
             "minorgridcolor": "white",
             "startlinecolor": "#2a3f5f"
            },
            "type": "carpet"
           }
          ],
          "choropleth": [
           {
            "colorbar": {
             "outlinewidth": 0,
             "ticks": ""
            },
            "type": "choropleth"
           }
          ],
          "contour": [
           {
            "colorbar": {
             "outlinewidth": 0,
             "ticks": ""
            },
            "colorscale": [
             [
              0,
              "#0d0887"
             ],
             [
              0.1111111111111111,
              "#46039f"
             ],
             [
              0.2222222222222222,
              "#7201a8"
             ],
             [
              0.3333333333333333,
              "#9c179e"
             ],
             [
              0.4444444444444444,
              "#bd3786"
             ],
             [
              0.5555555555555556,
              "#d8576b"
             ],
             [
              0.6666666666666666,
              "#ed7953"
             ],
             [
              0.7777777777777778,
              "#fb9f3a"
             ],
             [
              0.8888888888888888,
              "#fdca26"
             ],
             [
              1,
              "#f0f921"
             ]
            ],
            "type": "contour"
           }
          ],
          "contourcarpet": [
           {
            "colorbar": {
             "outlinewidth": 0,
             "ticks": ""
            },
            "type": "contourcarpet"
           }
          ],
          "heatmap": [
           {
            "colorbar": {
             "outlinewidth": 0,
             "ticks": ""
            },
            "colorscale": [
             [
              0,
              "#0d0887"
             ],
             [
              0.1111111111111111,
              "#46039f"
             ],
             [
              0.2222222222222222,
              "#7201a8"
             ],
             [
              0.3333333333333333,
              "#9c179e"
             ],
             [
              0.4444444444444444,
              "#bd3786"
             ],
             [
              0.5555555555555556,
              "#d8576b"
             ],
             [
              0.6666666666666666,
              "#ed7953"
             ],
             [
              0.7777777777777778,
              "#fb9f3a"
             ],
             [
              0.8888888888888888,
              "#fdca26"
             ],
             [
              1,
              "#f0f921"
             ]
            ],
            "type": "heatmap"
           }
          ],
          "heatmapgl": [
           {
            "colorbar": {
             "outlinewidth": 0,
             "ticks": ""
            },
            "colorscale": [
             [
              0,
              "#0d0887"
             ],
             [
              0.1111111111111111,
              "#46039f"
             ],
             [
              0.2222222222222222,
              "#7201a8"
             ],
             [
              0.3333333333333333,
              "#9c179e"
             ],
             [
              0.4444444444444444,
              "#bd3786"
             ],
             [
              0.5555555555555556,
              "#d8576b"
             ],
             [
              0.6666666666666666,
              "#ed7953"
             ],
             [
              0.7777777777777778,
              "#fb9f3a"
             ],
             [
              0.8888888888888888,
              "#fdca26"
             ],
             [
              1,
              "#f0f921"
             ]
            ],
            "type": "heatmapgl"
           }
          ],
          "histogram": [
           {
            "marker": {
             "pattern": {
              "fillmode": "overlay",
              "size": 10,
              "solidity": 0.2
             }
            },
            "type": "histogram"
           }
          ],
          "histogram2d": [
           {
            "colorbar": {
             "outlinewidth": 0,
             "ticks": ""
            },
            "colorscale": [
             [
              0,
              "#0d0887"
             ],
             [
              0.1111111111111111,
              "#46039f"
             ],
             [
              0.2222222222222222,
              "#7201a8"
             ],
             [
              0.3333333333333333,
              "#9c179e"
             ],
             [
              0.4444444444444444,
              "#bd3786"
             ],
             [
              0.5555555555555556,
              "#d8576b"
             ],
             [
              0.6666666666666666,
              "#ed7953"
             ],
             [
              0.7777777777777778,
              "#fb9f3a"
             ],
             [
              0.8888888888888888,
              "#fdca26"
             ],
             [
              1,
              "#f0f921"
             ]
            ],
            "type": "histogram2d"
           }
          ],
          "histogram2dcontour": [
           {
            "colorbar": {
             "outlinewidth": 0,
             "ticks": ""
            },
            "colorscale": [
             [
              0,
              "#0d0887"
             ],
             [
              0.1111111111111111,
              "#46039f"
             ],
             [
              0.2222222222222222,
              "#7201a8"
             ],
             [
              0.3333333333333333,
              "#9c179e"
             ],
             [
              0.4444444444444444,
              "#bd3786"
             ],
             [
              0.5555555555555556,
              "#d8576b"
             ],
             [
              0.6666666666666666,
              "#ed7953"
             ],
             [
              0.7777777777777778,
              "#fb9f3a"
             ],
             [
              0.8888888888888888,
              "#fdca26"
             ],
             [
              1,
              "#f0f921"
             ]
            ],
            "type": "histogram2dcontour"
           }
          ],
          "mesh3d": [
           {
            "colorbar": {
             "outlinewidth": 0,
             "ticks": ""
            },
            "type": "mesh3d"
           }
          ],
          "parcoords": [
           {
            "line": {
             "colorbar": {
              "outlinewidth": 0,
              "ticks": ""
             }
            },
            "type": "parcoords"
           }
          ],
          "pie": [
           {
            "automargin": true,
            "type": "pie"
           }
          ],
          "scatter": [
           {
            "fillpattern": {
             "fillmode": "overlay",
             "size": 10,
             "solidity": 0.2
            },
            "type": "scatter"
           }
          ],
          "scatter3d": [
           {
            "line": {
             "colorbar": {
              "outlinewidth": 0,
              "ticks": ""
             }
            },
            "marker": {
             "colorbar": {
              "outlinewidth": 0,
              "ticks": ""
             }
            },
            "type": "scatter3d"
           }
          ],
          "scattercarpet": [
           {
            "marker": {
             "colorbar": {
              "outlinewidth": 0,
              "ticks": ""
             }
            },
            "type": "scattercarpet"
           }
          ],
          "scattergeo": [
           {
            "marker": {
             "colorbar": {
              "outlinewidth": 0,
              "ticks": ""
             }
            },
            "type": "scattergeo"
           }
          ],
          "scattergl": [
           {
            "marker": {
             "colorbar": {
              "outlinewidth": 0,
              "ticks": ""
             }
            },
            "type": "scattergl"
           }
          ],
          "scattermapbox": [
           {
            "marker": {
             "colorbar": {
              "outlinewidth": 0,
              "ticks": ""
             }
            },
            "type": "scattermapbox"
           }
          ],
          "scatterpolar": [
           {
            "marker": {
             "colorbar": {
              "outlinewidth": 0,
              "ticks": ""
             }
            },
            "type": "scatterpolar"
           }
          ],
          "scatterpolargl": [
           {
            "marker": {
             "colorbar": {
              "outlinewidth": 0,
              "ticks": ""
             }
            },
            "type": "scatterpolargl"
           }
          ],
          "scatterternary": [
           {
            "marker": {
             "colorbar": {
              "outlinewidth": 0,
              "ticks": ""
             }
            },
            "type": "scatterternary"
           }
          ],
          "surface": [
           {
            "colorbar": {
             "outlinewidth": 0,
             "ticks": ""
            },
            "colorscale": [
             [
              0,
              "#0d0887"
             ],
             [
              0.1111111111111111,
              "#46039f"
             ],
             [
              0.2222222222222222,
              "#7201a8"
             ],
             [
              0.3333333333333333,
              "#9c179e"
             ],
             [
              0.4444444444444444,
              "#bd3786"
             ],
             [
              0.5555555555555556,
              "#d8576b"
             ],
             [
              0.6666666666666666,
              "#ed7953"
             ],
             [
              0.7777777777777778,
              "#fb9f3a"
             ],
             [
              0.8888888888888888,
              "#fdca26"
             ],
             [
              1,
              "#f0f921"
             ]
            ],
            "type": "surface"
           }
          ],
          "table": [
           {
            "cells": {
             "fill": {
              "color": "#EBF0F8"
             },
             "line": {
              "color": "white"
             }
            },
            "header": {
             "fill": {
              "color": "#C8D4E3"
             },
             "line": {
              "color": "white"
             }
            },
            "type": "table"
           }
          ]
         },
         "layout": {
          "annotationdefaults": {
           "arrowcolor": "#2a3f5f",
           "arrowhead": 0,
           "arrowwidth": 1
          },
          "autotypenumbers": "strict",
          "coloraxis": {
           "colorbar": {
            "outlinewidth": 0,
            "ticks": ""
           }
          },
          "colorscale": {
           "diverging": [
            [
             0,
             "#8e0152"
            ],
            [
             0.1,
             "#c51b7d"
            ],
            [
             0.2,
             "#de77ae"
            ],
            [
             0.3,
             "#f1b6da"
            ],
            [
             0.4,
             "#fde0ef"
            ],
            [
             0.5,
             "#f7f7f7"
            ],
            [
             0.6,
             "#e6f5d0"
            ],
            [
             0.7,
             "#b8e186"
            ],
            [
             0.8,
             "#7fbc41"
            ],
            [
             0.9,
             "#4d9221"
            ],
            [
             1,
             "#276419"
            ]
           ],
           "sequential": [
            [
             0,
             "#0d0887"
            ],
            [
             0.1111111111111111,
             "#46039f"
            ],
            [
             0.2222222222222222,
             "#7201a8"
            ],
            [
             0.3333333333333333,
             "#9c179e"
            ],
            [
             0.4444444444444444,
             "#bd3786"
            ],
            [
             0.5555555555555556,
             "#d8576b"
            ],
            [
             0.6666666666666666,
             "#ed7953"
            ],
            [
             0.7777777777777778,
             "#fb9f3a"
            ],
            [
             0.8888888888888888,
             "#fdca26"
            ],
            [
             1,
             "#f0f921"
            ]
           ],
           "sequentialminus": [
            [
             0,
             "#0d0887"
            ],
            [
             0.1111111111111111,
             "#46039f"
            ],
            [
             0.2222222222222222,
             "#7201a8"
            ],
            [
             0.3333333333333333,
             "#9c179e"
            ],
            [
             0.4444444444444444,
             "#bd3786"
            ],
            [
             0.5555555555555556,
             "#d8576b"
            ],
            [
             0.6666666666666666,
             "#ed7953"
            ],
            [
             0.7777777777777778,
             "#fb9f3a"
            ],
            [
             0.8888888888888888,
             "#fdca26"
            ],
            [
             1,
             "#f0f921"
            ]
           ]
          },
          "colorway": [
           "#636efa",
           "#EF553B",
           "#00cc96",
           "#ab63fa",
           "#FFA15A",
           "#19d3f3",
           "#FF6692",
           "#B6E880",
           "#FF97FF",
           "#FECB52"
          ],
          "font": {
           "color": "#2a3f5f"
          },
          "geo": {
           "bgcolor": "white",
           "lakecolor": "white",
           "landcolor": "#E5ECF6",
           "showlakes": true,
           "showland": true,
           "subunitcolor": "white"
          },
          "hoverlabel": {
           "align": "left"
          },
          "hovermode": "closest",
          "mapbox": {
           "style": "light"
          },
          "paper_bgcolor": "white",
          "plot_bgcolor": "#E5ECF6",
          "polar": {
           "angularaxis": {
            "gridcolor": "white",
            "linecolor": "white",
            "ticks": ""
           },
           "bgcolor": "#E5ECF6",
           "radialaxis": {
            "gridcolor": "white",
            "linecolor": "white",
            "ticks": ""
           }
          },
          "scene": {
           "xaxis": {
            "backgroundcolor": "#E5ECF6",
            "gridcolor": "white",
            "gridwidth": 2,
            "linecolor": "white",
            "showbackground": true,
            "ticks": "",
            "zerolinecolor": "white"
           },
           "yaxis": {
            "backgroundcolor": "#E5ECF6",
            "gridcolor": "white",
            "gridwidth": 2,
            "linecolor": "white",
            "showbackground": true,
            "ticks": "",
            "zerolinecolor": "white"
           },
           "zaxis": {
            "backgroundcolor": "#E5ECF6",
            "gridcolor": "white",
            "gridwidth": 2,
            "linecolor": "white",
            "showbackground": true,
            "ticks": "",
            "zerolinecolor": "white"
           }
          },
          "shapedefaults": {
           "line": {
            "color": "#2a3f5f"
           }
          },
          "ternary": {
           "aaxis": {
            "gridcolor": "white",
            "linecolor": "white",
            "ticks": ""
           },
           "baxis": {
            "gridcolor": "white",
            "linecolor": "white",
            "ticks": ""
           },
           "bgcolor": "#E5ECF6",
           "caxis": {
            "gridcolor": "white",
            "linecolor": "white",
            "ticks": ""
           }
          },
          "title": {
           "x": 0.05
          },
          "xaxis": {
           "automargin": true,
           "gridcolor": "white",
           "linecolor": "white",
           "ticks": "",
           "title": {
            "standoff": 15
           },
           "zerolinecolor": "white",
           "zerolinewidth": 2
          },
          "yaxis": {
           "automargin": true,
           "gridcolor": "white",
           "linecolor": "white",
           "ticks": "",
           "title": {
            "standoff": 15
           },
           "zerolinecolor": "white",
           "zerolinewidth": 2
          }
         }
        }
       }
      }
     },
     "metadata": {},
     "output_type": "display_data"
    },
    {
     "data": {
      "text/plain": [
       "<Figure size 3600x3600 with 0 Axes>"
      ]
     },
     "metadata": {},
     "output_type": "display_data"
    }
   ],
   "source": [
    "plt.figure(figsize=(50, 50))\n",
    "fig = go.Figure(data=[go.Scatter(x=h_reduced[:, 0], y=h_reduced[:, 1], mode='markers', text=itemMap)])\n",
    "fig.show()"
   ]
  },
  {
   "cell_type": "code",
   "execution_count": 15,
   "metadata": {},
   "outputs": [
    {
     "data": {
      "text/html": [
       "<div>\n",
       "<style scoped>\n",
       "    .dataframe tbody tr th:only-of-type {\n",
       "        vertical-align: middle;\n",
       "    }\n",
       "\n",
       "    .dataframe tbody tr th {\n",
       "        vertical-align: top;\n",
       "    }\n",
       "\n",
       "    .dataframe thead th {\n",
       "        text-align: right;\n",
       "    }\n",
       "</style>\n",
       "<table border=\"1\" class=\"dataframe\">\n",
       "  <thead>\n",
       "    <tr style=\"text-align: right;\">\n",
       "      <th></th>\n",
       "      <th>id</th>\n",
       "      <th>item</th>\n",
       "    </tr>\n",
       "  </thead>\n",
       "  <tbody>\n",
       "    <tr>\n",
       "      <th>0</th>\n",
       "      <td>0</td>\n",
       "      <td>Kolya (1996)</td>\n",
       "    </tr>\n",
       "    <tr>\n",
       "      <th>1</th>\n",
       "      <td>1</td>\n",
       "      <td>L.A. Confidential (1997)</td>\n",
       "    </tr>\n",
       "    <tr>\n",
       "      <th>2</th>\n",
       "      <td>2</td>\n",
       "      <td>Heavyweights (1994)</td>\n",
       "    </tr>\n",
       "    <tr>\n",
       "      <th>3</th>\n",
       "      <td>3</td>\n",
       "      <td>Legends of the Fall (1994)</td>\n",
       "    </tr>\n",
       "    <tr>\n",
       "      <th>4</th>\n",
       "      <td>4</td>\n",
       "      <td>Jackie Brown (1997)</td>\n",
       "    </tr>\n",
       "    <tr>\n",
       "      <th>...</th>\n",
       "      <td>...</td>\n",
       "      <td>...</td>\n",
       "    </tr>\n",
       "    <tr>\n",
       "      <th>1659</th>\n",
       "      <td>1659</td>\n",
       "      <td>Mamma Roma (1962)</td>\n",
       "    </tr>\n",
       "    <tr>\n",
       "      <th>1660</th>\n",
       "      <td>1660</td>\n",
       "      <td>Eighth Day, The (1996)</td>\n",
       "    </tr>\n",
       "    <tr>\n",
       "      <th>1661</th>\n",
       "      <td>1661</td>\n",
       "      <td>Girls Town (1996)</td>\n",
       "    </tr>\n",
       "    <tr>\n",
       "      <th>1662</th>\n",
       "      <td>1662</td>\n",
       "      <td>Silence of the Palace, The (Saimt el Qusur) (1...</td>\n",
       "    </tr>\n",
       "    <tr>\n",
       "      <th>1663</th>\n",
       "      <td>1663</td>\n",
       "      <td>Dadetown (1995)</td>\n",
       "    </tr>\n",
       "  </tbody>\n",
       "</table>\n",
       "<p>1664 rows × 2 columns</p>\n",
       "</div>"
      ],
      "text/plain": [
       "        id                                               item\n",
       "0        0                                       Kolya (1996)\n",
       "1        1                           L.A. Confidential (1997)\n",
       "2        2                                Heavyweights (1994)\n",
       "3        3                         Legends of the Fall (1994)\n",
       "4        4                                Jackie Brown (1997)\n",
       "...    ...                                                ...\n",
       "1659  1659                                  Mamma Roma (1962)\n",
       "1660  1660                             Eighth Day, The (1996)\n",
       "1661  1661                                  Girls Town (1996)\n",
       "1662  1662  Silence of the Palace, The (Saimt el Qusur) (1...\n",
       "1663  1663                                    Dadetown (1995)\n",
       "\n",
       "[1664 rows x 2 columns]"
      ]
     },
     "execution_count": 15,
     "metadata": {},
     "output_type": "execute_result"
    }
   ],
   "source": [
    "unique_items = data['Title'].unique()\n",
    "item_df = pd.DataFrame({'id': range(len(unique_items)), 'item': unique_items})\n",
    "item_df"
   ]
  },
  {
   "cell_type": "code",
   "execution_count": 16,
   "metadata": {},
   "outputs": [],
   "source": [
    "row_ind = data['Title'].map(pd.Series(data=item_df['item'], index=item_df['id']))\n"
   ]
  },
  {
   "cell_type": "code",
   "execution_count": 15,
   "metadata": {},
   "outputs": [],
   "source": [
    "def cosine_similarity(y,x):\n",
    "    x = W[x, :]\n",
    "    # print(x,y)\n",
    "    result = 1- spatial.distance.cosine(x, y)\n",
    "    # print(result)\n",
    "    return float(result)"
   ]
  },
  {
   "cell_type": "code",
   "execution_count": 16,
   "metadata": {},
   "outputs": [
    {
     "name": "stderr",
     "output_type": "stream",
     "text": [
      "/Users/nipunpathitage/opt/anaconda3/envs/rec/lib/python3.7/site-packages/scipy/spatial/distance.py:699: RuntimeWarning:\n",
      "\n",
      "invalid value encountered in double_scalars\n",
      "\n"
     ]
    }
   ],
   "source": [
    "ref_point = 120\n",
    "sim_arr = np.apply_along_axis(cosine_similarity, 1, H, x=ref_point) #.astype(np.float32)\n",
    "sim_arr[ref_point] = 0"
   ]
  },
  {
   "cell_type": "code",
   "execution_count": 17,
   "metadata": {},
   "outputs": [
    {
     "data": {
      "text/plain": [
       "array([ 864, 1362, 1357, 1259, 1365,  471,  595,  696, 1374,    0])"
      ]
     },
     "execution_count": 17,
     "metadata": {},
     "output_type": "execute_result"
    }
   ],
   "source": [
    "k = 10 \n",
    "inds = np.argpartition(sim_arr, -k)[-k:]\n",
    "inds"
   ]
  },
  {
   "cell_type": "code",
   "execution_count": 18,
   "metadata": {},
   "outputs": [
    {
     "data": {
      "text/plain": [
       "array([0.95624274, 0.98084814, 0.97030963, 0.98212082, 0.98084814,\n",
       "       0.95819977, 0.95707013, 0.97512666, 0.96535484, 1.        ])"
      ]
     },
     "execution_count": 18,
     "metadata": {},
     "output_type": "execute_result"
    }
   ],
   "source": [
    "topK = sim_arr[inds]\n",
    "topK"
   ]
  },
  {
   "cell_type": "code",
   "execution_count": 19,
   "metadata": {},
   "outputs": [
    {
     "data": {
      "application/vnd.plotly.v1+json": {
       "config": {
        "plotlyServerURL": "https://plot.ly"
       },
       "data": [
        {
         "mode": "markers",
         "type": "scatter",
         "x": [
          1.3837990760803223,
          -4.249641418457031,
          -4.449465751647949,
          -3.919323444366455,
          -4.508150100708008,
          2.260889768600464,
          1.2671135663986206,
          1.3079477548599243,
          -4.760930061340332,
          -3.864783763885498
         ],
         "y": [
          8.767833709716797,
          6.076620578765869,
          5.804379940032959,
          6.362308502197266,
          5.70884895324707,
          9.128396987915039,
          8.719595909118652,
          8.668206214904785,
          5.268434524536133,
          5.458653926849365
         ]
        },
        {
         "mode": "markers",
         "type": "scatter",
         "x": [
          0.5346270203590393
         ],
         "xaxis": "x",
         "y": [
          9.277976989746094
         ],
         "yaxis": "y2"
        }
       ],
       "layout": {
        "height": 600,
        "template": {
         "data": {
          "bar": [
           {
            "error_x": {
             "color": "#2a3f5f"
            },
            "error_y": {
             "color": "#2a3f5f"
            },
            "marker": {
             "line": {
              "color": "#E5ECF6",
              "width": 0.5
             },
             "pattern": {
              "fillmode": "overlay",
              "size": 10,
              "solidity": 0.2
             }
            },
            "type": "bar"
           }
          ],
          "barpolar": [
           {
            "marker": {
             "line": {
              "color": "#E5ECF6",
              "width": 0.5
             },
             "pattern": {
              "fillmode": "overlay",
              "size": 10,
              "solidity": 0.2
             }
            },
            "type": "barpolar"
           }
          ],
          "carpet": [
           {
            "aaxis": {
             "endlinecolor": "#2a3f5f",
             "gridcolor": "white",
             "linecolor": "white",
             "minorgridcolor": "white",
             "startlinecolor": "#2a3f5f"
            },
            "baxis": {
             "endlinecolor": "#2a3f5f",
             "gridcolor": "white",
             "linecolor": "white",
             "minorgridcolor": "white",
             "startlinecolor": "#2a3f5f"
            },
            "type": "carpet"
           }
          ],
          "choropleth": [
           {
            "colorbar": {
             "outlinewidth": 0,
             "ticks": ""
            },
            "type": "choropleth"
           }
          ],
          "contour": [
           {
            "colorbar": {
             "outlinewidth": 0,
             "ticks": ""
            },
            "colorscale": [
             [
              0,
              "#0d0887"
             ],
             [
              0.1111111111111111,
              "#46039f"
             ],
             [
              0.2222222222222222,
              "#7201a8"
             ],
             [
              0.3333333333333333,
              "#9c179e"
             ],
             [
              0.4444444444444444,
              "#bd3786"
             ],
             [
              0.5555555555555556,
              "#d8576b"
             ],
             [
              0.6666666666666666,
              "#ed7953"
             ],
             [
              0.7777777777777778,
              "#fb9f3a"
             ],
             [
              0.8888888888888888,
              "#fdca26"
             ],
             [
              1,
              "#f0f921"
             ]
            ],
            "type": "contour"
           }
          ],
          "contourcarpet": [
           {
            "colorbar": {
             "outlinewidth": 0,
             "ticks": ""
            },
            "type": "contourcarpet"
           }
          ],
          "heatmap": [
           {
            "colorbar": {
             "outlinewidth": 0,
             "ticks": ""
            },
            "colorscale": [
             [
              0,
              "#0d0887"
             ],
             [
              0.1111111111111111,
              "#46039f"
             ],
             [
              0.2222222222222222,
              "#7201a8"
             ],
             [
              0.3333333333333333,
              "#9c179e"
             ],
             [
              0.4444444444444444,
              "#bd3786"
             ],
             [
              0.5555555555555556,
              "#d8576b"
             ],
             [
              0.6666666666666666,
              "#ed7953"
             ],
             [
              0.7777777777777778,
              "#fb9f3a"
             ],
             [
              0.8888888888888888,
              "#fdca26"
             ],
             [
              1,
              "#f0f921"
             ]
            ],
            "type": "heatmap"
           }
          ],
          "heatmapgl": [
           {
            "colorbar": {
             "outlinewidth": 0,
             "ticks": ""
            },
            "colorscale": [
             [
              0,
              "#0d0887"
             ],
             [
              0.1111111111111111,
              "#46039f"
             ],
             [
              0.2222222222222222,
              "#7201a8"
             ],
             [
              0.3333333333333333,
              "#9c179e"
             ],
             [
              0.4444444444444444,
              "#bd3786"
             ],
             [
              0.5555555555555556,
              "#d8576b"
             ],
             [
              0.6666666666666666,
              "#ed7953"
             ],
             [
              0.7777777777777778,
              "#fb9f3a"
             ],
             [
              0.8888888888888888,
              "#fdca26"
             ],
             [
              1,
              "#f0f921"
             ]
            ],
            "type": "heatmapgl"
           }
          ],
          "histogram": [
           {
            "marker": {
             "pattern": {
              "fillmode": "overlay",
              "size": 10,
              "solidity": 0.2
             }
            },
            "type": "histogram"
           }
          ],
          "histogram2d": [
           {
            "colorbar": {
             "outlinewidth": 0,
             "ticks": ""
            },
            "colorscale": [
             [
              0,
              "#0d0887"
             ],
             [
              0.1111111111111111,
              "#46039f"
             ],
             [
              0.2222222222222222,
              "#7201a8"
             ],
             [
              0.3333333333333333,
              "#9c179e"
             ],
             [
              0.4444444444444444,
              "#bd3786"
             ],
             [
              0.5555555555555556,
              "#d8576b"
             ],
             [
              0.6666666666666666,
              "#ed7953"
             ],
             [
              0.7777777777777778,
              "#fb9f3a"
             ],
             [
              0.8888888888888888,
              "#fdca26"
             ],
             [
              1,
              "#f0f921"
             ]
            ],
            "type": "histogram2d"
           }
          ],
          "histogram2dcontour": [
           {
            "colorbar": {
             "outlinewidth": 0,
             "ticks": ""
            },
            "colorscale": [
             [
              0,
              "#0d0887"
             ],
             [
              0.1111111111111111,
              "#46039f"
             ],
             [
              0.2222222222222222,
              "#7201a8"
             ],
             [
              0.3333333333333333,
              "#9c179e"
             ],
             [
              0.4444444444444444,
              "#bd3786"
             ],
             [
              0.5555555555555556,
              "#d8576b"
             ],
             [
              0.6666666666666666,
              "#ed7953"
             ],
             [
              0.7777777777777778,
              "#fb9f3a"
             ],
             [
              0.8888888888888888,
              "#fdca26"
             ],
             [
              1,
              "#f0f921"
             ]
            ],
            "type": "histogram2dcontour"
           }
          ],
          "mesh3d": [
           {
            "colorbar": {
             "outlinewidth": 0,
             "ticks": ""
            },
            "type": "mesh3d"
           }
          ],
          "parcoords": [
           {
            "line": {
             "colorbar": {
              "outlinewidth": 0,
              "ticks": ""
             }
            },
            "type": "parcoords"
           }
          ],
          "pie": [
           {
            "automargin": true,
            "type": "pie"
           }
          ],
          "scatter": [
           {
            "fillpattern": {
             "fillmode": "overlay",
             "size": 10,
             "solidity": 0.2
            },
            "type": "scatter"
           }
          ],
          "scatter3d": [
           {
            "line": {
             "colorbar": {
              "outlinewidth": 0,
              "ticks": ""
             }
            },
            "marker": {
             "colorbar": {
              "outlinewidth": 0,
              "ticks": ""
             }
            },
            "type": "scatter3d"
           }
          ],
          "scattercarpet": [
           {
            "marker": {
             "colorbar": {
              "outlinewidth": 0,
              "ticks": ""
             }
            },
            "type": "scattercarpet"
           }
          ],
          "scattergeo": [
           {
            "marker": {
             "colorbar": {
              "outlinewidth": 0,
              "ticks": ""
             }
            },
            "type": "scattergeo"
           }
          ],
          "scattergl": [
           {
            "marker": {
             "colorbar": {
              "outlinewidth": 0,
              "ticks": ""
             }
            },
            "type": "scattergl"
           }
          ],
          "scattermapbox": [
           {
            "marker": {
             "colorbar": {
              "outlinewidth": 0,
              "ticks": ""
             }
            },
            "type": "scattermapbox"
           }
          ],
          "scatterpolar": [
           {
            "marker": {
             "colorbar": {
              "outlinewidth": 0,
              "ticks": ""
             }
            },
            "type": "scatterpolar"
           }
          ],
          "scatterpolargl": [
           {
            "marker": {
             "colorbar": {
              "outlinewidth": 0,
              "ticks": ""
             }
            },
            "type": "scatterpolargl"
           }
          ],
          "scatterternary": [
           {
            "marker": {
             "colorbar": {
              "outlinewidth": 0,
              "ticks": ""
             }
            },
            "type": "scatterternary"
           }
          ],
          "surface": [
           {
            "colorbar": {
             "outlinewidth": 0,
             "ticks": ""
            },
            "colorscale": [
             [
              0,
              "#0d0887"
             ],
             [
              0.1111111111111111,
              "#46039f"
             ],
             [
              0.2222222222222222,
              "#7201a8"
             ],
             [
              0.3333333333333333,
              "#9c179e"
             ],
             [
              0.4444444444444444,
              "#bd3786"
             ],
             [
              0.5555555555555556,
              "#d8576b"
             ],
             [
              0.6666666666666666,
              "#ed7953"
             ],
             [
              0.7777777777777778,
              "#fb9f3a"
             ],
             [
              0.8888888888888888,
              "#fdca26"
             ],
             [
              1,
              "#f0f921"
             ]
            ],
            "type": "surface"
           }
          ],
          "table": [
           {
            "cells": {
             "fill": {
              "color": "#EBF0F8"
             },
             "line": {
              "color": "white"
             }
            },
            "header": {
             "fill": {
              "color": "#C8D4E3"
             },
             "line": {
              "color": "white"
             }
            },
            "type": "table"
           }
          ]
         },
         "layout": {
          "annotationdefaults": {
           "arrowcolor": "#2a3f5f",
           "arrowhead": 0,
           "arrowwidth": 1
          },
          "autotypenumbers": "strict",
          "coloraxis": {
           "colorbar": {
            "outlinewidth": 0,
            "ticks": ""
           }
          },
          "colorscale": {
           "diverging": [
            [
             0,
             "#8e0152"
            ],
            [
             0.1,
             "#c51b7d"
            ],
            [
             0.2,
             "#de77ae"
            ],
            [
             0.3,
             "#f1b6da"
            ],
            [
             0.4,
             "#fde0ef"
            ],
            [
             0.5,
             "#f7f7f7"
            ],
            [
             0.6,
             "#e6f5d0"
            ],
            [
             0.7,
             "#b8e186"
            ],
            [
             0.8,
             "#7fbc41"
            ],
            [
             0.9,
             "#4d9221"
            ],
            [
             1,
             "#276419"
            ]
           ],
           "sequential": [
            [
             0,
             "#0d0887"
            ],
            [
             0.1111111111111111,
             "#46039f"
            ],
            [
             0.2222222222222222,
             "#7201a8"
            ],
            [
             0.3333333333333333,
             "#9c179e"
            ],
            [
             0.4444444444444444,
             "#bd3786"
            ],
            [
             0.5555555555555556,
             "#d8576b"
            ],
            [
             0.6666666666666666,
             "#ed7953"
            ],
            [
             0.7777777777777778,
             "#fb9f3a"
            ],
            [
             0.8888888888888888,
             "#fdca26"
            ],
            [
             1,
             "#f0f921"
            ]
           ],
           "sequentialminus": [
            [
             0,
             "#0d0887"
            ],
            [
             0.1111111111111111,
             "#46039f"
            ],
            [
             0.2222222222222222,
             "#7201a8"
            ],
            [
             0.3333333333333333,
             "#9c179e"
            ],
            [
             0.4444444444444444,
             "#bd3786"
            ],
            [
             0.5555555555555556,
             "#d8576b"
            ],
            [
             0.6666666666666666,
             "#ed7953"
            ],
            [
             0.7777777777777778,
             "#fb9f3a"
            ],
            [
             0.8888888888888888,
             "#fdca26"
            ],
            [
             1,
             "#f0f921"
            ]
           ]
          },
          "colorway": [
           "#636efa",
           "#EF553B",
           "#00cc96",
           "#ab63fa",
           "#FFA15A",
           "#19d3f3",
           "#FF6692",
           "#B6E880",
           "#FF97FF",
           "#FECB52"
          ],
          "font": {
           "color": "#2a3f5f"
          },
          "geo": {
           "bgcolor": "white",
           "lakecolor": "white",
           "landcolor": "#E5ECF6",
           "showlakes": true,
           "showland": true,
           "subunitcolor": "white"
          },
          "hoverlabel": {
           "align": "left"
          },
          "hovermode": "closest",
          "mapbox": {
           "style": "light"
          },
          "paper_bgcolor": "white",
          "plot_bgcolor": "#E5ECF6",
          "polar": {
           "angularaxis": {
            "gridcolor": "white",
            "linecolor": "white",
            "ticks": ""
           },
           "bgcolor": "#E5ECF6",
           "radialaxis": {
            "gridcolor": "white",
            "linecolor": "white",
            "ticks": ""
           }
          },
          "scene": {
           "xaxis": {
            "backgroundcolor": "#E5ECF6",
            "gridcolor": "white",
            "gridwidth": 2,
            "linecolor": "white",
            "showbackground": true,
            "ticks": "",
            "zerolinecolor": "white"
           },
           "yaxis": {
            "backgroundcolor": "#E5ECF6",
            "gridcolor": "white",
            "gridwidth": 2,
            "linecolor": "white",
            "showbackground": true,
            "ticks": "",
            "zerolinecolor": "white"
           },
           "zaxis": {
            "backgroundcolor": "#E5ECF6",
            "gridcolor": "white",
            "gridwidth": 2,
            "linecolor": "white",
            "showbackground": true,
            "ticks": "",
            "zerolinecolor": "white"
           }
          },
          "shapedefaults": {
           "line": {
            "color": "#2a3f5f"
           }
          },
          "ternary": {
           "aaxis": {
            "gridcolor": "white",
            "linecolor": "white",
            "ticks": ""
           },
           "baxis": {
            "gridcolor": "white",
            "linecolor": "white",
            "ticks": ""
           },
           "bgcolor": "#E5ECF6",
           "caxis": {
            "gridcolor": "white",
            "linecolor": "white",
            "ticks": ""
           }
          },
          "title": {
           "x": 0.05
          },
          "xaxis": {
           "automargin": true,
           "gridcolor": "white",
           "linecolor": "white",
           "ticks": "",
           "title": {
            "standoff": 15
           },
           "zerolinecolor": "white",
           "zerolinewidth": 2
          },
          "yaxis": {
           "automargin": true,
           "gridcolor": "white",
           "linecolor": "white",
           "ticks": "",
           "title": {
            "standoff": 15
           },
           "zerolinecolor": "white",
           "zerolinewidth": 2
          }
         }
        },
        "title": {
         "text": "Customer Similarity"
        },
        "width": 800,
        "xaxis": {
         "anchor": "y",
         "domain": [
          0,
          0.94
         ],
         "tickangle": -90
        },
        "yaxis": {
         "anchor": "x",
         "domain": [
          0,
          1
         ]
        },
        "yaxis2": {
         "anchor": "x",
         "overlaying": "y",
         "side": "right"
        }
       }
      }
     },
     "metadata": {},
     "output_type": "display_data"
    }
   ],
   "source": [
    "trace1 = go.Scatter(x=h_reduced[inds, 0], y=h_reduced[inds, 1], mode='markers')\n",
    "trace2 = go.Scatter(x=[h_reduced[ref_point, 0]], y=[h_reduced[ref_point, 1]], mode='markers')\n",
    "\n",
    "fig = make_subplots(specs=[[{\"secondary_y\": True}]])\n",
    "fig.add_trace(trace1)\n",
    "fig.add_trace(trace2,secondary_y=True)\n",
    "fig['layout'].update(height = 600, width = 800, title = \"Customer Similarity\",xaxis=dict(\n",
    "      tickangle=-90\n",
    "    ))\n",
    "fig.show()"
   ]
  },
  {
   "cell_type": "code",
   "execution_count": 26,
   "metadata": {},
   "outputs": [
    {
     "data": {
      "text/plain": [
       "array([  1,   6,   7,  10,  11,  13,  14,  16,  18,  24,  28,  29,  42,\n",
       "        43,  49,  58,  59,  60,  62,  64,  69,  72,  73,  76,  84,  90,\n",
       "        92,  94,  99, 106, 109, 110, 115, 117, 119, 121, 130, 132, 135,\n",
       "       138, 144, 145, 151, 156, 174, 175, 177, 178, 180, 186, 194, 201,\n",
       "       204, 207, 213, 214, 216, 218, 221, 222, 226, 233, 234, 239, 246,\n",
       "       249, 250, 251, 253, 256, 259, 264, 267, 268, 271, 272, 276, 279,\n",
       "       280, 288, 291, 293, 297, 299, 301, 303, 305, 308, 311, 314, 315,\n",
       "       318, 322, 327, 328, 329, 332, 334, 339, 342, 343, 344, 345, 346,\n",
       "       347, 352, 361, 363, 370, 372, 373, 374, 378, 379, 380, 385, 387,\n",
       "       391, 393, 394, 397, 398, 399, 402, 405, 406, 409, 416, 417, 421,\n",
       "       425, 429, 430, 433, 435, 437, 442, 443, 445, 447, 450, 453, 454,\n",
       "       455, 456, 457, 458, 464, 465, 468, 472, 474, 478, 480, 483, 487,\n",
       "       491, 493, 497, 498, 499, 503, 506, 514, 521, 522, 524, 527, 532,\n",
       "       533, 537, 538, 542, 543, 548, 551, 556, 557, 559, 560, 561, 566,\n",
       "       567, 577, 583, 588, 592, 601, 603, 605, 606, 610, 613, 618, 622,\n",
       "       627, 629, 630, 632, 639, 640, 643, 654, 655, 663, 664, 665, 666,\n",
       "       669, 671, 673, 682, 686, 690, 693, 707, 710, 715, 727, 737, 745,\n",
       "       747, 758, 763, 773, 774, 785, 788, 795, 796, 805, 806, 823, 825,\n",
       "       831, 833, 836, 838, 844, 846, 851, 854, 862, 864, 867, 868, 870,\n",
       "       875, 880, 883, 886, 889, 892, 894, 896, 901, 903, 908, 910, 913,\n",
       "       916, 919, 924, 929, 933, 940, 943])"
      ]
     },
     "execution_count": 26,
     "metadata": {},
     "output_type": "execute_result"
    }
   ],
   "source": [
    "arr_120 = np.array([i[0] for i in sparse_mat.getcol(12).toarray()])\n",
    "user_120 = np.where(arr_120 != 0)[0]\n",
    "user_120"
   ]
  },
  {
   "cell_type": "code",
   "execution_count": 39,
   "metadata": {},
   "outputs": [],
   "source": [
    "def get_users(item_id):\n",
    "    arr_i = np.array([i[0] for i in sparse_mat.getcol(item_id).toarray()])\n",
    "    user_i = np.where(arr_i != 0)[0].tolist()\n",
    "    return user_i\n",
    "\n",
    "niegh_user_arr = {i: get_users(i) for i in inds}"
   ]
  },
  {
   "cell_type": "code",
   "execution_count": 40,
   "metadata": {},
   "outputs": [],
   "source": [
    "def dict_update(d1, d2):\n",
    "    for k,v in d2.items():\n",
    "        try:\n",
    "            d1[k].append(v)\n",
    "        except:\n",
    "            d1[k] = [v]\n",
    "    return d1\n",
    "\n",
    "def get_rating(user_dict):\n",
    "    rating_dict = {}\n",
    "    rating_sum_dict = {}\n",
    "    for u, arr in user_dict.items():\n",
    "        rating_dict[u] = np.array([i[0] for i in sparse_mat.getcol(u).toarray()])[arr]\n",
    "        rating_zip_dict = dict(zip(arr, rating_dict[u]))\n",
    "        rating_sum_dict = dict_update(rating_sum_dict, rating_zip_dict)\n",
    "    rating_mean_dict = {i: sum(arr)/len(arr) for i,arr in rating_sum_dict.items()}\n",
    "    rating_max_dict = {i: max(arr) for i, arr in rating_sum_dict.items()}\n",
    "    rating_min_dict = {i: min(arr) for i, arr in rating_sum_dict.items()}\n",
    "    return rating_dict, rating_mean_dict, rating_max_dict, rating_min_dict"
   ]
  },
  {
   "cell_type": "code",
   "execution_count": 41,
   "metadata": {},
   "outputs": [],
   "source": [
    "user_arr = functools.reduce(lambda x,y: x+y, list(niegh_user_arr.values()), [])\n",
    "user_set = functools.reduce(lambda x,y: set(y) | x, list(niegh_user_arr.values()), set([]))\n",
    "count_arr = np.bincount(np.array(user_arr))\n",
    "item_cnt = [count_arr[i] for i in user_set]"
   ]
  },
  {
   "cell_type": "code",
   "execution_count": 42,
   "metadata": {},
   "outputs": [],
   "source": [
    "a, b, c, d = get_rating(niegh_user_arr)"
   ]
  },
  {
   "cell_type": "code",
   "execution_count": 43,
   "metadata": {},
   "outputs": [],
   "source": [
    "user_items = get_users(120)"
   ]
  },
  {
   "cell_type": "code",
   "execution_count": 45,
   "metadata": {},
   "outputs": [
    {
     "data": {
      "text/html": [
       "<div>\n",
       "<style scoped>\n",
       "    .dataframe tbody tr th:only-of-type {\n",
       "        vertical-align: middle;\n",
       "    }\n",
       "\n",
       "    .dataframe tbody tr th {\n",
       "        vertical-align: top;\n",
       "    }\n",
       "\n",
       "    .dataframe thead th {\n",
       "        text-align: right;\n",
       "    }\n",
       "</style>\n",
       "<table border=\"1\" class=\"dataframe\">\n",
       "  <thead>\n",
       "    <tr style=\"text-align: right;\">\n",
       "      <th></th>\n",
       "      <th>item id</th>\n",
       "      <th>item</th>\n",
       "      <th>item_counts</th>\n",
       "      <th>rating_mean</th>\n",
       "      <th>rating_max</th>\n",
       "      <th>rating_min</th>\n",
       "    </tr>\n",
       "  </thead>\n",
       "  <tbody>\n",
       "    <tr>\n",
       "      <th>0</th>\n",
       "      <td>6</td>\n",
       "      <td>Hunt for Red October, The (1990)</td>\n",
       "      <td>1</td>\n",
       "      <td>2.0</td>\n",
       "      <td>2</td>\n",
       "      <td>2</td>\n",
       "    </tr>\n",
       "    <tr>\n",
       "      <th>1</th>\n",
       "      <td>7</td>\n",
       "      <td>Jungle Book, The (1994)</td>\n",
       "      <td>2</td>\n",
       "      <td>3.0</td>\n",
       "      <td>4</td>\n",
       "      <td>2</td>\n",
       "    </tr>\n",
       "    <tr>\n",
       "      <th>2</th>\n",
       "      <td>10</td>\n",
       "      <td>Men in Black (1997)</td>\n",
       "      <td>1</td>\n",
       "      <td>4.0</td>\n",
       "      <td>4</td>\n",
       "      <td>4</td>\n",
       "    </tr>\n",
       "    <tr>\n",
       "      <th>3</th>\n",
       "      <td>12</td>\n",
       "      <td>Star Trek: First Contact (1996)</td>\n",
       "      <td>1</td>\n",
       "      <td>5.0</td>\n",
       "      <td>5</td>\n",
       "      <td>5</td>\n",
       "    </tr>\n",
       "    <tr>\n",
       "      <th>4</th>\n",
       "      <td>13</td>\n",
       "      <td>To Wong Foo, Thanks for Everything! Julie Newm...</td>\n",
       "      <td>2</td>\n",
       "      <td>2.5</td>\n",
       "      <td>4</td>\n",
       "      <td>1</td>\n",
       "    </tr>\n",
       "  </tbody>\n",
       "</table>\n",
       "</div>"
      ],
      "text/plain": [
       "   item id                                               item  item_counts  \\\n",
       "0        6                   Hunt for Red October, The (1990)            1   \n",
       "1        7                            Jungle Book, The (1994)            2   \n",
       "2       10                                Men in Black (1997)            1   \n",
       "3       12                    Star Trek: First Contact (1996)            1   \n",
       "4       13  To Wong Foo, Thanks for Everything! Julie Newm...            2   \n",
       "\n",
       "   rating_mean  rating_max  rating_min  \n",
       "0          2.0           2           2  \n",
       "1          3.0           4           2  \n",
       "2          4.0           4           4  \n",
       "3          5.0           5           5  \n",
       "4          2.5           4           1  "
      ]
     },
     "execution_count": 45,
     "metadata": {},
     "output_type": "execute_result"
    }
   ],
   "source": [
    "neigh_item_df = pd.DataFrame({'item id': list(user_set), 'item': itemMap[list(user_set)], 'item_counts': item_cnt})\n",
    "neigh_item_df['rating_mean'] = neigh_item_df['item id'].map(b)\n",
    "neigh_item_df['rating_max'] = neigh_item_df['item id'].map(c)\n",
    "neigh_item_df['rating_min'] = neigh_item_df['item id'].map(d)\n",
    "np.in1d(list(user_set), user_items)\n",
    "neigh_item_df.head()"
   ]
  },
  {
   "cell_type": "code",
   "execution_count": 46,
   "metadata": {},
   "outputs": [],
   "source": [
    "neigh_item_enc = W[list(user_set), :]\n",
    "W2d = get_2d(W)\n",
    "neigh_item_2d = W2d[list(user_set), :]"
   ]
  },
  {
   "cell_type": "code",
   "execution_count": 50,
   "metadata": {},
   "outputs": [
    {
     "data": {
      "application/vnd.plotly.v1+json": {
       "config": {
        "plotlyServerURL": "https://plot.ly"
       },
       "data": [
        {
         "mode": "markers",
         "text": [
          296,
          34,
          209,
          354,
          199,
          1,
          173,
          360,
          331,
          204,
          416,
          566,
          9,
          492,
          697,
          40,
          733,
          568,
          249,
          440,
          139,
          90,
          866,
          18,
          937,
          533,
          680,
          486,
          724,
          428,
          861,
          279,
          743,
          305,
          500,
          191,
          54,
          190,
          178,
          100,
          319,
          378,
          171,
          241,
          397,
          383,
          179,
          285,
          293,
          343,
          498,
          322,
          466,
          404,
          423,
          561,
          570,
          509,
          531,
          685,
          490,
          464,
          364,
          177,
          401,
          818,
          669,
          853,
          151,
          838,
          388,
          389,
          865,
          896,
          422,
          744,
          615,
          605,
          547,
          827,
          819,
          480,
          524,
          934,
          902,
          626,
          860,
          851,
          48,
          668,
          564,
          278,
          587,
          770,
          880,
          926,
          842,
          836,
          875,
          616,
          903,
          332,
          919,
          475,
          931,
          147,
          635,
          705,
          85,
          11,
          59,
          504,
          437,
          593,
          916,
          790,
          881,
          922,
          632,
          711,
          878,
          133,
          385,
          353,
          834,
          805,
          936,
          768,
          519,
          462,
          60,
          213,
          272,
          321,
          118,
          382,
          290,
          44,
          267,
          189,
          250,
          487,
          488,
          124,
          527,
          653,
          398,
          114,
          645,
          862,
          843,
          796,
          847,
          840,
          541,
          830,
          326,
          933,
          912,
          864,
          727,
          447,
          911,
          622,
          275,
          280,
          251,
          316,
          340,
          135,
          153,
          583,
          429,
          600,
          436,
          554,
          495,
          715,
          807,
          795,
          773,
          897,
          746,
          618,
          253,
          38,
          620,
          749,
          901,
          887,
          119,
          262,
          361,
          478,
          914,
          623,
          23,
          106,
          243,
          212,
          658,
          907,
          855,
          122,
          884,
          449,
          211,
          247,
          168,
          182,
          101,
          501,
          223,
          576,
          79,
          703,
          779,
          470,
          839,
          852,
          582,
          525,
          483,
          759,
          652,
          238,
          540,
          563,
          57,
          176,
          580,
          761,
          917,
          590,
          97,
          357,
          127,
          255,
          442,
          581,
          8,
          572,
          679,
          596,
          157,
          274,
          891,
          538,
          51,
          893,
          68,
          348,
          349,
          754,
          150,
          691,
          777,
          283,
          850,
          175,
          604,
          633,
          333,
          228,
          575,
          98,
          261,
          400,
          170,
          681,
          824,
          810,
          750,
          589,
          813,
          732,
          46,
          443,
          155,
          220,
          522,
          725,
          558,
          266,
          260,
          335,
          143,
          341,
          687,
          502,
          876,
          33,
          799,
          358,
          873
         ],
         "type": "scatter",
         "x": [
          1.8465770483016968,
          1.756117820739746,
          1.2717154026031494,
          2.1591503620147705,
          2.0112175941467285,
          9.435844421386719,
          0.9348323941230774,
          7.4994635581970215,
          5.208359718322754,
          9.428635597229004,
          4.658497333526611,
          4.730013847351074,
          8.06063175201416,
          9.394933700561523,
          9.24531364440918,
          0.09424227476119995,
          2.09193754196167,
          8.820024490356445,
          7.855359077453613,
          1.2513519525527954,
          8.768878936767578,
          8.163515090942383,
          5.0206074714660645,
          2.1038312911987305,
          -0.16907654702663422,
          -0.32405829429626465,
          2.3732759952545166,
          0.9498914480209351,
          9.698041915893555,
          7.218434810638428,
          9.261587142944336,
          7.89528751373291,
          1.7878390550613403,
          8.644353866577148,
          0.6452191472053528,
          8.881867408752441,
          2.9446027278900146,
          4.1972551345825195,
          4.823616027832031,
          1.035512089729309,
          9.75533676147461,
          1.0398650169372559,
          0.633743941783905,
          1.7051546573638916,
          9.687085151672363,
          -0.43493571877479553,
          9.25532341003418,
          5.027480125427246,
          1.2333405017852783,
          9.728983879089355,
          7.38792085647583,
          2.4837872982025146,
          1.4079779386520386,
          9.156289100646973,
          1.6737817525863647,
          -0.3002833425998688,
          8.569092750549316,
          1.2910621166229248,
          2.037607431411743,
          0.6360505819320679,
          0.9560266733169556,
          9.060439109802246,
          7.7126874923706055,
          1.4365272521972656,
          2.4910500049591064,
          1.4713866710662842,
          8.057132720947266,
          7.09780216217041,
          -0.42768609523773193,
          0.0414288304746151,
          9.0382661819458,
          1.83452570438385,
          9.253632545471191,
          5.0020670890808105,
          1.1491492986679077,
          9.403376579284668,
          -0.3544645607471466,
          9.654940605163574,
          0.02617521956562996,
          1.7120481729507446,
          7.6393561363220215,
          -0.21581293642520905,
          0.04352100193500519,
          9.187453269958496,
          2.784066677093506,
          0.32432734966278076,
          1.9507147073745728,
          1.2067711353302002,
          -0.32299554347991943,
          0.7176777124404907,
          7.7757673263549805,
          0.023634014651179314,
          2.131525993347168,
          2.183276414871216,
          5.075306415557861,
          2.5121474266052246,
          8.83659553527832,
          1.272764801979065,
          4.692005157470703,
          1.6911565065383911,
          7.692845344543457,
          7.516777992248535,
          -0.09206762909889221,
          3.081758975982666,
          3.1706762313842773,
          1.2174795866012573,
          7.783560752868652,
          9.763443946838379,
          1.6579028367996216,
          5.147937297821045,
          4.57658576965332,
          1.307593584060669,
          1.7042909860610962,
          2.605473041534424,
          1.066749930381775,
          1.9213255643844604,
          9.0680513381958,
          1.091814637184143,
          2.6498301029205322,
          8.11781120300293,
          9.819002151489258,
          8.582858085632324,
          1.4622294902801514,
          8.711846351623535,
          9.448417663574219,
          8.350936889648438,
          -0.16668635606765747,
          5.01983118057251,
          4.260429859161377,
          8.464428901672363,
          7.44082498550415,
          0.8350814580917358,
          2.0457663536071777,
          0.6178479790687561,
          2.253622531890869,
          1.6770925521850586,
          -0.36799150705337524,
          1.1042512655258179,
          0.887397825717926,
          9.203289985656738,
          9.406293869018555,
          0.5296474695205688,
          8.271196365356445,
          1.7355260848999023,
          1.7537944316864014,
          2.1512391567230225,
          9.47567367553711,
          1.7181187868118286,
          7.429651737213135,
          1.095084309577942,
          7.6753716468811035,
          8.877460479736328,
          4.620641708374023,
          4.911104202270508,
          9.674142837524414,
          2.1790809631347656,
          9.62286376953125,
          1.9501574039459229,
          1.4903727769851685,
          9.40740966796875,
          1.6472452878952026,
          0.6375946402549744,
          9.494040489196777,
          0.34974974393844604,
          1.195692539215088,
          9.061924934387207,
          0.5010215044021606,
          9.707106590270996,
          2.884469747543335,
          8.011966705322266,
          9.664138793945312,
          7.487671852111816,
          1.7024829387664795,
          8.892122268676758,
          1.6968337297439575,
          5.071306228637695,
          7.894528865814209,
          -0.13542085886001587,
          3.102226972579956,
          8.78386402130127,
          8.372563362121582,
          1.2355128526687622,
          1.3722199201583862,
          0.41662275791168213,
          7.563579082489014,
          3.550718307495117,
          1.5159984827041626,
          5.406440258026123,
          9.31506061553955,
          1.2755738496780396,
          8.863626480102539,
          9.665489196777344,
          9.585833549499512,
          4.103640079498291,
          5.029114246368408,
          1.849387526512146,
          7.976738929748535,
          1.359033465385437,
          0.05544416978955269,
          0.8763602375984192,
          1.993323802947998,
          0.8307477831840515,
          3.001587152481079,
          1.372813105583191,
          1.8349401950836182,
          7.5298261642456055,
          4.041534423828125,
          8.50378131866455,
          0.12373892962932587,
          8.796393394470215,
          1.2964682579040527,
          9.253963470458984,
          8.673501014709473,
          9.475695610046387,
          2.2557997703552246,
          8.30008316040039,
          4.538925647735596,
          9.692136764526367,
          9.272814750671387,
          0.7089452743530273,
          2.3065900802612305,
          9.323394775390625,
          8.31445598602295,
          1.9869349002838135,
          9.017539024353027,
          1.2761485576629639,
          7.7069926261901855,
          8.490342140197754,
          2.354259967803955,
          2.0902299880981445,
          7.673161029815674,
          1.7754849195480347,
          -0.1736682504415512,
          8.815705299377441,
          9.053468704223633,
          3.0153002738952637,
          9.47762680053711,
          8.408440589904785,
          2.2139525413513184,
          1.3318874835968018,
          1.49315345287323,
          8.537580490112305,
          8.88781452178955,
          8.319600105285645,
          -0.426247239112854,
          2.3403310775756836,
          4.237283229827881,
          2.8262479305267334,
          -0.0371466763317585,
          9.735106468200684,
          2.345271587371826,
          8.301424980163574,
          -0.27262505888938904,
          8.442184448242188,
          4.685400485992432,
          0.7834165692329407,
          0.6531722545623779,
          1.1765012741088867,
          6.466235637664795,
          7.755234718322754,
          -0.050236497074365616,
          9.092963218688965,
          0.502991259098053,
          2.1062824726104736,
          4.1187262535095215,
          5.216554164886475,
          -0.18502578139305115,
          9.640179634094238,
          7.764037132263184,
          8.753432273864746,
          1.2515106201171875,
          2.2659912109375,
          2.077436685562134,
          6.801884651184082,
          4.825664520263672,
          0.016484010964632034,
          8.468494415283203,
          8.03158187866211,
          9.654582977294922,
          6.588358402252197,
          7.965877056121826,
          3.0699758529663086,
          5.4290666580200195,
          4.42179012298584,
          2.4751741886138916,
          5.17916202545166,
          8.739995002746582,
          0.477495014667511,
          9.682125091552734,
          9.347689628601074,
          7.86556339263916,
          9.725787162780762,
          9.63464641571045,
          2.4235191345214844,
          1.2801438570022583
         ],
         "y": [
          3.868197202682495,
          2.404465436935425,
          3.8202264308929443,
          5.925105094909668,
          2.15756893157959,
          6.640664100646973,
          5.774277210235596,
          5.249503135681152,
          6.979766368865967,
          7.622594356536865,
          2.7332351207733154,
          2.698084831237793,
          6.6192145347595215,
          7.239304542541504,
          6.990780830383301,
          2.68874454498291,
          5.981532573699951,
          6.480075836181641,
          6.3382568359375,
          6.098718643188477,
          7.390987396240234,
          6.880444049835205,
          2.8629260063171387,
          3.73500394821167,
          1.9351354837417603,
          2.179072618484497,
          1.8532226085662842,
          4.140769958496094,
          6.904205322265625,
          5.948296070098877,
          6.086543083190918,
          5.964808940887451,
          1.2425615787506104,
          5.348845958709717,
          4.319035053253174,
          7.0580525398254395,
          6.211399555206299,
          3.796414852142334,
          2.71077036857605,
          1.16805899143219,
          7.541785717010498,
          5.9922614097595215,
          1.4385850429534912,
          0.9973158240318298,
          7.299443244934082,
          3.091876745223999,
          6.603490829467773,
          2.600926399230957,
          1.9779056310653687,
          7.400905132293701,
          6.0613179206848145,
          0.8622473478317261,
          6.1212944984436035,
          6.243271350860596,
          4.350131988525391,
          2.515695333480835,
          5.774832725524902,
          6.1195478439331055,
          5.500596046447754,
          4.930699348449707,
          1.5578320026397705,
          6.446714401245117,
          5.2611918449401855,
          5.581716537475586,
          3.2879409790039062,
          5.816797256469727,
          5.607547283172607,
          4.154520511627197,
          3.1007206439971924,
          4.003382682800293,
          6.933775424957275,
          1.2099480628967285,
          6.583572864532471,
          6.858118534088135,
          5.595362663269043,
          7.06178617477417,
          2.1318752765655518,
          6.853455066680908,
          1.7555261850357056,
          1.6645989418029785,
          5.636560440063477,
          1.9893949031829834,
          2.681605577468872,
          7.639736175537109,
          5.2967987060546875,
          4.01054573059082,
          5.138333797454834,
          1.7655611038208008,
          2.076193332672119,
          4.706630706787109,
          4.097959995269775,
          2.687047243118286,
          2.239874839782715,
          2.6013805866241455,
          2.6025400161743164,
          5.202365398406982,
          5.572803497314453,
          1.909355640411377,
          2.6885995864868164,
          1.0654044151306152,
          7.398603439331055,
          5.367876052856445,
          4.0606160163879395,
          5.913844108581543,
          6.225999355316162,
          1.9637984037399292,
          5.95959997177124,
          7.528626918792725,
          5.697345733642578,
          6.898871898651123,
          2.873723268508911,
          1.88506281375885,
          1.7245594263076782,
          3.397801160812378,
          5.7812418937683105,
          1.4571958780288696,
          6.438563346862793,
          1.3042690753936768,
          5.016907691955566,
          6.713982105255127,
          7.398719310760498,
          5.169319152832031,
          1.6421194076538086,
          4.742179870605469,
          7.594978332519531,
          6.457716464996338,
          1.9197468757629395,
          6.850161552429199,
          5.958433151245117,
          6.537033557891846,
          7.354595184326172,
          4.067505836486816,
          2.3016746044158936,
          3.7144887447357178,
          5.059360027313232,
          6.130491733551025,
          3.0085811614990234,
          2.241002321243286,
          5.069051265716553,
          6.924020290374756,
          6.477993011474609,
          4.749301910400391,
          7.192093849182129,
          3.970264434814453,
          4.771781921386719,
          1.0557419061660767,
          7.660099029541016,
          1.5743372440338135,
          4.562472820281982,
          1.1318140029907227,
          7.394963264465332,
          7.577686309814453,
          2.7047860622406006,
          3.5929322242736816,
          7.532315254211426,
          2.573965072631836,
          6.892405033111572,
          1.6330907344818115,
          6.143639087677002,
          7.605621337890625,
          3.9394638538360596,
          3.136950731277466,
          7.103954315185547,
          4.125330924987793,
          2.1689443588256836,
          7.63552713394165,
          1.5787742137908936,
          7.448296546936035,
          6.214113712310791,
          7.183681488037109,
          7.134860992431641,
          6.245521545410156,
          1.7785991430282593,
          6.086874485015869,
          1.0306309461593628,
          2.7232179641723633,
          5.931421756744385,
          3.6969385147094727,
          6.244194984436035,
          7.558383464813232,
          6.023886680603027,
          4.588301181793213,
          5.907824993133545,
          4.124764442443848,
          5.285666465759277,
          5.529298782348633,
          6.165700435638428,
          3.0827324390411377,
          7.678205966949463,
          1.8656840324401855,
          7.005667686462402,
          7.653653144836426,
          6.945227146148682,
          4.955532073974609,
          2.6618125438690186,
          1.2725566625595093,
          5.912707328796387,
          1.8589131832122803,
          2.7247347831726074,
          4.40260648727417,
          5.538484573364258,
          4.231251239776611,
          6.298059463500977,
          3.8624327182769775,
          0.8009911179542542,
          5.052143573760986,
          4.960418701171875,
          5.466115474700928,
          1.825518012046814,
          6.171120643615723,
          5.984287261962891,
          7.4702324867248535,
          7.384370803833008,
          6.878947734832764,
          0.8929490447044373,
          5.758810520172119,
          4.33399772644043,
          7.393459320068359,
          6.600607872009277,
          3.5016043186187744,
          3.5808372497558594,
          7.412901401519775,
          6.450362205505371,
          5.8268961906433105,
          6.373229503631592,
          1.1110007762908936,
          5.30201530456543,
          6.2764105796813965,
          5.947978496551514,
          1.8099141120910645,
          5.856761932373047,
          0.9563173055648804,
          2.056513547897339,
          5.956823348999023,
          6.453479766845703,
          6.303229331970215,
          6.67568302154541,
          5.816723823547363,
          5.609922409057617,
          1.9333276748657227,
          0.9277691841125488,
          6.5482683181762695,
          7.46829080581665,
          5.878860950469971,
          2.8163177967071533,
          1.5086957216262817,
          3.7282674312591553,
          6.260550022125244,
          4.030533313751221,
          7.580599308013916,
          1.226424217224121,
          0.6916388273239136,
          2.5593419075012207,
          6.478153705596924,
          3.653573751449585,
          4.00460958480835,
          4.229104518890381,
          2.0017433166503906,
          6.376039981842041,
          6.096136093139648,
          3.9767370223999023,
          6.419253349304199,
          1.5633282661437988,
          2.1790430545806885,
          3.7045562267303467,
          2.9650440216064453,
          2.57733154296875,
          6.864023685455322,
          6.029609680175781,
          4.9680280685424805,
          1.868955135345459,
          1.7323905229568481,
          5.329941272735596,
          4.894228935241699,
          3.1677374839782715,
          3.9899380207061768,
          5.221267223358154,
          6.2472968101501465,
          7.362329959869385,
          3.7296342849731445,
          6.2085161209106445,
          6.288631439208984,
          3.0806119441986084,
          3.1945419311523438,
          5.7746663093566895,
          3.1091837882995605,
          4.8680009841918945,
          4.554981231689453,
          6.811779975891113,
          7.654380798339844,
          4.277276515960693,
          7.560146331787109,
          6.847421646118164,
          5.800876140594482,
          1.829363465309143
         ]
        }
       ],
       "layout": {
        "template": {
         "data": {
          "bar": [
           {
            "error_x": {
             "color": "#2a3f5f"
            },
            "error_y": {
             "color": "#2a3f5f"
            },
            "marker": {
             "line": {
              "color": "#E5ECF6",
              "width": 0.5
             },
             "pattern": {
              "fillmode": "overlay",
              "size": 10,
              "solidity": 0.2
             }
            },
            "type": "bar"
           }
          ],
          "barpolar": [
           {
            "marker": {
             "line": {
              "color": "#E5ECF6",
              "width": 0.5
             },
             "pattern": {
              "fillmode": "overlay",
              "size": 10,
              "solidity": 0.2
             }
            },
            "type": "barpolar"
           }
          ],
          "carpet": [
           {
            "aaxis": {
             "endlinecolor": "#2a3f5f",
             "gridcolor": "white",
             "linecolor": "white",
             "minorgridcolor": "white",
             "startlinecolor": "#2a3f5f"
            },
            "baxis": {
             "endlinecolor": "#2a3f5f",
             "gridcolor": "white",
             "linecolor": "white",
             "minorgridcolor": "white",
             "startlinecolor": "#2a3f5f"
            },
            "type": "carpet"
           }
          ],
          "choropleth": [
           {
            "colorbar": {
             "outlinewidth": 0,
             "ticks": ""
            },
            "type": "choropleth"
           }
          ],
          "contour": [
           {
            "colorbar": {
             "outlinewidth": 0,
             "ticks": ""
            },
            "colorscale": [
             [
              0,
              "#0d0887"
             ],
             [
              0.1111111111111111,
              "#46039f"
             ],
             [
              0.2222222222222222,
              "#7201a8"
             ],
             [
              0.3333333333333333,
              "#9c179e"
             ],
             [
              0.4444444444444444,
              "#bd3786"
             ],
             [
              0.5555555555555556,
              "#d8576b"
             ],
             [
              0.6666666666666666,
              "#ed7953"
             ],
             [
              0.7777777777777778,
              "#fb9f3a"
             ],
             [
              0.8888888888888888,
              "#fdca26"
             ],
             [
              1,
              "#f0f921"
             ]
            ],
            "type": "contour"
           }
          ],
          "contourcarpet": [
           {
            "colorbar": {
             "outlinewidth": 0,
             "ticks": ""
            },
            "type": "contourcarpet"
           }
          ],
          "heatmap": [
           {
            "colorbar": {
             "outlinewidth": 0,
             "ticks": ""
            },
            "colorscale": [
             [
              0,
              "#0d0887"
             ],
             [
              0.1111111111111111,
              "#46039f"
             ],
             [
              0.2222222222222222,
              "#7201a8"
             ],
             [
              0.3333333333333333,
              "#9c179e"
             ],
             [
              0.4444444444444444,
              "#bd3786"
             ],
             [
              0.5555555555555556,
              "#d8576b"
             ],
             [
              0.6666666666666666,
              "#ed7953"
             ],
             [
              0.7777777777777778,
              "#fb9f3a"
             ],
             [
              0.8888888888888888,
              "#fdca26"
             ],
             [
              1,
              "#f0f921"
             ]
            ],
            "type": "heatmap"
           }
          ],
          "heatmapgl": [
           {
            "colorbar": {
             "outlinewidth": 0,
             "ticks": ""
            },
            "colorscale": [
             [
              0,
              "#0d0887"
             ],
             [
              0.1111111111111111,
              "#46039f"
             ],
             [
              0.2222222222222222,
              "#7201a8"
             ],
             [
              0.3333333333333333,
              "#9c179e"
             ],
             [
              0.4444444444444444,
              "#bd3786"
             ],
             [
              0.5555555555555556,
              "#d8576b"
             ],
             [
              0.6666666666666666,
              "#ed7953"
             ],
             [
              0.7777777777777778,
              "#fb9f3a"
             ],
             [
              0.8888888888888888,
              "#fdca26"
             ],
             [
              1,
              "#f0f921"
             ]
            ],
            "type": "heatmapgl"
           }
          ],
          "histogram": [
           {
            "marker": {
             "pattern": {
              "fillmode": "overlay",
              "size": 10,
              "solidity": 0.2
             }
            },
            "type": "histogram"
           }
          ],
          "histogram2d": [
           {
            "colorbar": {
             "outlinewidth": 0,
             "ticks": ""
            },
            "colorscale": [
             [
              0,
              "#0d0887"
             ],
             [
              0.1111111111111111,
              "#46039f"
             ],
             [
              0.2222222222222222,
              "#7201a8"
             ],
             [
              0.3333333333333333,
              "#9c179e"
             ],
             [
              0.4444444444444444,
              "#bd3786"
             ],
             [
              0.5555555555555556,
              "#d8576b"
             ],
             [
              0.6666666666666666,
              "#ed7953"
             ],
             [
              0.7777777777777778,
              "#fb9f3a"
             ],
             [
              0.8888888888888888,
              "#fdca26"
             ],
             [
              1,
              "#f0f921"
             ]
            ],
            "type": "histogram2d"
           }
          ],
          "histogram2dcontour": [
           {
            "colorbar": {
             "outlinewidth": 0,
             "ticks": ""
            },
            "colorscale": [
             [
              0,
              "#0d0887"
             ],
             [
              0.1111111111111111,
              "#46039f"
             ],
             [
              0.2222222222222222,
              "#7201a8"
             ],
             [
              0.3333333333333333,
              "#9c179e"
             ],
             [
              0.4444444444444444,
              "#bd3786"
             ],
             [
              0.5555555555555556,
              "#d8576b"
             ],
             [
              0.6666666666666666,
              "#ed7953"
             ],
             [
              0.7777777777777778,
              "#fb9f3a"
             ],
             [
              0.8888888888888888,
              "#fdca26"
             ],
             [
              1,
              "#f0f921"
             ]
            ],
            "type": "histogram2dcontour"
           }
          ],
          "mesh3d": [
           {
            "colorbar": {
             "outlinewidth": 0,
             "ticks": ""
            },
            "type": "mesh3d"
           }
          ],
          "parcoords": [
           {
            "line": {
             "colorbar": {
              "outlinewidth": 0,
              "ticks": ""
             }
            },
            "type": "parcoords"
           }
          ],
          "pie": [
           {
            "automargin": true,
            "type": "pie"
           }
          ],
          "scatter": [
           {
            "fillpattern": {
             "fillmode": "overlay",
             "size": 10,
             "solidity": 0.2
            },
            "type": "scatter"
           }
          ],
          "scatter3d": [
           {
            "line": {
             "colorbar": {
              "outlinewidth": 0,
              "ticks": ""
             }
            },
            "marker": {
             "colorbar": {
              "outlinewidth": 0,
              "ticks": ""
             }
            },
            "type": "scatter3d"
           }
          ],
          "scattercarpet": [
           {
            "marker": {
             "colorbar": {
              "outlinewidth": 0,
              "ticks": ""
             }
            },
            "type": "scattercarpet"
           }
          ],
          "scattergeo": [
           {
            "marker": {
             "colorbar": {
              "outlinewidth": 0,
              "ticks": ""
             }
            },
            "type": "scattergeo"
           }
          ],
          "scattergl": [
           {
            "marker": {
             "colorbar": {
              "outlinewidth": 0,
              "ticks": ""
             }
            },
            "type": "scattergl"
           }
          ],
          "scattermapbox": [
           {
            "marker": {
             "colorbar": {
              "outlinewidth": 0,
              "ticks": ""
             }
            },
            "type": "scattermapbox"
           }
          ],
          "scatterpolar": [
           {
            "marker": {
             "colorbar": {
              "outlinewidth": 0,
              "ticks": ""
             }
            },
            "type": "scatterpolar"
           }
          ],
          "scatterpolargl": [
           {
            "marker": {
             "colorbar": {
              "outlinewidth": 0,
              "ticks": ""
             }
            },
            "type": "scatterpolargl"
           }
          ],
          "scatterternary": [
           {
            "marker": {
             "colorbar": {
              "outlinewidth": 0,
              "ticks": ""
             }
            },
            "type": "scatterternary"
           }
          ],
          "surface": [
           {
            "colorbar": {
             "outlinewidth": 0,
             "ticks": ""
            },
            "colorscale": [
             [
              0,
              "#0d0887"
             ],
             [
              0.1111111111111111,
              "#46039f"
             ],
             [
              0.2222222222222222,
              "#7201a8"
             ],
             [
              0.3333333333333333,
              "#9c179e"
             ],
             [
              0.4444444444444444,
              "#bd3786"
             ],
             [
              0.5555555555555556,
              "#d8576b"
             ],
             [
              0.6666666666666666,
              "#ed7953"
             ],
             [
              0.7777777777777778,
              "#fb9f3a"
             ],
             [
              0.8888888888888888,
              "#fdca26"
             ],
             [
              1,
              "#f0f921"
             ]
            ],
            "type": "surface"
           }
          ],
          "table": [
           {
            "cells": {
             "fill": {
              "color": "#EBF0F8"
             },
             "line": {
              "color": "white"
             }
            },
            "header": {
             "fill": {
              "color": "#C8D4E3"
             },
             "line": {
              "color": "white"
             }
            },
            "type": "table"
           }
          ]
         },
         "layout": {
          "annotationdefaults": {
           "arrowcolor": "#2a3f5f",
           "arrowhead": 0,
           "arrowwidth": 1
          },
          "autotypenumbers": "strict",
          "coloraxis": {
           "colorbar": {
            "outlinewidth": 0,
            "ticks": ""
           }
          },
          "colorscale": {
           "diverging": [
            [
             0,
             "#8e0152"
            ],
            [
             0.1,
             "#c51b7d"
            ],
            [
             0.2,
             "#de77ae"
            ],
            [
             0.3,
             "#f1b6da"
            ],
            [
             0.4,
             "#fde0ef"
            ],
            [
             0.5,
             "#f7f7f7"
            ],
            [
             0.6,
             "#e6f5d0"
            ],
            [
             0.7,
             "#b8e186"
            ],
            [
             0.8,
             "#7fbc41"
            ],
            [
             0.9,
             "#4d9221"
            ],
            [
             1,
             "#276419"
            ]
           ],
           "sequential": [
            [
             0,
             "#0d0887"
            ],
            [
             0.1111111111111111,
             "#46039f"
            ],
            [
             0.2222222222222222,
             "#7201a8"
            ],
            [
             0.3333333333333333,
             "#9c179e"
            ],
            [
             0.4444444444444444,
             "#bd3786"
            ],
            [
             0.5555555555555556,
             "#d8576b"
            ],
            [
             0.6666666666666666,
             "#ed7953"
            ],
            [
             0.7777777777777778,
             "#fb9f3a"
            ],
            [
             0.8888888888888888,
             "#fdca26"
            ],
            [
             1,
             "#f0f921"
            ]
           ],
           "sequentialminus": [
            [
             0,
             "#0d0887"
            ],
            [
             0.1111111111111111,
             "#46039f"
            ],
            [
             0.2222222222222222,
             "#7201a8"
            ],
            [
             0.3333333333333333,
             "#9c179e"
            ],
            [
             0.4444444444444444,
             "#bd3786"
            ],
            [
             0.5555555555555556,
             "#d8576b"
            ],
            [
             0.6666666666666666,
             "#ed7953"
            ],
            [
             0.7777777777777778,
             "#fb9f3a"
            ],
            [
             0.8888888888888888,
             "#fdca26"
            ],
            [
             1,
             "#f0f921"
            ]
           ]
          },
          "colorway": [
           "#636efa",
           "#EF553B",
           "#00cc96",
           "#ab63fa",
           "#FFA15A",
           "#19d3f3",
           "#FF6692",
           "#B6E880",
           "#FF97FF",
           "#FECB52"
          ],
          "font": {
           "color": "#2a3f5f"
          },
          "geo": {
           "bgcolor": "white",
           "lakecolor": "white",
           "landcolor": "#E5ECF6",
           "showlakes": true,
           "showland": true,
           "subunitcolor": "white"
          },
          "hoverlabel": {
           "align": "left"
          },
          "hovermode": "closest",
          "mapbox": {
           "style": "light"
          },
          "paper_bgcolor": "white",
          "plot_bgcolor": "#E5ECF6",
          "polar": {
           "angularaxis": {
            "gridcolor": "white",
            "linecolor": "white",
            "ticks": ""
           },
           "bgcolor": "#E5ECF6",
           "radialaxis": {
            "gridcolor": "white",
            "linecolor": "white",
            "ticks": ""
           }
          },
          "scene": {
           "xaxis": {
            "backgroundcolor": "#E5ECF6",
            "gridcolor": "white",
            "gridwidth": 2,
            "linecolor": "white",
            "showbackground": true,
            "ticks": "",
            "zerolinecolor": "white"
           },
           "yaxis": {
            "backgroundcolor": "#E5ECF6",
            "gridcolor": "white",
            "gridwidth": 2,
            "linecolor": "white",
            "showbackground": true,
            "ticks": "",
            "zerolinecolor": "white"
           },
           "zaxis": {
            "backgroundcolor": "#E5ECF6",
            "gridcolor": "white",
            "gridwidth": 2,
            "linecolor": "white",
            "showbackground": true,
            "ticks": "",
            "zerolinecolor": "white"
           }
          },
          "shapedefaults": {
           "line": {
            "color": "#2a3f5f"
           }
          },
          "ternary": {
           "aaxis": {
            "gridcolor": "white",
            "linecolor": "white",
            "ticks": ""
           },
           "baxis": {
            "gridcolor": "white",
            "linecolor": "white",
            "ticks": ""
           },
           "bgcolor": "#E5ECF6",
           "caxis": {
            "gridcolor": "white",
            "linecolor": "white",
            "ticks": ""
           }
          },
          "title": {
           "x": 0.05
          },
          "xaxis": {
           "automargin": true,
           "gridcolor": "white",
           "linecolor": "white",
           "ticks": "",
           "title": {
            "standoff": 15
           },
           "zerolinecolor": "white",
           "zerolinewidth": 2
          },
          "yaxis": {
           "automargin": true,
           "gridcolor": "white",
           "linecolor": "white",
           "ticks": "",
           "title": {
            "standoff": 15
           },
           "zerolinecolor": "white",
           "zerolinewidth": 2
          }
         }
        }
       }
      }
     },
     "metadata": {},
     "output_type": "display_data"
    }
   ],
   "source": [
    "fig = go.Figure(data=[go.Scatter(x=neigh_item_2d[:, 0], y=neigh_item_2d[:, 1], mode='markers', text=userMap[np.array(list(user_set))-1])])\n",
    "fig.show()"
   ]
  },
  {
   "cell_type": "code",
   "execution_count": 51,
   "metadata": {},
   "outputs": [],
   "source": [
    "#get user history\n",
    "def item_history(item_id, date=None):\n",
    "    if date:\n",
    "        cols = ['UserId', 'MovieId', 'Rating', date]\n",
    "    else:\n",
    "        cols = ['UserId', 'MovieId', 'Rating']\n",
    "    user_data = data.loc[data['MovieId']==item_id, cols]\n",
    "    return user_data"
   ]
  },
  {
   "cell_type": "code",
   "execution_count": 52,
   "metadata": {},
   "outputs": [
    {
     "data": {
      "text/html": [
       "<div>\n",
       "<style scoped>\n",
       "    .dataframe tbody tr th:only-of-type {\n",
       "        vertical-align: middle;\n",
       "    }\n",
       "\n",
       "    .dataframe tbody tr th {\n",
       "        vertical-align: top;\n",
       "    }\n",
       "\n",
       "    .dataframe thead th {\n",
       "        text-align: right;\n",
       "    }\n",
       "</style>\n",
       "<table border=\"1\" class=\"dataframe\">\n",
       "  <thead>\n",
       "    <tr style=\"text-align: right;\">\n",
       "      <th></th>\n",
       "      <th>UserId</th>\n",
       "      <th>MovieId</th>\n",
       "      <th>Rating</th>\n",
       "      <th>Timestamp</th>\n",
       "    </tr>\n",
       "  </thead>\n",
       "  <tbody>\n",
       "    <tr>\n",
       "      <th>43580</th>\n",
       "      <td>272</td>\n",
       "      <td>12</td>\n",
       "      <td>5.0</td>\n",
       "      <td>879455254</td>\n",
       "    </tr>\n",
       "    <tr>\n",
       "      <th>43581</th>\n",
       "      <td>62</td>\n",
       "      <td>12</td>\n",
       "      <td>4.0</td>\n",
       "      <td>879373613</td>\n",
       "    </tr>\n",
       "    <tr>\n",
       "      <th>43582</th>\n",
       "      <td>90</td>\n",
       "      <td>12</td>\n",
       "      <td>5.0</td>\n",
       "      <td>891383241</td>\n",
       "    </tr>\n",
       "    <tr>\n",
       "      <th>43583</th>\n",
       "      <td>151</td>\n",
       "      <td>12</td>\n",
       "      <td>5.0</td>\n",
       "      <td>879524368</td>\n",
       "    </tr>\n",
       "    <tr>\n",
       "      <th>43584</th>\n",
       "      <td>84</td>\n",
       "      <td>12</td>\n",
       "      <td>5.0</td>\n",
       "      <td>883452874</td>\n",
       "    </tr>\n",
       "  </tbody>\n",
       "</table>\n",
       "</div>"
      ],
      "text/plain": [
       "       UserId  MovieId  Rating  Timestamp\n",
       "43580     272       12     5.0  879455254\n",
       "43581      62       12     4.0  879373613\n",
       "43582      90       12     5.0  891383241\n",
       "43583     151       12     5.0  879524368\n",
       "43584      84       12     5.0  883452874"
      ]
     },
     "execution_count": 52,
     "metadata": {},
     "output_type": "execute_result"
    }
   ],
   "source": [
    "hist_12 = item_history(12, 'Timestamp')\n",
    "hist_12.head()"
   ]
  },
  {
   "cell_type": "code",
   "execution_count": 53,
   "metadata": {},
   "outputs": [
    {
     "data": {
      "application/vnd.plotly.v1+json": {
       "config": {
        "plotlyServerURL": "https://plot.ly"
       },
       "data": [
        {
         "type": "histogram",
         "x": [
          5,
          4,
          5,
          5,
          5,
          5,
          5,
          5,
          5,
          5,
          4,
          5,
          3,
          5,
          3,
          5,
          5,
          4,
          5,
          5,
          4,
          3,
          5,
          4,
          5,
          4,
          5,
          4,
          5,
          1,
          5,
          4,
          3,
          5,
          5,
          5,
          3,
          5,
          5,
          5,
          4,
          4,
          4,
          5,
          5,
          4,
          5,
          4,
          4,
          5,
          4,
          4,
          4,
          2,
          5,
          2,
          5,
          5,
          5,
          4,
          5,
          5,
          4,
          5,
          5,
          5,
          4,
          3,
          5,
          4,
          5,
          3,
          5,
          4,
          5,
          5,
          5,
          5,
          3,
          5,
          3,
          5,
          4,
          5,
          5,
          4,
          4,
          5,
          4,
          4,
          5,
          4,
          4,
          5,
          4,
          3,
          4,
          5,
          5,
          5,
          4,
          2,
          2,
          5,
          5,
          4,
          4,
          5,
          4,
          5,
          5,
          2,
          5,
          5,
          4,
          4,
          5,
          4,
          3,
          5,
          4,
          5,
          5,
          3,
          5,
          5,
          5,
          5,
          4,
          5,
          5,
          2,
          5,
          4,
          5,
          3,
          4,
          5,
          5,
          5,
          5,
          4,
          4,
          3,
          3,
          5,
          4,
          5,
          5,
          4,
          3,
          5,
          4,
          5,
          5,
          5,
          5,
          5,
          4,
          5,
          5,
          4,
          3,
          2,
          5,
          4,
          4,
          5,
          5,
          3,
          4,
          4,
          4,
          4,
          5,
          4,
          5,
          5,
          4,
          5,
          5,
          5,
          5,
          5,
          5,
          5,
          3,
          4,
          5,
          5,
          4,
          5,
          3,
          5,
          5,
          1,
          5,
          5,
          4,
          5,
          5,
          5,
          5,
          5,
          4,
          3,
          4,
          5,
          5,
          5,
          4,
          3,
          5,
          4,
          5,
          5,
          4,
          5,
          5,
          3,
          5,
          5,
          4,
          5,
          5,
          4,
          5,
          5,
          5,
          4,
          5,
          5,
          4,
          4,
          4,
          5,
          5,
          4,
          5,
          5,
          5,
          4,
          5,
          5,
          5,
          5,
          5,
          4,
          4,
          3,
          3,
          5,
          4,
          4,
          4,
          5,
          5,
          5,
          4,
          5,
          3,
          4,
          4,
          5,
          4,
          4,
          5
         ]
        }
       ],
       "layout": {
        "template": {
         "data": {
          "bar": [
           {
            "error_x": {
             "color": "#2a3f5f"
            },
            "error_y": {
             "color": "#2a3f5f"
            },
            "marker": {
             "line": {
              "color": "#E5ECF6",
              "width": 0.5
             },
             "pattern": {
              "fillmode": "overlay",
              "size": 10,
              "solidity": 0.2
             }
            },
            "type": "bar"
           }
          ],
          "barpolar": [
           {
            "marker": {
             "line": {
              "color": "#E5ECF6",
              "width": 0.5
             },
             "pattern": {
              "fillmode": "overlay",
              "size": 10,
              "solidity": 0.2
             }
            },
            "type": "barpolar"
           }
          ],
          "carpet": [
           {
            "aaxis": {
             "endlinecolor": "#2a3f5f",
             "gridcolor": "white",
             "linecolor": "white",
             "minorgridcolor": "white",
             "startlinecolor": "#2a3f5f"
            },
            "baxis": {
             "endlinecolor": "#2a3f5f",
             "gridcolor": "white",
             "linecolor": "white",
             "minorgridcolor": "white",
             "startlinecolor": "#2a3f5f"
            },
            "type": "carpet"
           }
          ],
          "choropleth": [
           {
            "colorbar": {
             "outlinewidth": 0,
             "ticks": ""
            },
            "type": "choropleth"
           }
          ],
          "contour": [
           {
            "colorbar": {
             "outlinewidth": 0,
             "ticks": ""
            },
            "colorscale": [
             [
              0,
              "#0d0887"
             ],
             [
              0.1111111111111111,
              "#46039f"
             ],
             [
              0.2222222222222222,
              "#7201a8"
             ],
             [
              0.3333333333333333,
              "#9c179e"
             ],
             [
              0.4444444444444444,
              "#bd3786"
             ],
             [
              0.5555555555555556,
              "#d8576b"
             ],
             [
              0.6666666666666666,
              "#ed7953"
             ],
             [
              0.7777777777777778,
              "#fb9f3a"
             ],
             [
              0.8888888888888888,
              "#fdca26"
             ],
             [
              1,
              "#f0f921"
             ]
            ],
            "type": "contour"
           }
          ],
          "contourcarpet": [
           {
            "colorbar": {
             "outlinewidth": 0,
             "ticks": ""
            },
            "type": "contourcarpet"
           }
          ],
          "heatmap": [
           {
            "colorbar": {
             "outlinewidth": 0,
             "ticks": ""
            },
            "colorscale": [
             [
              0,
              "#0d0887"
             ],
             [
              0.1111111111111111,
              "#46039f"
             ],
             [
              0.2222222222222222,
              "#7201a8"
             ],
             [
              0.3333333333333333,
              "#9c179e"
             ],
             [
              0.4444444444444444,
              "#bd3786"
             ],
             [
              0.5555555555555556,
              "#d8576b"
             ],
             [
              0.6666666666666666,
              "#ed7953"
             ],
             [
              0.7777777777777778,
              "#fb9f3a"
             ],
             [
              0.8888888888888888,
              "#fdca26"
             ],
             [
              1,
              "#f0f921"
             ]
            ],
            "type": "heatmap"
           }
          ],
          "heatmapgl": [
           {
            "colorbar": {
             "outlinewidth": 0,
             "ticks": ""
            },
            "colorscale": [
             [
              0,
              "#0d0887"
             ],
             [
              0.1111111111111111,
              "#46039f"
             ],
             [
              0.2222222222222222,
              "#7201a8"
             ],
             [
              0.3333333333333333,
              "#9c179e"
             ],
             [
              0.4444444444444444,
              "#bd3786"
             ],
             [
              0.5555555555555556,
              "#d8576b"
             ],
             [
              0.6666666666666666,
              "#ed7953"
             ],
             [
              0.7777777777777778,
              "#fb9f3a"
             ],
             [
              0.8888888888888888,
              "#fdca26"
             ],
             [
              1,
              "#f0f921"
             ]
            ],
            "type": "heatmapgl"
           }
          ],
          "histogram": [
           {
            "marker": {
             "pattern": {
              "fillmode": "overlay",
              "size": 10,
              "solidity": 0.2
             }
            },
            "type": "histogram"
           }
          ],
          "histogram2d": [
           {
            "colorbar": {
             "outlinewidth": 0,
             "ticks": ""
            },
            "colorscale": [
             [
              0,
              "#0d0887"
             ],
             [
              0.1111111111111111,
              "#46039f"
             ],
             [
              0.2222222222222222,
              "#7201a8"
             ],
             [
              0.3333333333333333,
              "#9c179e"
             ],
             [
              0.4444444444444444,
              "#bd3786"
             ],
             [
              0.5555555555555556,
              "#d8576b"
             ],
             [
              0.6666666666666666,
              "#ed7953"
             ],
             [
              0.7777777777777778,
              "#fb9f3a"
             ],
             [
              0.8888888888888888,
              "#fdca26"
             ],
             [
              1,
              "#f0f921"
             ]
            ],
            "type": "histogram2d"
           }
          ],
          "histogram2dcontour": [
           {
            "colorbar": {
             "outlinewidth": 0,
             "ticks": ""
            },
            "colorscale": [
             [
              0,
              "#0d0887"
             ],
             [
              0.1111111111111111,
              "#46039f"
             ],
             [
              0.2222222222222222,
              "#7201a8"
             ],
             [
              0.3333333333333333,
              "#9c179e"
             ],
             [
              0.4444444444444444,
              "#bd3786"
             ],
             [
              0.5555555555555556,
              "#d8576b"
             ],
             [
              0.6666666666666666,
              "#ed7953"
             ],
             [
              0.7777777777777778,
              "#fb9f3a"
             ],
             [
              0.8888888888888888,
              "#fdca26"
             ],
             [
              1,
              "#f0f921"
             ]
            ],
            "type": "histogram2dcontour"
           }
          ],
          "mesh3d": [
           {
            "colorbar": {
             "outlinewidth": 0,
             "ticks": ""
            },
            "type": "mesh3d"
           }
          ],
          "parcoords": [
           {
            "line": {
             "colorbar": {
              "outlinewidth": 0,
              "ticks": ""
             }
            },
            "type": "parcoords"
           }
          ],
          "pie": [
           {
            "automargin": true,
            "type": "pie"
           }
          ],
          "scatter": [
           {
            "fillpattern": {
             "fillmode": "overlay",
             "size": 10,
             "solidity": 0.2
            },
            "type": "scatter"
           }
          ],
          "scatter3d": [
           {
            "line": {
             "colorbar": {
              "outlinewidth": 0,
              "ticks": ""
             }
            },
            "marker": {
             "colorbar": {
              "outlinewidth": 0,
              "ticks": ""
             }
            },
            "type": "scatter3d"
           }
          ],
          "scattercarpet": [
           {
            "marker": {
             "colorbar": {
              "outlinewidth": 0,
              "ticks": ""
             }
            },
            "type": "scattercarpet"
           }
          ],
          "scattergeo": [
           {
            "marker": {
             "colorbar": {
              "outlinewidth": 0,
              "ticks": ""
             }
            },
            "type": "scattergeo"
           }
          ],
          "scattergl": [
           {
            "marker": {
             "colorbar": {
              "outlinewidth": 0,
              "ticks": ""
             }
            },
            "type": "scattergl"
           }
          ],
          "scattermapbox": [
           {
            "marker": {
             "colorbar": {
              "outlinewidth": 0,
              "ticks": ""
             }
            },
            "type": "scattermapbox"
           }
          ],
          "scatterpolar": [
           {
            "marker": {
             "colorbar": {
              "outlinewidth": 0,
              "ticks": ""
             }
            },
            "type": "scatterpolar"
           }
          ],
          "scatterpolargl": [
           {
            "marker": {
             "colorbar": {
              "outlinewidth": 0,
              "ticks": ""
             }
            },
            "type": "scatterpolargl"
           }
          ],
          "scatterternary": [
           {
            "marker": {
             "colorbar": {
              "outlinewidth": 0,
              "ticks": ""
             }
            },
            "type": "scatterternary"
           }
          ],
          "surface": [
           {
            "colorbar": {
             "outlinewidth": 0,
             "ticks": ""
            },
            "colorscale": [
             [
              0,
              "#0d0887"
             ],
             [
              0.1111111111111111,
              "#46039f"
             ],
             [
              0.2222222222222222,
              "#7201a8"
             ],
             [
              0.3333333333333333,
              "#9c179e"
             ],
             [
              0.4444444444444444,
              "#bd3786"
             ],
             [
              0.5555555555555556,
              "#d8576b"
             ],
             [
              0.6666666666666666,
              "#ed7953"
             ],
             [
              0.7777777777777778,
              "#fb9f3a"
             ],
             [
              0.8888888888888888,
              "#fdca26"
             ],
             [
              1,
              "#f0f921"
             ]
            ],
            "type": "surface"
           }
          ],
          "table": [
           {
            "cells": {
             "fill": {
              "color": "#EBF0F8"
             },
             "line": {
              "color": "white"
             }
            },
            "header": {
             "fill": {
              "color": "#C8D4E3"
             },
             "line": {
              "color": "white"
             }
            },
            "type": "table"
           }
          ]
         },
         "layout": {
          "annotationdefaults": {
           "arrowcolor": "#2a3f5f",
           "arrowhead": 0,
           "arrowwidth": 1
          },
          "autotypenumbers": "strict",
          "coloraxis": {
           "colorbar": {
            "outlinewidth": 0,
            "ticks": ""
           }
          },
          "colorscale": {
           "diverging": [
            [
             0,
             "#8e0152"
            ],
            [
             0.1,
             "#c51b7d"
            ],
            [
             0.2,
             "#de77ae"
            ],
            [
             0.3,
             "#f1b6da"
            ],
            [
             0.4,
             "#fde0ef"
            ],
            [
             0.5,
             "#f7f7f7"
            ],
            [
             0.6,
             "#e6f5d0"
            ],
            [
             0.7,
             "#b8e186"
            ],
            [
             0.8,
             "#7fbc41"
            ],
            [
             0.9,
             "#4d9221"
            ],
            [
             1,
             "#276419"
            ]
           ],
           "sequential": [
            [
             0,
             "#0d0887"
            ],
            [
             0.1111111111111111,
             "#46039f"
            ],
            [
             0.2222222222222222,
             "#7201a8"
            ],
            [
             0.3333333333333333,
             "#9c179e"
            ],
            [
             0.4444444444444444,
             "#bd3786"
            ],
            [
             0.5555555555555556,
             "#d8576b"
            ],
            [
             0.6666666666666666,
             "#ed7953"
            ],
            [
             0.7777777777777778,
             "#fb9f3a"
            ],
            [
             0.8888888888888888,
             "#fdca26"
            ],
            [
             1,
             "#f0f921"
            ]
           ],
           "sequentialminus": [
            [
             0,
             "#0d0887"
            ],
            [
             0.1111111111111111,
             "#46039f"
            ],
            [
             0.2222222222222222,
             "#7201a8"
            ],
            [
             0.3333333333333333,
             "#9c179e"
            ],
            [
             0.4444444444444444,
             "#bd3786"
            ],
            [
             0.5555555555555556,
             "#d8576b"
            ],
            [
             0.6666666666666666,
             "#ed7953"
            ],
            [
             0.7777777777777778,
             "#fb9f3a"
            ],
            [
             0.8888888888888888,
             "#fdca26"
            ],
            [
             1,
             "#f0f921"
            ]
           ]
          },
          "colorway": [
           "#636efa",
           "#EF553B",
           "#00cc96",
           "#ab63fa",
           "#FFA15A",
           "#19d3f3",
           "#FF6692",
           "#B6E880",
           "#FF97FF",
           "#FECB52"
          ],
          "font": {
           "color": "#2a3f5f"
          },
          "geo": {
           "bgcolor": "white",
           "lakecolor": "white",
           "landcolor": "#E5ECF6",
           "showlakes": true,
           "showland": true,
           "subunitcolor": "white"
          },
          "hoverlabel": {
           "align": "left"
          },
          "hovermode": "closest",
          "mapbox": {
           "style": "light"
          },
          "paper_bgcolor": "white",
          "plot_bgcolor": "#E5ECF6",
          "polar": {
           "angularaxis": {
            "gridcolor": "white",
            "linecolor": "white",
            "ticks": ""
           },
           "bgcolor": "#E5ECF6",
           "radialaxis": {
            "gridcolor": "white",
            "linecolor": "white",
            "ticks": ""
           }
          },
          "scene": {
           "xaxis": {
            "backgroundcolor": "#E5ECF6",
            "gridcolor": "white",
            "gridwidth": 2,
            "linecolor": "white",
            "showbackground": true,
            "ticks": "",
            "zerolinecolor": "white"
           },
           "yaxis": {
            "backgroundcolor": "#E5ECF6",
            "gridcolor": "white",
            "gridwidth": 2,
            "linecolor": "white",
            "showbackground": true,
            "ticks": "",
            "zerolinecolor": "white"
           },
           "zaxis": {
            "backgroundcolor": "#E5ECF6",
            "gridcolor": "white",
            "gridwidth": 2,
            "linecolor": "white",
            "showbackground": true,
            "ticks": "",
            "zerolinecolor": "white"
           }
          },
          "shapedefaults": {
           "line": {
            "color": "#2a3f5f"
           }
          },
          "ternary": {
           "aaxis": {
            "gridcolor": "white",
            "linecolor": "white",
            "ticks": ""
           },
           "baxis": {
            "gridcolor": "white",
            "linecolor": "white",
            "ticks": ""
           },
           "bgcolor": "#E5ECF6",
           "caxis": {
            "gridcolor": "white",
            "linecolor": "white",
            "ticks": ""
           }
          },
          "title": {
           "x": 0.05
          },
          "xaxis": {
           "automargin": true,
           "gridcolor": "white",
           "linecolor": "white",
           "ticks": "",
           "title": {
            "standoff": 15
           },
           "zerolinecolor": "white",
           "zerolinewidth": 2
          },
          "yaxis": {
           "automargin": true,
           "gridcolor": "white",
           "linecolor": "white",
           "ticks": "",
           "title": {
            "standoff": 15
           },
           "zerolinecolor": "white",
           "zerolinewidth": 2
          }
         }
        }
       }
      }
     },
     "metadata": {},
     "output_type": "display_data"
    }
   ],
   "source": [
    "fig = go.Figure(data=[go.Histogram(x=hist_12['Rating'])])\n",
    "fig.show()"
   ]
  },
  {
   "cell_type": "markdown",
   "metadata": {},
   "source": [
    "---"
   ]
  },
  {
   "cell_type": "markdown",
   "metadata": {},
   "source": [
    "_Item Visualization_ : \n",
    "- get items feature scatter plot\n",
    "- get top@K neighbor items\n",
    "- get stats of neighbor items based on their users, \n",
    "- get item summary stats"
   ]
  },
  {
   "cell_type": "code",
   "execution_count": 96,
   "metadata": {},
   "outputs": [],
   "source": [
    "class ItemVis(object):\n",
    "\tdef __init__(self, df, user_col='UserId', item_col='ItemId', rating_col='rating'):\n",
    "\t\tself.df = df\n",
    "\t\tself.user_col = user_col\n",
    "\t\tself.item_col = item_col \n",
    "\t\tself.rating_col = rating_col\n",
    "\t\tself.sparse_mat, self.userMap, self.itemMap = self.get_sparse_mat(self.df, self.user_col, self.item_col, self.rating_col)\n",
    "\t\tself.user_enc, self.item_enc = self.__nmf()\n",
    "\n",
    "\n",
    "\tdef get_sparse_mat(self, df, user_col, item_col, rating_col):\n",
    "\t\tunique_items = df[item_col].unique()\n",
    "\t\titemMap = pd.DataFrame({'id': np.arange(len(unique_items), dtype=np.int32), 'item': unique_items})\n",
    "\t\tunique_users = df[user_col].unique()\n",
    "\t\tuserMap = pd.DataFrame({'id': np.arange(len(unique_users), dtype=np.int32), 'user': unique_users})\n",
    "\t\trow_ind = df[user_col].map(dict(zip(userMap['user'],userMap['id']))).to_numpy().astype(np.int32)\n",
    "\t\tcol_ind = df[item_col].map(dict(zip(itemMap['item'],itemMap['id']))).to_numpy().astype(np.int32)\n",
    "\t\tdata_ = df[rating_col].to_numpy()\n",
    "\t\tsparse_mat = scipy.sparse.csr_matrix((data_, (row_ind, col_ind)), dtype=np.int32)\n",
    "\t\treturn sparse_mat, userMap, itemMap\n",
    "\n",
    "\tdef __nmf(self):\n",
    "\t\tmodel = NMF(n_components=10, init='random', random_state=123)\n",
    "\t\tuser = model.fit_transform(self.sparse_mat)\n",
    "\t\titem = model.components_.T\n",
    "\t\treturn user, item\n",
    "\n",
    "\tdef get_2d(self, arr):\n",
    "\t\treducer = umap.UMAP()\n",
    "\t\tres = reducer.fit_transform(arr)\n",
    "\t\treturn res\n",
    "\n",
    "\tdef get_item_neigh(self, item_id, k=10):\n",
    "\n",
    "\t\tdef __consine_similarity(y,x):\n",
    "\t\t\tx = self.item_enc[x, :]\n",
    "\t\t\tresult = 1- spatial.distance.cosine(x, y)\n",
    "\t\t\treturn float(result)\n",
    "\n",
    "\t\tsim_arr = np.apply_along_axis(__consine_similarity, 1, self.item_enc, x=item_id)\n",
    "\t\tsim_arr[item_id] = 0\n",
    "\n",
    "\t\tneighs = np.argpartition(sim_arr, -k)[-k:]\n",
    "\t\tneigh_sims = sim_arr[neighs]\n",
    "\t\tneigh_dict = dict(zip(neighs, neigh_sims))\n",
    "\t\treturn neigh_dict\n",
    "\t\n",
    "\tdef get_item_users(self, item_id):\n",
    "\t\tarr_i = np.array([i[0] for i in sparse_mat.getcol(item_id).toarray()])\n",
    "\t\tuser_i = np.where(arr_i != 0)[0].tolist()\n",
    "\t\treturn user_i\n",
    "\n",
    "\tdef __dict_update(self, d1, d2):\n",
    "\t\tfor k,v in d2.items():\n",
    "\t\t\ttry:\n",
    "\t\t\t\td1[k].append(v)\n",
    "\t\t\texcept:\n",
    "\t\t\t\td1[k] = [v]\n",
    "\t\treturn d1\n",
    "\n",
    "\tdef get_rating(self, item_list):\n",
    "\t\titem_dict = {u: self.get_item_users(u) for u in item_list}\n",
    "\t\trating_dict = {}\n",
    "\t\trating_sum_dict = {}\n",
    "\t\tfor u, arr in item_dict.items():\n",
    "\t\t\trating_dict[u] = np.array([i[0] for i in sparse_mat.getcol(u).toarray()])[arr]\n",
    "\t\t\trating_zip_dict = dict(zip(arr, rating_dict[u]))\n",
    "\t\t\trating_sum_dict = self.__dict_update(rating_sum_dict, rating_zip_dict)\n",
    "\t\trating_mean_dict = {i: round(sum(arr)/len(arr), 3) for i,arr in rating_sum_dict.items()}\n",
    "\t\trating_max_dict = {i: max(arr) for i, arr in rating_sum_dict.items()}\n",
    "\t\trating_min_dict = {i: min(arr) for i, arr in rating_sum_dict.items()}\n",
    "\t\treturn rating_dict, rating_mean_dict, rating_max_dict, rating_min_dict\n",
    "\n",
    "\tdef get_item_counts(self, item_list):\n",
    "\t\tniegh_user_arr = {u: self.get_item_users(u) for u in item_list}\n",
    "\t\tuser_arr = functools.reduce(lambda x,y: x+y, list(niegh_user_arr.values()), [])\n",
    "\t\tuser_set = functools.reduce(lambda x,y: set(y) | x, list(niegh_user_arr.values()), set([]))\n",
    "\t\tcount_arr = np.bincount(np.array(user_arr))\n",
    "\t\titem_cnt = [count_arr[i] for i in user_set]\n",
    "\t\treturn list(user_set), item_cnt\n",
    "\n",
    "\tdef get_neigh_items(self, item, k=10):\n",
    "\t\titem_id = self.itemMap.loc[self.itemMap['item']==item, 'id'].values\n",
    "\t\tif len(item_id) > 0:\n",
    "\t\t\titem_id == item_id[0]\n",
    "\t\t\tneigh_dict = self.get_item_neigh(item_id, k)\n",
    "\t\t\tneigh_item_dict, neigh_rating_mean_dict, neigh_rating_max_dict, neigh_rating_min_dict = self.get_rating(list(neigh_dict.keys()))\n",
    "\t\t\titem_list, item_count = self.get_item_counts(list(neigh_dict.keys()))\n",
    "\t\t\titem_reverse_map = dict(zip(self.itemMap['id'], self.itemMap['item']))\n",
    "\t\t\tneigh_item_df = pd.DataFrame({'item id': item_list, 'item': [item_reverse_map[i] for i in item_list], 'count': item_count})\n",
    "\t\t\tneigh_item_df['mean rating'] = neigh_item_df['item id'].map(neigh_rating_mean_dict)\n",
    "\t\t\tneigh_item_df['max rating'] = neigh_item_df['item id'].map(neigh_rating_max_dict)\n",
    "\t\t\tneigh_item_df['min rating'] = neigh_item_df['item id'].map(neigh_rating_min_dict)\n",
    "\t\telse:\n",
    "\t\t\tneigh_item_df = pd.DataFrame()\n",
    "\t\treturn neigh_item_df\n",
    "\n",
    "\tdef get_item_history(self, item_id, date=None):\n",
    "\t\tif date:\n",
    "\t\t\tcols = [self.user_col, self.item_col, self.rating_col, date]\n",
    "\t\telse:\n",
    "\t\t\tcols = [self.user_col, self.item_col, self.rating_col]\n",
    "\t\tuser_data = data.loc[data[self.item_col]==item_id, cols]\n",
    "\t\treturn user_data\n",
    "\n",
    "\t\n"
   ]
  },
  {
   "cell_type": "code",
   "execution_count": 97,
   "metadata": {},
   "outputs": [],
   "source": [
    "itemVis = ItemVis(data, user_col='UserId', item_col='Title', rating_col='Rating')"
   ]
  },
  {
   "cell_type": "code",
   "execution_count": 101,
   "metadata": {},
   "outputs": [],
   "source": [
    "item = 'Jungle Book, The (1994)'"
   ]
  },
  {
   "cell_type": "code",
   "execution_count": 102,
   "metadata": {},
   "outputs": [
    {
     "data": {
      "text/html": [
       "<div>\n",
       "<style scoped>\n",
       "    .dataframe tbody tr th:only-of-type {\n",
       "        vertical-align: middle;\n",
       "    }\n",
       "\n",
       "    .dataframe tbody tr th {\n",
       "        vertical-align: top;\n",
       "    }\n",
       "\n",
       "    .dataframe thead th {\n",
       "        text-align: right;\n",
       "    }\n",
       "</style>\n",
       "<table border=\"1\" class=\"dataframe\">\n",
       "  <thead>\n",
       "    <tr style=\"text-align: right;\">\n",
       "      <th></th>\n",
       "      <th>UserId</th>\n",
       "      <th>Title</th>\n",
       "      <th>Rating</th>\n",
       "    </tr>\n",
       "  </thead>\n",
       "  <tbody>\n",
       "    <tr>\n",
       "      <th>1055</th>\n",
       "      <td>253</td>\n",
       "      <td>Jungle Book, The (1994)</td>\n",
       "      <td>5.0</td>\n",
       "    </tr>\n",
       "    <tr>\n",
       "      <th>1056</th>\n",
       "      <td>38</td>\n",
       "      <td>Jungle Book, The (1994)</td>\n",
       "      <td>5.0</td>\n",
       "    </tr>\n",
       "    <tr>\n",
       "      <th>1057</th>\n",
       "      <td>286</td>\n",
       "      <td>Jungle Book, The (1994)</td>\n",
       "      <td>5.0</td>\n",
       "    </tr>\n",
       "    <tr>\n",
       "      <th>1058</th>\n",
       "      <td>210</td>\n",
       "      <td>Jungle Book, The (1994)</td>\n",
       "      <td>4.0</td>\n",
       "    </tr>\n",
       "    <tr>\n",
       "      <th>1059</th>\n",
       "      <td>298</td>\n",
       "      <td>Jungle Book, The (1994)</td>\n",
       "      <td>4.0</td>\n",
       "    </tr>\n",
       "  </tbody>\n",
       "</table>\n",
       "</div>"
      ],
      "text/plain": [
       "      UserId                    Title  Rating\n",
       "1055     253  Jungle Book, The (1994)     5.0\n",
       "1056      38  Jungle Book, The (1994)     5.0\n",
       "1057     286  Jungle Book, The (1994)     5.0\n",
       "1058     210  Jungle Book, The (1994)     4.0\n",
       "1059     298  Jungle Book, The (1994)     4.0"
      ]
     },
     "execution_count": 102,
     "metadata": {},
     "output_type": "execute_result"
    }
   ],
   "source": [
    "item_101_hist = itemVis.get_item_history(item)\n",
    "item_101_hist.head()"
   ]
  },
  {
   "cell_type": "code",
   "execution_count": 103,
   "metadata": {},
   "outputs": [
    {
     "data": {
      "text/html": [
       "<div>\n",
       "<style scoped>\n",
       "    .dataframe tbody tr th:only-of-type {\n",
       "        vertical-align: middle;\n",
       "    }\n",
       "\n",
       "    .dataframe tbody tr th {\n",
       "        vertical-align: top;\n",
       "    }\n",
       "\n",
       "    .dataframe thead th {\n",
       "        text-align: right;\n",
       "    }\n",
       "</style>\n",
       "<table border=\"1\" class=\"dataframe\">\n",
       "  <thead>\n",
       "    <tr style=\"text-align: right;\">\n",
       "      <th></th>\n",
       "      <th>item id</th>\n",
       "      <th>item</th>\n",
       "      <th>count</th>\n",
       "      <th>mean rating</th>\n",
       "      <th>max rating</th>\n",
       "      <th>min rating</th>\n",
       "    </tr>\n",
       "  </thead>\n",
       "  <tbody>\n",
       "    <tr>\n",
       "      <th>0</th>\n",
       "      <td>512</td>\n",
       "      <td>Carrie (1976)</td>\n",
       "      <td>1</td>\n",
       "      <td>2.000</td>\n",
       "      <td>2</td>\n",
       "      <td>2</td>\n",
       "    </tr>\n",
       "    <tr>\n",
       "      <th>1</th>\n",
       "      <td>516</td>\n",
       "      <td>Koyaanisqatsi (1983)</td>\n",
       "      <td>2</td>\n",
       "      <td>3.000</td>\n",
       "      <td>3</td>\n",
       "      <td>3</td>\n",
       "    </tr>\n",
       "    <tr>\n",
       "      <th>2</th>\n",
       "      <td>517</td>\n",
       "      <td>William Shakespeare's Romeo and Juliet (1996)</td>\n",
       "      <td>3</td>\n",
       "      <td>1.333</td>\n",
       "      <td>2</td>\n",
       "      <td>1</td>\n",
       "    </tr>\n",
       "    <tr>\n",
       "      <th>3</th>\n",
       "      <td>518</td>\n",
       "      <td>Thousand Acres, A (1997)</td>\n",
       "      <td>1</td>\n",
       "      <td>5.000</td>\n",
       "      <td>5</td>\n",
       "      <td>5</td>\n",
       "    </tr>\n",
       "    <tr>\n",
       "      <th>4</th>\n",
       "      <td>7</td>\n",
       "      <td>Jungle Book, The (1994)</td>\n",
       "      <td>1</td>\n",
       "      <td>5.000</td>\n",
       "      <td>5</td>\n",
       "      <td>5</td>\n",
       "    </tr>\n",
       "  </tbody>\n",
       "</table>\n",
       "</div>"
      ],
      "text/plain": [
       "   item id                                           item  count  mean rating  \\\n",
       "0      512                                  Carrie (1976)      1        2.000   \n",
       "1      516                           Koyaanisqatsi (1983)      2        3.000   \n",
       "2      517  William Shakespeare's Romeo and Juliet (1996)      3        1.333   \n",
       "3      518                       Thousand Acres, A (1997)      1        5.000   \n",
       "4        7                        Jungle Book, The (1994)      1        5.000   \n",
       "\n",
       "   max rating  min rating  \n",
       "0           2           2  \n",
       "1           3           3  \n",
       "2           2           1  \n",
       "3           5           5  \n",
       "4           5           5  "
      ]
     },
     "execution_count": 103,
     "metadata": {},
     "output_type": "execute_result"
    }
   ],
   "source": [
    "neigh_101_df = itemVis.get_neigh_items(item)\n",
    "neigh_101_df.head()"
   ]
  },
  {
   "cell_type": "code",
   "execution_count": null,
   "metadata": {},
   "outputs": [],
   "source": [
    "[i[1]['item id'] for i in neigh_101_df.iterrows()]"
   ]
  },
  {
   "cell_type": "code",
   "execution_count": 82,
   "metadata": {},
   "outputs": [],
   "source": [
    "import pandas as pd"
   ]
  },
  {
   "cell_type": "code",
   "execution_count": 4,
   "metadata": {},
   "outputs": [
    {
     "data": {
      "text/plain": [
       "Index(['user\\titem\\tcnt\\tdaytime\\tweekday\\tisweekend\\thomework\\tcost\\tweather\\tcountry\\tcity'], dtype='object')"
      ]
     },
     "execution_count": 4,
     "metadata": {},
     "output_type": "execute_result"
    }
   ],
   "source": [
    "df = pd.read_csv('../data/frappe.csv')\n",
    "df.columns"
   ]
  },
  {
   "cell_type": "code",
   "execution_count": 104,
   "metadata": {},
   "outputs": [],
   "source": [
    "import numpy as np "
   ]
  },
  {
   "cell_type": "code",
   "execution_count": 105,
   "metadata": {},
   "outputs": [],
   "source": [
    "arr1 = np.array([\n",
    "    [1, 2],\n",
    "    [4, 6],\n",
    "    [6, 2]\n",
    "])\n",
    "arr2 = np.array([5, 3])"
   ]
  },
  {
   "cell_type": "code",
   "execution_count": 107,
   "metadata": {},
   "outputs": [
    {
     "data": {
      "text/plain": [
       "array([[1, 2],\n",
       "       [4, 6],\n",
       "       [6, 2],\n",
       "       [5, 3]])"
      ]
     },
     "execution_count": 107,
     "metadata": {},
     "output_type": "execute_result"
    }
   ],
   "source": [
    "np.vstack((arr1, arr2))"
   ]
  },
  {
   "cell_type": "code",
   "execution_count": null,
   "metadata": {},
   "outputs": [],
   "source": []
  }
 ],
 "metadata": {
  "interpreter": {
   "hash": "114915f1d81c1da50642110d3f97d7e46f1e3067055e32d41ec3bf538df62b4a"
  },
  "kernelspec": {
   "display_name": "Python 3.7.11 ('rec')",
   "language": "python",
   "name": "python3"
  },
  "language_info": {
   "codemirror_mode": {
    "name": "ipython",
    "version": 3
   },
   "file_extension": ".py",
   "mimetype": "text/x-python",
   "name": "python",
   "nbconvert_exporter": "python",
   "pygments_lexer": "ipython3",
   "version": "3.7.11"
  },
  "orig_nbformat": 4
 },
 "nbformat": 4,
 "nbformat_minor": 2
}
