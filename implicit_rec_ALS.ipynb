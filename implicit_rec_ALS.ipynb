{
 "cells": [
  {
   "cell_type": "markdown",
   "metadata": {},
   "source": [
    "## ALS Recommendation model on implicit datasets known as [last.fm 360K](http://ocelma.net/MusicRecommendationDataset/lastfm-360K.html) for music recommendation\n",
    "\n",
    "Use this model as base model for build recommendation ranking mode for implicit data"
   ]
  },
  {
   "cell_type": "markdown",
   "metadata": {},
   "source": [
    "---\n",
    "Library Importing"
   ]
  },
  {
   "cell_type": "code",
   "execution_count": 28,
   "metadata": {},
   "outputs": [],
   "source": [
    "from implicit.datasets.lastfm import get_lastfm\n",
    "from implicit.nearest_neighbours import bm25_weight\n",
    "from implicit.als import AlternatingLeastSquares\n",
    "\n",
    "import numpy as np \n",
    "import pandas as pd"
   ]
  },
  {
   "cell_type": "markdown",
   "metadata": {},
   "source": [
    "---\n",
    "Dataset loading"
   ]
  },
  {
   "cell_type": "code",
   "execution_count": 3,
   "metadata": {},
   "outputs": [
    {
     "name": "stderr",
     "output_type": "stream",
     "text": [
      "184MB [02:42, 1.14MB/s]                               \n"
     ]
    }
   ],
   "source": [
    "artists, users, artist_user_plays = get_lastfm()"
   ]
  },
  {
   "cell_type": "markdown",
   "metadata": {},
   "source": [
    "---\n",
    "EDA"
   ]
  },
  {
   "cell_type": "code",
   "execution_count": 6,
   "metadata": {},
   "outputs": [
    {
     "name": "stdout",
     "output_type": "stream",
     "text": [
      "<class 'numpy.ndarray'>\n",
      "(292385,)\n",
      "[' 2 ' ' 58725ab=>' ' 80lİ yillarin tÜrkÇe sÖzlÜ aŞk Şarkilari'\n",
      " ' amy winehouse' ' cours de la somme' ' fatboy slim' ' kanye west'\n",
      " ' mala rodriguez' ' mohamed lamine' ' oliver shanti & friends']\n"
     ]
    }
   ],
   "source": [
    "print(type(artists))\n",
    "print(artists.shape)\n",
    "print(artists[:10,])"
   ]
  },
  {
   "cell_type": "code",
   "execution_count": 14,
   "metadata": {},
   "outputs": [
    {
     "name": "stdout",
     "output_type": "stream",
     "text": [
      "<class 'scipy.sparse.csr.csr_matrix'>\n",
      "(292385, 358868)\n",
      "17535606\n",
      "[ 73470  97856 235382 ... 245468  84262  85674]\n",
      "[       0        4        5 ... 17535604 17535605 17535606]\n",
      "  (0, 15205)\t31.0\n"
     ]
    }
   ],
   "source": [
    "print(type(artist_user_plays))\n",
    "print(artist_user_plays.shape)\n",
    "print(artist_user_plays.nnz)\n",
    "print(artist_user_plays.indices)\n",
    "print(artist_user_plays.indptr)\n",
    "print(artist_user_plays.getrow(73470))\n"
   ]
  },
  {
   "cell_type": "code",
   "execution_count": 13,
   "metadata": {},
   "outputs": [
    {
     "name": "stdout",
     "output_type": "stream",
     "text": [
      "<class 'numpy.ndarray'>\n",
      "(358868,)\n",
      "['00000c289a1829a808ac09c00daf10bc3c4e223b'\n",
      " '00001411dc427966b17297bf4d69e7e193135d89'\n",
      " '00004d2ac9316e22dc007ab2243d6fcb239e707d'\n",
      " '000063d3fe1cf2ba248b9e3c3f0334845a27a6bf'\n",
      " '00007a47085b9aab8af55f52ec8846ac479ac4fe'\n",
      " '0000c176103e538d5c9828e695fed4f7ae42dd01'\n",
      " '0000ee7dd906373efa37f4e1185bfe1e3f8695ae'\n",
      " '0000ef373bbd0d89ce796abae961f2705e8c1faf'\n",
      " '0000f687d4fe9c1ed49620fbc5ed5b0d7798ea20'\n",
      " '0001399387da41d557219578fb08b12afa25ab67']\n"
     ]
    }
   ],
   "source": [
    "print(type(users))\n",
    "print(users.shape)\n",
    "print(users[:10,])"
   ]
  },
  {
   "cell_type": "code",
   "execution_count": 15,
   "metadata": {},
   "outputs": [],
   "source": [
    "# update matrix view count by ranking model BM25\n",
    "\n",
    "artist_user_plays = bm25_weight(artist_user_plays, K1=100, B=0.8)\n",
    "user_plays = artist_user_plays.T.tocsr() "
   ]
  },
  {
   "cell_type": "code",
   "execution_count": 24,
   "metadata": {},
   "outputs": [
    {
     "name": "stdout",
     "output_type": "stream",
     "text": [
      "<class 'scipy.sparse.csr.csr_matrix'>\n",
      "  (0, 19370)\t352.9751779640889\n",
      "  (0, 19606)\t434.397274202691\n",
      "  (0, 37529)\t305.27620607761054\n",
      "  (0, 45568)\t585.4341693344771\n",
      "  (0, 45575)\t808.3451406668643\n",
      "  (0, 46258)\t142.2391605697496\n",
      "  (0, 51099)\t48.74467472041867\n",
      "  (0, 90948)\t39.97596241359612\n",
      "  (0, 92187)\t113.34032335425246\n",
      "  (0, 100655)\t13.24056433503626\n",
      "  (0, 103727)\t21.558948808986425\n",
      "  (0, 106705)\t28.653924454702246\n",
      "  (0, 106720)\t191.3328220153283\n",
      "  (0, 125500)\t241.32859292780725\n",
      "  (0, 126706)\t19.335073524300682\n",
      "  (0, 129399)\t13.089673010275645\n",
      "  (0, 137079)\t89.54607771892809\n",
      "  (0, 144255)\t4.720524922651388\n",
      "  (0, 144310)\t102.37990343980374\n",
      "  (0, 151783)\t7.391922803698345\n",
      "  (0, 154701)\t9.001361851612097\n",
      "  (0, 155258)\t480.5849215582812\n",
      "  (0, 165137)\t93.71950862504329\n",
      "  (0, 168001)\t53.10572249143597\n",
      "  (0, 169923)\t118.06681082623732\n",
      "  (0, 171703)\t383.0111813385659\n",
      "  (0, 172591)\t93.61513273326891\n",
      "  (0, 175819)\t440.11576278969085\n",
      "  (0, 177614)\t586.6872756186044\n",
      "  (0, 184096)\t46.12449489515663\n",
      "  (0, 185384)\t386.1198590320155\n",
      "  (0, 194535)\t581.0312239654382\n",
      "  (0, 219096)\t51.38951746542436\n",
      "  (0, 220146)\t7.148033183901536\n",
      "  (0, 223404)\t23.724725815349345\n",
      "  (0, 228777)\t229.60978926523939\n",
      "  (0, 230118)\t32.5448485015805\n",
      "  (0, 237301)\t33.28283560560843\n",
      "  (0, 249388)\t77.67257968704081\n",
      "  (0, 249989)\t402.4655306654873\n",
      "  (0, 252815)\t65.75263860202567\n",
      "  (0, 253157)\t153.43143591854167\n",
      "  (0, 253506)\t584.9522766453657\n",
      "  (0, 258230)\t3.051823831691878\n",
      "  (0, 259874)\t459.4750173906779\n",
      "  (0, 261963)\t3.293252019304815\n",
      "  (0, 264562)\t71.147076359075\n",
      "  (0, 264761)\t6.917466111037352\n",
      "  (0, 278329)\t80.78668380187284\n"
     ]
    }
   ],
   "source": [
    "print(type(user_plays))\n",
    "print(user_plays[0,])"
   ]
  },
  {
   "cell_type": "markdown",
   "metadata": {},
   "source": [
    "#[NOTE] even though the datasets itself is implicit data collection, here ALS model take view count as proxy rating for user on play. Therefore, model works as explicit recommendation model"
   ]
  },
  {
   "cell_type": "markdown",
   "metadata": {},
   "source": [
    "---\n",
    "Model Training"
   ]
  },
  {
   "cell_type": "code",
   "execution_count": 26,
   "metadata": {},
   "outputs": [
    {
     "name": "stderr",
     "output_type": "stream",
     "text": [
      "/Users/nipunpathitage/opt/anaconda3/envs/wave_2/lib/python3.8/site-packages/implicit/utils.py:26: UserWarning: OpenBLAS detected. Its highly recommend to set the environment variable 'export OPENBLAS_NUM_THREADS=1' to disable its internal multithreading\n",
      "  warnings.warn(\n",
      "100%|██████████| 15/15 [03:31<00:00, 14.12s/it]\n"
     ]
    }
   ],
   "source": [
    "model = AlternatingLeastSquares(factors=64, regularization=0.05)\n",
    "model.fit(2*user_plays)"
   ]
  },
  {
   "cell_type": "markdown",
   "metadata": {},
   "source": [
    "---\n",
    "Model Evaluation & Prediction"
   ]
  },
  {
   "cell_type": "code",
   "execution_count": 31,
   "metadata": {},
   "outputs": [],
   "source": [
    "userid = 234\n",
    "ids, scores = model.recommend(userid, user_plays[userid], N=20, filter_already_liked_items=False)"
   ]
  },
  {
   "cell_type": "code",
   "execution_count": 32,
   "metadata": {},
   "outputs": [
    {
     "data": {
      "text/html": [
       "<div>\n",
       "<style scoped>\n",
       "    .dataframe tbody tr th:only-of-type {\n",
       "        vertical-align: middle;\n",
       "    }\n",
       "\n",
       "    .dataframe tbody tr th {\n",
       "        vertical-align: top;\n",
       "    }\n",
       "\n",
       "    .dataframe thead th {\n",
       "        text-align: right;\n",
       "    }\n",
       "</style>\n",
       "<table border=\"1\" class=\"dataframe\">\n",
       "  <thead>\n",
       "    <tr style=\"text-align: right;\">\n",
       "      <th></th>\n",
       "      <th>artist</th>\n",
       "      <th>score</th>\n",
       "      <th>already_liked</th>\n",
       "    </tr>\n",
       "  </thead>\n",
       "  <tbody>\n",
       "    <tr>\n",
       "      <th>0</th>\n",
       "      <td>ricky martin</td>\n",
       "      <td>1.019611</td>\n",
       "      <td>True</td>\n",
       "    </tr>\n",
       "    <tr>\n",
       "      <th>1</th>\n",
       "      <td>marc anthony</td>\n",
       "      <td>0.959728</td>\n",
       "      <td>False</td>\n",
       "    </tr>\n",
       "    <tr>\n",
       "      <th>2</th>\n",
       "      <td>juanes</td>\n",
       "      <td>0.947532</td>\n",
       "      <td>True</td>\n",
       "    </tr>\n",
       "    <tr>\n",
       "      <th>3</th>\n",
       "      <td>carlos santana</td>\n",
       "      <td>0.918384</td>\n",
       "      <td>False</td>\n",
       "    </tr>\n",
       "    <tr>\n",
       "      <th>4</th>\n",
       "      <td>enrique iglesias</td>\n",
       "      <td>0.907143</td>\n",
       "      <td>False</td>\n",
       "    </tr>\n",
       "    <tr>\n",
       "      <th>5</th>\n",
       "      <td>a.r. rahman</td>\n",
       "      <td>0.889110</td>\n",
       "      <td>False</td>\n",
       "    </tr>\n",
       "    <tr>\n",
       "      <th>6</th>\n",
       "      <td>shakira</td>\n",
       "      <td>0.885750</td>\n",
       "      <td>False</td>\n",
       "    </tr>\n",
       "    <tr>\n",
       "      <th>7</th>\n",
       "      <td>outlandish</td>\n",
       "      <td>0.862761</td>\n",
       "      <td>False</td>\n",
       "    </tr>\n",
       "    <tr>\n",
       "      <th>8</th>\n",
       "      <td>gipsy kings</td>\n",
       "      <td>0.856260</td>\n",
       "      <td>False</td>\n",
       "    </tr>\n",
       "    <tr>\n",
       "      <th>9</th>\n",
       "      <td>panjabi mc</td>\n",
       "      <td>0.855923</td>\n",
       "      <td>False</td>\n",
       "    </tr>\n",
       "    <tr>\n",
       "      <th>10</th>\n",
       "      <td>chambao</td>\n",
       "      <td>0.850562</td>\n",
       "      <td>False</td>\n",
       "    </tr>\n",
       "    <tr>\n",
       "      <th>11</th>\n",
       "      <td>aventura</td>\n",
       "      <td>0.831824</td>\n",
       "      <td>False</td>\n",
       "    </tr>\n",
       "    <tr>\n",
       "      <th>12</th>\n",
       "      <td>arash</td>\n",
       "      <td>0.828876</td>\n",
       "      <td>True</td>\n",
       "    </tr>\n",
       "    <tr>\n",
       "      <th>13</th>\n",
       "      <td>las ketchup</td>\n",
       "      <td>0.823974</td>\n",
       "      <td>False</td>\n",
       "    </tr>\n",
       "    <tr>\n",
       "      <th>14</th>\n",
       "      <td>buddha bar</td>\n",
       "      <td>0.820370</td>\n",
       "      <td>False</td>\n",
       "    </tr>\n",
       "    <tr>\n",
       "      <th>15</th>\n",
       "      <td>julio iglesias</td>\n",
       "      <td>0.816417</td>\n",
       "      <td>False</td>\n",
       "    </tr>\n",
       "    <tr>\n",
       "      <th>16</th>\n",
       "      <td>null</td>\n",
       "      <td>0.807081</td>\n",
       "      <td>False</td>\n",
       "    </tr>\n",
       "    <tr>\n",
       "      <th>17</th>\n",
       "      <td>bryan adams</td>\n",
       "      <td>0.800578</td>\n",
       "      <td>False</td>\n",
       "    </tr>\n",
       "    <tr>\n",
       "      <th>18</th>\n",
       "      <td>black eyed peas</td>\n",
       "      <td>0.800510</td>\n",
       "      <td>True</td>\n",
       "    </tr>\n",
       "    <tr>\n",
       "      <th>19</th>\n",
       "      <td>gloria estefan</td>\n",
       "      <td>0.798589</td>\n",
       "      <td>False</td>\n",
       "    </tr>\n",
       "  </tbody>\n",
       "</table>\n",
       "</div>"
      ],
      "text/plain": [
       "              artist     score  already_liked\n",
       "0       ricky martin  1.019611           True\n",
       "1       marc anthony  0.959728          False\n",
       "2             juanes  0.947532           True\n",
       "3     carlos santana  0.918384          False\n",
       "4   enrique iglesias  0.907143          False\n",
       "5        a.r. rahman  0.889110          False\n",
       "6            shakira  0.885750          False\n",
       "7         outlandish  0.862761          False\n",
       "8        gipsy kings  0.856260          False\n",
       "9         panjabi mc  0.855923          False\n",
       "10           chambao  0.850562          False\n",
       "11          aventura  0.831824          False\n",
       "12             arash  0.828876           True\n",
       "13       las ketchup  0.823974          False\n",
       "14        buddha bar  0.820370          False\n",
       "15    julio iglesias  0.816417          False\n",
       "16              null  0.807081          False\n",
       "17       bryan adams  0.800578          False\n",
       "18   black eyed peas  0.800510           True\n",
       "19    gloria estefan  0.798589          False"
      ]
     },
     "execution_count": 32,
     "metadata": {},
     "output_type": "execute_result"
    }
   ],
   "source": [
    "pd.DataFrame({\"artist\": artists[ids], \"score\": scores, \"already_liked\": np.in1d(ids, user_plays[userid].indices)})"
   ]
  },
  {
   "cell_type": "code",
   "execution_count": null,
   "metadata": {},
   "outputs": [],
   "source": []
  }
 ],
 "metadata": {
  "interpreter": {
   "hash": "ffdf1a189ad603aad7b42e0497f14c71ac3019c8fc582a6946fd90a8df34891e"
  },
  "kernelspec": {
   "display_name": "Python 3.9.7 ('base')",
   "language": "python",
   "name": "python3"
  },
  "language_info": {
   "codemirror_mode": {
    "name": "ipython",
    "version": 3
   },
   "file_extension": ".py",
   "mimetype": "text/x-python",
   "name": "python",
   "nbconvert_exporter": "python",
   "pygments_lexer": "ipython3",
   "version": "3.8.12"
  },
  "orig_nbformat": 4
 },
 "nbformat": 4,
 "nbformat_minor": 2
}
