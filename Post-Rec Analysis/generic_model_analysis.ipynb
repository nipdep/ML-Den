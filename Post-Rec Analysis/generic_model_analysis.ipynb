{
 "cells": [
  {
   "cell_type": "code",
   "execution_count": 26,
   "metadata": {},
   "outputs": [],
   "source": [
    "import sys\n",
    "import numpy as np \n",
    "import pandas as pd \n",
    "from collections import Counter\n",
    "from sklearn.metrics import classification_report\n",
    "\n",
    "import cornac\n",
    "from cornac.models.ncf.recom_mlp import MLP\n",
    "from cornac.eval_methods import RatioSplit\n",
    "from cornac.data.dataset import Dataset\n",
    "from cornac.utils import cache\n",
    "\n",
    "from recommenders.utils.timer import Timer\n",
    "from recommenders.datasets.python_splitters import python_chrono_split\n",
    "from recommenders.evaluation.python_evaluation import map_at_k, ndcg_at_k, precision_at_k, recall_at_k, auc, distributional_coverage, catalog_coverage, exp_var, get_top_k_items, logloss, mae, rmse, rsquared\n",
    "from recommenders.models.cornac.cornac_utils import predict_ranking, predict\n",
    "\n",
    "import matplotlib.pyplot as plt \n",
    "import seaborn as sns"
   ]
  },
  {
   "cell_type": "code",
   "execution_count": 2,
   "metadata": {},
   "outputs": [
    {
     "name": "stdout",
     "output_type": "stream",
     "text": [
      "System version: 3.7.11 (default, Jul 27 2021, 07:03:16) \n",
      "[Clang 10.0.0 ]\n",
      "Cornac version: 1.14.1\n"
     ]
    }
   ],
   "source": [
    "SEED = 42\n",
    "VERBOSE = True\n",
    "\n",
    "print(f\"System version: {sys.version}\")\n",
    "print(f\"Cornac version: {cornac.__version__}\")"
   ]
  },
  {
   "cell_type": "markdown",
   "metadata": {},
   "source": [
    "---\n",
    "Analysis Module"
   ]
  },
  {
   "cell_type": "code",
   "execution_count": 27,
   "metadata": {},
   "outputs": [],
   "source": [
    "\n",
    "\n",
    "class PerformanceAnalyzer(object):\n",
    "    def __init__(self, df, user_col, item_col, score_col, target_col, recType='explicit'):\n",
    "        self.df = df \n",
    "        self.user_col = user_col \n",
    "        self.item_col = item_col \n",
    "        self.score_col = score_col\n",
    "        self.target_col = target_col \n",
    "        self.rtype = recType\n",
    "    \n",
    "    def calc_mets(self, test_df):\n",
    "        met_dict = {'root mean squared error': rmse, 'R-sqaured': rsquared, 'expected-variance': exp_var, 'mean abosolute error': mae,}\n",
    "\n",
    "        if self.rtype == 'implicit':\n",
    "            met_dict.update({'AUC': auc, 'logloss': logloss})\n",
    "\n",
    "        met_results = {k: v(test_df, test_df, col_user=self.user_col, col_item=self.item_col, col_rating=self.target_col, col_prediction=self.score_col) for k,v in met_dict.items()}\n",
    "        return met_results\n",
    "\n",
    "    def calc_Kmets(self, test_df, k):\n",
    "        met_dict = {'mean average precision': map_at_k, 'NDGC': ndcg_at_k, 'precision': precision_at_k, 'recall': recall_at_k}\n",
    "        met_results = {i: v(test_df, test_df, col_user=self.user_col, col_item=self.item_col, col_rating=self.target_col, col_prediction=self.score_col, k=k) for i,v in met_dict.items()}\n",
    "        return met_results\n",
    "\n",
    "    def get_coverage_report(self, train_df):\n",
    "        res_dict = {}\n",
    "        try:\n",
    "            res_dict['Catalog Coverage'] = catalog_coverage(train_df, self.df, col_item=self.item_col, col_user=self.user_col)\n",
    "            res_dict['Distribution Coverage'] = distributional_coverage(train_df, self.df, col_item=self.item_col, col_user=self.user_col)\n",
    "        except:\n",
    "            print(f\"Make sure the training dataset to have {self.item_col}, {self.user_col} as item columns & user column respectively.\")\n",
    "        return res_dict     \n",
    "\n",
    "    def get_performance_analysis(self, k=5):\n",
    "        met_results = self.calc_mets(self.df)\n",
    "        met_results.update(self.calc_Kmets(self.df, k))\n",
    "        return met_results\n",
    "\n",
    "    def plot_performanceWk(self, ks=[5, 10, 25, 50], plt_size=(8, 6)):\n",
    "        data_dict = {'value': [], 'metrics': [], 'k': []}\n",
    "        for k in ks:\n",
    "            eval_map = map_at_k(self.df, self.df, col_prediction=self.score_col, col_rating=self.target_col, col_item=self.item_col, col_user=self.user_col, k=k)\n",
    "            eval_ndcg = ndcg_at_k(self.df, self.df, col_prediction=self.score_col, col_rating=self.target_col, col_item=self.item_col, col_user=self.user_col, k=k)\n",
    "            eval_precision = precision_at_k(self.df, self.df, col_prediction=self.score_col, col_rating=self.target_col, col_item=self.item_col, col_user=self.user_col, k=k)\n",
    "            eval_recall = recall_at_k(self.df, self.df, col_prediction=self.score_col, col_rating=self.target_col, col_item=self.item_col, col_user=self.user_col, k=k)\n",
    "            data_dict['value'].extend([eval_map, eval_ndcg, eval_precision, eval_recall])\n",
    "            data_dict['metrics'].extend(['map', 'ndgc', 'precision', 'recall'])\n",
    "            data_dict['k'].extend([k, k, k, k])\n",
    "        eval_result_df = pd.DataFrame(data_dict)\n",
    "\n",
    "        plt.figure(figsize=plt_size)\n",
    "        plot = sns.lineplot(data=eval_result_df, x='k', y='value', hue='metrics', marker='o')\n",
    "\n",
    "        return eval_result_df, plot \n",
    "    \n",
    "    def analyze_active_predictions(self, pred_active_thr, customer_acceptance_thr):\n",
    "        alt_df1 = self.df.copy()\n",
    "        alt_df1['is_pred'] = (alt_df1['score'] >= pred_active_thr).astype(int)\n",
    "        alt_df1['customer_subs'] = 1 \n",
    "        alt_df1['customer_likes'] = (alt_df1['rating'] >= customer_acceptance_thr).astype(int)\n",
    "\n",
    "        report1 = classification_report(alt_df1['customer_subs'], alt_df1['is_pred'], zero_division=0, output_dict=True)\n",
    "        report2 = classification_report(alt_df1['customer_likes'], alt_df1['is_pred'], zero_division=0, output_dict=True)\n",
    "        return report1, report2\n",
    "\n"
   ]
  },
  {
   "cell_type": "code",
   "execution_count": null,
   "metadata": {},
   "outputs": [],
   "source": []
  },
  {
   "cell_type": "markdown",
   "metadata": {},
   "source": [
    "---\n",
    "Test Dataset "
   ]
  },
  {
   "cell_type": "code",
   "execution_count": 4,
   "metadata": {},
   "outputs": [
    {
     "name": "stdout",
     "output_type": "stream",
     "text": [
      "Training Data > \n",
      "    user_id  item_id  rating           timestamp\n",
      "0        1        1       5 1997-09-22 22:02:38\n",
      "1        1        2       3 1997-10-15 05:26:11\n",
      "2        1        3       4 1997-11-03 07:42:40\n",
      "3        1        4       3 1997-10-15 05:25:19\n",
      "4        1        5       3 1998-03-13 01:15:12\n",
      "Test Data > \n",
      "    user_id  item_id  rating           timestamp\n",
      "0        1        6       5 1998-02-14 04:52:53\n",
      "1        1       10       3 1997-10-01 08:05:18\n",
      "2        1       12       5 1997-11-03 07:42:40\n",
      "3        1       14       5 1997-09-22 22:01:46\n",
      "4        1       17       3 1997-09-24 03:53:18\n",
      "Predicted Results > \n",
      "    user_id  item_id  score  rating           timestamp\n",
      "0        1        6      4       5 1998-02-14 04:52:53\n",
      "1        1       10      4       3 1997-10-01 08:05:18\n",
      "2        1       12      4       5 1997-11-03 07:42:40\n",
      "3        1       14      4       5 1997-09-22 22:01:46\n",
      "4        1       17      3       3 1997-09-24 03:53:18\n"
     ]
    }
   ],
   "source": [
    "train_df = pd.read_csv('../data/ml_100k/train_data.csv')\n",
    "train_df['timestamp'] = pd.to_datetime(train_df['timestamp'], unit='s')\n",
    "print(\"Training Data > \\n\", train_df.head())\n",
    "\n",
    "\n",
    "test_df = pd.read_csv('../data/ml_100k/test_data.csv')\n",
    "test_df['timestamp'] = pd.to_datetime(test_df['timestamp'], unit='s')\n",
    "print(\"Test Data > \\n\", test_df.head())\n",
    "\n",
    "pred_df = pd.read_csv('../data/ml_100k/predicted_data.csv')\n",
    "pred_df['timestamp'] = pd.to_datetime(pred_df['timestamp'], unit='s')\n",
    "print(\"Predicted Results > \\n\", pred_df.head())"
   ]
  },
  {
   "cell_type": "markdown",
   "metadata": {},
   "source": [
    "---\n",
    "Module Testing"
   ]
  },
  {
   "cell_type": "code",
   "execution_count": 29,
   "metadata": {},
   "outputs": [],
   "source": [
    "scorer = PerformanceAnalyzer(pred_df, user_col='user_id', item_col='item_id', score_col='score', target_col='rating', recType='explicit')"
   ]
  },
  {
   "cell_type": "code",
   "execution_count": 30,
   "metadata": {},
   "outputs": [
    {
     "data": {
      "text/plain": [
       "{'Catalog Coverage': 0.8545454545454545,\n",
       " 'Distribution Coverage': 9.68472564107168}"
      ]
     },
     "execution_count": 30,
     "metadata": {},
     "output_type": "execute_result"
    }
   ],
   "source": [
    "scorer.get_coverage_report(train_df)"
   ]
  },
  {
   "cell_type": "code",
   "execution_count": 31,
   "metadata": {},
   "outputs": [
    {
     "data": {
      "text/plain": [
       "{'root mean squared error': 1.0065535256507723,\n",
       " 'R-sqaured': 0.2387546159259507,\n",
       " 'expected-variance': 0.23973651652895045,\n",
       " 'mean abosolute error': 0.72645,\n",
       " 'mean average precision': 0.4848842973958476,\n",
       " 'NDGC': 1.0,\n",
       " 'precision': 0.9374727668845315,\n",
       " 'recall': 0.4848842973958476}"
      ]
     },
     "execution_count": 31,
     "metadata": {},
     "output_type": "execute_result"
    }
   ],
   "source": [
    "scorer.get_performance_analysis(k=10)"
   ]
  },
  {
   "cell_type": "code",
   "execution_count": 32,
   "metadata": {},
   "outputs": [
    {
     "data": {
      "text/plain": [
       "(       value    metrics   k\n",
       " 0   0.288998        map   5\n",
       " 1   1.000000       ndgc   5\n",
       " 2   0.979956  precision   5\n",
       " 3   0.288998     recall   5\n",
       " 4   0.484884        map  10\n",
       " 5   1.000000       ndgc  10\n",
       " 6   0.937473  precision  10\n",
       " 7   0.484884     recall  10\n",
       " 8   0.730123        map  25\n",
       " 9   1.000000       ndgc  25\n",
       " 10  0.753551  precision  25\n",
       " 11  0.730123     recall  25\n",
       " 12  0.871598        map  50\n",
       " 13  1.000000       ndgc  50\n",
       " 14  0.572157  precision  50\n",
       " 15  0.871598     recall  50,\n",
       " <AxesSubplot:xlabel='k', ylabel='value'>)"
      ]
     },
     "execution_count": 32,
     "metadata": {},
     "output_type": "execute_result"
    },
    {
     "data": {
      "image/png": "[encoded data removed]",
      "text/plain": [
       "<Figure size 576x432 with 1 Axes>"
      ]
     },
     "metadata": {
      "needs_background": "light"
     },
     "output_type": "display_data"
    }
   ],
   "source": [
    "scorer.plot_performanceWk()"
   ]
  },
  {
   "cell_type": "code",
   "execution_count": 33,
   "metadata": {},
   "outputs": [
    {
     "data": {
      "text/plain": [
       "({'0': {'precision': 0.0, 'recall': 0.0, 'f1-score': 0.0, 'support': 0},\n",
       "  '1': {'precision': 1.0,\n",
       "   'recall': 0.9511,\n",
       "   'f1-score': 0.9749372149044129,\n",
       "   'support': 20000},\n",
       "  'accuracy': 0.9511,\n",
       "  'macro avg': {'precision': 0.5,\n",
       "   'recall': 0.47555,\n",
       "   'f1-score': 0.48746860745220644,\n",
       "   'support': 20000},\n",
       "  'weighted avg': {'precision': 1.0,\n",
       "   'recall': 0.9511,\n",
       "   'f1-score': 0.974937214904413,\n",
       "   'support': 20000}},\n",
       " {'0': {'precision': 0.9049079754601227,\n",
       "   'recall': 0.10096976611523104,\n",
       "   'f1-score': 0.18166889048547674,\n",
       "   'support': 8765},\n",
       "  '1': {'precision': 0.5857428240984124,\n",
       "   'recall': 0.9917222963951936,\n",
       "   'f1-score': 0.736490729417986,\n",
       "   'support': 11235},\n",
       "  'accuracy': 0.60135,\n",
       "  'macro avg': {'precision': 0.7453253997792675,\n",
       "   'recall': 0.5463460312552123,\n",
       "   'f1-score': 0.45907980995173137,\n",
       "   'support': 20000},\n",
       "  'weighted avg': {'precision': 0.7256169516826819,\n",
       "   'recall': 0.60135,\n",
       "   'f1-score': 0.4933400585058138,\n",
       "   'support': 20000}})"
      ]
     },
     "execution_count": 33,
     "metadata": {},
     "output_type": "execute_result"
    }
   ],
   "source": [
    "scorer.analyze_active_predictions(pred_active_thr=3, customer_acceptance_thr=4)"
   ]
  },
  {
   "cell_type": "code",
   "execution_count": null,
   "metadata": {},
   "outputs": [],
   "source": []
  }
 ],
 "metadata": {
  "kernelspec": {
   "display_name": "Python 3.7.11 ('rec')",
   "language": "python",
   "name": "python3"
  },
  "language_info": {
   "codemirror_mode": {
    "name": "ipython",
    "version": 3
   },
   "file_extension": ".py",
   "mimetype": "text/x-python",
   "name": "python",
   "nbconvert_exporter": "python",
   "pygments_lexer": "ipython3",
   "version": "3.7.11"
  },
  "orig_nbformat": 4,
  "vscode": {
   "interpreter": {
    "hash": "114915f1d81c1da50642110d3f97d7e46f1e3067055e32d41ec3bf538df62b4a"
   }
  }
 },
 "nbformat": 4,
 "nbformat_minor": 2
}
