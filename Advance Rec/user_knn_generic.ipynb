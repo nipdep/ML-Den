{
 "cells": [
  {
   "cell_type": "code",
   "execution_count": 1,
   "metadata": {},
   "outputs": [
    {
     "name": "stdout",
     "output_type": "stream",
     "text": [
      "FM model is only supported on Linux.\n",
      "Windows executable can be found at http://www.libfm.org.\n"
     ]
    }
   ],
   "source": [
    "import sys\n",
    "import pandas as pd \n",
    "import numpy as np \n",
    "import cornac\n",
    "from cornac.models import UserKNN, ItemKNN\n",
    "from cornac.eval_methods import RatioSplit\n",
    "from cornac.utils import cache"
   ]
  },
  {
   "cell_type": "code",
   "execution_count": 2,
   "metadata": {},
   "outputs": [
    {
     "name": "stdout",
     "output_type": "stream",
     "text": [
      "System version: 3.7.11 (default, Jul 27 2021, 07:03:16) \n",
      "[Clang 10.0.0 ]\n",
      "Cornac version: 1.14.1\n"
     ]
    }
   ],
   "source": [
    "SEED = 42\n",
    "VERBOSE = True\n",
    "\n",
    "print(f\"System version: {sys.version}\")\n",
    "print(f\"Cornac version: {cornac.__version__}\")"
   ]
  },
  {
   "cell_type": "code",
   "execution_count": 3,
   "metadata": {},
   "outputs": [
    {
     "data": {
      "text/html": [
       "<div>\n",
       "<style scoped>\n",
       "    .dataframe tbody tr th:only-of-type {\n",
       "        vertical-align: middle;\n",
       "    }\n",
       "\n",
       "    .dataframe tbody tr th {\n",
       "        vertical-align: top;\n",
       "    }\n",
       "\n",
       "    .dataframe thead th {\n",
       "        text-align: right;\n",
       "    }\n",
       "</style>\n",
       "<table border=\"1\" class=\"dataframe\">\n",
       "  <thead>\n",
       "    <tr style=\"text-align: right;\">\n",
       "      <th></th>\n",
       "      <th>UserId</th>\n",
       "      <th>MovieId</th>\n",
       "      <th>Rating</th>\n",
       "      <th>Timestamp</th>\n",
       "    </tr>\n",
       "  </thead>\n",
       "  <tbody>\n",
       "    <tr>\n",
       "      <th>0</th>\n",
       "      <td>1</td>\n",
       "      <td>1193</td>\n",
       "      <td>5</td>\n",
       "      <td>978300760</td>\n",
       "    </tr>\n",
       "    <tr>\n",
       "      <th>1</th>\n",
       "      <td>1</td>\n",
       "      <td>661</td>\n",
       "      <td>3</td>\n",
       "      <td>978302109</td>\n",
       "    </tr>\n",
       "    <tr>\n",
       "      <th>2</th>\n",
       "      <td>1</td>\n",
       "      <td>914</td>\n",
       "      <td>3</td>\n",
       "      <td>978301968</td>\n",
       "    </tr>\n",
       "    <tr>\n",
       "      <th>3</th>\n",
       "      <td>1</td>\n",
       "      <td>3408</td>\n",
       "      <td>4</td>\n",
       "      <td>978300275</td>\n",
       "    </tr>\n",
       "    <tr>\n",
       "      <th>4</th>\n",
       "      <td>1</td>\n",
       "      <td>2355</td>\n",
       "      <td>5</td>\n",
       "      <td>978824291</td>\n",
       "    </tr>\n",
       "  </tbody>\n",
       "</table>\n",
       "</div>"
      ],
      "text/plain": [
       "   UserId  MovieId  Rating  Timestamp\n",
       "0       1     1193       5  978300760\n",
       "1       1      661       3  978302109\n",
       "2       1      914       3  978301968\n",
       "3       1     3408       4  978300275\n",
       "4       1     2355       5  978824291"
      ]
     },
     "execution_count": 3,
     "metadata": {},
     "output_type": "execute_result"
    }
   ],
   "source": [
    "sample_df = pd.read_csv('../data/datasets/ml-1m/ratings.dat', header=None, sep='::', engine='python')\n",
    "sample_df.columns = ['UserId', 'MovieId', 'Rating', 'Timestamp']\n",
    "sample_df.head()"
   ]
  },
  {
   "cell_type": "code",
   "execution_count": 4,
   "metadata": {},
   "outputs": [],
   "source": [
    "def rec2mat(df, replace_zeros='skip', add_meanR_col=False):\n",
    "    dataset = cornac.data.Dataset.from_uir(df.copy().itertuples(index=False))\n",
    "    df = pd.DataFrame(dataset.matrix.A,\n",
    "                    index=[f\"User {u + 1}\" for u in np.arange(dataset.num_users)],\n",
    "                    columns=[f\"Item {i + 1}\" for i in np.arange(dataset.num_items)])\n",
    "    if replace_zeros != 'skip':\n",
    "        df.replace(0, replace_zeros, inplace=True)\n",
    "    \n",
    "    if add_meanR_col:\n",
    "        df[\"Mean Rating\"] = df.mean(axis=1)\n",
    "\n",
    "    return df\n"
   ]
  },
  {
   "cell_type": "code",
   "execution_count": 5,
   "metadata": {},
   "outputs": [],
   "source": [
    "test_df = sample_df.loc[:, ['UserId', 'MovieId', 'Rating']]"
   ]
  },
  {
   "cell_type": "code",
   "execution_count": 6,
   "metadata": {},
   "outputs": [],
   "source": [
    "rating_mat = rec2mat(test_df, replace_zeros=np.nan, add_meanR_col=True)"
   ]
  },
  {
   "cell_type": "code",
   "execution_count": 7,
   "metadata": {},
   "outputs": [],
   "source": [
    "def rec2MCmat(df, replace_zeros='skip'):\n",
    "    dataset = cornac.data.Dataset.from_uir(df.copy().itertuples(index=False))\n",
    "    df = pd.DataFrame(dataset.matrix.A,\n",
    "                    index=[f\"User {u + 1}\" for u in np.arange(dataset.num_users)],\n",
    "                    columns=[f\"Item {i + 1}\" for i in np.arange(dataset.num_items)])\n",
    "    df.replace(0, np.nan, inplace=True)\n",
    "    df[\"Mean Rating\"] = df.mean(axis=1)\n",
    "\n",
    "    ratings = df[df.columns.difference([\"Mean Rating\"])].values\n",
    "    means = df[\"Mean Rating\"].values[:, np.newaxis]\n",
    "    df[df.columns.difference([\"Mean Rating\"])] = (ratings - means)\n",
    "    df.drop(columns=\"Mean Rating\")\n",
    "\n",
    "    if replace_zeros != 'skip':\n",
    "        df.replace(0, replace_zeros, inplace=True)\n",
    "\n",
    "    return df\n"
   ]
  },
  {
   "cell_type": "code",
   "execution_count": 8,
   "metadata": {},
   "outputs": [],
   "source": [
    "norm_rat_mat = rec2MCmat(test_df)"
   ]
  },
  {
   "cell_type": "code",
   "execution_count": 21,
   "metadata": {},
   "outputs": [],
   "source": [
    "class UserBasedKNN(object):\n",
    "    def __init__(self, data, k=50, similarity='cosine', weighting='skip', split_ratio=0.1):\n",
    "        self.split_ratio = split_ratio\n",
    "        df = data.copy()\n",
    "        df.iloc[:, :2] = df.iloc[:, :2].astype(str)\n",
    "        self.dataset = df.values.tolist()\n",
    "        if weighting != 'skip':\n",
    "            self.model = UserKNN(k=k, similarity=similarity, name='user-base KNN model', verbose=VERBOSE, weighting=weighting)\n",
    "        else:\n",
    "            self.model = UserKNN(k=k, similarity=similarity, name='user-base KNN model', verbose=VERBOSE)\n",
    "\n",
    "    def train(self):\n",
    "        ratio_split = RatioSplit(self.dataset, test_size=self.split_ratio, seed=SEED, verbose=VERBOSE)\n",
    "        cornac.Experiment(\n",
    "            eval_method=ratio_split,\n",
    "            models=[self.model],\n",
    "            metrics=[cornac.metrics.RMSE(), cornac.metrics.NDCG()]\n",
    "        ).run()\n",
    "\n",
    "    def predict(self, user_ids, k=10):\n",
    "        user_id2idx = self.model.train_set.uid_map\n",
    "        item_idx2id = list(self.model.train_set.item_ids)\n",
    "\n",
    "        recs = {}\n",
    "        for ID in user_ids:\n",
    "            idx = user_id2idx[str(ID)]\n",
    "            recommendations, scores = self.model.rank(idx)\n",
    "            items_id = [item_idx2id[i] for i in recommendations[:k]]\n",
    "            recs[ID] = items_id\n",
    "\n",
    "        return recs"
   ]
  },
  {
   "cell_type": "code",
   "execution_count": 22,
   "metadata": {},
   "outputs": [],
   "source": [
    "userKnn = UserBasedKNN(test_df, k=50, similarity='cosine', weighting='idf')"
   ]
  },
  {
   "cell_type": "code",
   "execution_count": 23,
   "metadata": {},
   "outputs": [
    {
     "name": "stdout",
     "output_type": "stream",
     "text": [
      "rating_threshold = 1.0\n",
      "exclude_unknowns = True\n",
      "---\n",
      "Training data:\n",
      "Number of users = 6040\n",
      "Number of items = 3691\n",
      "Number of ratings = 900188\n",
      "Max rating = 5.0\n",
      "Min rating = 1.0\n",
      "Global mean = 3.6\n",
      "---\n",
      "Test data:\n",
      "Number of users = 5958\n",
      "Number of items = 3298\n",
      "Number of ratings = 100004\n",
      "Number of unknown users = 0\n",
      "Number of unknown items = 0\n",
      "---\n",
      "Total users = 6040\n",
      "Total items = 3691\n",
      "\n",
      "[user-base KNN model] Training started!\n"
     ]
    },
    {
     "name": "stderr",
     "output_type": "stream",
     "text": [
      "100%|██████████| 6040/6040 [00:02<00:00, 2265.94it/s]\n"
     ]
    },
    {
     "name": "stdout",
     "output_type": "stream",
     "text": [
      "\n",
      "[user-base KNN model] Evaluation started!\n"
     ]
    },
    {
     "name": "stderr",
     "output_type": "stream",
     "text": [
      "Rating: 100%|██████████| 100004/100004 [00:18<00:00, 5526.40it/s]\n",
      "Ranking: 100%|██████████| 5958/5958 [05:41<00:00, 17.44it/s]"
     ]
    },
    {
     "name": "stdout",
     "output_type": "stream",
     "text": [
      "\n",
      "TEST:\n",
      "...\n",
      "                    |   RMSE | NDCG@-1 | Train (s) | Test (s)\n",
      "------------------- + ------ + ------- + --------- + --------\n",
      "user-base KNN model | 0.8995 |  0.2475 |    4.6544 | 360.4012\n",
      "\n"
     ]
    },
    {
     "name": "stderr",
     "output_type": "stream",
     "text": [
      "\n"
     ]
    }
   ],
   "source": [
    "userKnn.train()"
   ]
  },
  {
   "cell_type": "code",
   "execution_count": 24,
   "metadata": {},
   "outputs": [
    {
     "data": {
      "text/plain": [
       "{5412: ['3382',\n",
       "  '557',\n",
       "  '989',\n",
       "  '130',\n",
       "  '1830',\n",
       "  '758',\n",
       "  '2503',\n",
       "  '3245',\n",
       "  '3517',\n",
       "  '3323'],\n",
       " 425: ['3382',\n",
       "  '557',\n",
       "  '989',\n",
       "  '130',\n",
       "  '1830',\n",
       "  '758',\n",
       "  '2503',\n",
       "  '3245',\n",
       "  '3517',\n",
       "  '2858'],\n",
       " 824: ['3382',\n",
       "  '557',\n",
       "  '989',\n",
       "  '130',\n",
       "  '1830',\n",
       "  '758',\n",
       "  '3245',\n",
       "  '2503',\n",
       "  '3517',\n",
       "  '3323']}"
      ]
     },
     "execution_count": 24,
     "metadata": {},
     "output_type": "execute_result"
    }
   ],
   "source": [
    "userKnn.predict([5412, 425, 824])"
   ]
  },
  {
   "cell_type": "code",
   "execution_count": 25,
   "metadata": {},
   "outputs": [],
   "source": [
    "class ItemBasedKNN(object):\n",
    "    def __init__(self, data, k=50, similarity='cosine', weighting='skip', split_ratio=0.1):\n",
    "        self.split_ratio = split_ratio\n",
    "        df = data.copy()\n",
    "        df.iloc[:, :2] = df.iloc[:, :2].astype(str)\n",
    "        self.dataset = df.values.tolist()\n",
    "        if weighting != 'skip':\n",
    "            self.model = ItemKNN(k=k, similarity=similarity, name='item-base KNN model', verbose=VERBOSE, weighting=weighting)\n",
    "        else:\n",
    "            self.model = ItemKNN(k=k, similarity=similarity, name='item-base KNN model', verbose=VERBOSE)\n",
    "\n",
    "    def train(self):\n",
    "        ratio_split = RatioSplit(self.dataset, test_size=self.split_ratio, seed=SEED, verbose=VERBOSE)\n",
    "        cornac.Experiment(\n",
    "            eval_method=ratio_split,\n",
    "            models=[self.model],\n",
    "            metrics=[cornac.metrics.RMSE(), cornac.metrics.NDCG()]\n",
    "        ).run()\n",
    "\n",
    "    def predict(self, user_ids, k=10):\n",
    "        user_id2idx = self.model.train_set.uid_map\n",
    "        item_idx2id = list(self.model.train_set.item_ids)\n",
    "\n",
    "        recs = {}\n",
    "        for ID in user_ids:\n",
    "            idx = user_id2idx[str(ID)]\n",
    "            recommendations, scores = self.model.rank(idx)\n",
    "            items_id = [item_idx2id[i] for i in recommendations[:k]]\n",
    "            recs[ID] = items_id\n",
    "\n",
    "        return recs"
   ]
  },
  {
   "cell_type": "code",
   "execution_count": 26,
   "metadata": {},
   "outputs": [],
   "source": [
    "itemKnn = ItemBasedKNN(test_df, k=30, similarity='pearson', weighting='bm25')"
   ]
  },
  {
   "cell_type": "code",
   "execution_count": 27,
   "metadata": {},
   "outputs": [
    {
     "name": "stdout",
     "output_type": "stream",
     "text": [
      "rating_threshold = 1.0\n",
      "exclude_unknowns = True\n",
      "---\n",
      "Training data:\n",
      "Number of users = 6040\n",
      "Number of items = 3691\n",
      "Number of ratings = 900188\n",
      "Max rating = 5.0\n",
      "Min rating = 1.0\n",
      "Global mean = 3.6\n",
      "---\n",
      "Test data:\n",
      "Number of users = 5958\n",
      "Number of items = 3298\n",
      "Number of ratings = 100004\n",
      "Number of unknown users = 0\n",
      "Number of unknown items = 0\n",
      "---\n",
      "Total users = 6040\n",
      "Total items = 3691\n",
      "\n",
      "[item-base KNN model] Training started!\n"
     ]
    },
    {
     "name": "stderr",
     "output_type": "stream",
     "text": [
      "100%|██████████| 3691/3691 [00:01<00:00, 2574.09it/s]\n"
     ]
    },
    {
     "name": "stdout",
     "output_type": "stream",
     "text": [
      "\n",
      "[item-base KNN model] Evaluation started!\n"
     ]
    },
    {
     "name": "stderr",
     "output_type": "stream",
     "text": [
      "Rating: 100%|██████████| 100004/100004 [00:14<00:00, 6872.09it/s]\n",
      "Ranking: 100%|██████████| 5958/5958 [05:51<00:00, 16.97it/s]"
     ]
    },
    {
     "name": "stdout",
     "output_type": "stream",
     "text": [
      "\n",
      "TEST:\n",
      "...\n",
      "                    |   RMSE | NDCG@-1 | Train (s) | Test (s)\n",
      "------------------- + ------ + ------- + --------- + --------\n",
      "item-base KNN model | 0.9372 |  0.2355 |    2.3993 | 366.4086\n",
      "\n"
     ]
    },
    {
     "name": "stderr",
     "output_type": "stream",
     "text": [
      "\n"
     ]
    }
   ],
   "source": [
    "itemKnn.train()"
   ]
  },
  {
   "cell_type": "code",
   "execution_count": 28,
   "metadata": {},
   "outputs": [
    {
     "data": {
      "text/plain": [
       "{5412: ['858',\n",
       "  '2258',\n",
       "  '3888',\n",
       "  '3065',\n",
       "  '1218',\n",
       "  '2690',\n",
       "  '3265',\n",
       "  '1252',\n",
       "  '449',\n",
       "  '3288'],\n",
       " 425: ['3290',\n",
       "  '1709',\n",
       "  '813',\n",
       "  '133',\n",
       "  '624',\n",
       "  '3280',\n",
       "  '3505',\n",
       "  '2314',\n",
       "  '3096',\n",
       "  '1185'],\n",
       " 824: ['3280',\n",
       "  '3888',\n",
       "  '1747',\n",
       "  '1189',\n",
       "  '2039',\n",
       "  '3127',\n",
       "  '2020',\n",
       "  '2244',\n",
       "  '2679',\n",
       "  '912']}"
      ]
     },
     "execution_count": 28,
     "metadata": {},
     "output_type": "execute_result"
    }
   ],
   "source": [
    "itemKnn.predict([5412, 425, 824])"
   ]
  },
  {
   "cell_type": "code",
   "execution_count": null,
   "metadata": {},
   "outputs": [],
   "source": []
  }
 ],
 "metadata": {
  "interpreter": {
   "hash": "114915f1d81c1da50642110d3f97d7e46f1e3067055e32d41ec3bf538df62b4a"
  },
  "kernelspec": {
   "display_name": "Python 3.7.11 ('rec')",
   "language": "python",
   "name": "python3"
  },
  "language_info": {
   "codemirror_mode": {
    "name": "ipython",
    "version": 3
   },
   "file_extension": ".py",
   "mimetype": "text/x-python",
   "name": "python",
   "nbconvert_exporter": "python",
   "pygments_lexer": "ipython3",
   "version": "3.7.11"
  },
  "orig_nbformat": 4
 },
 "nbformat": 4,
 "nbformat_minor": 2
}
