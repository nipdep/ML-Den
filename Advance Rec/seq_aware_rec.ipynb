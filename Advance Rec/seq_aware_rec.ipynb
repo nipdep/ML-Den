{
 "cells": [
  {
   "cell_type": "markdown",
   "metadata": {},
   "source": [
    "## sequence aware recommendation model \n",
    "[Source](http://d2l.ai/chapter_recommender-systems/seqrec.html) | [Dataset](https://files.grouplens.org/datasets/movielens/ml-100k.zip) \\\n",
    "..."
   ]
  },
  {
   "cell_type": "code",
   "execution_count": 8,
   "metadata": {},
   "outputs": [],
   "source": [
    "import random\n",
    "import mxnet as mx\n",
    "from mxnet import gluon, np, npx\n",
    "from mxnet.gluon import nn\n",
    "from d2l import mxnet as d2l\n",
    "import pandas as pd \n",
    "npx.set_np()"
   ]
  },
  {
   "cell_type": "markdown",
   "metadata": {},
   "source": [
    "#### Data preparation"
   ]
  },
  {
   "cell_type": "code",
   "execution_count": 12,
   "metadata": {},
   "outputs": [],
   "source": [
    "class SeqDataset(gluon.data.Dataset):\n",
    "    def __init__(self, user_ids, item_ids, L, num_users, num_items,\n",
    "                 candidates):\n",
    "        user_ids, item_ids = np.array(user_ids), np.array(item_ids)\n",
    "        sort_idx = np.array(sorted(range(len(user_ids)),\n",
    "                                   key=lambda k: user_ids[k]))\n",
    "        u_ids, i_ids = user_ids[sort_idx], item_ids[sort_idx]\n",
    "        temp, u_ids, self.cand = {}, u_ids.asnumpy(), candidates\n",
    "        self.all_items = set([i for i in range(num_items)])\n",
    "        [temp.setdefault(u_ids[i], []).append(i) for i, _ in enumerate(u_ids)]\n",
    "        temp = sorted(temp.items(), key=lambda x: x[0])\n",
    "        u_ids = np.array([i[0] for i in temp])\n",
    "        idx = np.array([i[1][0] for i in temp])\n",
    "        self.ns = ns = int(sum([c - L if c >= L + 1 else 1 for c\n",
    "                                in np.array([len(i[1]) for i in temp])]))\n",
    "        self.seq_items = np.zeros((ns, L))\n",
    "        self.seq_users = np.zeros(ns, dtype='int32')\n",
    "        self.seq_tgt = np.zeros((ns, 1))\n",
    "        self.test_seq = np.zeros((num_users, L))\n",
    "        test_users, _uid = np.empty(num_users), None\n",
    "        for i, (uid, i_seq) in enumerate(self._seq(u_ids, i_ids, idx, L + 1)):\n",
    "            if uid != _uid:\n",
    "                self.test_seq[uid][:] = i_seq[-L:]\n",
    "                test_users[uid], _uid = uid, uid\n",
    "            self.seq_tgt[i][:] = i_seq[-1:]\n",
    "            self.seq_items[i][:], self.seq_users[i] = i_seq[:L], uid\n",
    "\n",
    "    def _win(self, tensor, window_size, step_size=1):\n",
    "        if len(tensor) - window_size >= 0:\n",
    "            for i in range(len(tensor), 0, - step_size):\n",
    "                if i - window_size >= 0:\n",
    "                    yield tensor[i - window_size:i]\n",
    "                else:\n",
    "                    break\n",
    "        else:\n",
    "            yield tensor\n",
    "\n",
    "    def _seq(self, u_ids, i_ids, idx, max_len):\n",
    "        for i in range(len(idx)):\n",
    "            stop_idx = None if i >= len(idx) - 1 else int(idx[i + 1])\n",
    "            for s in self._win(i_ids[int(idx[i]):stop_idx], max_len):\n",
    "                yield (int(u_ids[i]), s)\n",
    "\n",
    "    def __len__(self):\n",
    "        return self.ns\n",
    "\n",
    "    def __getitem__(self, idx):\n",
    "        neg = list(self.all_items - set(self.cand[int(self.seq_users[idx])]))\n",
    "        i = random.randint(0, len(neg) - 1)\n",
    "        return (self.seq_users[idx], self.seq_items[idx], self.seq_tgt[idx],\n",
    "                neg[i])"
   ]
  },
  {
   "cell_type": "code",
   "execution_count": 10,
   "metadata": {},
   "outputs": [
    {
     "data": {
      "text/html": [
       "<div>\n",
       "<style scoped>\n",
       "    .dataframe tbody tr th:only-of-type {\n",
       "        vertical-align: middle;\n",
       "    }\n",
       "\n",
       "    .dataframe tbody tr th {\n",
       "        vertical-align: top;\n",
       "    }\n",
       "\n",
       "    .dataframe thead th {\n",
       "        text-align: right;\n",
       "    }\n",
       "</style>\n",
       "<table border=\"1\" class=\"dataframe\">\n",
       "  <thead>\n",
       "    <tr style=\"text-align: right;\">\n",
       "      <th></th>\n",
       "      <th>user_id</th>\n",
       "      <th>item_id</th>\n",
       "      <th>rating</th>\n",
       "      <th>timestamp</th>\n",
       "    </tr>\n",
       "  </thead>\n",
       "  <tbody>\n",
       "    <tr>\n",
       "      <th>0</th>\n",
       "      <td>1</td>\n",
       "      <td>1193</td>\n",
       "      <td>5</td>\n",
       "      <td>978300760</td>\n",
       "    </tr>\n",
       "    <tr>\n",
       "      <th>1</th>\n",
       "      <td>1</td>\n",
       "      <td>661</td>\n",
       "      <td>3</td>\n",
       "      <td>978302109</td>\n",
       "    </tr>\n",
       "    <tr>\n",
       "      <th>2</th>\n",
       "      <td>1</td>\n",
       "      <td>914</td>\n",
       "      <td>3</td>\n",
       "      <td>978301968</td>\n",
       "    </tr>\n",
       "    <tr>\n",
       "      <th>3</th>\n",
       "      <td>1</td>\n",
       "      <td>3408</td>\n",
       "      <td>4</td>\n",
       "      <td>978300275</td>\n",
       "    </tr>\n",
       "    <tr>\n",
       "      <th>4</th>\n",
       "      <td>1</td>\n",
       "      <td>2355</td>\n",
       "      <td>5</td>\n",
       "      <td>978824291</td>\n",
       "    </tr>\n",
       "  </tbody>\n",
       "</table>\n",
       "</div>"
      ],
      "text/plain": [
       "   user_id  item_id  rating  timestamp\n",
       "0        1     1193       5  978300760\n",
       "1        1      661       3  978302109\n",
       "2        1      914       3  978301968\n",
       "3        1     3408       4  978300275\n",
       "4        1     2355       5  978824291"
      ]
     },
     "execution_count": 10,
     "metadata": {},
     "output_type": "execute_result"
    }
   ],
   "source": [
    "df = pd.read_csv('../data/datasets/ml-1m/ratings.dat', header=None, sep='::', engine='python')\n",
    "df.columns = ['user_id', 'item_id', 'rating', 'timestamp']\n",
    "num_items, num_users = df.item_id.nunique(), df.user_id.nunique()\n",
    "df.head()"
   ]
  },
  {
   "cell_type": "code",
   "execution_count": 13,
   "metadata": {},
   "outputs": [
    {
     "data": {
      "text/plain": [
       "(array(0, dtype=int32),\n",
       " array([   0., 2354., 2293.,  782., 1565.]),\n",
       " array([1906.]),\n",
       " 1146)"
      ]
     },
     "execution_count": 13,
     "metadata": {},
     "output_type": "execute_result"
    }
   ],
   "source": [
    "TARGET_NUM, L, batch_size = 1, 5, 4096\n",
    "train_data, test_data = d2l.split_data_ml100k(df, num_users, num_items,\n",
    "                                              'seq-aware')\n",
    "users_train, items_train, ratings_train, candidates = d2l.load_data_ml100k(\n",
    "    train_data, num_users, num_items, feedback=\"implicit\")\n",
    "users_test, items_test, ratings_test, test_iter = d2l.load_data_ml100k(\n",
    "    test_data, num_users, num_items, feedback=\"implicit\")\n",
    "train_seq_data = SeqDataset(users_train, items_train, L, num_users,\n",
    "                            num_items, candidates)\n",
    "train_iter = gluon.data.DataLoader(train_seq_data, batch_size, True,\n",
    "                                   last_batch=\"rollover\",\n",
    "                                   num_workers=d2l.get_dataloader_workers())\n",
    "test_seq_iter = train_seq_data.test_seq\n",
    "train_seq_data[0]"
   ]
  },
  {
   "cell_type": "code",
   "execution_count": null,
   "metadata": {},
   "outputs": [],
   "source": []
  },
  {
   "cell_type": "markdown",
   "metadata": {},
   "source": [
    "#### Model building"
   ]
  },
  {
   "cell_type": "code",
   "execution_count": 2,
   "metadata": {},
   "outputs": [],
   "source": [
    "class Caser(nn.Block):\n",
    "    def __init__(self, num_factors, num_users, num_items, L=5, d=16,\n",
    "                 d_prime=4, drop_ratio=0.05, **kwargs):\n",
    "        super(Caser, self).__init__(**kwargs)\n",
    "        self.P = nn.Embedding(num_users, num_factors)\n",
    "        self.Q = nn.Embedding(num_items, num_factors)\n",
    "        self.d_prime, self.d = d_prime, d\n",
    "        # Vertical convolution layer\n",
    "        self.conv_v = nn.Conv2D(d_prime, (L, 1), in_channels=1)\n",
    "        # Horizontal convolution layer\n",
    "        h = [i + 1 for i in range(L)]\n",
    "        self.conv_h, self.max_pool = nn.Sequential(), nn.Sequential()\n",
    "        for i in h:\n",
    "            self.conv_h.add(nn.Conv2D(d, (i, num_factors), in_channels=1))\n",
    "            self.max_pool.add(nn.MaxPool1D(L - i + 1))\n",
    "        # Fully-connected layer\n",
    "        self.fc1_dim_v, self.fc1_dim_h = d_prime * num_factors, d * len(h)\n",
    "        self.fc = nn.Dense(in_units=d_prime * num_factors + d * L,\n",
    "                           activation='relu', units=num_factors)\n",
    "        self.Q_prime = nn.Embedding(num_items, num_factors * 2)\n",
    "        self.b = nn.Embedding(num_items, 1)\n",
    "        self.dropout = nn.Dropout(drop_ratio)\n",
    "\n",
    "    def forward(self, user_id, seq, item_id):\n",
    "        item_embs = np.expand_dims(self.Q(seq), 1)\n",
    "        user_emb = self.P(user_id)\n",
    "        out, out_h, out_v, out_hs = None, None, None, []\n",
    "        if self.d_prime:\n",
    "            out_v = self.conv_v(item_embs)\n",
    "            out_v = out_v.reshape(out_v.shape[0], self.fc1_dim_v)\n",
    "        if self.d:\n",
    "            for conv, maxp in zip(self.conv_h, self.max_pool):\n",
    "                conv_out = np.squeeze(npx.relu(conv(item_embs)), axis=3)\n",
    "                t = maxp(conv_out)\n",
    "                pool_out = np.squeeze(t, axis=2)\n",
    "                out_hs.append(pool_out)\n",
    "            out_h = np.concatenate(out_hs, axis=1)\n",
    "        out = np.concatenate([out_v, out_h], axis=1)\n",
    "        z = self.fc(self.dropout(out))\n",
    "        x = np.concatenate([z, user_emb], axis=1)\n",
    "        q_prime_i = np.squeeze(self.Q_prime(item_id))\n",
    "        b = np.squeeze(self.b(item_id))\n",
    "        res = (x * q_prime_i).sum(1) + b\n",
    "        return res"
   ]
  },
  {
   "cell_type": "code",
   "execution_count": null,
   "metadata": {},
   "outputs": [],
   "source": [
    "devices = d2l.try_all_gpus()\n",
    "net = Caser(10, num_users, num_items, L)\n",
    "net.initialize(ctx=devices, force_reinit=True, init=mx.init.Normal(0.01))\n",
    "lr, num_epochs, wd, optimizer = 0.04, 8, 1e-5, 'adam'\n",
    "loss = d2l.BPRLoss()\n",
    "trainer = gluon.Trainer(net.collect_params(), optimizer,\n",
    "                        {\"learning_rate\": lr, 'wd': wd})\n",
    "\n",
    "d2l.train_ranking(net, train_iter, test_iter, loss, trainer, test_seq_iter,\n",
    "                  num_users, num_items, num_epochs, devices,\n",
    "                  d2l.evaluate_ranking, candidates, eval_step=1)"
   ]
  },
  {
   "cell_type": "code",
   "execution_count": null,
   "metadata": {},
   "outputs": [],
   "source": []
  },
  {
   "cell_type": "code",
   "execution_count": null,
   "metadata": {},
   "outputs": [],
   "source": []
  },
  {
   "cell_type": "code",
   "execution_count": null,
   "metadata": {},
   "outputs": [],
   "source": []
  }
 ],
 "metadata": {
  "interpreter": {
   "hash": "114915f1d81c1da50642110d3f97d7e46f1e3067055e32d41ec3bf538df62b4a"
  },
  "kernelspec": {
   "display_name": "Python 3.7.11 ('rec')",
   "language": "python",
   "name": "python3"
  },
  "language_info": {
   "codemirror_mode": {
    "name": "ipython",
    "version": 3
   },
   "file_extension": ".py",
   "mimetype": "text/x-python",
   "name": "python",
   "nbconvert_exporter": "python",
   "pygments_lexer": "ipython3",
   "version": "3.7.11"
  },
  "orig_nbformat": 4
 },
 "nbformat": 4,
 "nbformat_minor": 2
}
